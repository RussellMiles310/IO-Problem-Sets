{
 "cells": [
  {
   "cell_type": "code",
   "execution_count": 56,
   "id": "b11d0888",
   "metadata": {},
   "outputs": [],
   "source": [
    "from source_functions import *\n",
    "from estimate_BLP import *"
   ]
  },
  {
   "cell_type": "markdown",
   "id": "9545bf75",
   "metadata": {},
   "source": [
    "# Part 2.2: Demand-side estimation, 100 markets"
   ]
  },
  {
   "cell_type": "markdown",
   "id": "315ee48f",
   "metadata": {},
   "source": [
    "## Load data and set function arguments"
   ]
  },
  {
   "cell_type": "code",
   "execution_count": 57,
   "id": "5c1a9430",
   "metadata": {},
   "outputs": [],
   "source": [
    "df_3p, alphas_3p = load_mat_data('Simulation Data/100markets3products.mat', 3, 100)\n",
    "df_5p, alphas_5p = load_mat_data('Simulation Data/100markets5products.mat', 5, 100)\n",
    "\n",
    "sigma_alpha_init = 1.0 #initial guess\n",
    "df = df_3p #data\n",
    "alphas = alphas_3p #random coefficients on prices\n",
    "mode = \"demand_side\" #demand-side moments only"
   ]
  },
  {
   "cell_type": "code",
   "execution_count": 55,
   "id": "d38dd4fd",
   "metadata": {
    "scrolled": true
   },
   "outputs": [
    {
     "name": "stdout",
     "output_type": "stream",
     "text": [
      "#============================================================================#\n",
      "#== Solving the MPEC optimization routine\n",
      "#============================================================================#\n",
      "| niter |f evals|CG iter|  obj func   |tr radius |   opt    |  c viol  | penalty  |CG stop|\n",
      "|-------|-------|-------|-------------|----------|----------|----------|----------|-------|\n",
      "|   1   |   1   |   0   | +7.0000e+00 | 1.00e+00 | 1.04e-04 | 1.00e+00 | 1.00e+00 |   0   |\n",
      "|   2   |   2   |   1   | +3.6812e+00 | 5.60e+00 | 9.14e-05 | 7.25e-01 | 1.00e+00 |   1   |\n",
      "|   3   |   3   |   2   | +1.8076e-02 | 3.14e+01 | 2.87e-05 | 4.12e-01 | 1.70e+02 |   1   |\n"
     ]
    },
    {
     "ename": "KeyboardInterrupt",
     "evalue": "",
     "output_type": "error",
     "traceback": [
      "Traceback \u001b[1;36m(most recent call last)\u001b[0m:\n",
      "\u001b[0m  Cell \u001b[0;32mIn[55], line 1\u001b[0m\n    out_demandside = estimate_BLP(df, alphas, sigma_alpha_init, mode, verbose_print = 3, scale_delta_guess = 5)\u001b[0m\n",
      "\u001b[0m  File \u001b[0;32m~\\Desktop\\IO-Problem-Sets\\PS4_submission\\estimate_BLP.py:145\u001b[0m in \u001b[0;35mestimate_BLP\u001b[0m\n    result = minimize(\u001b[0m\n",
      "\u001b[0m  File \u001b[0;32m~\\anaconda3\\Lib\\site-packages\\scipy\\optimize\\_minimize.py:722\u001b[0m in \u001b[0;35mminimize\u001b[0m\n    res = _minimize_trustregion_constr(fun, x0, args, jac, hess, hessp,\u001b[0m\n",
      "\u001b[0m  File \u001b[0;32m~\\anaconda3\\Lib\\site-packages\\scipy\\optimize\\_trustregion_constr\\minimize_trustregion_constr.py:519\u001b[0m in \u001b[0;35m_minimize_trustregion_constr\u001b[0m\n    _, result = equality_constrained_sqp(\u001b[0m\n",
      "\u001b[0m  File \u001b[0;32m~\\anaconda3\\Lib\\site-packages\\scipy\\optimize\\_trustregion_constr\\equality_constrained_sqp.py:147\u001b[0m in \u001b[0;35mequality_constrained_sqp\u001b[0m\n    f_next, b_next = fun_and_constr(x_next)\u001b[0m\n",
      "\u001b[0m  File \u001b[0;32m~\\anaconda3\\Lib\\site-packages\\scipy\\optimize\\_trustregion_constr\\minimize_trustregion_constr.py:511\u001b[0m in \u001b[0;35mfun_and_constr\u001b[0m\n    c_eq, _ = canonical.fun(x)\u001b[0m\n",
      "\u001b[0m  File \u001b[0;32m~\\anaconda3\\Lib\\site-packages\\scipy\\optimize\\_trustregion_constr\\canonical_constraint.py:104\u001b[0m in \u001b[0;35mfun\u001b[0m\n    *[c.fun(x) for c in canonical_constraints])\u001b[0m\n",
      "\u001b[0m  File \u001b[0;32m~\\anaconda3\\Lib\\site-packages\\scipy\\optimize\\_trustregion_constr\\canonical_constraint.py:104\u001b[0m in \u001b[0;35m<listcomp>\u001b[0m\n    *[c.fun(x) for c in canonical_constraints])\u001b[0m\n",
      "\u001b[0m  File \u001b[0;32m~\\anaconda3\\Lib\\site-packages\\scipy\\optimize\\_trustregion_constr\\canonical_constraint.py:166\u001b[0m in \u001b[0;35mfun\u001b[0m\n    return cfun.fun(x) - value, empty_fun\u001b[0m\n",
      "\u001b[0m  File \u001b[0;32m~\\anaconda3\\Lib\\site-packages\\scipy\\optimize\\_differentiable_functions.py:534\u001b[0m in \u001b[0;35mfun\u001b[0m\n    self._update_x(x)\u001b[0m\n",
      "\u001b[0m  File \u001b[0;32m~\\anaconda3\\Lib\\site-packages\\scipy\\optimize\\_differentiable_functions.py:516\u001b[0m in \u001b[0;35m_update_x\u001b[0m\n    self._update_x_impl(x)\u001b[0m\n",
      "\u001b[0m  File \u001b[0;32m~\\anaconda3\\Lib\\site-packages\\scipy\\optimize\\_differentiable_functions.py:499\u001b[0m in \u001b[0;35mupdate_x\u001b[0m\n    self._update_hess()\u001b[0m\n",
      "\u001b[0m  File \u001b[0;32m~\\anaconda3\\Lib\\site-packages\\scipy\\optimize\\_differentiable_functions.py:530\u001b[0m in \u001b[0;35m_update_hess\u001b[0m\n    self._update_hess_impl()\u001b[0m\n",
      "\u001b[0m  File \u001b[0;32m~\\anaconda3\\Lib\\site-packages\\scipy\\optimize\\_differentiable_functions.py:480\u001b[0m in \u001b[0;35mupdate_hess\u001b[0m\n    self._update_jac()\u001b[0m\n",
      "\u001b[0m  File \u001b[0;32m~\\anaconda3\\Lib\\site-packages\\scipy\\optimize\\_differentiable_functions.py:525\u001b[0m in \u001b[0;35m_update_jac\u001b[0m\n    self._update_jac_impl()\u001b[0m\n",
      "\u001b[0m  File \u001b[0;32m~\\anaconda3\\Lib\\site-packages\\scipy\\optimize\\_differentiable_functions.py:399\u001b[0m in \u001b[0;35mupdate_jac\u001b[0m\n    self.J = jac_wrapped(self.x)\u001b[0m\n",
      "\u001b[0m  File \u001b[0;32m~\\anaconda3\\Lib\\site-packages\\scipy\\optimize\\_differentiable_functions.py:380\u001b[0m in \u001b[0;35mjac_wrapped\u001b[0m\n    return sps.csr_matrix(jac(x))\u001b[0m\n",
      "\u001b[1;36m  File \u001b[1;32m~\\Desktop\\IO-Problem-Sets\\PS4_submission\\estimate_BLP.py:126\u001b[1;36m in \u001b[1;35m<lambda>\u001b[1;36m\n\u001b[1;33m    'jac': lambda x: np.asarray(constraint_s_jac(x, shares, nus_on_prices, MJN))\u001b[1;36m\n",
      "\u001b[1;31mKeyboardInterrupt\u001b[0m\n"
     ]
    }
   ],
   "source": [
    "out_demandside = estimate_BLP(df, alphas, sigma_alpha_init, mode, verbose_print = 3, scale_delta_guess = 5)"
   ]
  },
  {
   "cell_type": "code",
   "execution_count": 4,
   "id": "2df5dd57",
   "metadata": {},
   "outputs": [
    {
     "data": {
      "text/plain": [
       "array([[4.92818632],\n",
       "       [0.95515674],\n",
       "       [1.02872379]])"
      ]
     },
     "execution_count": 4,
     "metadata": {},
     "output_type": "execute_result"
    }
   ],
   "source": [
    "out_demandside['beta_hat']"
   ]
  },
  {
   "cell_type": "code",
   "execution_count": 5,
   "id": "80a2e37b",
   "metadata": {},
   "outputs": [
    {
     "data": {
      "text/plain": [
       "0.9675675769688512"
      ]
     },
     "execution_count": 5,
     "metadata": {},
     "output_type": "execute_result"
    }
   ],
   "source": [
    "out_demandside['alpha_hat']"
   ]
  },
  {
   "cell_type": "code",
   "execution_count": 6,
   "id": "2fc1eedd",
   "metadata": {},
   "outputs": [
    {
     "data": {
      "text/plain": [
       "0.9888037612322653"
      ]
     },
     "execution_count": 6,
     "metadata": {},
     "output_type": "execute_result"
    }
   ],
   "source": [
    "out_demandside['sigma_alpha_hat']"
   ]
  },
  {
   "cell_type": "code",
   "execution_count": 7,
   "id": "fddf033d",
   "metadata": {},
   "outputs": [
    {
     "data": {
      "text/plain": [
       "array([0.0163426 , 0.271207  , 0.21354112, 0.06062612, 0.09132179])"
      ]
     },
     "execution_count": 7,
     "metadata": {},
     "output_type": "execute_result"
    }
   ],
   "source": [
    "out_demandside['se']"
   ]
  },
  {
   "cell_type": "code",
   "execution_count": 10,
   "id": "5ccfb525",
   "metadata": {},
   "outputs": [
    {
     "data": {
      "text/plain": [
       "['sigma_alpha',\n",
       " 'beta0',\n",
       " 'beta1',\n",
       " 'beta2',\n",
       " 'alpha',\n",
       " 'gamma0',\n",
       " 'gamma1',\n",
       " 'gamma2']"
      ]
     },
     "execution_count": 10,
     "metadata": {},
     "output_type": "execute_result"
    }
   ],
   "source": [
    "out_demandside['se_names']"
   ]
  },
  {
   "cell_type": "markdown",
   "id": "47a2f294",
   "metadata": {},
   "source": [
    "# Part 2.2g: Demand-side instruments, 10 markets\n",
    "Load the data and set function arguments:"
   ]
  },
  {
   "cell_type": "code",
   "execution_count": 4,
   "id": "b17bc93f",
   "metadata": {},
   "outputs": [],
   "source": [
    "df_3p10m, alphas_3p10m = load_mat_data('Simulation Data/10markets3products.mat', 3, 10)\n",
    "\n",
    "#### Function arguments\n",
    "mode = \"demand_side\" #demand-side moments only"
   ]
  },
  {
   "cell_type": "code",
   "execution_count": 1,
   "id": "a4b671ae",
   "metadata": {
    "scrolled": true
   },
   "outputs": [],
   "source": [
    "out_demandside_10m=estimate_BLP(df_3p10m, alphas_3p10m, sigma_alpha_init, mode, verbose_print = 3, scale_delta_guess = 1, max_iter=10000)"
   ]
  },
  {
   "cell_type": "code",
   "execution_count": 8,
   "id": "85b8067e",
   "metadata": {},
   "outputs": [
    {
     "data": {
      "text/plain": [
       "array([[2.61933023],\n",
       "       [0.42100499],\n",
       "       [1.36710302]])"
      ]
     },
     "execution_count": 8,
     "metadata": {},
     "output_type": "execute_result"
    }
   ],
   "source": [
    "out_demandside_10m['beta_hat']"
   ]
  },
  {
   "cell_type": "code",
   "execution_count": 9,
   "id": "9fa7d610",
   "metadata": {},
   "outputs": [
    {
     "data": {
      "text/plain": [
       "0.6553970510094898"
      ]
     },
     "execution_count": 9,
     "metadata": {},
     "output_type": "execute_result"
    }
   ],
   "source": [
    "out_demandside_10m['alpha_hat']"
   ]
  },
  {
   "cell_type": "code",
   "execution_count": 10,
   "id": "de2bd9ff",
   "metadata": {},
   "outputs": [
    {
     "data": {
      "text/plain": [
       "0.5041133184257544"
      ]
     },
     "execution_count": 10,
     "metadata": {},
     "output_type": "execute_result"
    }
   ],
   "source": [
    "out_demandside_10m['sigma_alpha_hat']"
   ]
  },
  {
   "cell_type": "code",
   "execution_count": 11,
   "id": "8cd43730",
   "metadata": {},
   "outputs": [
    {
     "data": {
      "text/plain": [
       "array([0.06732948, 2.49792306, 1.0830104 , 0.46744008, 0.93377222])"
      ]
     },
     "execution_count": 11,
     "metadata": {},
     "output_type": "execute_result"
    }
   ],
   "source": [
    "out_demandside_10m['se']"
   ]
  },
  {
   "cell_type": "code",
   "execution_count": 13,
   "id": "854e042b",
   "metadata": {},
   "outputs": [
    {
     "data": {
      "text/plain": [
       "array([[ 1.86533923],\n",
       "       [-2.12141033],\n",
       "       [ 4.05913902],\n",
       "       [ 6.95258272],\n",
       "       [ 3.69674902],\n",
       "       [ 6.6412869 ],\n",
       "       [-3.99973352],\n",
       "       [ 1.38139637],\n",
       "       [ 2.1689793 ],\n",
       "       [ 1.38473689],\n",
       "       [-0.13766322],\n",
       "       [-2.41411314],\n",
       "       [ 1.91022051],\n",
       "       [ 2.57301979],\n",
       "       [-0.26126805],\n",
       "       [ 0.94162019],\n",
       "       [ 1.47393124],\n",
       "       [ 3.66253282],\n",
       "       [ 1.34997316],\n",
       "       [ 2.40093755],\n",
       "       [ 1.92687823],\n",
       "       [ 3.59306967],\n",
       "       [-2.16580292],\n",
       "       [ 3.04896491],\n",
       "       [ 2.60760996],\n",
       "       [-3.09186598],\n",
       "       [ 0.6924699 ],\n",
       "       [ 3.08296056],\n",
       "       [ 1.78019891],\n",
       "       [-2.24204089]])"
      ]
     },
     "execution_count": 13,
     "metadata": {},
     "output_type": "execute_result"
    }
   ],
   "source": [
    "out_demandside_10m['delta_hat']"
   ]
  },
  {
   "cell_type": "markdown",
   "id": "48430480",
   "metadata": {},
   "source": [
    "# Part 2.3: Using price as a moment. \n",
    "\n",
    "Estimate $\\theta$ assming incorrectly that $E[\\xi|p]=0$ within each market. \n",
    "\n",
    "Load the data and set function arguments:"
   ]
  },
  {
   "cell_type": "code",
   "execution_count": 16,
   "id": "3a29bec8",
   "metadata": {},
   "outputs": [
    {
     "name": "stdout",
     "output_type": "stream",
     "text": [
      "#============================================================================#\n",
      "#== Solving the MPEC optimization routine\n",
      "#============================================================================#\n",
      "| niter |f evals|CG iter|  obj func   |tr radius |   opt    |  c viol  | penalty  |CG stop|\n",
      "|-------|-------|-------|-------------|----------|----------|----------|----------|-------|\n",
      "|   1   |   1   |   0   | +4.0000e+00 | 1.00e+00 | 1.32e-16 | 1.00e+00 | 1.00e+00 |   0   |\n",
      "|   2   |   2   |   0   | +2.3441e+00 | 5.60e+00 | 1.06e-16 | 7.66e-01 | 1.00e+00 |   4   |\n",
      "|   3   |   3   |   0   | +1.2202e+00 | 8.96e+00 | 7.63e-17 | 5.52e-01 | 1.00e+00 |   4   |\n",
      "|   4   |   4   |   0   | +1.9821e-01 | 5.02e+01 | 3.24e-17 | 2.23e-01 | 1.00e+00 |   4   |\n",
      "|   5   |   5   |   0   | +3.3476e-28 | 5.02e+01 | 2.10e-30 | 3.60e-02 | 1.00e+00 |   4   |\n",
      "|   6   |   6   |   0   | +4.0120e-28 | 5.02e+01 | 2.45e-30 | 1.20e-02 | 1.00e+00 |   4   |\n",
      "|   7   |   7   |   0   | +4.5572e-28 | 5.02e+01 | 2.68e-30 | 3.44e-03 | 1.00e+00 |   4   |\n",
      "|   8   |   8   |   0   | +5.0165e-28 | 5.02e+01 | 2.84e-30 | 1.08e-03 | 1.00e+00 |   4   |\n",
      "|   9   |   9   |   0   | +5.2751e-28 | 5.02e+01 | 2.93e-30 | 3.37e-04 | 1.00e+00 |   4   |\n",
      "|  10   |  10   |   0   | +5.4471e-28 | 5.02e+01 | 2.99e-30 | 1.03e-04 | 1.00e+00 |   4   |\n",
      "|  11   |  11   |   0   | +5.4702e-28 | 5.02e+01 | 3.00e-30 | 3.52e-05 | 1.00e+00 |   4   |\n",
      "|  12   |  12   |   0   | +5.4675e-28 | 5.02e+01 | 3.00e-30 | 1.06e-05 | 1.00e+00 |   4   |\n",
      "|  13   |  13   |   0   | +5.5207e-28 | 5.02e+01 | 3.01e-30 | 2.22e-06 | 1.00e+00 |   4   |\n",
      "|  14   |  14   |   0   | +5.4594e-28 | 5.02e+01 | 2.99e-30 | 1.77e-07 | 1.00e+00 |   4   |\n",
      "|  15   |  15   |   0   | +5.4235e-28 | 5.02e+01 | 2.98e-30 | 1.40e-09 | 1.00e+00 |   4   |\n",
      "|  16   |  16   |   0   | +5.5804e-28 | 5.02e+01 | 3.03e-30 | 8.97e-14 | 1.00e+00 |   4   |\n",
      "|  17   |  17   |   0   | +5.4446e-28 | 5.02e+01 | 2.99e-30 | 2.22e-16 | 1.00e+00 |   4   |\n",
      "|  18   |  18   |   0   | +5.5374e-28 | 5.02e+01 | 3.02e-30 | 2.22e-16 | 1.00e+00 |   4   |\n",
      "|  19   |  19   |   0   | +5.5374e-28 | 5.02e+00 | 3.02e-30 | 2.22e-16 | 1.00e+00 |   4   |\n",
      "|  20   |  19   |   0   | +5.5374e-28 | 5.02e-01 | 3.02e-30 | 2.22e-16 | 1.00e+00 |   4   |\n",
      "|  21   |  19   |   0   | +5.5374e-28 | 5.02e-02 | 3.02e-30 | 2.22e-16 | 1.00e+00 |   4   |\n",
      "|  22   |  19   |   0   | +5.5374e-28 | 5.02e-03 | 3.02e-30 | 2.22e-16 | 1.00e+00 |   4   |\n",
      "|  23   |  19   |   0   | +5.5374e-28 | 5.02e-04 | 3.02e-30 | 2.22e-16 | 1.00e+00 |   4   |\n",
      "|  24   |  19   |   0   | +5.5374e-28 | 5.02e-05 | 3.02e-30 | 2.22e-16 | 1.00e+00 |   4   |\n",
      "|  25   |  19   |   0   | +5.5374e-28 | 5.02e-06 | 3.02e-30 | 2.22e-16 | 1.00e+00 |   4   |\n",
      "|  26   |  19   |   0   | +5.5374e-28 | 5.02e-07 | 3.02e-30 | 2.22e-16 | 1.00e+00 |   4   |\n",
      "|  27   |  19   |   0   | +5.5374e-28 | 5.02e-08 | 3.02e-30 | 2.22e-16 | 1.00e+00 |   4   |\n",
      "|  28   |  19   |   0   | +5.5374e-28 | 5.02e-09 | 3.02e-30 | 2.22e-16 | 1.00e+00 |   4   |\n",
      "|  29   |  19   |   0   | +5.5374e-28 | 5.02e-10 | 3.02e-30 | 2.22e-16 | 1.00e+00 |   4   |\n",
      "|  30   |  19   |   0   | +5.5374e-28 | 5.02e-11 | 3.02e-30 | 2.22e-16 | 1.00e+00 |   4   |\n",
      "|  31   |  19   |   0   | +5.5374e-28 | 5.02e-12 | 3.02e-30 | 2.22e-16 | 1.00e+00 |   4   |\n",
      "|  32   |  19   |   0   | +5.5374e-28 | 5.02e-13 | 3.02e-30 | 2.22e-16 | 1.00e+00 |   4   |\n",
      "|  33   |  19   |   0   | +5.5374e-28 | 6.15e-14 | 3.02e-30 | 2.22e-16 | 1.00e+00 |   4   |\n",
      "|  34   |  20   |   0   | +5.5439e-28 | 6.15e-14 | 3.02e-30 | 3.33e-16 | 1.00e+00 |   4   |\n",
      "|  35   |  21   |   0   | +5.5439e-28 | 3.07e-14 | 3.02e-30 | 3.33e-16 | 1.00e+00 |   4   |\n",
      "|  36   |  22   |   0   | +5.5439e-28 | 1.54e-14 | 3.02e-30 | 3.33e-16 | 1.00e+00 |   4   |\n",
      "|  37   |  23   |   0   | +5.5439e-28 | 7.68e-15 | 3.02e-30 | 3.33e-16 | 1.00e+00 |   4   |\n",
      "|  38   |  24   |   0   | +5.5439e-28 | 3.84e-15 | 3.02e-30 | 3.33e-16 | 1.00e+00 |   4   |\n",
      "|  39   |  25   |   0   | +5.5439e-28 | 1.92e-15 | 3.02e-30 | 3.33e-16 | 1.00e+00 |   4   |\n",
      "|  40   |  26   |   0   | +5.5439e-28 | 9.60e-16 | 3.02e-30 | 3.33e-16 | 1.00e+00 |   4   |\n",
      "|  41   |  27   |   0   | +5.5439e-28 | 4.80e-16 | 3.02e-30 | 3.33e-16 | 1.00e+00 |   4   |\n",
      "|  42   |  28   |   0   | +5.5439e-28 | 2.40e-16 | 3.02e-30 | 3.33e-16 | 1.00e+00 |   4   |\n",
      "|  43   |  29   |   0   | +5.5439e-28 | 1.20e-16 | 3.02e-30 | 3.33e-16 | 1.00e+00 |   4   |\n",
      "|  44   |  30   |   0   | +5.5439e-28 | 6.00e-17 | 3.02e-30 | 3.33e-16 | 1.00e+00 |   4   |\n",
      "|  45   |  31   |   0   | +5.5438e-28 | 6.00e-17 | 3.02e-30 | 3.33e-16 | 1.00e+00 |   4   |\n",
      "|  46   |  32   |   0   | +5.5438e-28 | 6.00e-17 | 3.02e-30 | 3.33e-16 | 1.00e+00 |   4   |\n",
      "|  47   |  33   |   0   | +5.5438e-28 | 6.00e-17 | 3.02e-30 | 3.33e-16 | 1.00e+00 |   4   |\n",
      "|  48   |  34   |   0   | +5.5438e-28 | 6.00e-17 | 3.02e-30 | 3.33e-16 | 1.00e+00 |   4   |\n",
      "|  49   |  35   |   0   | +5.5438e-28 | 6.00e-17 | 3.02e-30 | 3.33e-16 | 1.00e+00 |   4   |\n",
      "|  50   |  36   |   0   | +5.5438e-28 | 6.00e-17 | 3.02e-30 | 3.33e-16 | 1.00e+00 |   4   |\n",
      "|  51   |  37   |   0   | +5.5438e-28 | 6.00e-17 | 3.02e-30 | 3.33e-16 | 1.00e+00 |   4   |\n",
      "|  52   |  38   |   0   | +5.5438e-28 | 6.00e-17 | 3.02e-30 | 3.33e-16 | 1.00e+00 |   4   |\n",
      "|  53   |  39   |   0   | +5.5438e-28 | 6.00e-17 | 3.02e-30 | 3.33e-16 | 1.00e+00 |   4   |\n",
      "|  54   |  40   |   0   | +5.5438e-28 | 6.00e-17 | 3.02e-30 | 3.33e-16 | 1.00e+00 |   4   |\n",
      "|  55   |  41   |   0   | +5.5438e-28 | 6.00e-17 | 3.02e-30 | 3.33e-16 | 1.00e+00 |   4   |\n",
      "|  56   |  42   |   0   | +5.5438e-28 | 6.00e-17 | 3.02e-30 | 3.33e-16 | 1.00e+00 |   4   |\n",
      "|  57   |  43   |   0   | +5.5438e-28 | 6.00e-17 | 3.02e-30 | 3.33e-16 | 1.00e+00 |   4   |\n",
      "|  58   |  44   |   0   | +5.5438e-28 | 6.00e-17 | 3.02e-30 | 3.33e-16 | 1.00e+00 |   4   |\n",
      "|  59   |  45   |   0   | +5.5438e-28 | 6.00e-17 | 3.02e-30 | 3.33e-16 | 1.00e+00 |   4   |\n",
      "|  60   |  46   |   0   | +5.5438e-28 | 6.00e-17 | 3.02e-30 | 3.33e-16 | 1.00e+00 |   4   |\n",
      "|  61   |  47   |   0   | +5.5438e-28 | 6.00e-17 | 3.02e-30 | 3.33e-16 | 1.00e+00 |   4   |\n",
      "|  62   |  48   |   0   | +5.5438e-28 | 6.00e-17 | 3.02e-30 | 3.33e-16 | 1.00e+00 |   4   |\n",
      "|  63   |  49   |   0   | +5.5438e-28 | 6.00e-17 | 3.02e-30 | 3.33e-16 | 1.00e+00 |   4   |\n",
      "|  64   |  50   |   0   | +5.5438e-28 | 6.00e-17 | 3.02e-30 | 3.33e-16 | 1.00e+00 |   4   |\n",
      "|  65   |  51   |   0   | +5.5438e-28 | 6.00e-17 | 3.02e-30 | 3.33e-16 | 1.00e+00 |   4   |\n",
      "|  66   |  52   |   0   | +5.5438e-28 | 6.00e-17 | 3.02e-30 | 3.33e-16 | 1.00e+00 |   4   |\n",
      "|  67   |  53   |   0   | +5.5438e-28 | 6.00e-17 | 3.02e-30 | 3.33e-16 | 1.00e+00 |   4   |\n",
      "|  68   |  54   |   0   | +5.5438e-28 | 6.00e-17 | 3.02e-30 | 3.33e-16 | 1.00e+00 |   4   |\n",
      "|  69   |  55   |   0   | +5.5438e-28 | 6.00e-17 | 3.02e-30 | 3.33e-16 | 1.00e+00 |   4   |\n",
      "|  70   |  56   |   0   | +5.5438e-28 | 6.00e-17 | 3.02e-30 | 3.33e-16 | 1.00e+00 |   4   |\n",
      "|  71   |  57   |   0   | +5.5438e-28 | 6.00e-17 | 3.02e-30 | 3.33e-16 | 1.00e+00 |   4   |\n",
      "|  72   |  58   |   0   | +5.5438e-28 | 6.00e-17 | 3.02e-30 | 3.33e-16 | 1.00e+00 |   4   |\n",
      "|  73   |  59   |   0   | +5.5438e-28 | 6.00e-17 | 3.02e-30 | 3.33e-16 | 1.00e+00 |   4   |\n",
      "|  74   |  60   |   0   | +5.5438e-28 | 6.00e-17 | 3.02e-30 | 3.33e-16 | 1.00e+00 |   4   |\n",
      "|  75   |  61   |   0   | +5.5438e-28 | 6.00e-17 | 3.02e-30 | 3.33e-16 | 1.00e+00 |   4   |\n",
      "|  76   |  62   |   0   | +5.5438e-28 | 6.00e-17 | 3.02e-30 | 3.33e-16 | 1.00e+00 |   4   |\n",
      "|  77   |  63   |   0   | +5.5438e-28 | 6.00e-17 | 3.02e-30 | 3.33e-16 | 1.00e+00 |   4   |\n",
      "|  78   |  64   |   0   | +5.5438e-28 | 6.00e-17 | 3.02e-30 | 3.33e-16 | 1.00e+00 |   4   |\n",
      "|  79   |  65   |   0   | +5.5438e-28 | 6.00e-17 | 3.02e-30 | 3.33e-16 | 1.00e+00 |   4   |\n",
      "|  80   |  66   |   0   | +5.5438e-28 | 6.00e-17 | 3.02e-30 | 3.33e-16 | 1.00e+00 |   4   |\n",
      "|  81   |  67   |   0   | +5.5438e-28 | 6.00e-17 | 3.02e-30 | 3.33e-16 | 1.00e+00 |   4   |\n",
      "|  82   |  68   |   0   | +5.5438e-28 | 6.00e-17 | 3.02e-30 | 3.33e-16 | 1.00e+00 |   4   |\n",
      "|  83   |  69   |   0   | +5.5438e-28 | 6.00e-17 | 3.02e-30 | 3.33e-16 | 1.00e+00 |   4   |\n",
      "|  84   |  70   |   0   | +5.5438e-28 | 6.00e-17 | 3.02e-30 | 3.33e-16 | 1.00e+00 |   4   |\n",
      "|  85   |  71   |   0   | +5.5438e-28 | 6.00e-17 | 3.02e-30 | 3.33e-16 | 1.00e+00 |   4   |\n",
      "|  86   |  72   |   0   | +5.5438e-28 | 6.00e-17 | 3.02e-30 | 3.33e-16 | 1.00e+00 |   4   |\n",
      "|  87   |  73   |   0   | +5.5438e-28 | 6.00e-17 | 3.02e-30 | 3.33e-16 | 1.00e+00 |   4   |\n",
      "|  88   |  74   |   0   | +5.5438e-28 | 6.00e-17 | 3.02e-30 | 3.33e-16 | 1.00e+00 |   4   |\n",
      "|  89   |  75   |   0   | +5.5438e-28 | 6.00e-17 | 3.02e-30 | 3.33e-16 | 1.00e+00 |   4   |\n",
      "|  90   |  76   |   0   | +5.5438e-28 | 6.00e-17 | 3.02e-30 | 3.33e-16 | 1.00e+00 |   4   |\n",
      "|  91   |  77   |   0   | +5.5438e-28 | 6.00e-17 | 3.02e-30 | 3.33e-16 | 1.00e+00 |   4   |\n",
      "|  92   |  78   |   0   | +5.5438e-28 | 6.00e-17 | 3.02e-30 | 3.33e-16 | 1.00e+00 |   4   |\n",
      "|  93   |  79   |   0   | +5.5438e-28 | 6.00e-17 | 3.02e-30 | 3.33e-16 | 1.00e+00 |   4   |\n",
      "|  94   |  80   |   0   | +5.5438e-28 | 6.00e-17 | 3.02e-30 | 3.33e-16 | 1.00e+00 |   4   |\n",
      "|  95   |  81   |   0   | +5.5438e-28 | 6.00e-17 | 3.02e-30 | 3.33e-16 | 1.00e+00 |   4   |\n",
      "|  96   |  82   |   0   | +5.5438e-28 | 6.00e-17 | 3.02e-30 | 3.33e-16 | 1.00e+00 |   4   |\n",
      "|  97   |  83   |   0   | +5.5438e-28 | 6.00e-17 | 3.02e-30 | 3.33e-16 | 1.00e+00 |   4   |\n",
      "|  98   |  84   |   0   | +5.5438e-28 | 3.00e-17 | 3.02e-30 | 3.33e-16 | 1.00e+00 |   4   |\n",
      "|  99   |  85   |   0   | +5.5438e-28 | 1.50e-17 | 3.02e-30 | 3.33e-16 | 1.00e+00 |   4   |\n",
      "|  100  |  86   |   0   | +5.5438e-28 | 7.50e-18 | 3.02e-30 | 3.33e-16 | 1.00e+00 |   4   |\n",
      "|  101  |  87   |   0   | +5.5438e-28 | 3.75e-18 | 3.02e-30 | 3.33e-16 | 1.00e+00 |   4   |\n",
      "|  102  |  88   |   0   | +5.5438e-28 | 1.88e-18 | 3.02e-30 | 3.33e-16 | 1.00e+00 |   4   |\n",
      "|  103  |  89   |   0   | +5.5438e-28 | 9.38e-19 | 3.02e-30 | 3.33e-16 | 1.00e+00 |   4   |\n",
      "|  104  |  90   |   0   | +5.5438e-28 | 4.69e-19 | 3.02e-30 | 3.33e-16 | 1.00e+00 |   4   |\n",
      "|  105  |  91   |   0   | +5.5438e-28 | 2.34e-19 | 3.02e-30 | 3.33e-16 | 1.00e+00 |   4   |\n",
      "|  106  |  92   |   0   | +5.5438e-28 | 1.17e-19 | 3.02e-30 | 3.33e-16 | 1.00e+00 |   4   |\n",
      "|  107  |  93   |   0   | +5.5438e-28 | 5.86e-20 | 3.02e-30 | 3.33e-16 | 1.00e+00 |   4   |\n",
      "|  108  |  94   |   0   | +5.5438e-28 | 2.93e-20 | 3.02e-30 | 3.33e-16 | 1.00e+00 |   4   |\n",
      "|  109  |  95   |   0   | +5.5438e-28 | 1.47e-20 | 3.02e-30 | 3.33e-16 | 1.00e+00 |   4   |\n",
      "|  110  |  96   |   0   | +5.5438e-28 | 7.33e-21 | 3.02e-30 | 3.33e-16 | 1.00e+00 |   4   |\n",
      "\n",
      "`xtol` termination condition is satisfied.\n",
      "Number of iterations: 110, function evaluations: 96, CG iterations: 0, optimality: 3.02e-30, constraint violation: 3.33e-16, execution time: 6.5e+01 s.\n",
      "Optimal solution found.\n",
      "#============================================================================#\n",
      "#== Optimal parameters found. Next, calculating standard errors:\n",
      "#== Calculating standard errors, elasticities, profits, and consumer surplus\n",
      "#============================================================================#\n",
      "#============================================================================#\n",
      "#== BLP Estimation Complete\n",
      "#============================================================================#\n"
     ]
    }
   ],
   "source": [
    "out_demandside_pmoment = estimate_BLP(df, alphas, 0.8, \"p_exercise\", verbose_print = 3, scale_delta_guess = 1, max_iter=10000)"
   ]
  },
  {
   "cell_type": "code",
   "execution_count": 17,
   "id": "0cf7d3d5",
   "metadata": {},
   "outputs": [
    {
     "data": {
      "text/plain": [
       "array([[3.79738061],\n",
       "       [0.74727668],\n",
       "       [0.88899403]])"
      ]
     },
     "execution_count": 17,
     "metadata": {},
     "output_type": "execute_result"
    }
   ],
   "source": [
    "out_demandside_pmoment['beta_hat']"
   ]
  },
  {
   "cell_type": "code",
   "execution_count": 18,
   "id": "ee916334",
   "metadata": {},
   "outputs": [
    {
     "data": {
      "text/plain": [
       "0.9885002211578229"
      ]
     },
     "execution_count": 18,
     "metadata": {},
     "output_type": "execute_result"
    }
   ],
   "source": [
    "out_demandside_pmoment['alpha_hat']"
   ]
  },
  {
   "cell_type": "code",
   "execution_count": 19,
   "id": "21eee300",
   "metadata": {},
   "outputs": [
    {
     "data": {
      "text/plain": [
       "0.6144652190702089"
      ]
     },
     "execution_count": 19,
     "metadata": {},
     "output_type": "execute_result"
    }
   ],
   "source": [
    "out_demandside_pmoment['sigma_alpha_hat']"
   ]
  },
  {
   "cell_type": "code",
   "execution_count": 20,
   "id": "2ebcb2e0",
   "metadata": {},
   "outputs": [
    {
     "data": {
      "text/plain": [
       "array([0.01543167, 0.15836903, 0.19264427, 0.05604571, 0.04103092])"
      ]
     },
     "execution_count": 20,
     "metadata": {},
     "output_type": "execute_result"
    }
   ],
   "source": [
    "out_demandside_pmoment['se']"
   ]
  },
  {
   "cell_type": "markdown",
   "id": "df37c10c",
   "metadata": {},
   "source": [
    "# Part 3.1: Using the cost shifter as a moment\n",
    "\n",
    "Estimate assuming  $E[\\xi|X, w^\\text{cost}]=0$. \n",
    "\n",
    "Load the data and set function arguments:"
   ]
  },
  {
   "cell_type": "code",
   "execution_count": 51,
   "id": "422da91b",
   "metadata": {},
   "outputs": [],
   "source": [
    "out_demandside_wcost = estimate_BLP(df, alphas, sigma_alpha_init, \"supply_W\", verbose_print=3)"
   ]
  },
  {
   "cell_type": "markdown",
   "id": "509b5eb6",
   "metadata": {},
   "source": [
    "# Joint estimation"
   ]
  },
  {
   "cell_type": "code",
   "execution_count": 59,
   "id": "a3bc12e1",
   "metadata": {},
   "outputs": [
    {
     "name": "stdout",
     "output_type": "stream",
     "text": [
      "#============================================================================#\n",
      "#== Solving the MPEC optimization routine\n",
      "#============================================================================#\n",
      "| niter |f evals|CG iter|  obj func   |tr radius |   opt    |  c viol  | penalty  |CG stop|\n",
      "|-------|-------|-------|-------------|----------|----------|----------|----------|-------|\n",
      "|   1   |   1   |   0   | +1.0000e+01 | 1.00e+00 | 2.32e-04 | 1.00e+00 | 1.00e+00 |   0   |\n",
      "|   2   |   2   |   1   | +5.6813e+00 | 5.60e+00 | 1.66e-04 | 7.54e-01 | 1.00e+00 |   1   |\n",
      "|   3   |   3   |   2   | +1.3332e-02 | 3.92e+01 | 1.32e-05 | 3.53e-01 | 1.00e+00 |   2   |\n",
      "|   4   |   4   |   3   | +3.6002e-01 | 2.74e+02 | 1.78e-03 | 1.09e-01 | 4.73e+00 |   2   |\n",
      "|   5   |   5   |   4   | +3.6002e-01 | 2.74e+01 | 1.78e-03 | 1.09e-01 | 4.73e+00 |   1   |\n",
      "|   6   |   6   |   5   | +5.0329e-02 | 2.74e+01 | 2.12e-04 | 5.80e-02 | 4.73e+00 |   1   |\n",
      "|   7   |   7   |   6   | +3.4281e-02 | 2.74e+01 | 1.48e-04 | 7.84e-03 | 4.73e+00 |   1   |\n",
      "|   8   |   8   |   7   | +1.9586e-02 | 2.74e+01 | 1.85e-06 | 4.91e-03 | 4.73e+00 |   1   |\n",
      "|   9   |   9   |   8   | +1.2857e-02 | 2.74e+01 | 4.45e-07 | 7.00e-04 | 4.73e+00 |   1   |\n",
      "|  10   |  10   |   9   | +9.8140e-03 | 2.74e+01 | 5.79e-06 | 1.92e-04 | 4.73e+00 |   1   |\n",
      "|  11   |  11   |  10   | +8.6569e-03 | 2.74e+01 | 4.92e-06 | 3.14e-05 | 4.73e+00 |   1   |\n",
      "|  12   |  12   |  11   | +8.1326e-03 | 2.74e+01 | 6.81e-07 | 6.84e-06 | 4.73e+00 |   1   |\n",
      "|  13   |  13   |  12   | +7.9124e-03 | 2.74e+01 | 6.20e-07 | 1.16e-06 | 4.73e+00 |   1   |\n",
      "|  14   |  14   |  13   | +7.8611e-03 | 2.74e+01 | 2.20e-07 | 5.41e-08 | 4.73e+00 |   1   |\n",
      "|  15   |  15   |  14   | +7.8585e-03 | 2.74e+01 | 1.31e-08 | 3.62e-10 | 4.73e+00 |   1   |\n",
      "|  16   |  16   |  15   | +7.8585e-03 | 2.74e+01 | 1.47e-10 | 5.56e-13 | 4.73e+00 |   1   |\n",
      "|  17   |  17   |  16   | +7.8585e-03 | 2.74e+01 | 1.35e-12 | 3.89e-15 | 4.73e+00 |   1   |\n",
      "|  18   |  19   |  17   | +7.8585e-03 | 2.74e+01 | 9.65e-15 | 8.05e-16 | 4.73e+00 |   1   |\n",
      "|  19   |  20   |  17   | +7.8585e-03 | 2.74e+01 | 1.05e-14 | 9.44e-16 | 4.73e+00 |   4   |\n",
      "|  20   |  21   |  17   | +7.8585e-03 | 2.74e+00 | 1.05e-14 | 9.44e-16 | 4.73e+00 |   4   |\n",
      "|  21   |  21   |  17   | +7.8585e-03 | 2.74e-01 | 1.05e-14 | 9.44e-16 | 4.73e+00 |   4   |\n",
      "|  22   |  21   |  17   | +7.8585e-03 | 2.74e-02 | 1.05e-14 | 9.44e-16 | 4.73e+00 |   4   |\n",
      "|  23   |  21   |  17   | +7.8585e-03 | 2.74e-03 | 1.05e-14 | 9.44e-16 | 4.73e+00 |   4   |\n",
      "|  24   |  21   |  17   | +7.8585e-03 | 2.74e-04 | 1.05e-14 | 9.44e-16 | 4.73e+00 |   4   |\n",
      "|  25   |  21   |  17   | +7.8585e-03 | 2.74e-05 | 1.05e-14 | 9.44e-16 | 4.73e+00 |   4   |\n",
      "|  26   |  21   |  17   | +7.8585e-03 | 2.74e-06 | 1.05e-14 | 9.44e-16 | 4.73e+00 |   4   |\n",
      "|  27   |  21   |  17   | +7.8585e-03 | 2.74e-07 | 1.05e-14 | 9.44e-16 | 4.73e+00 |   4   |\n",
      "|  28   |  21   |  17   | +7.8585e-03 | 2.74e-08 | 1.05e-14 | 9.44e-16 | 4.73e+00 |   4   |\n",
      "|  29   |  21   |  17   | +7.8585e-03 | 2.74e-09 | 1.05e-14 | 9.44e-16 | 4.73e+00 |   4   |\n",
      "|  30   |  21   |  17   | +7.8585e-03 | 2.74e-10 | 1.05e-14 | 9.44e-16 | 4.73e+00 |   4   |\n",
      "|  31   |  21   |  17   | +7.8585e-03 | 2.74e-11 | 1.05e-14 | 9.44e-16 | 4.73e+00 |   4   |\n",
      "|  32   |  21   |  17   | +7.8585e-03 | 2.74e-12 | 1.05e-14 | 9.44e-16 | 4.73e+00 |   4   |\n",
      "|  33   |  21   |  17   | +7.8585e-03 | 2.74e-13 | 1.05e-14 | 9.44e-16 | 4.73e+00 |   4   |\n",
      "|  34   |  21   |  17   | +7.8585e-03 | 7.46e-14 | 1.05e-14 | 9.44e-16 | 4.73e+00 |   4   |\n",
      "|  35   |  22   |  17   | +7.8585e-03 | 3.73e-14 | 1.05e-14 | 9.44e-16 | 4.73e+00 |   4   |\n",
      "|  36   |  23   |  17   | +7.8585e-03 | 3.73e-14 | 1.23e-14 | 8.60e-16 | 4.73e+00 |   4   |\n",
      "|  37   |  24   |  17   | +7.8585e-03 | 1.87e-14 | 1.23e-14 | 8.60e-16 | 4.73e+00 |   4   |\n",
      "|  38   |  25   |  17   | +7.8585e-03 | 6.27e-15 | 1.23e-14 | 8.60e-16 | 4.73e+00 |   4   |\n",
      "|  39   |  26   |  17   | +7.8585e-03 | 1.00e-14 | 1.56e-14 | 4.58e-16 | 4.73e+00 |   4   |\n",
      "|  40   |  27   |  17   | +7.8585e-03 | 2.73e-15 | 1.56e-14 | 4.58e-16 | 4.73e+00 |   4   |\n",
      "|  41   |  28   |  17   | +7.8585e-03 | 2.73e-15 | 1.45e-14 | 2.22e-16 | 4.73e+00 |   4   |\n",
      "|  42   |  29   |  17   | +7.8585e-03 | 4.37e-15 | 9.25e-15 | 4.30e-16 | 4.73e+00 |   4   |\n",
      "|  43   |  30   |  17   | +7.8585e-03 | 2.18e-15 | 9.25e-15 | 4.30e-16 | 4.73e+00 |   4   |\n",
      "|  44   |  31   |  17   | +7.8585e-03 | 2.18e-15 | 1.18e-14 | 1.67e-16 | 4.73e+00 |   4   |\n",
      "|  45   |  32   |  17   | +7.8585e-03 | 3.49e-15 | 1.70e-14 | 1.67e-16 | 4.73e+00 |   4   |\n",
      "|  46   |  33   |  17   | +7.8585e-03 | 1.45e-15 | 1.70e-14 | 1.67e-16 | 4.73e+00 |   4   |\n",
      "|  47   |  34   |  17   | +7.8585e-03 | 2.32e-16 | 1.70e-14 | 1.67e-16 | 4.73e+00 |   4   |\n",
      "|  48   |  35   |  17   | +7.8585e-03 | 2.32e-16 | 1.80e-14 | 1.67e-16 | 4.73e+00 |   4   |\n",
      "|  49   |  36   |  17   | +7.8585e-03 | 1.03e-16 | 1.80e-14 | 1.67e-16 | 4.73e+00 |   4   |\n",
      "|  50   |  37   |  17   | +7.8585e-03 | 1.03e-16 | 1.65e-14 | 1.67e-16 | 4.73e+00 |   4   |\n",
      "|  51   |  38   |  17   | +7.8585e-03 | 5.15e-17 | 1.65e-14 | 1.67e-16 | 4.73e+00 |   4   |\n",
      "|  52   |  39   |  17   | +7.8585e-03 | 2.57e-17 | 1.65e-14 | 1.67e-16 | 4.73e+00 |   4   |\n",
      "|  53   |  40   |  17   | +7.8585e-03 | 1.29e-17 | 1.65e-14 | 1.67e-16 | 4.73e+00 |   4   |\n",
      "|  54   |  41   |  17   | +7.8585e-03 | 6.44e-18 | 1.65e-14 | 1.67e-16 | 4.73e+00 |   4   |\n",
      "|  55   |  42   |  17   | +7.8585e-03 | 3.22e-18 | 1.65e-14 | 1.67e-16 | 4.73e+00 |   4   |\n",
      "|  56   |  43   |  17   | +7.8585e-03 | 1.61e-18 | 1.65e-14 | 1.67e-16 | 4.73e+00 |   4   |\n",
      "|  57   |  44   |  17   | +7.8585e-03 | 8.04e-19 | 1.65e-14 | 1.67e-16 | 4.73e+00 |   4   |\n",
      "|  58   |  45   |  17   | +7.8585e-03 | 4.02e-19 | 1.65e-14 | 1.67e-16 | 4.73e+00 |   4   |\n",
      "|  59   |  46   |  17   | +7.8585e-03 | 2.01e-19 | 1.65e-14 | 1.67e-16 | 4.73e+00 |   4   |\n",
      "|  60   |  47   |  17   | +7.8585e-03 | 1.01e-19 | 1.65e-14 | 1.67e-16 | 4.73e+00 |   4   |\n",
      "|  61   |  48   |  17   | +7.8585e-03 | 5.03e-20 | 1.65e-14 | 1.67e-16 | 4.73e+00 |   4   |\n",
      "|  62   |  49   |  17   | +7.8585e-03 | 2.51e-20 | 1.65e-14 | 1.67e-16 | 4.73e+00 |   4   |\n",
      "|  63   |  50   |  17   | +7.8585e-03 | 1.26e-20 | 1.65e-14 | 1.67e-16 | 4.73e+00 |   4   |\n",
      "|  64   |  51   |  17   | +7.8585e-03 | 6.29e-21 | 1.65e-14 | 1.67e-16 | 4.73e+00 |   4   |\n",
      "\n",
      "`xtol` termination condition is satisfied.\n",
      "Number of iterations: 64, function evaluations: 51, CG iterations: 17, optimality: 1.65e-14, constraint violation: 1.67e-16, execution time: 8.6e+01 s.\n",
      "Optimal solution found.\n",
      "#============================================================================#\n",
      "#== Optimal parameters found. Next, calculating standard errors:\n",
      "#== Calculating standard errors, elasticities, profits, and consumer surplus\n",
      "#============================================================================#\n",
      "#============================================================================#\n",
      "#== BLP Estimation Complete\n",
      "#============================================================================#\n"
     ]
    }
   ],
   "source": [
    "out = estimate_BLP(df, alphas, sigma_alpha_init, \"supply_joint\", verbose_print=3, scale_delta_guess=3)"
   ]
  },
  {
   "cell_type": "code",
   "execution_count": 21,
   "id": "883ebbc9",
   "metadata": {},
   "outputs": [],
   "source": [
    "out\n",
    "out[\"test\"] = 1\n"
   ]
  }
 ],
 "metadata": {
  "kernelspec": {
   "display_name": "Python 3 (Spyder)",
   "language": "python3",
   "name": "python3"
  },
  "language_info": {
   "codemirror_mode": {
    "name": "ipython",
    "version": 3
   },
   "file_extension": ".py",
   "mimetype": "text/x-python",
   "name": "python",
   "nbconvert_exporter": "python",
   "pygments_lexer": "ipython3",
   "version": "3.11.7"
  }
 },
 "nbformat": 4,
 "nbformat_minor": 5
}
