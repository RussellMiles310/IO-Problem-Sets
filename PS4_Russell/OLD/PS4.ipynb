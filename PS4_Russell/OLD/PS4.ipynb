{
 "cells": [
  {
   "cell_type": "markdown",
   "id": "9f489070",
   "metadata": {},
   "source": [
    "# Problem Set 4"
   ]
  },
  {
   "cell_type": "code",
   "execution_count": 1,
   "id": "575ac44a",
   "metadata": {},
   "outputs": [],
   "source": [
    "# Import the needed libraries\n",
    "\n",
    "import pandas as pd\n",
    "import numpy as np\n",
    "from scipy.io import loadmat  # this is the SciPy module that loads mat-files\n",
    "from scipy.optimize import root, minimize\n",
    "import matplotlib.pyplot as plt\n",
    "from jax import grad, jacobian, hessian, config\n",
    "import jax.numpy as jnp\n",
    "import warnings\n",
    "\n",
    "config.update(\"jax_enable_x64\", True)"
   ]
  },
  {
   "cell_type": "code",
   "execution_count": 2,
   "id": "4741af93",
   "metadata": {},
   "outputs": [],
   "source": [
    "# Set global parameter values\n",
    "beta = (5, 1, 1)\n",
    "gamma = (2, 1, 1)"
   ]
  },
  {
   "cell_type": "code",
   "execution_count": 3,
   "id": "b2fc03aa",
   "metadata": {},
   "outputs": [],
   "source": [
    "def load_mat_data(datapath, nrProducts, nrMarkets):\n",
    "    \"\"\"\n",
    "    Purpose: Loads a .mat data file and returns a Pandas DataFrame.\n",
    "\n",
    "    Parameters\n",
    "    ----------\n",
    "    datapath : str\n",
    "        The path to the .mat file.\n",
    "\n",
    "    nrProducts : int\n",
    "        The number of products in the market data.\n",
    "    \n",
    "    nrMarkets : int\n",
    "        The number of markets in the market data.\n",
    "        \n",
    "    Returns\n",
    "    -------\n",
    "    pd.DataFrame\n",
    "        The market level data in the .mat data file converted to a Pandas DataFrame.\n",
    "    pd.DataFrame\n",
    "        The simulated alphas in the .mat data file converted to a Pandas DataFrame.\n",
    "        \n",
    "    Description\n",
    "    -----------\n",
    "    This function loads the .mat data using scipy.io.loadmat and collects the variable names and the \n",
    "    data (in numpy arrays), ignoring other items in the dictionary (such as the header). It then converts\n",
    "    the cleaned dictionary into two DataFrames, one for the market level data and one for the simulated alphas in each market.\n",
    "    \"\"\"\n",
    "\n",
    "    # Load the .mat data and format the X's appropriately\n",
    "    mat = loadmat(datapath)\n",
    "    mat = {k:v for k, v in mat.items() if k[0] != '_'}\n",
    "    mat['x2'] = mat['x1'][:, 1]\n",
    "    mat['x3'] = mat['x1'][:, 2]\n",
    "    mat['x1'] = mat['x1'][:, 0]\n",
    "\n",
    "    # Get the simulated alphas into one DataFrame\n",
    "    alphas = mat['alphas']\n",
    "    column_names = [i for i in range(alphas.shape[1])]\n",
    "    df_alphas = pd.DataFrame(alphas, columns=column_names)\n",
    "    mat.pop('alphas')\n",
    "\n",
    "    # Store the market level data to a DataFrame\n",
    "    df_mkt = pd.DataFrame({k: np.array(v).flatten(order='F') for k, v in mat.items()})\n",
    "\n",
    "    # Add market and product ids to the market level data\n",
    "    product_ids = [i+1 for i in range(nrProducts)] * nrMarkets\n",
    "    market_ids = [i+1 for i in range(nrMarkets) for _ in range(nrProducts)]\n",
    "    df_mkt['market_id'] = market_ids\n",
    "    df_mkt['product_id'] = product_ids\n",
    "    \n",
    "    return df_mkt, df_alphas"
   ]
  },
  {
   "cell_type": "code",
   "execution_count": 4,
   "id": "65e35ee5",
   "metadata": {},
   "outputs": [],
   "source": [
    "def draw_epsilons(alphas):\n",
    "    \"\"\"\n",
    "    Purpose: Draws epsilons from the specified distribution, to the same shape as alphas.\n",
    "\n",
    "    Parameters\n",
    "    ----------\n",
    "    alphas : pd.DataFrame\n",
    "        The DataFrame of alphas, in the form (Number of Consumers) x (Number of Markets).\n",
    "        \n",
    "    Returns\n",
    "    -------\n",
    "    pd.DataFrame\n",
    "        The simulated epsilons in a Pandas DataFrame.\n",
    "        \n",
    "    Description\n",
    "    -----------\n",
    "    This function takes the simulated alphas for all consumers in all markets and simulates epsilons for each of them.\n",
    "    \"\"\"\n",
    "    draws = np.random.gumbel(size=(alphas.shape[0], alphas.shape[1]))\n",
    "    column_names = [i+1 for i in range(draws.shape[1])]\n",
    "    df_epsilons = pd.DataFrame(draws, columns=column_names)\n",
    "    return df_epsilons"
   ]
  },
  {
   "cell_type": "code",
   "execution_count": 5,
   "id": "ac1b1958",
   "metadata": {},
   "outputs": [],
   "source": [
    "df_3p, alphas_3p = load_mat_data('Simulation Data/100markets3products.mat', 3, 100)\n",
    "df_5p, alphas_5p = load_mat_data('Simulation Data/100markets5products.mat', 5, 100)"
   ]
  },
  {
   "cell_type": "code",
   "execution_count": 6,
   "id": "08af992e",
   "metadata": {},
   "outputs": [],
   "source": [
    "epsilons_3p = draw_epsilons(alphas_3p)\n",
    "epsilons_5p = draw_epsilons(alphas_5p)"
   ]
  },
  {
   "cell_type": "code",
   "execution_count": 7,
   "id": "e0536434",
   "metadata": {},
   "outputs": [],
   "source": [
    "# Calculate marginal costs for the firms\n",
    "df_3p['mc'] = gamma[0] + gamma[1]*df_3p['w'] + gamma[2]*df_3p['Z'] + df_3p['eta']\n",
    "df_5p['mc'] = gamma[0] + gamma[1]*df_5p['w'] + gamma[2]*df_5p['Z'] + df_5p['eta']"
   ]
  },
  {
   "cell_type": "code",
   "execution_count": 8,
   "id": "ee6c4a34",
   "metadata": {},
   "outputs": [],
   "source": [
    "# Calculate profits per purchase for the firms\n",
    "df_3p['Pi'] = df_3p['P_opt'] - df_3p['mc']\n",
    "df_5p['Pi'] = df_5p['P_opt'] - df_5p['mc']"
   ]
  },
  {
   "cell_type": "code",
   "execution_count": 9,
   "id": "0493053c",
   "metadata": {},
   "outputs": [],
   "source": [
    "def calculate_welfare(data, alphas, epsilons):\n",
    "    \"\"\"\n",
    "    Purpose: Calculates the consumer welfares based on the given market level data and the simulated consumers.\n",
    "\n",
    "    Parameters\n",
    "    ----------\n",
    "    data : pd.DataFrame\n",
    "        The DataFrame of market level data.\n",
    "\n",
    "    alphas : pd.DataFrame\n",
    "        The DataFrame of alphas, in the form (Number of Consumers) x (Number of Markets).\n",
    "\n",
    "    epsilons : pd.DataFrame\n",
    "        The DataFrame of epsilons, in the form (Number of Consumers) x (Number of Markets).\n",
    "        \n",
    "    Returns\n",
    "    -------\n",
    "    np.array\n",
    "        The (Number of Consumers) x (Number of Markets) array of utilities (welfare) of each consumer in each market, conditional\n",
    "        on them choosing optimally based on their utility function.\n",
    "        \n",
    "    Description\n",
    "    -----------\n",
    "    This function takes the market level data, and simulated alphas and epsilons and calculates the welfare for each consumer in each market,\n",
    "    conditional on them choosing optimally based on their utility function parameters.\n",
    "    \"\"\"\n",
    "    # Check that the alphas and epsilons agree on the number of markets\n",
    "    assert len(alphas) == len(epsilons)\n",
    "\n",
    "    # Store number of markets\n",
    "    nrMarkets = len(alphas)\n",
    "\n",
    "    # Store number of products\n",
    "    nrProducts = data['product_id'].max()\n",
    "    \n",
    "    for market_id in range(1, nrMarkets+1):\n",
    "        # Get the data for the market at hand\n",
    "        mkt_data = data.loc[data['market_id']==market_id].copy()\n",
    "        \n",
    "        # Calculate the part of the utility that is independent from the consumer\n",
    "        mkt_data['common_util'] = beta[0]*mkt_data['x1'] + beta[1]*mkt_data['x2'] + beta[2]*mkt_data['x3'] + mkt_data['xi_all']\n",
    "        \n",
    "        # Calculate consumer utilities\n",
    "        utils = {}\n",
    "        for product in range(1, nrProducts+1):\n",
    "            utils[product] = (\n",
    "                -alphas.iloc[market_id-1].values*mkt_data.loc[mkt_data['product_id']==product]['P_opt'].iloc[0]\n",
    "                + epsilons.iloc[market_id-1].values\n",
    "                + mkt_data.loc[mkt_data['product_id']==product]['common_util'].iloc[0]\n",
    "            )\n",
    "\n",
    "        # Stack utilities for each product in the market for each consumers into a matrix\n",
    "        product_utilities = np.stack(tuple(utils.values()), axis=1)\n",
    "\n",
    "        # Create a column of zeros with the same number of rows as there are consumers\n",
    "        zero_column = np.zeros((product_utilities.shape[0], 1))\n",
    "        \n",
    "        # Concatenate the zero column to 'product_utilities', to store the utility from the outside option (zero)\n",
    "        product_utilities = np.concatenate([product_utilities, zero_column], axis=1)\n",
    "\n",
    "        mkt_welfare = np.amax(product_utilities, axis=1).reshape(500, -1)\n",
    "        \n",
    "        if market_id == 1:\n",
    "            market_welfares = mkt_welfare\n",
    "        else:\n",
    "            market_welfares = np.hstack([market_welfares, mkt_welfare])\n",
    "            \n",
    "    return market_welfares"
   ]
  },
  {
   "cell_type": "code",
   "execution_count": 10,
   "id": "ae30694b",
   "metadata": {},
   "outputs": [],
   "source": [
    "consumer_welfare_3p = calculate_welfare(df_3p, alphas_3p, epsilons_3p)\n",
    "consumer_welfare_5p = calculate_welfare(df_5p, alphas_5p, epsilons_5p)"
   ]
  },
  {
   "cell_type": "code",
   "execution_count": 11,
   "id": "6025bdfa",
   "metadata": {},
   "outputs": [],
   "source": [
    "def plot_two_histograms(data1, data2, bins=500, labels=('Data 1', 'Data 2')):\n",
    "    \"\"\"\n",
    "    Purpose: Plots two histograms side by side to compare the distributions of two different datasets.\n",
    "\n",
    "    Parameters\n",
    "    ----------\n",
    "    data1 : np.array\n",
    "        The first dataset, which can be a multi-dimensional NumPy array. All elements will be flattened for the histogram.\n",
    "    \n",
    "    data2 : np.array\n",
    "        The second dataset, which can also be a multi-dimensional NumPy array. All elements will be flattened for the histogram.\n",
    "    \n",
    "    bins : int, optional\n",
    "        The number of bins for each histogram (default is 50).\n",
    "    \n",
    "    labels : tuple of str, optional\n",
    "        Labels for each dataset, used in the titles of the histograms (default is ('Data 1', 'Data 2')).\n",
    "        \n",
    "    Description\n",
    "    -----------\n",
    "    This function takes two datasets, flattens them into 1-dimensional arrays if necessary, and plots them as two\n",
    "    histograms side by side in a single figure. It provides a visual comparison of the distributions in both datasets.\n",
    "    \"\"\"\n",
    "    # Create a figure with two subplots side by side\n",
    "    fig, axes = plt.subplots(1, 2, figsize=(12, 5))\n",
    "    \n",
    "    # Plot the first histogram\n",
    "    axes[0].hist(data1.flatten(), bins=bins)\n",
    "    axes[0].set_title(f'{labels[0]}')\n",
    "    axes[0].set_xlabel('Value')\n",
    "    axes[0].set_ylabel('Frequency')\n",
    "    \n",
    "    # Plot the second histogram\n",
    "    axes[1].hist(data2.flatten(), bins=bins)\n",
    "    axes[1].set_title(f'{labels[1]}')\n",
    "    axes[1].set_xlabel('Value')\n",
    "    axes[1].set_ylabel('Frequency')\n",
    "    \n",
    "    # Show the plots\n",
    "    plt.tight_layout()\n",
    "    plt.show()"
   ]
  },
  {
   "cell_type": "code",
   "execution_count": 12,
   "id": "a66dc983",
   "metadata": {},
   "outputs": [
    {
     "data": {
      "image/png": "[encoded data removed]",
      "text/plain": [
       "<Figure size 864x360 with 2 Axes>"
      ]
     },
     "metadata": {},
     "output_type": "display_data"
    }
   ],
   "source": [
    "plot_two_histograms(df_3p['P_opt'].values, df_5p['P_opt'].values, bins=50, labels=('Prices (3 Products, 100 Markets)', 'Prices (5 Products, 100 Markets)'))"
   ]
  },
  {
   "cell_type": "code",
   "execution_count": 13,
   "id": "bd07d288",
   "metadata": {},
   "outputs": [
    {
     "data": {
      "image/png": "[encoded data removed]",
      "text/plain": [
       "<Figure size 864x360 with 2 Axes>"
      ]
     },
     "metadata": {},
     "output_type": "display_data"
    }
   ],
   "source": [
    "# NOTE: This is incomplete. Need to calculate gross profits accounting for the consumer choices. Currently, it's just per purchase profits.\n",
    "\n",
    "plot_two_histograms(df_3p['Pi'].values, df_5p['Pi'].values, bins=50, labels=('Profits (3 Products, 100 Markets)', 'Profits (5 Products, 100 Markets)'))"
   ]
  },
  {
   "cell_type": "code",
   "execution_count": 14,
   "id": "7687275c",
   "metadata": {},
   "outputs": [
    {
     "data": {
      "image/png": "[encoded data removed]",
      "text/plain": [
       "<Figure size 864x360 with 2 Axes>"
      ]
     },
     "metadata": {},
     "output_type": "display_data"
    }
   ],
   "source": [
    "plot_two_histograms(consumer_welfare_3p, consumer_welfare_5p, labels=('Consumer Welfare (3 Products, 100 Markets)', 'Consumer Welfare (5 Products, 100 Markets)'))"
   ]
  },
  {
   "cell_type": "markdown",
   "id": "c5c117d0",
   "metadata": {},
   "source": [
    "# 2. BLP and Hausman Instruments"
   ]
  },
  {
   "cell_type": "code",
   "execution_count": 15,
   "id": "77f0dccd",
   "metadata": {},
   "outputs": [],
   "source": [
    "# Set the number of firms, markets, and simulated consumers in each market \n",
    "J = 3\n",
    "M = 100\n",
    "N = 500"
   ]
  },
  {
   "cell_type": "code",
   "execution_count": 16,
   "id": "165a9a74",
   "metadata": {},
   "outputs": [],
   "source": [
    "# Set the number of BLP instruments\n",
    "N_instruments = 7"
   ]
  },
  {
   "cell_type": "markdown",
   "id": "88a4be21",
   "metadata": {},
   "source": [
    "### 1. (a)"
   ]
  },
  {
   "cell_type": "markdown",
   "id": "235916a7",
   "metadata": {},
   "source": [
    "NOTE: We assume the question asks us to use the $(J, M) = (3, 100)$ data set, since there is no data with 200 markets."
   ]
  },
  {
   "cell_type": "code",
   "execution_count": 17,
   "id": "05b01683",
   "metadata": {},
   "outputs": [],
   "source": [
    "df_3p['P_other_markets'] = df_3p.groupby('product_id')['P_opt'].transform(\n",
    "        lambda x: (x.sum() - x) / (len(x) - 1)\n",
    "    )"
   ]
  },
  {
   "cell_type": "code",
   "execution_count": 18,
   "id": "175a8b0b",
   "metadata": {},
   "outputs": [],
   "source": [
    "xi = df_3p['xi_all'].values.reshape(J*M, 1)\n",
    "X = df_3p[['x1', 'x2', 'x3']].values.reshape(J*M, 3)\n",
    "price = df_3p['P_opt'].values.reshape(J*M, 1)\n",
    "price_other_mkt = df_3p['P_other_markets'].values.reshape(J*M, 1)"
   ]
  },
  {
   "cell_type": "code",
   "execution_count": 19,
   "id": "e2c391c5",
   "metadata": {},
   "outputs": [
    {
     "data": {
      "text/plain": [
       "array([0.04346104, 0.02074192, 0.0355315 ])"
      ]
     },
     "execution_count": 19,
     "metadata": {},
     "output_type": "execute_result"
    }
   ],
   "source": [
    "(xi*X).mean(axis=0)"
   ]
  },
  {
   "cell_type": "code",
   "execution_count": 20,
   "id": "adbc2e3c",
   "metadata": {},
   "outputs": [
    {
     "data": {
      "text/plain": [
       "0.2949581371489729"
      ]
     },
     "execution_count": 20,
     "metadata": {},
     "output_type": "execute_result"
    }
   ],
   "source": [
    "(xi*price).mean()"
   ]
  },
  {
   "cell_type": "code",
   "execution_count": 21,
   "id": "577c22e2",
   "metadata": {},
   "outputs": [
    {
     "data": {
      "text/plain": [
       "0.1436795476746802"
      ]
     },
     "execution_count": 21,
     "metadata": {},
     "output_type": "execute_result"
    }
   ],
   "source": [
    "(xi*price_other_mkt).mean()"
   ]
  },
  {
   "cell_type": "markdown",
   "id": "550b7d9b",
   "metadata": {},
   "source": [
    "### 1. (b)"
   ]
  },
  {
   "cell_type": "markdown",
   "id": "cea6f2db",
   "metadata": {},
   "source": [
    "Consider $E[\\xi|X] = 0$ first. For the moment condition to be valid for all $X$ (including the firm's own product characteristics), we would need the observable product characteristics $X_{jm}$ to be independent of the unobserved product characteristics (or things like market-specific brand value), $\\xi_{jm}$. In practice, this would mean that firms with certain types of observable product characteristics do not have systematically different unobserved product characteristics. This seems unlikely to hold in practice, since firms are able to both see the unobserved (to the econometrician) product characteristics before choosing the observed (again, to the econometrician) product characteristics. For example, we would expect that a \"premium\" car (something that is in $\\xi$) typically has different product characteristics that a non-premium car. Still, to know whether this moment condition would be valid in this context, we would need more information on what type of products we are studying.\n",
    "\n",
    "The moment condition is relevant though, as long as $X$ is included $Z_{jm}$, i.e. the product characteristics are costly. The relevance is then clear from the fact that prices are a function of marginal costs, which are a function of $X$.  \n",
    "\n",
    "As for $E[\\xi|p] = 0$, the validity depends on which prices we consider. With own prices, it's clear that validity is not satisfied, since in general, prices are higher for products with greater $\\xi$, as firms choose prices with knowledge of their market-specific $\\xi_{jm}$. But the mean independence might be satisfied for own prices in other markets (Hausman instruments), if we include firm fixed effects to control for the firm-level component of $\\xi$ that is invariant accross markets and construct the moment condition with the market-specific part of $\\xi$. Note that relevance is trivially satisfied in both these cases, since (1) prices are obviously correlated with themselves, and (2) prices in other markets are correlated with prices in a specific market because there is a common cost shifter for all markets, $W_j$. "
   ]
  },
  {
   "cell_type": "markdown",
   "id": "f2f586bc",
   "metadata": {},
   "source": [
    "### 1. (c)"
   ]
  },
  {
   "cell_type": "markdown",
   "id": "cdba739d",
   "metadata": {},
   "source": [
    "If the way firms choose product characteristics $X$ is such that the unobserved product characteristics are not observed before choosing observable characteristics, the BLP instruments can be used. Similarly, in the previous part we have argued that the Hausman instruments are relevant, and are also valid if there are e.g. no demand shocks that are common accross all markets or marketing campaings of the firms that include multiple markets."
   ]
  },
  {
   "cell_type": "markdown",
   "id": "68483245",
   "metadata": {},
   "source": [
    "### 2. (a)"
   ]
  },
  {
   "cell_type": "markdown",
   "id": "d5e384e5",
   "metadata": {},
   "source": [
    "To begin, we introduce some notation that is useful throughout the rest of the problem set. Let $S_{jm}$ be the observed market share of product $j$ in market $m$, and $S_m \\equiv (S_{jm})_{j = 1}^J$. For each value of the parameter values $\\theta$, there exists a unique mapping (as shown by Berry, 1994) between the observed market shares, $S_m$, and the vector of unobserved demand shocks $\\xi_m$, defined by $s(\\cdot)$:\n",
    "$$\n",
    "S_m = s(X_m, p_m, \\xi_m; \\theta),\n",
    "$$\n",
    "where the $X_m$ is the matrix of observed product characteristics, $p_m$ the vector of prices, and $\\xi_m$ the vector of unobserved demand shocks, all in market $m$. The uniqueness of the mapping allows us to invert the market share function to arrive at:\n",
    "$$\n",
    "\\xi_m(\\theta) = s^{-1}(S_m; \\theta),\n",
    "$$\n",
    "where we have shortened $s(\\xi_m; \\theta) \\equiv s(X_m, p_m, \\xi_m; \\theta)$ for notational convenience. Finally, denote $\\xi(\\theta) = (\\xi_m(\\theta))_{m = 1}^M$."
   ]
  },
  {
   "cell_type": "markdown",
   "id": "a8f7130b",
   "metadata": {},
   "source": [
    "We next write down the BLP moments. First, let $h(X, j, m)$ be a vector valued function of moments for firm $j$ in market $m$, based on all the observable product characteristics $X$ for all products and markets. The BLP instruments are the (observable) product characteristics of the firm $X_{jm}$, the sum of the characteristics of other products of the firm (in other markets) $\\sum_{r \\neq j, m' \\neq m, r \\in \\mathcal{F}_j} X_{rm'}$, and the characteristics of other firms in the same market $\\sum_{r \\neq \\mathcal{F}_j} X_{rm}$. We exclude the first element of $X_{jm}$, the constant, from all these instruments. Since there are two other product characteristics, $h(X)$ is a vector with $2 \\times 3 = 6$ elements for each firm. The BLP moment is thus:\n",
    "$$\n",
    "E[\\xi_{jm}h(X, j)] = 0.\n",
    "$$"
   ]
  },
  {
   "cell_type": "markdown",
   "id": "8adf981f",
   "metadata": {},
   "source": [
    "The empirical analogue of the BLP moment is:\n",
    "$$\n",
    "g(\\xi(\\theta)) = \\frac{1}{M}\\Sigma_{m = 1}^M \\Sigma_{j = 1}^J \\xi_{jm} h(X, j, m).\n",
    "$$\n",
    "Let $s^{-1}_j(S_m; \\theta)$ denote the $j$th element of $s^{-1}_j(S_m; \\theta)$. We thus have:\n",
    "$$\n",
    "g(\\xi(\\theta)) = \\frac{1}{M}\\Sigma_{m = 1}^M \\Sigma_{j = 1}^J s^{-1}_j(S_m; \\theta) h(X, j, m).\n",
    "$$"
   ]
  },
  {
   "cell_type": "markdown",
   "id": "a3de626f",
   "metadata": {},
   "source": [
    "### 2. (b)"
   ]
  },
  {
   "cell_type": "markdown",
   "id": "f3ae8f80",
   "metadata": {},
   "source": [
    "The objective function in the MPEC problem is simply:\n",
    "$$\n",
    "Q(\\theta) \\equiv g(\\xi(\\theta))^T W g(\\xi(\\theta)),\n",
    "$$\n",
    "for some weighting matrix $W$. We can thus write the MPEC problem in its entirety as:\n",
    "$$\n",
    "\\begin{aligned}\n",
    "\\min _{\\theta, \\xi, \\eta} \\eta^{\\prime} W \\eta & \\\\\n",
    "\\text { subject to } & g(\\xi)=\\eta, \\\\\n",
    "& s(\\xi ; \\theta)=S.\n",
    "\\end{aligned}\n",
    "$$"
   ]
  },
  {
   "cell_type": "markdown",
   "id": "6942f96d",
   "metadata": {},
   "source": [
    "# Here's code that is compatible with the $\\delta$ approach (as opposed to the $\\xi$ approach)."
   ]
  },
  {
   "cell_type": "code",
   "execution_count": 22,
   "id": "407616a7",
   "metadata": {},
   "outputs": [],
   "source": [
    "X = jnp.array(df_3p[['x1', 'x2', 'x3']].values)\n",
    "prices = jnp.array(df_3p[['P_opt']].values)\n",
    "shares = jnp.array(df_3p[['shares']].values)"
   ]
  },
  {
   "cell_type": "code",
   "execution_count": 23,
   "id": "45d48395",
   "metadata": {},
   "outputs": [],
   "source": [
    "sigma_alpha_init = 1\n",
    "eta_init =  jnp.ones((N_instruments, 1))\n",
    "delta_init = jnp.ones((J*M, 1))\n",
    "params_init = jnp.concatenate([np.array([sigma_alpha_init]).reshape(-1,1), eta_init, delta_init], axis=0).flatten()\n",
    "\n",
    "# For speed, compute this outside of the function and pass it later\n",
    "alphas_repeat = jnp.repeat(np.array(alphas_3p.values), repeats=J, axis=0)\n",
    "\n",
    "# Random coefficients nu on the prices\n",
    "nus_on_prices = (alphas_repeat-1) * prices.reshape(-1, 1)"
   ]
  },
  {
   "cell_type": "code",
   "execution_count": 24,
   "id": "a632fcdd",
   "metadata": {},
   "outputs": [],
   "source": [
    "deltas_correct = (5 + df_3p['x2'] + df_3p['x3'] - df_3p['P_opt'] + df_3p['xi_all']).values.reshape(300, -1)"
   ]
  },
  {
   "cell_type": "code",
   "execution_count": 25,
   "id": "d3ec0549",
   "metadata": {},
   "outputs": [],
   "source": [
    "# Prepend the new element\n",
    "first_elems = jnp.ones(1+N_instruments).reshape(-1, 1)\n",
    "params_correct = jnp.vstack([first_elems, deltas_correct]).reshape(-1)"
   ]
  },
  {
   "cell_type": "code",
   "execution_count": 26,
   "id": "43fd6c77",
   "metadata": {},
   "outputs": [],
   "source": [
    "def s(params):\n",
    "    sigma = params[0]\n",
    "    deltas = params[1 + N_instruments:].reshape(J*M, -1)\n",
    "    \n",
    "    num = jnp.exp(deltas - sigma*nus_on_prices)\n",
    "\n",
    "    # Sum used in the denominator\n",
    "    market_sums = 1 + num.reshape(M, J, N).sum(axis=1).reshape(M, -1)\n",
    "    \n",
    "    # Need to repeat it to make it the same size as the numerator\n",
    "    denom = jnp.repeat(market_sums, repeats=J, axis=0)\n",
    "    out = (num/denom).sum(axis=1)/N\n",
    "    return out.reshape(-1)"
   ]
  },
  {
   "cell_type": "code",
   "execution_count": 58,
   "id": "d48171e6",
   "metadata": {},
   "outputs": [],
   "source": [
    "def s(params):\n",
    "    sigma = params[0]\n",
    "    deltas = params[N_instruments + 1:].reshape(-1, 1)  # Shape: (M*J, 1)\n",
    "    \n",
    "    # Compute utilities\n",
    "    utilities = deltas - sigma * nus_on_prices  # Shape: (M*J, N)\n",
    "    \n",
    "    # Reshape utilities for markets and products\n",
    "    utilities_reshaped = utilities.reshape(M, J, N)  # Shape: (M, J, N)\n",
    "    \n",
    "    # Compute the stabilization constant (max utility per market per individual)\n",
    "    max_utilities = jnp.max(utilities_reshaped, axis=1, keepdims=True)  # Shape: (M, 1, N)\n",
    "    \n",
    "    # Stabilized exponentials\n",
    "    exp_utilities = jnp.exp(utilities_reshaped - max_utilities)  # Shape: (M, J, N)\n",
    "    \n",
    "    # Adjust the \"outside option\" (1 becomes exp(-max_utilities))\n",
    "    outside_option = jnp.exp(-max_utilities)  # Shape: (M, 1, N)\n",
    "    \n",
    "    # Compute the stabilized denominator\n",
    "    sum_exp_utilities = outside_option + exp_utilities.sum(axis=1, keepdims=True)  # Shape: (M, 1, N)\n",
    "    \n",
    "    # Compute shares\n",
    "    shares = exp_utilities / sum_exp_utilities  # Shape: (M, J, N)\n",
    "    \n",
    "    # Average across individuals\n",
    "    avg_shares = shares.mean(axis=2)  # Shape: (M, J)\n",
    "    \n",
    "    # Flatten output to match the original function's shape\n",
    "    return avg_shares.flatten()"
   ]
  },
  {
   "cell_type": "code",
   "execution_count": 59,
   "id": "6ec2c5f7",
   "metadata": {},
   "outputs": [],
   "source": [
    "def solve_init_deltas(params):\n",
    "    \n",
    "    constraint_func = lambda x: (s(x).reshape(J*M, -1) - shares).reshape(-1)\n",
    "    constraint_jac = jacobian(constraint_func)\n",
    "\n",
    "    # Define the constraint dictionary\n",
    "    constraints = {\n",
    "        'type': 'eq',\n",
    "        'fun': constraint_func,\n",
    "        'jac': constraint_jac\n",
    "    }\n",
    "\n",
    "    # Perform optimization\n",
    "    result = minimize(\n",
    "        fun=lambda x: 0,\n",
    "        x0=params,\n",
    "        method='SLSQP',\n",
    "        constraints=constraints\n",
    "    )\n",
    "    \n",
    "    # Return results\n",
    "    if result.success:\n",
    "        return result\n",
    "    else:\n",
    "        print(\"Optimization failed:\", result.message)\n",
    "        print(\"Returning the original passed parameters.\")\n",
    "        return params"
   ]
  },
  {
   "cell_type": "code",
   "execution_count": 60,
   "id": "5648123f",
   "metadata": {
    "scrolled": true
   },
   "outputs": [],
   "source": [
    "res = solve_init_deltas(params_init)"
   ]
  },
  {
   "cell_type": "code",
   "execution_count": 69,
   "id": "d503ad6b",
   "metadata": {},
   "outputs": [
    {
     "data": {
      "text/plain": [
       "Array(1.43456232e-07, dtype=float64)"
      ]
     },
     "execution_count": 69,
     "metadata": {},
     "output_type": "execute_result"
    }
   ],
   "source": [
    "### Check if the initial guess has improved our starting point.\n",
    "#Looks good\n",
    "s_res = s(res.x)\n",
    "np.max(abs(s_res-shares.flatten()))\n",
    "\n"
   ]
  },
  {
   "cell_type": "code",
   "execution_count": 71,
   "id": "13d2e44e",
   "metadata": {},
   "outputs": [],
   "source": [
    "#### Adjust new initial guess to use the feasible starting point.\n",
    "params_adjusted = res.x"
   ]
  },
  {
   "cell_type": "code",
   "execution_count": 72,
   "id": "155e5c62",
   "metadata": {},
   "outputs": [],
   "source": [
    "def blp_instruments_all(X):\n",
    "    \"\"\"\n",
    "    Computes the matrix of instruments for all (j, m) pairs in a vectorized manner.\n",
    "    \n",
    "    Parameters:\n",
    "    ----------\n",
    "    X : jnp.ndarray\n",
    "        Input matrix of shape (J * M, features).\n",
    "        \n",
    "    Returns:\n",
    "    -------\n",
    "    instruments : jnp.ndarray\n",
    "        Matrix of instruments for all (j, m), shape (J * M, 6).\n",
    "    \"\"\"\n",
    "    \n",
    "    # Reshape X into (M, J, features)\n",
    "    # Note: for instruments, use only the nonconstant product characteristics.\n",
    "    X_reshaped = X[:, 1:].reshape(M, J, -1)  # Shape: (M, J, features)\n",
    "\n",
    "    # First two elements: Features of product j in market m\n",
    "    X_jm = X_reshaped  # Shape: (M, J, features)\n",
    "\n",
    "    # Next two elements: Sum of product j's features in all other markets\n",
    "    X_j_sum = jnp.sum(X_reshaped, axis=0, keepdims=True) - X_reshaped  # Shape: (M, J, features)\n",
    "\n",
    "    # Last two elements: Sum of all other products' features in the same market\n",
    "    X_m_sum = jnp.sum(X_reshaped, axis=1, keepdims=True) - X_reshaped  # Shape: (M, J, features)\n",
    "    \n",
    "    # Concatenate results along the last dimension and add a column of ones\n",
    "    instruments = jnp.concatenate([jnp.ones((M, J, 1)), X_jm, X_j_sum, X_m_sum], axis=-1)  # Shape: (M, J, 6)\n",
    "    \n",
    "    # Reshape back to (J * M, 6)\n",
    "    return instruments.reshape(J * M, -1)"
   ]
  },
  {
   "cell_type": "code",
   "execution_count": 73,
   "id": "9f043e42",
   "metadata": {},
   "outputs": [],
   "source": [
    "# Get matrix of regressors\n",
    "Xbar = df_3p[['x1', 'x2', 'x3', 'P_opt']].values.reshape(J*M, 4)\n",
    "\n",
    "# Get the matrix of instruments (including x1, x2, and the BLP moments). \n",
    "Z = jnp.array(blp_instruments_all(X))\n",
    "\n",
    "# Construct the annihilator matrix\n",
    "Pz = Z @ jnp.linalg.inv(Z.T @ Z) @ Z.T\n",
    "Az = jnp.eye(Pz.shape[0]) - Xbar @ jnp.linalg.inv(Xbar.T @ Pz @ Xbar) @ Xbar.T"
   ]
  },
  {
   "cell_type": "code",
   "execution_count": 74,
   "id": "037fd8c1",
   "metadata": {},
   "outputs": [],
   "source": [
    "def blp_moment(params):\n",
    "    \"\"\"\n",
    "    Computes the BLP moment vector using vectorized instruments.\n",
    "    \n",
    "    Parameters:\n",
    "    ----------\n",
    "    params : array-like\n",
    "        Model parameters.\n",
    "    X : jnp.ndarray\n",
    "        Input data matrix of shape (J * M, features).\n",
    "        \n",
    "    Returns:\n",
    "    -------\n",
    "    sum_vec : jnp.ndarray\n",
    "        The moment vector divided by the number of market and products, shape (instrument_features,).\n",
    "    \"\"\"\n",
    "    deltas = params[1+N_instruments:].reshape(-1, 1)  # Shape: (J * M, 1)\n",
    "    \n",
    "    xis = Az @ deltas # Use the annihilator matrix to recover xi\n",
    "    sum_vec = jnp.sum(xis*Z, axis=0)  # Shape: (instrument_features,)\n",
    "    return (sum_vec / (J*M))"
   ]
  },
  {
   "cell_type": "code",
   "execution_count": 33,
   "id": "4b6a594e",
   "metadata": {},
   "outputs": [],
   "source": [
    "def objective_mpec(params, W):\n",
    "    eta = jnp.array(params[1:1+N_instruments])\n",
    "    out = eta.T @ W @ eta\n",
    "    return out"
   ]
  },
  {
   "cell_type": "code",
   "execution_count": 34,
   "id": "5723b522",
   "metadata": {},
   "outputs": [],
   "source": [
    "def constraint_g(params):\n",
    "    g_xi = blp_moment(params)\n",
    "    eta = params[1:1+N_instruments]\n",
    "    return g_xi - eta"
   ]
  },
  {
   "cell_type": "code",
   "execution_count": 35,
   "id": "dbd6f657",
   "metadata": {},
   "outputs": [],
   "source": [
    "def constraint_s(params):\n",
    "    return s(params) - shares.flatten()"
   ]
  },
  {
   "cell_type": "code",
   "execution_count": 36,
   "id": "26605111",
   "metadata": {},
   "outputs": [],
   "source": [
    "def objective_jac(params, W):\n",
    "    # Extract etas\n",
    "    eta = params[1:1+N_instruments]\n",
    "    grad_eta = 2 * W @ eta  # Gradient for eta\n",
    "\n",
    "    # Build the full gradient vector\n",
    "    grad = np.zeros_like(params)  # Use NumPy for the full gradient\n",
    "    grad[1:1+N_instruments] = np.array(grad_eta)  # Convert JAX array to NumPy\n",
    "    return grad"
   ]
  },
  {
   "cell_type": "code",
   "execution_count": 37,
   "id": "53dcb15f",
   "metadata": {},
   "outputs": [],
   "source": [
    "def objective_hess(params, W):\n",
    "    # Initialize the full Hessian matrix\n",
    "    hess = np.zeros((len(params), len(params)))\n",
    "    \n",
    "    # Fill in the block corresponding to etas\n",
    "    hess[1:1+N_instruments, 1:1+N_instruments] = 2 * W  # Constant Hessian for etas\n",
    "    return hess"
   ]
  },
  {
   "cell_type": "code",
   "execution_count": 38,
   "id": "fe66a75e",
   "metadata": {},
   "outputs": [],
   "source": [
    "# Compute the Jacobian of the g constraint\n",
    "def constraint_g_jac(params):\n",
    "    return jacobian(constraint_g)(jnp.array(params))"
   ]
  },
  {
   "cell_type": "code",
   "execution_count": 39,
   "id": "b5a5c210",
   "metadata": {},
   "outputs": [],
   "source": [
    "# Compute the Jacobian of the s constraint\n",
    "def constraint_s_jac(params):\n",
    "    return jacobian(constraint_s)(jnp.array(params))"
   ]
  },
  {
   "cell_type": "code",
   "execution_count": 40,
   "id": "bb9b85b7",
   "metadata": {},
   "outputs": [],
   "source": [
    "# Define the constraints list\n",
    "constraints = [\n",
    "    {\n",
    "        'type': 'eq',  # Equality constraint g(x) = eta\n",
    "        'fun': lambda x: np.asarray(constraint_g(x)),  # Convert to NumPy\n",
    "        'jac': lambda x: np.asarray(constraint_g_jac(x))  # Convert Jacobian to NumPy\n",
    "    },\n",
    "    {\n",
    "        'type': 'eq',  # Equality constraint s(x) = shares\n",
    "        'fun': lambda x: np.asarray(constraint_s(x)),\n",
    "        'jac': lambda x: np.asarray(constraint_s_jac(x))\n",
    "    }\n",
    "]"
   ]
  },
  {
   "cell_type": "code",
   "execution_count": 41,
   "id": "9e9298ce",
   "metadata": {
    "scrolled": true
   },
   "outputs": [
    {
     "name": "stdout",
     "output_type": "stream",
     "text": [
      "| niter |f evals|CG iter|  obj func   |tr radius |   opt    |  c viol  | penalty  |CG stop|\n",
      "|-------|-------|-------|-------------|----------|----------|----------|----------|-------|\n",
      "|   1   |   1   |   0   | +7.0000e+00 | 1.00e+00 | 6.25e-02 | 1.00e+00 | 1.00e+00 |   0   |\n",
      "|   2   |   2   |   1   | +4.5624e+00 | 5.71e+00 | 6.59e-02 | 8.21e-01 | 1.00e+00 |   1   |\n",
      "|   3   |   3   |   2   | +4.0723e+00 | 3.21e+01 | 1.22e-01 | 4.74e-01 | 1.18e+03 |   1   |\n",
      "|   4   |   4   |   3   | +8.7535e+01 | 1.09e+02 | 2.14e-01 | 5.57e-02 | 1.18e+03 |   1   |\n",
      "|   5   |   5   |   4   | +1.7262e+02 | 1.09e+02 | 2.24e-01 | 1.88e-02 | 5.37e+03 |   1   |\n",
      "|   6   |   6   |   5   | +2.4593e+02 | 1.09e+02 | 2.33e-01 | 5.84e-03 | 5.73e+03 |   1   |\n",
      "|   7   |   7   |   6   | +3.0082e+02 | 1.09e+02 | 2.40e-01 | 1.45e-03 | 9.06e+03 |   1   |\n",
      "|   8   |   8   |   7   | +3.3445e+02 | 1.09e+02 | 2.44e-01 | 4.71e-04 | 2.02e+04 |   1   |\n",
      "|   9   |   9   |   8   | +3.5064e+02 | 1.09e+02 | 2.46e-01 | 1.28e-04 | 4.26e+04 |   1   |\n",
      "|  10   |  10   |   9   | +3.5772e+02 | 1.09e+02 | 2.47e-01 | 4.43e-05 | 9.17e+04 |   1   |\n",
      "|  11   |  11   |  10   | +3.6141e+02 | 1.09e+02 | 2.47e-01 | 1.38e-05 | 2.05e+05 |   1   |\n",
      "|  12   |  12   |  11   | +3.6319e+02 | 1.09e+02 | 2.47e-01 | 3.23e-06 | 3.23e+05 |   1   |\n",
      "|  13   |  13   |  12   | +3.6375e+02 | 1.09e+02 | 2.47e-01 | 3.41e-07 | 3.23e+05 |   1   |\n",
      "|  14   |  14   |  13   | +3.6377e+02 | 1.09e+02 | 2.47e-01 | 1.37e-08 | 3.23e+05 |   1   |\n",
      "|  15   |  16   |  14   | +3.6326e+02 | 1.09e+02 | 2.45e-01 | 2.22e-09 | 3.23e+05 |   1   |\n",
      "|  16   |  18   |  15   | +3.6326e+02 | 1.09e+01 | 2.45e-01 | 2.22e-09 | 3.23e+05 |   1   |\n",
      "|  17   |  20   |  16   | +3.6326e+02 | 1.09e+00 | 2.45e-01 | 2.22e-09 | 3.23e+05 |   2   |\n",
      "|  18   |  22   |  17   | +3.6091e+02 | 2.19e+00 | 2.38e-01 | 2.17e-07 | 3.23e+05 |   2   |\n",
      "|  19   |  24   |  18   | +3.5645e+02 | 4.38e+00 | 2.24e-01 | 1.54e-06 | 3.23e+05 |   2   |\n",
      "|  20   |  26   |  19   | +3.5645e+02 | 4.38e-01 | 2.24e-01 | 1.54e-06 | 3.23e+05 |   2   |\n",
      "|  21   |  28   |  20   | +3.5559e+02 | 3.06e+00 | 2.21e-01 | 1.18e-08 | 3.23e+05 |   2   |\n",
      "|  22   |  30   |  21   | +3.4991e+02 | 3.06e+00 | 2.03e-01 | 3.43e-06 | 3.23e+05 |   2   |\n",
      "|  23   |  32   |  22   | +3.4474e+02 | 6.13e+00 | 1.87e-01 | 2.82e-06 | 3.23e+05 |   2   |\n",
      "|  24   |  34   |  23   | +3.4474e+02 | 6.13e-01 | 1.87e-01 | 2.82e-06 | 3.23e+05 |   2   |\n",
      "|  25   |  36   |  24   | +3.4377e+02 | 4.29e+00 | 1.84e-01 | 2.08e-08 | 3.23e+05 |   2   |\n",
      "|  26   |  38   |  25   | +3.4377e+02 | 4.29e-01 | 1.84e-01 | 2.08e-08 | 3.23e+05 |   2   |\n",
      "|  27   |  40   |  26   | +3.4310e+02 | 3.00e+00 | 1.81e-01 | 6.79e-09 | 3.23e+05 |   2   |\n",
      "|  28   |  42   |  27   | +3.3863e+02 | 6.01e+00 | 1.67e-01 | 2.01e-06 | 3.23e+05 |   2   |\n",
      "|  29   |  44   |  28   | +3.3863e+02 | 6.01e-01 | 1.67e-01 | 2.01e-06 | 3.23e+05 |   2   |\n",
      "|  30   |  46   |  29   | +3.3779e+02 | 4.20e+00 | 1.64e-01 | 1.48e-08 | 3.23e+05 |   2   |\n",
      "|  31   |  48   |  30   | +3.3779e+02 | 4.20e-01 | 1.64e-01 | 1.48e-08 | 3.23e+05 |   2   |\n",
      "|  32   |  50   |  31   | +3.3720e+02 | 2.94e+00 | 1.62e-01 | 4.92e-09 | 3.23e+05 |   2   |\n",
      "|  33   |  52   |  32   | +3.3333e+02 | 5.89e+00 | 1.49e-01 | 1.52e-06 | 3.23e+05 |   2   |\n",
      "|  34   |  54   |  33   | +3.3333e+02 | 5.89e-01 | 1.49e-01 | 1.52e-06 | 3.23e+05 |   2   |\n",
      "|  35   |  56   |  34   | +3.3260e+02 | 4.12e+00 | 1.46e-01 | 1.16e-08 | 3.23e+05 |   2   |\n",
      "|  36   |  58   |  35   | +3.3260e+02 | 4.12e-01 | 1.46e-01 | 1.16e-08 | 3.23e+05 |   2   |\n",
      "|  37   |  60   |  36   | +3.3209e+02 | 2.88e+00 | 1.44e-01 | 3.86e-09 | 3.23e+05 |   2   |\n",
      "|  38   |  62   |  37   | +3.2873e+02 | 5.77e+00 | 1.33e-01 | 1.20e-06 | 3.23e+05 |   2   |\n",
      "|  39   |  64   |  38   | +3.2873e+02 | 5.77e-01 | 1.33e-01 | 1.20e-06 | 3.23e+05 |   2   |\n",
      "|  40   |  66   |  39   | +3.2809e+02 | 4.04e+00 | 1.31e-01 | 9.14e-09 | 3.23e+05 |   2   |\n",
      "|  41   |  68   |  40   | +3.2392e+02 | 4.04e+00 | 1.16e-01 | 2.77e-06 | 3.23e+05 |   2   |\n",
      "|  42   |  70   |  41   | +3.2025e+02 | 8.08e+00 | 1.03e-01 | 2.41e-06 | 3.23e+05 |   2   |\n",
      "|  43   |  72   |  42   | +3.2025e+02 | 8.08e-01 | 1.03e-01 | 2.41e-06 | 3.23e+05 |   2   |\n",
      "|  44   |  74   |  43   | +3.1958e+02 | 5.65e+00 | 1.00e-01 | 1.83e-08 | 3.23e+05 |   2   |\n",
      "|  45   |  76   |  44   | +3.1958e+02 | 5.65e-01 | 1.00e-01 | 1.83e-08 | 3.23e+05 |   2   |\n",
      "|  46   |  78   |  45   | +3.1911e+02 | 3.96e+00 | 9.83e-02 | 6.06e-09 | 3.23e+05 |   2   |\n",
      "|  47   |  80   |  46   | +3.1607e+02 | 3.96e+00 | 8.69e-02 | 1.87e-06 | 3.23e+05 |   2   |\n",
      "|  48   |  82   |  47   | +3.1339e+02 | 7.91e+00 | 7.66e-02 | 1.61e-06 | 3.23e+05 |   2   |\n",
      "|  49   |  84   |  48   | +3.1339e+02 | 7.91e-01 | 7.66e-02 | 1.61e-06 | 3.23e+05 |   2   |\n",
      "|  50   |  86   |  49   | +3.1290e+02 | 5.54e+00 | 7.46e-02 | 1.21e-08 | 3.23e+05 |   2   |\n",
      "|  51   |  88   |  50   | +3.1290e+02 | 5.54e-01 | 7.46e-02 | 1.21e-08 | 3.23e+05 |   2   |\n",
      "|  52   |  90   |  51   | +3.1256e+02 | 3.88e+00 | 7.33e-02 | 4.03e-09 | 3.23e+05 |   2   |\n",
      "|  53   |  92   |  52   | +3.1035e+02 | 3.88e+00 | 6.44e-02 | 1.25e-06 | 3.23e+05 |   2   |\n",
      "|  54   |  94   |  53   | +3.0843e+02 | 7.76e+00 | 5.62e-02 | 1.08e-06 | 3.23e+05 |   2   |\n",
      "|  55   |  96   |  54   | +3.0843e+02 | 7.76e-01 | 5.62e-02 | 1.08e-06 | 3.23e+05 |   2   |\n",
      "|  56   |  98   |  55   | +3.0807e+02 | 5.43e+00 | 5.46e-02 | 8.06e-09 | 3.23e+05 |   2   |\n",
      "|  57   |  100  |  56   | +3.0807e+02 | 5.43e-01 | 5.46e-02 | 8.06e-09 | 3.23e+05 |   2   |\n",
      "|  58   |  102  |  57   | +3.0783e+02 | 3.80e+00 | 5.36e-02 | 2.70e-09 | 3.23e+05 |   2   |\n",
      "|  59   |  104  |  58   | +3.0626e+02 | 3.80e+00 | 4.65e-02 | 8.77e-07 | 3.23e+05 |   2   |\n",
      "|  60   |  106  |  59   | +3.0491e+02 | 7.60e+00 | 3.99e-02 | 8.20e-07 | 3.23e+05 |   2   |\n",
      "|  61   |  108  |  60   | +3.0491e+02 | 7.60e-01 | 3.99e-02 | 8.20e-07 | 3.23e+05 |   2   |\n",
      "|  62   |  110  |  61   | +3.0467e+02 | 5.32e+00 | 3.86e-02 | 6.42e-09 | 3.23e+05 |   2   |\n",
      "|  63   |  112  |  62   | +3.0467e+02 | 5.32e-01 | 3.86e-02 | 6.42e-09 | 3.23e+05 |   2   |\n",
      "|  64   |  114  |  63   | +3.0450e+02 | 3.72e+00 | 3.78e-02 | 2.17e-09 | 3.23e+05 |   2   |\n",
      "|  65   |  116  |  64   | +3.0343e+02 | 3.72e+00 | 3.20e-02 | 7.06e-07 | 3.23e+05 |   2   |\n",
      "|  66   |  118  |  65   | +3.0253e+02 | 7.45e+00 | 2.66e-02 | 6.61e-07 | 3.23e+05 |   2   |\n",
      "|  67   |  120  |  66   | +3.0253e+02 | 7.45e-01 | 2.66e-02 | 6.61e-07 | 3.23e+05 |   2   |\n",
      "|  68   |  122  |  67   | +3.0237e+02 | 5.21e+00 | 2.56e-02 | 5.16e-09 | 3.23e+05 |   2   |\n",
      "|  69   |  124  |  68   | +3.0237e+02 | 5.21e-01 | 2.56e-02 | 5.16e-09 | 3.23e+05 |   2   |\n",
      "|  70   |  126  |  69   | +3.0227e+02 | 3.65e+00 | 2.49e-02 | 1.75e-09 | 3.23e+05 |   2   |\n",
      "|  71   |  128  |  70   | +3.0227e+02 | 3.65e-01 | 2.49e-02 | 1.75e-09 | 3.23e+05 |   2   |\n",
      "|  72   |  130  |  71   | +3.0219e+02 | 2.56e+00 | 2.44e-02 | 5.94e-10 | 3.23e+05 |   2   |\n",
      "|  73   |  132  |  72   | +3.0172e+02 | 5.11e+00 | 2.10e-02 | 1.97e-07 | 3.23e+05 |   2   |\n",
      "|  74   |  134  |  73   | +3.0172e+02 | 5.11e-01 | 2.10e-02 | 1.97e-07 | 3.23e+05 |   2   |\n",
      "|  75   |  136  |  74   | +3.0163e+02 | 3.58e+00 | 2.03e-02 | 1.54e-09 | 3.23e+05 |   2   |\n",
      "|  76   |  138  |  75   | +3.0163e+02 | 3.58e-01 | 2.03e-02 | 1.54e-09 | 3.23e+05 |   2   |\n",
      "|  77   |  140  |  76   | +3.0157e+02 | 2.50e+00 | 1.99e-02 | 5.25e-10 | 3.23e+05 |   2   |\n",
      "|  78   |  142  |  77   | +3.0119e+02 | 5.01e+00 | 1.68e-02 | 1.74e-07 | 3.23e+05 |   2   |\n",
      "|  79   |  144  |  78   | +3.0119e+02 | 5.01e-01 | 1.68e-02 | 1.74e-07 | 3.23e+05 |   2   |\n",
      "|  80   |  146  |  79   | +3.0112e+02 | 3.51e+00 | 1.62e-02 | 1.37e-09 | 3.23e+05 |   2   |\n",
      "|  81   |  148  |  80   | +3.0112e+02 | 3.51e-01 | 1.62e-02 | 1.37e-09 | 3.23e+05 |   2   |\n",
      "|  82   |  150  |  81   | +3.0108e+02 | 2.45e+00 | 1.57e-02 | 4.64e-10 | 3.23e+05 |   2   |\n",
      "|  83   |  152  |  82   | +3.0079e+02 | 2.45e+00 | 1.29e-02 | 1.55e-07 | 3.23e+05 |   2   |\n",
      "|  84   |  154  |  83   | +3.0056e+02 | 4.91e+00 | 1.01e-02 | 1.49e-07 | 3.23e+05 |   2   |\n",
      "|  85   |  156  |  84   | +3.0056e+02 | 4.91e-01 | 1.01e-02 | 1.49e-07 | 3.23e+05 |   1   |\n",
      "|  86   |  158  |  85   | +3.0052e+02 | 3.44e+00 | 9.57e-03 | 1.17e-09 | 3.23e+05 |   2   |\n",
      "|  87   |  160  |  86   | +3.0052e+02 | 3.44e-01 | 9.57e-03 | 1.17e-09 | 3.23e+05 |   2   |\n",
      "|  88   |  162  |  87   | +3.0049e+02 | 2.40e+00 | 9.20e-03 | 3.99e-10 | 3.23e+05 |   2   |\n",
      "|  89   |  164  |  88   | +3.0049e+02 | 2.40e-01 | 9.20e-03 | 3.99e-10 | 3.23e+05 |   2   |\n",
      "|  90   |  166  |  89   | +3.0047e+02 | 1.68e+00 | 8.94e-03 | 1.36e-10 | 3.23e+05 |   2   |\n",
      "|  91   |  168  |  90   | +3.0036e+02 | 3.37e+00 | 7.14e-03 | 4.58e-08 | 3.23e+05 |   2   |\n",
      "|  92   |  170  |  91   | +3.0036e+02 | 3.37e-01 | 7.14e-03 | 4.58e-08 | 3.23e+05 |   2   |\n",
      "|  93   |  172  |  92   | +3.0034e+02 | 2.36e+00 | 6.79e-03 | 3.62e-10 | 3.23e+05 |   2   |\n",
      "|  94   |  174  |  93   | +3.0034e+02 | 2.36e-01 | 6.79e-03 | 3.62e-10 | 3.23e+05 |   2   |\n",
      "|  95   |  176  |  94   | +3.0033e+02 | 1.65e+00 | 6.54e-03 | 1.24e-10 | 3.23e+05 |   2   |\n",
      "|  96   |  178  |  95   | +3.0025e+02 | 3.30e+00 | 4.84e-03 | 4.16e-08 | 3.23e+05 |   2   |\n",
      "|  97   |  180  |  96   | +3.0025e+02 | 3.30e-01 | 4.84e-03 | 4.16e-08 | 3.23e+05 |   1   |\n",
      "|  98   |  182  |  97   | +3.0024e+02 | 2.31e+00 | 4.50e-03 | 3.29e-10 | 3.23e+05 |   2   |\n",
      "|  99   |  184  |  98   | +3.0024e+02 | 2.31e-01 | 4.50e-03 | 3.29e-10 | 3.23e+05 |   1   |\n",
      "|  100  |  186  |  99   | +3.0023e+02 | 1.62e+00 | 4.27e-03 | 1.12e-10 | 3.23e+05 |   2   |\n",
      "|  101  |  188  |  100  | +3.0023e+02 | 1.62e-01 | 4.27e-03 | 1.12e-10 | 3.23e+05 |   2   |\n",
      "|  102  |  190  |  101  | +3.0023e+02 | 1.13e+00 | 4.11e-03 | 3.84e-11 | 3.23e+05 |   2   |\n",
      "|  103  |  192  |  102  | +3.0019e+02 | 2.26e+00 | 2.98e-03 | 1.30e-08 | 3.23e+05 |   2   |\n",
      "|  104  |  194  |  103  | +3.0017e+02 | 2.26e+00 | 1.50e-03 | 3.03e-08 | 3.23e+05 |   1   |\n",
      "|  105  |  196  |  104  | +3.0016e+02 | 5.42e+00 | 7.51e-04 | 4.01e-09 | 3.23e+05 |   1   |\n",
      "|  106  |  198  |  105  | +3.0016e+02 | 5.42e+00 | 3.74e-04 | 5.26e-10 | 3.23e+05 |   1   |\n",
      "|  107  |  200  |  106  | +3.0016e+02 | 5.42e+00 | 1.86e-04 | 6.67e-11 | 3.23e+05 |   1   |\n",
      "|  108  |  202  |  107  | +3.0016e+02 | 5.42e+00 | 9.20e-05 | 8.25e-12 | 3.23e+05 |   1   |\n",
      "|  109  |  204  |  108  | +3.0016e+02 | 5.42e+00 | 4.55e-05 | 1.01e-12 | 3.23e+05 |   1   |\n",
      "|  110  |  206  |  109  | +3.0016e+02 | 5.42e+00 | 2.25e-05 | 1.22e-13 | 3.23e+05 |   1   |\n",
      "|  111  |  208  |  110  | +3.0016e+02 | 5.42e+00 | 1.11e-05 | 1.48e-14 | 3.23e+05 |   1   |\n",
      "|  112  |  210  |  111  | +3.0016e+02 | 5.42e+00 | 5.49e-06 | 7.11e-15 | 3.23e+05 |   1   |\n",
      "|  113  |  212  |  112  | +3.0016e+02 | 5.42e+00 | 2.71e-06 | 9.77e-15 | 3.23e+05 |   1   |\n",
      "|  114  |  214  |  113  | +3.0016e+02 | 5.42e+00 | 1.34e-06 | 7.11e-15 | 3.23e+05 |   1   |\n",
      "|  115  |  216  |  114  | +3.0016e+02 | 5.42e+00 | 6.63e-07 | 8.88e-15 | 3.23e+05 |   1   |\n",
      "|  116  |  218  |  115  | +3.0016e+02 | 5.42e+00 | 3.27e-07 | 3.55e-15 | 3.23e+05 |   1   |\n",
      "|  117  |  220  |  116  | +3.0016e+02 | 5.42e-01 | 3.27e-07 | 3.55e-15 | 3.23e+05 |   1   |\n",
      "|  118  |  222  |  117  | +3.0016e+02 | 5.42e-02 | 3.27e-07 | 3.55e-15 | 3.23e+05 |   1   |\n",
      "|  119  |  224  |  118  | +3.0016e+02 | 5.42e-03 | 3.27e-07 | 3.55e-15 | 3.23e+05 |   1   |\n",
      "|  120  |  226  |  119  | +3.0016e+02 | 5.42e-04 | 3.27e-07 | 3.55e-15 | 3.23e+05 |   1   |\n",
      "|  121  |  228  |  120  | +3.0016e+02 | 5.42e-04 | 1.63e-07 | 3.55e-15 | 3.23e+05 |   1   |\n",
      "|  122  |  230  |  121  | +3.0016e+02 | 5.42e-05 | 1.63e-07 | 3.55e-15 | 3.23e+05 |   1   |\n",
      "|  123  |  232  |  122  | +3.0016e+02 | 7.61e-06 | 1.63e-07 | 3.55e-15 | 3.23e+05 |   2   |\n",
      "|  124  |  233  |  123  | +3.0016e+02 | 7.61e-06 | 1.56e-07 | 3.55e-15 | 3.23e+05 |   2   |\n",
      "|  125  |  235  |  124  | +3.0016e+02 | 1.52e-05 | 1.49e-07 | 1.78e-15 | 3.23e+05 |   2   |\n",
      "|  126  |  237  |  125  | +3.0016e+02 | 5.69e-06 | 1.49e-07 | 1.78e-15 | 3.23e+05 |   2   |\n",
      "|  127  |  239  |  126  | +3.0016e+02 | 2.07e-06 | 1.49e-07 | 1.78e-15 | 3.23e+05 |   2   |\n",
      "|  128  |  241  |  127  | +3.0016e+02 | 5.39e-07 | 1.49e-07 | 1.78e-15 | 3.23e+05 |   2   |\n",
      "|  129  |  242  |  128  | +3.0016e+02 | 5.39e-07 | 1.48e-07 | 1.78e-15 | 3.23e+05 |   2   |\n",
      "|  130  |  243  |  129  | +3.0016e+02 | 5.39e-07 | 1.48e-07 | 1.78e-15 | 3.23e+05 |   2   |\n",
      "|  131  |  245  |  130  | +3.0016e+02 | 1.27e-07 | 1.48e-07 | 1.78e-15 | 3.23e+05 |   2   |\n",
      "|  132  |  247  |  131  | +3.0016e+02 | 4.86e-08 | 1.48e-07 | 1.78e-15 | 3.23e+05 |   2   |\n",
      "|  133  |  249  |  132  | +3.0016e+02 | 1.60e-08 | 1.48e-07 | 1.78e-15 | 3.23e+05 |   2   |\n",
      "|  134  |  251  |  133  | +3.0016e+02 | 7.99e-09 | 1.48e-07 | 1.78e-15 | 3.23e+05 |   2   |\n",
      "|  135  |  253  |  134  | +3.0016e+02 | 3.99e-09 | 1.48e-07 | 1.78e-15 | 3.23e+05 |   2   |\n",
      "|  136  |  255  |  135  | +3.0016e+02 | 8.21e-10 | 1.48e-07 | 1.78e-15 | 3.23e+05 |   2   |\n",
      "|  137  |  257  |  136  | +3.0016e+02 | 1.94e-10 | 1.48e-07 | 1.78e-15 | 3.23e+05 |   2   |\n",
      "|  138  |  258  |  137  | +3.0016e+02 | 1.94e-10 | 1.48e-07 | 8.88e-16 | 3.23e+05 |   2   |\n",
      "|  139  |  260  |  138  | +3.0016e+02 | 9.70e-11 | 1.48e-07 | 8.88e-16 | 3.23e+05 |   2   |\n",
      "|  140  |  262  |  139  | +3.0016e+02 | 4.85e-11 | 1.48e-07 | 8.88e-16 | 3.23e+05 |   2   |\n",
      "|  141  |  264  |  140  | +3.0016e+02 | 2.42e-11 | 1.48e-07 | 8.88e-16 | 3.23e+05 |   2   |\n",
      "|  142  |  266  |  141  | +3.0016e+02 | 5.95e-12 | 1.48e-07 | 8.88e-16 | 3.23e+05 |   2   |\n",
      "|  143  |  268  |  142  | +3.0016e+02 | 1.46e-12 | 1.48e-07 | 8.88e-16 | 3.23e+05 |   2   |\n",
      "|  144  |  270  |  143  | +3.0016e+02 | 4.17e-13 | 1.48e-07 | 8.88e-16 | 3.23e+05 |   2   |\n",
      "|  145  |  271  |  144  | +3.0016e+02 | 2.09e-13 | 1.48e-07 | 8.88e-16 | 3.23e+05 |   2   |\n",
      "|  146  |  272  |  145  | +3.0016e+02 | 2.09e-13 | 1.48e-07 | 8.88e-16 | 3.23e+05 |   2   |\n",
      "|  147  |  273  |  146  | +3.0016e+02 | 5.59e-14 | 1.48e-07 | 8.88e-16 | 3.23e+05 |   2   |\n",
      "|  148  |  274  |  147  | +3.0016e+02 | 2.18e-14 | 1.48e-07 | 8.88e-16 | 3.23e+05 |   2   |\n",
      "|  149  |  275  |  148  | +3.0016e+02 | 3.40e-15 | 1.48e-07 | 8.88e-16 | 3.23e+05 |   2   |\n",
      "|  150  |  276  |  149  | +3.0016e+02 | 4.34e-16 | 1.48e-07 | 8.88e-16 | 3.23e+05 |   2   |\n",
      "|  151  |  277  |  150  | +3.0016e+02 | 4.34e-16 | 1.48e-07 | 8.88e-16 | 3.23e+05 |   2   |\n",
      "|  152  |  278  |  151  | +3.0016e+02 | 4.34e-16 | 1.48e-07 | 8.88e-16 | 3.23e+05 |   2   |\n",
      "|  153  |  279  |  152  | +3.0016e+02 | 4.34e-16 | 1.48e-07 | 8.88e-16 | 3.23e+05 |   2   |\n",
      "|  154  |  280  |  153  | +3.0016e+02 | 4.34e-16 | 1.48e-07 | 8.88e-16 | 3.23e+05 |   2   |\n",
      "|  155  |  281  |  154  | +3.0016e+02 | 2.17e-16 | 1.48e-07 | 8.88e-16 | 3.23e+05 |   2   |\n",
      "|  156  |  282  |  155  | +3.0016e+02 | 1.08e-16 | 1.48e-07 | 8.88e-16 | 3.23e+05 |   2   |\n",
      "|  157  |  283  |  156  | +3.0016e+02 | 5.42e-17 | 1.48e-07 | 8.88e-16 | 3.23e+05 |   2   |\n",
      "|  158  |  284  |  157  | +3.0016e+02 | 2.71e-17 | 1.48e-07 | 8.88e-16 | 3.23e+05 |   2   |\n",
      "|  159  |  285  |  158  | +3.0016e+02 | 1.36e-17 | 1.48e-07 | 8.88e-16 | 3.23e+05 |   2   |\n",
      "|  160  |  286  |  159  | +3.0016e+02 | 6.78e-18 | 1.48e-07 | 8.88e-16 | 3.23e+05 |   2   |\n",
      "|  161  |  287  |  160  | +3.0016e+02 | 3.39e-18 | 1.48e-07 | 8.88e-16 | 3.23e+05 |   2   |\n",
      "|  162  |  288  |  161  | +3.0016e+02 | 1.69e-18 | 1.48e-07 | 8.88e-16 | 3.23e+05 |   2   |\n",
      "|  163  |  289  |  162  | +3.0016e+02 | 8.47e-19 | 1.48e-07 | 8.88e-16 | 3.23e+05 |   2   |\n",
      "|  164  |  290  |  163  | +3.0016e+02 | 4.24e-19 | 1.48e-07 | 8.88e-16 | 3.23e+05 |   2   |\n",
      "|  165  |  291  |  164  | +3.0016e+02 | 2.12e-19 | 1.48e-07 | 8.88e-16 | 3.23e+05 |   2   |\n",
      "|  166  |  292  |  165  | +3.0016e+02 | 1.06e-19 | 1.48e-07 | 8.88e-16 | 3.23e+05 |   2   |\n",
      "|  167  |  293  |  166  | +3.0016e+02 | 5.30e-20 | 1.48e-07 | 8.88e-16 | 3.23e+05 |   2   |\n",
      "|  168  |  294  |  167  | +3.0016e+02 | 2.65e-20 | 1.48e-07 | 8.88e-16 | 3.23e+05 |   2   |\n",
      "|  169  |  295  |  168  | +3.0016e+02 | 1.32e-20 | 1.48e-07 | 8.88e-16 | 3.23e+05 |   2   |\n",
      "|  170  |  296  |  169  | +3.0016e+02 | 6.62e-21 | 1.48e-07 | 8.88e-16 | 3.23e+05 |   2   |\n",
      "|  171  |  297  |  170  | +3.0016e+02 | 3.31e-21 | 1.48e-07 | 8.88e-16 | 3.23e+05 |   2   |\n",
      "|  172  |  298  |  171  | +3.0016e+02 | 1.65e-21 | 1.48e-07 | 8.88e-16 | 3.23e+05 |   2   |\n",
      "|  173  |  299  |  172  | +3.0016e+02 | 8.27e-22 | 1.48e-07 | 8.88e-16 | 3.23e+05 |   2   |\n",
      "|  174  |  300  |  173  | +3.0016e+02 | 4.14e-22 | 1.48e-07 | 8.88e-16 | 3.23e+05 |   2   |\n",
      "|  175  |  301  |  174  | +3.0016e+02 | 2.07e-22 | 1.48e-07 | 8.88e-16 | 3.23e+05 |   2   |\n",
      "|  176  |  302  |  175  | +3.0016e+02 | 1.03e-22 | 1.48e-07 | 8.88e-16 | 3.23e+05 |   2   |\n",
      "|  177  |  303  |  176  | +3.0016e+02 | 5.17e-23 | 1.48e-07 | 8.88e-16 | 3.23e+05 |   2   |\n",
      "|  178  |  304  |  177  | +3.0016e+02 | 2.59e-23 | 1.48e-07 | 8.88e-16 | 3.23e+05 |   2   |\n",
      "|  179  |  305  |  178  | +3.0016e+02 | 1.29e-23 | 1.48e-07 | 8.88e-16 | 3.23e+05 |   2   |\n",
      "|  180  |  306  |  179  | +3.0016e+02 | 6.46e-24 | 1.48e-07 | 8.88e-16 | 3.23e+05 |   2   |\n",
      "|  181  |  307  |  180  | +3.0016e+02 | 3.23e-24 | 1.48e-07 | 8.88e-16 | 3.23e+05 |   2   |\n",
      "|  182  |  308  |  181  | +3.0016e+02 | 1.62e-24 | 1.48e-07 | 8.88e-16 | 3.23e+05 |   2   |\n",
      "|  183  |  309  |  182  | +3.0016e+02 | 8.08e-25 | 1.48e-07 | 8.88e-16 | 3.23e+05 |   2   |\n",
      "|  184  |  310  |  183  | +3.0016e+02 | 4.04e-25 | 1.48e-07 | 8.88e-16 | 3.23e+05 |   2   |\n",
      "|  185  |  311  |  184  | +3.0016e+02 | 2.02e-25 | 1.48e-07 | 8.88e-16 | 3.23e+05 |   2   |\n",
      "|  186  |  312  |  185  | +3.0016e+02 | 1.01e-25 | 1.48e-07 | 8.88e-16 | 3.23e+05 |   2   |\n",
      "|  187  |  313  |  185  | +3.0016e+02 | 5.05e-26 | 1.48e-07 | 8.88e-16 | 3.23e+05 |   2   |\n",
      "|  188  |  314  |  185  | +3.0016e+02 | 2.52e-26 | 1.48e-07 | 8.88e-16 | 3.23e+05 |   2   |\n",
      "|  189  |  315  |  185  | +3.0016e+02 | 1.26e-26 | 1.48e-07 | 8.88e-16 | 3.23e+05 |   2   |\n",
      "|  190  |  316  |  185  | +3.0016e+02 | 6.31e-27 | 1.48e-07 | 8.88e-16 | 3.23e+05 |   2   |\n",
      "|  191  |  317  |  185  | +3.0016e+02 | 3.16e-27 | 1.48e-07 | 8.88e-16 | 3.23e+05 |   2   |\n",
      "|  192  |  318  |  185  | +3.0016e+02 | 1.58e-27 | 1.48e-07 | 8.88e-16 | 3.23e+05 |   2   |\n",
      "|  193  |  319  |  185  | +3.0016e+02 | 7.89e-28 | 1.48e-07 | 8.88e-16 | 3.23e+05 |   2   |\n",
      "|  194  |  320  |  185  | +3.0016e+02 | 3.95e-28 | 1.48e-07 | 8.88e-16 | 3.23e+05 |   2   |\n",
      "|  195  |  320  |  185  | +3.0016e+02 | 1.97e-28 | 1.48e-07 | 8.88e-16 | 3.23e+05 |   2   |\n",
      "|  196  |  321  |  185  | +3.0016e+02 | 9.86e-29 | 1.48e-07 | 8.88e-16 | 3.23e+05 |   2   |\n",
      "|  197  |  321  |  185  | +3.0016e+02 | 4.93e-29 | 1.48e-07 | 8.88e-16 | 3.23e+05 |   2   |\n",
      "|  198  |  321  |  185  | +3.0016e+02 | 2.47e-29 | 1.48e-07 | 8.88e-16 | 3.23e+05 |   2   |\n",
      "|  199  |  321  |  185  | +3.0016e+02 | 1.23e-29 | 1.48e-07 | 8.88e-16 | 3.23e+05 |   2   |\n",
      "|  200  |  321  |  185  | +3.0016e+02 | 6.16e-30 | 1.48e-07 | 8.88e-16 | 3.23e+05 |   2   |\n",
      "|  201  |  321  |  185  | +3.0016e+02 | 3.08e-30 | 1.48e-07 | 8.88e-16 | 3.23e+05 |   2   |\n",
      "|  202  |  321  |  185  | +3.0016e+02 | 1.54e-30 | 1.48e-07 | 8.88e-16 | 3.23e+05 |   2   |\n",
      "|  203  |  321  |  185  | +3.0016e+02 | 7.71e-31 | 1.48e-07 | 8.88e-16 | 3.23e+05 |   2   |\n",
      "|  204  |  321  |  185  | +3.0016e+02 | 3.85e-31 | 1.48e-07 | 8.88e-16 | 3.23e+05 |   2   |\n",
      "|  205  |  321  |  185  | +3.0016e+02 | 1.93e-31 | 1.48e-07 | 8.88e-16 | 3.23e+05 |   2   |\n",
      "|  206  |  321  |  185  | +3.0016e+02 | 9.63e-32 | 1.48e-07 | 8.88e-16 | 3.23e+05 |   2   |\n",
      "|  207  |  321  |  185  | +3.0016e+02 | 4.82e-32 | 1.48e-07 | 8.88e-16 | 3.23e+05 |   2   |\n",
      "|  208  |  321  |  185  | +3.0016e+02 | 2.41e-32 | 1.48e-07 | 8.88e-16 | 3.23e+05 |   2   |\n",
      "|  209  |  321  |  185  | +3.0016e+02 | 1.20e-32 | 1.48e-07 | 8.88e-16 | 3.23e+05 |   2   |\n",
      "|  210  |  321  |  185  | +3.0016e+02 | 6.02e-33 | 1.48e-07 | 8.88e-16 | 3.23e+05 |   2   |\n",
      "|  211  |  321  |  185  | +3.0016e+02 | 3.01e-33 | 1.48e-07 | 8.88e-16 | 3.23e+05 |   2   |\n",
      "|  212  |  321  |  185  | +3.0016e+02 | 1.51e-33 | 1.48e-07 | 8.88e-16 | 3.23e+05 |   2   |\n",
      "|  213  |  321  |  185  | +3.0016e+02 | 7.53e-34 | 1.48e-07 | 8.88e-16 | 3.23e+05 |   2   |\n",
      "|  214  |  321  |  185  | +3.0016e+02 | 3.76e-34 | 1.48e-07 | 8.88e-16 | 3.23e+05 |   2   |\n",
      "|  215  |  321  |  185  | +3.0016e+02 | 1.88e-34 | 1.48e-07 | 8.88e-16 | 3.23e+05 |   2   |\n",
      "|  216  |  321  |  185  | +3.0016e+02 | 9.41e-35 | 1.48e-07 | 8.88e-16 | 3.23e+05 |   2   |\n",
      "\n",
      "`xtol` termination condition is satisfied.\n",
      "Number of iterations: 216, function evaluations: 321, CG iterations: 185, optimality: 1.48e-07, constraint violation: 8.88e-16, execution time: 5.1e+02 s.\n",
      "Optimal solution: [ 2.14164082e+00 -6.08734045e-13 -3.44009367e-13 -7.52295931e-14\n",
      "  6.46171174e+00  1.60742711e+01 -2.13476689e-02 -1.40437538e-01\n",
      "  5.21658704e+00  1.09746751e+01  1.00033760e+01  1.27528327e+01\n",
      "  1.11967497e+01  1.27749579e+01  7.81300703e+00  7.22059515e+00\n",
      "  5.15603849e+00  4.27125499e+00  6.97904135e+00  6.01188054e+00\n",
      "  6.50894288e+00  7.66730097e+00  7.49760987e+00  5.05507036e+00\n",
      "  5.18951067e+00  4.68202312e+00  5.17759893e+00  4.90659052e+00\n",
      "  4.55579822e+00  7.10804254e-01  4.66140782e+00  3.70461907e+00\n",
      "  5.76675951e+00  8.79654484e+00  1.04906767e+01  5.10157003e+00\n",
      "  8.73152144e+00  4.27762955e+00  3.58629511e+00  3.97631746e+00\n",
      "  3.12092287e+00  6.93502273e+00  9.14332118e+00  8.85927757e+00\n",
      "  4.25528833e+00  7.85469967e+00  7.13345876e+00  8.67253151e+00\n",
      "  6.35315675e+00  7.20602592e+00  5.22037064e+00  5.87575492e+00\n",
      "  8.30049696e+00  7.71000765e+00  6.84329406e+00  8.59619680e+00\n",
      "  6.26140322e+00  1.03317147e+01  6.63544957e+00  5.74416161e+00\n",
      "  6.30285152e+00  4.74933349e+00  8.94003245e+00  7.23421265e+00\n",
      "  7.95331549e+00  4.26009562e+00  5.02087648e+00  2.76059278e+00\n",
      "  2.57401807e+00  3.46364175e+00  3.43102471e+00  6.44357776e+00\n",
      "  8.01212494e+00  8.50640508e+00 -1.07708950e-01  6.76404200e+00\n",
      "  5.97562081e+00  6.86082316e+00  4.95304209e+00  6.49197511e+00\n",
      "  7.71123036e+00  8.88741913e+00  8.38459885e+00  1.44314441e+01\n",
      "  1.08871747e+01  1.58380875e+01  7.67865990e+00  9.98455670e+00\n",
      "  8.70415599e+00  8.56955744e+00  1.07775756e+01  9.71981088e+00\n",
      "  2.83227494e+00  2.69924062e+00  3.48167827e+00  5.79946845e+00\n",
      "  4.97294266e+00  3.25498995e+00  8.05645768e+00  1.25911011e+01\n",
      "  1.13239271e+01  6.08993833e+00  1.07073621e+01  1.13501002e+01\n",
      "  6.73342562e+00  3.24967998e+00  7.02737289e+00  9.58505841e+00\n",
      "  9.78567651e+00  9.82491870e+00  7.74979127e+00  7.19063835e+00\n",
      "  7.65187552e+00  6.68176868e+00  4.51068274e+00  7.27713802e+00\n",
      "  3.42520124e+00  3.42394718e+00  7.66149111e+00  3.15087856e+00\n",
      "  4.55226627e+00  2.30597687e+00  9.18630216e+00  7.48867426e+00\n",
      "  7.46880112e+00  6.81129021e+00  7.10283347e+00  4.41698350e+00\n",
      "  1.01148992e+01  6.14093405e+00  9.52725459e+00  4.53147674e+00\n",
      "  4.84602253e+00  6.43480683e+00  7.75509500e+00  7.21166629e+00\n",
      "  8.63142274e+00  4.49623414e+00  2.91204306e+00  4.35147488e+00\n",
      "  5.15605444e+00  2.28572441e+00  4.00319504e+00  5.99696553e+00\n",
      "  8.54076985e+00  6.94095004e+00  9.49173598e+00  6.40711051e+00\n",
      "  8.81845695e+00  6.04645228e+00  6.34419894e+00  4.55358300e+00\n",
      "  1.07326466e+01  6.64749559e+00  8.01801988e+00  5.90362146e+00\n",
      "  6.70684914e+00  8.17193547e+00  6.99697372e+00  8.56600155e+00\n",
      "  6.40471413e+00  7.22763484e+00  7.43508354e+00  8.95692919e+00\n",
      "  5.67088598e+00  6.09416029e+00  7.50304639e+00  7.18659837e+00\n",
      "  6.21399629e+00  8.73667103e+00  1.06431656e+01  1.02637311e+01\n",
      "  5.74052721e+00  8.40983074e+00  5.31003926e+00  6.34444252e+00\n",
      "  5.76801274e+00  5.96129415e+00  5.53172666e+00  3.15081430e+00\n",
      "  5.70414392e+00  5.41815763e+00  5.66760848e+00  6.88368373e+00\n",
      "  6.39032377e+00  9.28600054e+00  7.77226047e+00  8.67868257e+00\n",
      "  9.69167137e+00  1.03131949e+01  6.72332910e+00  7.60748945e+00\n",
      "  8.49181516e+00  9.63882513e+00  3.61461658e+00  7.87973210e+00\n",
      "  5.71844011e+00  7.07573494e+00  8.70828922e+00  4.64639328e+00\n",
      "  7.41194938e+00  7.34070305e+00  4.47341842e+00  6.45229564e+00\n",
      "  9.18792865e+00  6.96618591e+00  7.72881881e+00  8.06988261e+00\n",
      "  9.60045558e+00  6.96284095e+00  6.64701385e+00  6.28402238e+00\n",
      "  1.96232549e+00  2.45833819e+00  8.85288822e-01  2.39639051e+00\n",
      "  6.42778330e+00  2.84725053e+00  3.73243050e+00  5.02090672e+00\n",
      "  2.38582032e+00  6.12736081e+00  9.22082673e+00  6.76632129e+00\n",
      "  8.74458713e+00  8.56526100e+00  8.69446250e+00  9.42062565e+00\n",
      "  7.68393965e+00  8.31133295e+00  4.94244949e+00  4.61041821e+00\n",
      "  5.23454894e+00  6.59085070e+00  6.38422891e+00  3.47034119e+00\n",
      "  5.54462013e+00  5.78321521e+00  7.08483608e+00  4.62686555e+00\n",
      "  2.36302331e+00  2.28184970e+00  6.52371831e+00  6.12782635e+00\n",
      "  8.35078206e+00  7.67589881e+00  9.28142148e+00  1.05974773e+01\n",
      "  6.91696265e+00  7.73284394e+00  5.53643427e+00  7.03735082e+00\n",
      "  9.27449584e+00  7.26320595e+00  7.02492957e+00  1.29971624e+01\n",
      "  9.56913248e+00  5.14063339e+00  8.36430789e-01  6.30932478e-01\n",
      "  7.48902643e+00  6.89048894e+00  7.36709070e+00  7.09464266e+00\n",
      "  6.04412255e+00  4.69150877e+00  5.26095067e+00  6.28632952e+00\n",
      "  5.50921053e+00  4.83896272e+00  6.41009120e+00  4.19663596e+00\n",
      "  5.37571420e+00  3.41005283e+00  4.03465640e+00  9.68746976e+00\n",
      "  8.92370762e+00  8.22229263e+00  4.30650379e+00  7.25559726e+00\n",
      "  7.62671617e+00  5.24106770e+00  6.27173560e+00  5.06619963e+00\n",
      "  1.79290784e+00  2.05535898e+00  2.87468703e+00  5.00547894e+00\n",
      "  6.26325363e+00  5.43214137e+00  1.45918711e+00  3.62737540e+00\n",
      "  3.96300311e+00  5.76888885e+00  7.28855676e+00  9.73032381e+00\n",
      "  6.74952586e+00  6.22707901e+00  5.46753427e+00  4.29141682e+00\n",
      "  7.00924635e+00  6.54486360e+00  4.72683598e+00  6.31921545e+00\n",
      "  4.69255840e+00  8.40606092e+00  1.00252940e+01  9.71146999e+00]\n"
     ]
    }
   ],
   "source": [
    "# Silence warning about delta_grad==0.0\n",
    "warnings.filterwarnings(\"ignore\", message=\"delta_grad == 0.0. Check if the approximated function is linear.\")\n",
    "\n",
    "# Solve optimization\n",
    "tolerance = 1e-34\n",
    "W = np.eye(N_instruments)\n",
    "\n",
    "result = minimize(\n",
    "    fun=lambda x: objective_mpec(x, W),\n",
    "    x0=params_init,\n",
    "    constraints=constraints,\n",
    "    method='trust-constr',\n",
    "    jac=lambda x: objective_jac(x, W),\n",
    "    hess=lambda x: objective_hess(x, W),\n",
    "    options={'xtol': tolerance,\n",
    "             'gtol': tolerance,\n",
    "             'barrier_tol': tolerance,\n",
    "             'sparse_jacobian': True,\n",
    "             'disp': True,\n",
    "             'verbose': 3\n",
    "            }, \n",
    ")\n",
    "\n",
    "# Output results\n",
    "if result.success:\n",
    "    print(\"Optimal solution:\", result.x)\n",
    "else:\n",
    "    print(\"Optimization failed:\", result.message)"
   ]
  },
  {
   "cell_type": "code",
   "execution_count": 54,
   "id": "b1f17138",
   "metadata": {},
   "outputs": [
    {
     "data": {
      "text/plain": [
       "          message: `xtol` termination condition is satisfied.\n",
       "          success: True\n",
       "           status: 2\n",
       "              fun: 300.15608985520873\n",
       "                x: [ 2.142e+00 -6.087e-13 ...  1.003e+01  9.711e+00]\n",
       "              nit: 216\n",
       "             nfev: 321\n",
       "             njev: 94\n",
       "             nhev: 94\n",
       "         cg_niter: 185\n",
       "     cg_stop_cond: 2\n",
       "             grad: [ 0.000e+00 -1.217e-12 ...  0.000e+00  0.000e+00]\n",
       "  lagrangian_grad: [-1.901e-08  6.220e-21 ... -9.199e-08 -8.113e-08]\n",
       "           constr: [array([ 7.643e-18, -6.005e-18,  2.457e-17, -8.882e-16,\n",
       "                           0.000e+00, -6.939e-18,  2.776e-17]), array([-1.355e-20,  0.000e+00, ...,  1.110e-16,\n",
       "                          -2.220e-16])]\n",
       "              jac: [<7x308 sparse matrix of type '<class 'numpy.float64'>'\n",
       "                   \twith 2107 stored elements in Compressed Sparse Row format>, <300x308 sparse matrix of type '<class 'numpy.float64'>'\n",
       "                   \twith 1200 stored elements in Compressed Sparse Row format>]\n",
       "      constr_nfev: [321, 321]\n",
       "      constr_njev: [321, 321]\n",
       "      constr_nhev: [0, 0]\n",
       "                v: [array([-1.217e-12, -6.880e-13, -1.505e-13,  1.292e+01,\n",
       "                           3.215e+01, -4.270e-02, -2.809e-01]), array([ 7.447e+04,  1.140e+02, ..., -1.628e+02,\n",
       "                          -1.559e+02])]\n",
       "           method: equality_constrained_sqp\n",
       "       optimality: 1.477448317022123e-07\n",
       " constr_violation: 8.881784197001252e-16\n",
       "   execution_time: 505.346004486084\n",
       "        tr_radius: 9.406282753838136e-35\n",
       "   constr_penalty: 322862.81066800136\n",
       "            niter: 216"
      ]
     },
     "execution_count": 54,
     "metadata": {},
     "output_type": "execute_result"
    }
   ],
   "source": [
    "result"
   ]
  },
  {
   "cell_type": "code",
   "execution_count": 55,
   "id": "d508b37b",
   "metadata": {},
   "outputs": [
    {
     "data": {
      "text/plain": [
       "32.148542292362"
      ]
     },
     "execution_count": 55,
     "metadata": {},
     "output_type": "execute_result"
    }
   ],
   "source": [
    "np.max(result.grad)"
   ]
  },
  {
   "cell_type": "code",
   "execution_count": 44,
   "id": "8fa22dc3",
   "metadata": {},
   "outputs": [
    {
     "data": {
      "text/plain": [
       "16.074271146181"
      ]
     },
     "execution_count": 44,
     "metadata": {},
     "output_type": "execute_result"
    }
   ],
   "source": [
    "np.max(result.x)"
   ]
  },
  {
   "cell_type": "markdown",
   "id": "14c120ca",
   "metadata": {},
   "source": [
    "# End of joint code."
   ]
  },
  {
   "cell_type": "code",
   "execution_count": 45,
   "id": "3fe3423a",
   "metadata": {},
   "outputs": [],
   "source": [
    "def s(params, X, prices, xi, alphas):\n",
    "    alphas_repeat = jnp.repeat(jnp.array(alphas.values), repeats=J, axis=0)\n",
    "    num = jnp.exp(\n",
    "        params[0] + \n",
    "        params[1] * X[:, 0].reshape(-1, 1) + \n",
    "        params[2] * X[:, 1].reshape(-1, 1) - \n",
    "        params[3] * prices.reshape(-1, 1) - \n",
    "        params[4] * alphas_repeat * prices.reshape(-1, 1) + \n",
    "        xi.reshape(-1, 1)\n",
    "    )\n",
    "    market_sums = 1 + num.reshape(M, J, N).sum(axis=1).reshape(M, -1)\n",
    "    denom = jnp.repeat(market_sums, repeats=J, axis=0)\n",
    "    return (num/denom).sum(axis=1)/N"
   ]
  },
  {
   "cell_type": "code",
   "execution_count": 46,
   "id": "c72421d5",
   "metadata": {},
   "outputs": [
    {
     "data": {
      "text/plain": [
       "Array([9.08528214e-07, 9.41969938e-02, 1.37362750e-02, 1.26062952e-02,\n",
       "       2.08007983e-01, 3.01199857e-01, 9.13205764e-03, 5.72796832e-03,\n",
       "       3.36318185e-01, 2.53647016e-05, 2.11648876e-02, 7.73229854e-03,\n",
       "       1.14430885e-03, 5.55659711e-02, 1.96809734e-02, 1.79413357e-04,\n",
       "       9.99749034e-04, 2.61196029e-04, 7.29677295e-03, 9.47763717e-04,\n",
       "       1.35751668e-04, 8.21745163e-07, 2.45133882e-01, 9.48669128e-05,\n",
       "       3.79315139e-05, 3.22385076e-01, 5.71337099e-03, 2.96028506e-05,\n",
       "       5.20923396e-02, 4.67962447e-04, 8.19333632e-03, 3.63366979e-02,\n",
       "       8.98205772e-04, 2.45794542e-03, 3.67100234e-02, 8.99056416e-03,\n",
       "       5.22026959e-06, 3.23246078e-02, 4.62405277e-03, 3.13763190e-05,\n",
       "       3.52440018e-02, 2.24643296e-02, 1.75779667e-04, 7.28523750e-02,\n",
       "       1.94698711e-03, 7.87473728e-05, 3.83813994e-03, 2.19511866e-02,\n",
       "       2.40122876e-06, 2.46864508e-02, 1.81137413e-01, 1.80507429e-03,\n",
       "       5.67734855e-02, 3.74923597e-04, 1.46313790e-03, 3.43899420e-04,\n",
       "       1.46948449e-01, 1.95796415e-04, 6.62320184e-04, 4.71557645e-03,\n",
       "       2.15233945e-03, 5.07150531e-04, 7.96418500e-03, 3.29420176e-04,\n",
       "       1.21723167e-01, 2.09177428e-03, 2.86428607e-07, 1.58589246e-01,\n",
       "       7.45028174e-01, 2.72471602e-05, 8.21364211e-01, 4.41175697e-05,\n",
       "       6.87067317e-04, 4.61702002e-02, 1.12814402e-02, 7.94558829e-02,\n",
       "       3.48884756e-03, 1.18289458e-01, 4.08803019e-03, 6.97086317e-02,\n",
       "       1.92844219e-01, 4.64347158e-05, 4.38174646e-02, 2.34583696e-02,\n",
       "       2.51631908e-04, 1.82683973e-04, 8.29288086e-04, 3.92877329e-03,\n",
       "       8.36869274e-03, 6.49087123e-04, 1.17637035e-05, 1.97871011e-01,\n",
       "       6.59054376e-02, 2.64041242e-05, 3.36957980e-01, 1.23683316e-03,\n",
       "       3.82134542e-02, 1.11823939e-04, 4.42429966e-03, 2.90595555e-01,\n",
       "       2.06776372e-01, 3.53130438e-02, 1.36137991e-01, 1.84226320e-03,\n",
       "       3.02760667e-01, 6.92727047e-03, 8.04200898e-04, 1.55152974e-03,\n",
       "       2.72126899e-06, 4.21367077e-06, 1.20061925e-03, 2.55550350e-05,\n",
       "       7.35352008e-03, 3.04094517e-05, 1.22410844e-03, 2.53334550e-03,\n",
       "       1.43069000e-01, 9.77798383e-04, 7.38625517e-04, 1.69994633e-02,\n",
       "       2.42779407e-01, 2.13279692e-03, 2.81300009e-01, 9.32607348e-05,\n",
       "       3.58269957e-01, 1.16477748e-04, 8.73856739e-05, 1.91126641e-03,\n",
       "       7.13350509e-02, 1.12889435e-02, 2.22508972e-01, 4.30199114e-03,\n",
       "       3.23841344e-04, 1.20442590e-05, 4.41022519e-02, 5.31636650e-04,\n",
       "       1.83890369e-03, 1.52400761e-02, 7.46638531e-04, 3.78543357e-02,\n",
       "       2.61143063e-02, 2.48909705e-04, 1.09254566e-02, 6.61584799e-04,\n",
       "       1.48088958e-01, 8.52939358e-05, 4.00988687e-01, 1.06875616e-03,\n",
       "       1.18953098e-01, 4.33662304e-02, 3.72270301e-02, 3.35542754e-02,\n",
       "       6.84065877e-04, 3.55605871e-04, 2.00354353e-01, 2.25303193e-02,\n",
       "       3.43354188e-04, 7.04339245e-02, 9.61076530e-04, 4.61544128e-05,\n",
       "       2.59048742e-03, 1.39574168e-02, 9.26760798e-02, 8.67030815e-02,\n",
       "       6.31140067e-03, 5.36725575e-03, 1.64903944e-02, 8.72672854e-03,\n",
       "       4.72382370e-04, 1.06483890e-02, 9.98935725e-02, 3.48170785e-04,\n",
       "       3.90335641e-02, 1.01971499e-04, 1.04354725e-05, 2.73584041e-03,\n",
       "       3.31745350e-02, 6.30734367e-02, 1.60747608e-01, 8.58110766e-03,\n",
       "       4.15337470e-04, 1.51503372e-01, 4.18687193e-02, 2.90894801e-04,\n",
       "       3.18879530e-01, 8.02001824e-03, 3.77040325e-07, 1.69418843e-03,\n",
       "       3.08950364e-04, 3.27210652e-04, 4.94400403e-02, 1.96562618e-02,\n",
       "       2.28312717e-03, 1.33364969e-02, 1.69852343e-05, 9.83412030e-05,\n",
       "       1.21195358e-02, 4.17915701e-04, 2.31160842e-03, 1.11087438e-01,\n",
       "       1.83577498e-01, 1.99685752e-02, 3.16278726e-04, 3.00966039e-03,\n",
       "       2.95000219e-07, 1.23179679e-03, 6.51564863e-04, 3.17782429e-05,\n",
       "       7.06018087e-05, 5.05591330e-06, 2.07161353e-04, 9.75626506e-03,\n",
       "       7.53652285e-05, 1.95075523e-05, 6.69823526e-02, 1.85769538e-03,\n",
       "       9.71366930e-03, 1.27974563e-02, 4.16316971e-02, 5.76201806e-04,\n",
       "       1.12075693e-01, 1.56802802e-01, 2.73806963e-03, 2.11210846e-03,\n",
       "       5.35910746e-04, 1.87300501e-03, 2.35488441e-01, 8.04965476e-05,\n",
       "       5.61827739e-04, 9.99886143e-03, 3.40111691e-03, 1.57494921e-04,\n",
       "       8.94351829e-04, 3.72679723e-04, 2.82589675e-03, 8.93998964e-03,\n",
       "       3.87324228e-02, 1.48791674e-03, 2.08131768e-01, 1.26403303e-03,\n",
       "       4.77750985e-04, 1.31963775e-03, 7.17786887e-04, 2.17593748e-01,\n",
       "       3.44213740e-03, 5.00102687e-03, 1.51385939e-04, 6.13756253e-01,\n",
       "       8.33987037e-02, 4.56641361e-05, 9.33144421e-05, 5.65347044e-05,\n",
       "       3.72730447e-03, 2.21921413e-01, 8.53090702e-02, 4.53732102e-03,\n",
       "       8.22491804e-02, 5.14595236e-03, 1.83676351e-03, 6.20480895e-04,\n",
       "       3.70964623e-03, 4.13898800e-04, 1.17425807e-01, 6.09664022e-06,\n",
       "       3.96441550e-05, 4.01890423e-03, 4.06329713e-01, 1.78701454e-03,\n",
       "       1.61128447e-01, 1.04879888e-01, 3.41655548e-06, 4.27356684e-02,\n",
       "       2.09160258e-01, 1.09718312e-03, 4.67160038e-02, 7.07850005e-03,\n",
       "       1.25858550e-06, 4.84287196e-03, 8.26621433e-05, 3.06903584e-04,\n",
       "       7.65339512e-02, 2.28843707e-02, 1.05554215e-06, 6.83708284e-03,\n",
       "       2.13971773e-02, 8.08097871e-06, 3.38089989e-03, 8.13802938e-02,\n",
       "       1.63586025e-02, 1.59081259e-01, 4.02481296e-03, 1.25466428e-02,\n",
       "       1.27799724e-03, 1.58831170e-03, 1.58075268e-04, 4.48738372e-03,\n",
       "       6.30302606e-02, 2.47116595e-02, 1.72813993e-02, 8.74379233e-02],      dtype=float64)"
      ]
     },
     "execution_count": 46,
     "metadata": {},
     "output_type": "execute_result"
    }
   ],
   "source": [
    "s(params_init, X, prices, xi, alphas_3p)"
   ]
  },
  {
   "cell_type": "code",
   "execution_count": 47,
   "id": "53ca11cb",
   "metadata": {},
   "outputs": [],
   "source": [
    "def blp_instruments_all(X):\n",
    "    \"\"\"\n",
    "    Computes the matrix of instruments for all (j, m) pairs in a vectorized manner.\n",
    "    \n",
    "    Parameters:\n",
    "    ----------\n",
    "    X : jnp.ndarray\n",
    "        Input matrix of shape (J * M, features).\n",
    "        \n",
    "    Returns:\n",
    "    -------\n",
    "    instruments : jnp.ndarray\n",
    "        Matrix of instruments for all (j, m), shape (J * M, 6).\n",
    "    \"\"\"\n",
    "    # Reshape X into (M, J, features)\n",
    "    X_reshaped = X.reshape(M, J, -1)  # Shape: (M, J, features)\n",
    "\n",
    "    # First two elements: Features of product j in market m\n",
    "    X_jm = X_reshaped  # Shape: (M, J, features)\n",
    "\n",
    "    # Next two elements: Sum of product j's features in all other markets\n",
    "    X_j_sum = jnp.sum(X_reshaped, axis=0, keepdims=True) - X_reshaped  # Shape: (M, J, features)\n",
    "\n",
    "    # Last two elements: Sum of all other products' features in the same market\n",
    "    X_m_sum = jnp.sum(X_reshaped, axis=1, keepdims=True) - X_reshaped  # Shape: (M, J, features)\n",
    "    \n",
    "    # Concatenate results along the last dimension\n",
    "    instruments = jnp.concatenate([X_jm, X_j_sum, X_m_sum], axis=-1)  # Shape: (M, J, 6)\n",
    "    \n",
    "    # Reshape back to (J * M, 6)\n",
    "    return instruments.reshape(J * M, -1)"
   ]
  },
  {
   "cell_type": "code",
   "execution_count": 48,
   "id": "4f12cdf5",
   "metadata": {},
   "outputs": [],
   "source": [
    "def blp_moment(params, X):\n",
    "    \"\"\"\n",
    "    Computes the BLP moment vector using vectorized instruments.\n",
    "    \n",
    "    Parameters:\n",
    "    ----------\n",
    "    params : array-like\n",
    "        Model parameters.\n",
    "    X : jnp.ndarray\n",
    "        Input data matrix of shape (J * M, features).\n",
    "        \n",
    "    Returns:\n",
    "    -------\n",
    "    sum_vec : jnp.ndarray\n",
    "        The moment vector divided by the number of markets, shape (instrument_features,).\n",
    "    \"\"\"\n",
    "    xi = jnp.array(params[5+N_instruments:]).reshape(-1, 1)  # Shape: (J * M, 1)\n",
    "    instruments = blp_instruments_all(X)  # Shape: (J * M, instrument_features)\n",
    "    sum_vec = jnp.sum(xi * instruments, axis=0)  # Shape: (instrument_features,)\n",
    "    return sum_vec / M"
   ]
  },
  {
   "cell_type": "code",
   "execution_count": 49,
   "id": "d32b5d35",
   "metadata": {},
   "outputs": [],
   "source": [
    "# params = (beta0, beta1, beta2, alpha, sigma_alpha, xi, eta)"
   ]
  },
  {
   "cell_type": "code",
   "execution_count": 50,
   "id": "751cd569",
   "metadata": {},
   "outputs": [],
   "source": [
    "def objective_mpec(params, W):\n",
    "    eta = np.array(params[5:5+N_instruments])\n",
    "    return float(eta.T @ W @ eta)"
   ]
  },
  {
   "cell_type": "code",
   "execution_count": 51,
   "id": "80e64303",
   "metadata": {},
   "outputs": [
    {
     "data": {
      "text/plain": [
       "7.0"
      ]
     },
     "execution_count": 51,
     "metadata": {},
     "output_type": "execute_result"
    }
   ],
   "source": [
    "objective_mpec(params_init, W)"
   ]
  },
  {
   "cell_type": "code",
   "execution_count": 52,
   "id": "9a54186f",
   "metadata": {},
   "outputs": [],
   "source": [
    "def constraint_g(params, X):\n",
    "    g_xi = blp_moment(params, X)\n",
    "    eta = jnp.array(params[5:5+N_instruments])\n",
    "    return g_xi - eta"
   ]
  },
  {
   "cell_type": "code",
   "execution_count": 53,
   "id": "3cd81710",
   "metadata": {},
   "outputs": [
    {
     "ename": "TypeError",
     "evalue": "mul got incompatible shapes for broadcasting: (296, 1), (300, 9).",
     "output_type": "error",
     "traceback": [
      "Traceback \u001b[1;36m(most recent call last)\u001b[0m:\n",
      "\u001b[0m  Cell \u001b[0;32mIn[53], line 1\u001b[0m\n    constraint_g(params_init, X)\u001b[0m\n",
      "\u001b[0m  Cell \u001b[0;32mIn[52], line 2\u001b[0m in \u001b[0;35mconstraint_g\u001b[0m\n    g_xi = blp_moment(params, X)\u001b[0m\n",
      "\u001b[0m  Cell \u001b[0;32mIn[48], line 19\u001b[0m in \u001b[0;35mblp_moment\u001b[0m\n    sum_vec = jnp.sum(xi * instruments, axis=0)  # Shape: (instrument_features,)\u001b[0m\n",
      "\u001b[0m  File \u001b[0;32m~\\anaconda3\\Lib\\site-packages\\jax\\_src\\numpy\\array_methods.py:573\u001b[0m in \u001b[0;35mdeferring_binary_op\u001b[0m\n    return binary_op(*args)\u001b[0m\n",
      "\u001b[0m  File \u001b[0;32m~\\anaconda3\\Lib\\site-packages\\jax\\_src\\numpy\\ufunc_api.py:177\u001b[0m in \u001b[0;35m__call__\u001b[0m\n    return call(*args)\u001b[0m\n",
      "\u001b[0m  File \u001b[0;32m~\\anaconda3\\Lib\\site-packages\\jax\\_src\\traceback_util.py:180\u001b[0m in \u001b[0;35mreraise_with_filtered_traceback\u001b[0m\n    return fun(*args, **kwargs)\u001b[0m\n",
      "\u001b[0m  File \u001b[0;32m~\\anaconda3\\Lib\\site-packages\\jax\\_src\\pjit.py:338\u001b[0m in \u001b[0;35mcache_miss\u001b[0m\n    outs, out_flat, out_tree, args_flat, jaxpr, attrs_tracked = _python_pjit_helper(\u001b[0m\n",
      "\u001b[0m  File \u001b[0;32m~\\anaconda3\\Lib\\site-packages\\jax\\_src\\pjit.py:178\u001b[0m in \u001b[0;35m_python_pjit_helper\u001b[0m\n    p, args_flat = _infer_params(fun, jit_info, args, kwargs)\u001b[0m\n",
      "\u001b[0m  File \u001b[0;32m~\\anaconda3\\Lib\\site-packages\\jax\\_src\\pjit.py:744\u001b[0m in \u001b[0;35m_infer_params\u001b[0m\n    p, args_flat = _infer_params_impl(\u001b[0m\n",
      "\u001b[0m  File \u001b[0;32m~\\anaconda3\\Lib\\site-packages\\jax\\_src\\pjit.py:641\u001b[0m in \u001b[0;35m_infer_params_impl\u001b[0m\n    jaxpr, consts, out_avals, attrs_tracked = _create_pjit_jaxpr(\u001b[0m\n",
      "\u001b[0m  File \u001b[0;32m~\\anaconda3\\Lib\\site-packages\\jax\\_src\\linear_util.py:352\u001b[0m in \u001b[0;35mmemoized_fun\u001b[0m\n    ans = call(fun, *args)\u001b[0m\n",
      "\u001b[0m  File \u001b[0;32m~\\anaconda3\\Lib\\site-packages\\jax\\_src\\pjit.py:1288\u001b[0m in \u001b[0;35m_create_pjit_jaxpr\u001b[0m\n    jaxpr, global_out_avals, consts, attrs_tracked = pe.trace_to_jaxpr_dynamic(\u001b[0m\n",
      "\u001b[0m  File \u001b[0;32m~\\anaconda3\\Lib\\site-packages\\jax\\_src\\profiler.py:333\u001b[0m in \u001b[0;35mwrapper\u001b[0m\n    return func(*args, **kwargs)\u001b[0m\n",
      "\u001b[0m  File \u001b[0;32m~\\anaconda3\\Lib\\site-packages\\jax\\_src\\interpreters\\partial_eval.py:2278\u001b[0m in \u001b[0;35mtrace_to_jaxpr_dynamic\u001b[0m\n    jaxpr, out_avals, consts, attrs_tracked = trace_to_subjaxpr_dynamic(\u001b[0m\n",
      "\u001b[0m  File \u001b[0;32m~\\anaconda3\\Lib\\site-packages\\jax\\_src\\interpreters\\partial_eval.py:2301\u001b[0m in \u001b[0;35mtrace_to_subjaxpr_dynamic\u001b[0m\n    ans = fun.call_wrapped(*in_tracers_)\u001b[0m\n",
      "\u001b[0m  File \u001b[0;32m~\\anaconda3\\Lib\\site-packages\\jax\\_src\\linear_util.py:193\u001b[0m in \u001b[0;35mcall_wrapped\u001b[0m\n    ans = self.f(*args, **dict(self.params, **kwargs))\u001b[0m\n",
      "\u001b[0m  File \u001b[0;32m~\\anaconda3\\Lib\\site-packages\\jax\\_src\\numpy\\ufuncs.py:1187\u001b[0m in \u001b[0;35m_multiply\u001b[0m\n    return lax.mul(x, y) if x.dtype != bool else lax.bitwise_and(x, y)\u001b[0m\n",
      "\u001b[0m  File \u001b[0;32m~\\anaconda3\\Lib\\site-packages\\jax\\_src\\lax\\lax.py:435\u001b[0m in \u001b[0;35mmul\u001b[0m\n    return mul_p.bind(x, y)\u001b[0m\n",
      "\u001b[0m  File \u001b[0;32m~\\anaconda3\\Lib\\site-packages\\jax\\_src\\core.py:438\u001b[0m in \u001b[0;35mbind\u001b[0m\n    return self.bind_with_trace(find_top_trace(args), args, params)\u001b[0m\n",
      "\u001b[0m  File \u001b[0;32m~\\anaconda3\\Lib\\site-packages\\jax\\_src\\core.py:442\u001b[0m in \u001b[0;35mbind_with_trace\u001b[0m\n    out = trace.process_primitive(self, map(trace.full_raise, args), params)\u001b[0m\n",
      "\u001b[0m  File \u001b[0;32m~\\anaconda3\\Lib\\site-packages\\jax\\_src\\interpreters\\partial_eval.py:1969\u001b[0m in \u001b[0;35mprocess_primitive\u001b[0m\n    return self.default_process_primitive(primitive, tracers, params)\u001b[0m\n",
      "\u001b[0m  File \u001b[0;32m~\\anaconda3\\Lib\\site-packages\\jax\\_src\\interpreters\\partial_eval.py:1973\u001b[0m in \u001b[0;35mdefault_process_primitive\u001b[0m\n    out_avals, effects = primitive.abstract_eval(*avals, **params)\u001b[0m\n",
      "\u001b[0m  File \u001b[0;32m~\\anaconda3\\Lib\\site-packages\\jax\\_src\\core.py:475\u001b[0m in \u001b[0;35mabstract_eval_\u001b[0m\n    return abstract_eval(*args, **kwargs), no_effects\u001b[0m\n",
      "\u001b[0m  File \u001b[0;32m~\\anaconda3\\Lib\\site-packages\\jax\\_src\\lax\\utils.py:60\u001b[0m in \u001b[0;35mstandard_abstract_eval\u001b[0m\n    shape_rule(*avals, **kwargs), dtype_rule(*avals, **kwargs),\u001b[0m\n",
      "\u001b[1;36m  File \u001b[1;32m~\\anaconda3\\Lib\\site-packages\\jax\\_src\\lax\\lax.py:2072\u001b[1;36m in \u001b[1;35mbroadcasting_shape_rule\u001b[1;36m\n\u001b[1;33m    raise TypeError(f'{name} got incompatible shapes for broadcasting: '\u001b[1;36m\n",
      "\u001b[1;31mTypeError\u001b[0m\u001b[1;31m:\u001b[0m mul got incompatible shapes for broadcasting: (296, 1), (300, 9).\n"
     ]
    }
   ],
   "source": [
    "constraint_g(params_init, X)"
   ]
  },
  {
   "cell_type": "code",
   "execution_count": null,
   "id": "99146907",
   "metadata": {},
   "outputs": [],
   "source": [
    "def constraint_s(params, shares, X, prices, alphas):\n",
    "    xi = jnp.array(params[5+N_instruments:])\n",
    "    return s(params, X, prices, xi, alphas) - shares.reshape(-1)"
   ]
  },
  {
   "cell_type": "code",
   "execution_count": null,
   "id": "0c21871b",
   "metadata": {},
   "outputs": [],
   "source": [
    "constraint_s(params_init, shares, X, prices, alphas_3p)"
   ]
  },
  {
   "cell_type": "code",
   "execution_count": null,
   "id": "7827f128",
   "metadata": {},
   "outputs": [],
   "source": [
    "objective = lambda x: objective_mpec(x, W)"
   ]
  },
  {
   "cell_type": "code",
   "execution_count": null,
   "id": "28b2837a",
   "metadata": {},
   "outputs": [],
   "source": [
    "objective(params_init)"
   ]
  },
  {
   "cell_type": "code",
   "execution_count": null,
   "id": "995c761b",
   "metadata": {},
   "outputs": [],
   "source": [
    "def objective_jac(params):\n",
    "    # Extract etas\n",
    "    eta = jnp.array(params[5:5+N_instruments])  # Ensure JAX array\n",
    "    grad_eta = 2 * W @ eta  # Gradient for eta\n",
    "\n",
    "    # Build the full gradient vector\n",
    "    grad = np.zeros_like(params)  # Use NumPy for the full gradient\n",
    "    grad[5:5+N_instruments] = np.array(grad_eta)  # Convert JAX array to NumPy\n",
    "    return grad"
   ]
  },
  {
   "cell_type": "code",
   "execution_count": null,
   "id": "3a754400",
   "metadata": {},
   "outputs": [],
   "source": [
    "objective_jac(params_init)"
   ]
  },
  {
   "cell_type": "code",
   "execution_count": null,
   "id": "1dbd0245",
   "metadata": {},
   "outputs": [],
   "source": [
    "def objective_hess(params):\n",
    "    # Initialize the full Hessian matrix\n",
    "    hess = np.zeros((len(params), len(params)))\n",
    "\n",
    "    # Fill in the block corresponding to etas\n",
    "    hess[5:5+N_instruments, 5:5+N_instruments] = 2 * W  # Constant Hessian for etas\n",
    "    return hess"
   ]
  },
  {
   "cell_type": "code",
   "execution_count": null,
   "id": "439e0484",
   "metadata": {},
   "outputs": [],
   "source": [
    "objective_hess(params_init)"
   ]
  },
  {
   "cell_type": "code",
   "execution_count": null,
   "id": "8241ef8b",
   "metadata": {},
   "outputs": [],
   "source": [
    "# Compute the Jacobian of the g constraint\n",
    "\n",
    "def constraint_g_jac(params):\n",
    "    return jacobian(constraint_g)(jnp.array(params), X)"
   ]
  },
  {
   "cell_type": "code",
   "execution_count": null,
   "id": "0ecee4af",
   "metadata": {},
   "outputs": [],
   "source": [
    "constraint_g_jac(params_init)"
   ]
  },
  {
   "cell_type": "code",
   "execution_count": null,
   "id": "7b2a33e4",
   "metadata": {},
   "outputs": [],
   "source": [
    "# Compute the Jacobian of the s constraint\n",
    "\n",
    "def constraint_s_jac(params):\n",
    "    return jacobian(constraint_s)(jnp.array(params), shares, X, prices, alphas_3p)"
   ]
  },
  {
   "cell_type": "code",
   "execution_count": null,
   "id": "673d00a1",
   "metadata": {},
   "outputs": [],
   "source": [
    "constraint_s_jac(params_init)"
   ]
  },
  {
   "cell_type": "code",
   "execution_count": null,
   "id": "0ad18f5e",
   "metadata": {},
   "outputs": [],
   "source": [
    "# Define the constraints list\n",
    "constraints = [\n",
    "    {\n",
    "        'type': 'eq',  # Equality constraint g(x) = eta\n",
    "        'fun': lambda x: np.asarray(constraint_g(x, X)),  # Convert to NumPy\n",
    "        'jac': lambda x: np.asarray(constraint_g_jac(x))  # Convert Jacobian to NumPy\n",
    "    },\n",
    "    {\n",
    "        'type': 'eq',  # Equality constraint s(x) = shares\n",
    "        'fun': lambda x: np.asarray(constraint_s(x, shares, X, prices, alphas_3p)),\n",
    "        'jac': lambda x: np.asarray(constraint_s_jac(x))\n",
    "    }\n",
    "]"
   ]
  },
  {
   "cell_type": "code",
   "execution_count": null,
   "id": "bc19c15a",
   "metadata": {},
   "outputs": [],
   "source": [
    "beta0_init = 1.0\n",
    "beta1_init = 1.0\n",
    "beta2_init = 1.0\n",
    "alpha_init = 1.0\n",
    "sigma_alpha_init = 1.0\n",
    "eta_init = np.ones(N_instruments)\n",
    "xi_init = np.ones(J*M)"
   ]
  },
  {
   "cell_type": "code",
   "execution_count": null,
   "id": "38fb54e0",
   "metadata": {},
   "outputs": [],
   "source": [
    "params_init = (beta0_init, beta1_init, beta2_init, alpha_init, sigma_alpha_init, *eta_init, *xi_init)\n",
    "W = np.eye(N_instruments)"
   ]
  },
  {
   "cell_type": "code",
   "execution_count": null,
   "id": "5235e517",
   "metadata": {},
   "outputs": [],
   "source": [
    "X = jnp.array(df_3p[['x2', 'x3']].values)\n",
    "prices = jnp.array(df_3p[['P_opt']].values)\n",
    "shares = jnp.array(df_3p[['shares']].values)"
   ]
  },
  {
   "cell_type": "code",
   "execution_count": null,
   "id": "f7bf76a4",
   "metadata": {},
   "outputs": [],
   "source": [
    "# Test objective\n",
    "print(\"Objective value:\", objective_mpec(params_init, W))\n",
    "\n",
    "# Test gradients\n",
    "print(\"Gradient shape:\", objective_jac(params_init).shape)\n",
    "\n",
    "# Test constraints\n",
    "print(\"Constraint g:\", constraint_g(params_init, X))\n",
    "print(\"Constraint g Jacobian shape:\", constraint_g_jac(params_init).shape)\n",
    "print(\"Constraint s:\", constraint_s(params_init, shares, X, prices, alphas_3p))\n",
    "print(\"Constraint s Jacobian shape:\", constraint_s_jac(params_init).shape)"
   ]
  },
  {
   "cell_type": "code",
   "execution_count": null,
   "id": "d16ccc36",
   "metadata": {},
   "outputs": [],
   "source": [
    "print(\"Constraint g:\", constraint_g(params_init, X))\n",
    "print(\"Constraint g Jacobian:\", constraint_g_jac(params_init))\n",
    "\n",
    "print(\"Constraint s:\", constraint_s(params_init, shares, X, prices, alphas_3p))\n",
    "print(\"Constraint s Jacobian:\", constraint_s_jac(params_init))"
   ]
  },
  {
   "cell_type": "code",
   "execution_count": null,
   "id": "6eaa2ab1",
   "metadata": {},
   "outputs": [],
   "source": [
    "# Solve optimization\n",
    "result = minimize(\n",
    "    fun=lambda x: objective_mpec(x, W),\n",
    "    x0=params_init,\n",
    "    constraints=constraints,\n",
    "    method='trust-constr',\n",
    "    jac=objective_jac,\n",
    "    hess=objective_hess,\n",
    "    options={'initial_tr_radius': 1.0, 'xtol': 1e-8, 'gtol': 1e-8, 'barrier_tol': 1e-8, 'sparse_jacobian': True, 'disp': True, 'verbose': 3}\n",
    ")\n",
    "\n",
    "# Output results\n",
    "if result.success:\n",
    "    print(\"Optimal solution:\", result.x)\n",
    "else:\n",
    "    print(\"Optimization failed:\", result.message)"
   ]
  },
  {
   "cell_type": "code",
   "execution_count": null,
   "id": "a6014db9",
   "metadata": {},
   "outputs": [],
   "source": [
    "# Solve optimization\n",
    "result = minimize(\n",
    "    fun=lambda x: objective_mpec(x, W),\n",
    "    x0=params_init,\n",
    "    constraints=constraints,\n",
    "    method='dogleg',\n",
    "    jac=objective_jac,\n",
    "    hess=objective_hess\n",
    ")\n",
    "\n",
    "# Output results\n",
    "if result.success:\n",
    "    print(\"Optimal solution:\", result.x)\n",
    "else:\n",
    "    print(\"Optimization failed:\", result.message)"
   ]
  },
  {
   "cell_type": "code",
   "execution_count": null,
   "id": "36120f47",
   "metadata": {},
   "outputs": [],
   "source": []
  }
 ],
 "metadata": {
  "kernelspec": {
   "display_name": "Python 3 (Spyder)",
   "language": "python3",
   "name": "python3"
  },
  "language_info": {
   "codemirror_mode": {
    "name": "ipython",
    "version": 3
   },
   "file_extension": ".py",
   "mimetype": "text/x-python",
   "name": "python",
   "nbconvert_exporter": "python",
   "pygments_lexer": "ipython3",
   "version": "3.11.7"
  }
 },
 "nbformat": 4,
 "nbformat_minor": 5
}
