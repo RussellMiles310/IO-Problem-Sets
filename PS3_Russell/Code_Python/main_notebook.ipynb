{
 "cells": [
  {
   "cell_type": "markdown",
   "id": "b16b0fcc",
   "metadata": {},
   "source": [
    "# Py file testing"
   ]
  },
  {
   "cell_type": "code",
   "execution_count": 59,
   "id": "f0a35ed0",
   "metadata": {},
   "outputs": [],
   "source": [
    "from ACF_GNR_estimation_functions import *"
   ]
  },
  {
   "cell_type": "code",
   "execution_count": 60,
   "id": "7faae10d",
   "metadata": {},
   "outputs": [],
   "source": [
    "df_ACF = load_data(\"ACF\")\n",
    "df_GNR = load_data(\"GNR\")"
   ]
  },
  {
   "cell_type": "code",
   "execution_count": 110,
   "id": "dcd5c872",
   "metadata": {},
   "outputs": [
    {
     "name": "stdout",
     "output_type": "stream",
     "text": [
      "The gradient at the optimum is:  [-2.15671787e-15 -1.29091124e-15]\n",
      "The GMM error using the gradient is: 4.558741784704597e-30\n",
      "The estimates using autograd: [beta_k, beta_l] =  [0.3235676  0.73189068]\n",
      "The slope of the AR(1) of productivity is: rho =  0.882158674944975\n"
     ]
    }
   ],
   "source": [
    "theta0 = np.array([1,1])/2\n",
    "coeffs_ACF, convergence = ACF_estimation(df_ACF, theta0, print_results=1)"
   ]
  },
  {
   "cell_type": "markdown",
   "id": "e830b511",
   "metadata": {},
   "source": [
    "### Note: when bootstrapping, the rho falls. Why? It has to do with the time series properties of the data. \n",
    "### Use \"block bootstrap\" designed for panel data. "
   ]
  },
  {
   "cell_type": "code",
   "execution_count": 116,
   "id": "018c8abf",
   "metadata": {},
   "outputs": [
    {
     "name": "stdout",
     "output_type": "stream",
     "text": [
      "The gradient at the optimum is:  [5.09085784e-13 3.27102621e-13]\n",
      "The GMM error using the gradient is: 1.6647024463036653e-26\n",
      "The estimates using autograd: [beta_k, beta_l] =  [0.29570628 0.77861083]\n",
      "The slope of the AR(1) of productivity is: rho =  0.5549123580053624\n"
     ]
    }
   ],
   "source": [
    "df_boot_ACF = df_ACF.sample(frac=1, replace=True)\n",
    "coeffs_ACF_boot, _ = ACF_estimation(df_boot_ACF, theta0, print_results=1)"
   ]
  },
  {
   "cell_type": "code",
   "execution_count": 8,
   "id": "5dc925f6",
   "metadata": {},
   "outputs": [
    {
     "name": "stdout",
     "output_type": "stream",
     "text": [
      "The error is: 1.7588529843286138e-23\n",
      "The gradient is: [1.16328331e-10 7.79834445e-11 2.80147218e-09 1.55028140e-09\n",
      " 8.06444239e-10]\n",
      "The coefficients for the integration constant [alpha] are: [ 0.22962852 -2.6976986  -0.08259352  0.26112497  0.05193076]\n",
      "The coefficients for productivity omega [delta] are: [1.97089299 0.17895714 0.08014284]\n",
      "The average produc [1.97089299 0.17895714 0.08014284]\n",
      "the average productivity [omega] is: 3.839691994977758\n",
      "the average elasticity [df/dm] is: 0.5696607852773187\n"
     ]
    }
   ],
   "source": [
    "alpha0 = np.ones(5)/2 #This is the required size to have coefficeints for k, l, kl, k**2, l**2. Need to change if the degree is \n",
    "\n",
    "results_params_GNR, results_convergence_GNR, alpha_GNR = GNR_estimation(df_GNR, alpha0, print_results = 1)"
   ]
  },
  {
   "cell_type": "markdown",
   "id": "47159bbf",
   "metadata": {},
   "source": [
    "# Bootstrap:"
   ]
  },
  {
   "cell_type": "code",
   "execution_count": null,
   "id": "73c8a9de",
   "metadata": {},
   "outputs": [],
   "source": [
    "#Set seed"
   ]
  },
  {
   "cell_type": "code",
   "execution_count": 109,
   "id": "af5b4889",
   "metadata": {},
   "outputs": [],
   "source": [
    "#Use the initial condition from the true data, coeffs_ACF[:2], to improve speed and convergence. \n",
    "bootstrap_results_ACF, convergence_ACF = bootstrap(ACF_estimation, coeffs_ACF[:2], df_ACF)\n",
    "means_ACF = bootstrap_results_ACF.mean(axis=0)\n",
    "std_devs_ACF = bootstrap_results_ACF.std(axis=0)\n",
    "# Calculate percentiles along each column\n",
    "lower_percentile_ACF = np.percentile(bootstrap_results_ACF, 2.5, axis=0)\n",
    "upper_percentile_ACF = np.percentile(bootstrap_results_ACF, 97.5, axis=0)"
   ]
  },
  {
   "cell_type": "code",
   "execution_count": 12,
   "id": "857ce473",
   "metadata": {},
   "outputs": [
    {
     "ename": "KeyboardInterrupt",
     "evalue": "",
     "output_type": "error",
     "traceback": [
      "Traceback \u001b[1;36m(most recent call last)\u001b[0m:\n",
      "\u001b[0m  Cell \u001b[0;32mIn[12], line 2\u001b[0m\n    bootstrap_results_GNR, convergence_GNR = bootstrap(GNR_estimation, alpha_GNR, df_GNR)\u001b[0m\n",
      "\u001b[0m  File \u001b[0;32m~\\Desktop\\IO-Problem-Sets\\PS3_Russell\\Code_Python\\ACF_GNR_estimation_functions.py:190\u001b[0m in \u001b[0;35mbootstrap\u001b[0m\n    coefs, conv = func(df_boot, theta0)[0:2]\u001b[0m\n",
      "\u001b[0m  File \u001b[0;32m~\\Desktop\\IO-Problem-Sets\\PS3_Russell\\Code_Python\\ACF_GNR_estimation_functions.py:94\u001b[0m in \u001b[0;35mGNR_estimation\u001b[0m\n    gammaprime_results = opt.minimize(nlls_share_obj, gammaprime0, args=(X_poly_D, s),\u001b[0m\n",
      "\u001b[0m  File \u001b[0;32m~\\anaconda3\\Lib\\site-packages\\scipy\\optimize\\_minimize.py:722\u001b[0m in \u001b[0;35mminimize\u001b[0m\n    res = _minimize_trustregion_constr(fun, x0, args, jac, hess, hessp,\u001b[0m\n",
      "\u001b[0m  File \u001b[0;32m~\\anaconda3\\Lib\\site-packages\\scipy\\optimize\\_trustregion_constr\\minimize_trustregion_constr.py:528\u001b[0m in \u001b[0;35m_minimize_trustregion_constr\u001b[0m\n    _, result = tr_interior_point(\u001b[0m\n",
      "\u001b[0m  File \u001b[0;32m~\\anaconda3\\Lib\\site-packages\\scipy\\optimize\\_trustregion_constr\\tr_interior_point.py:321\u001b[0m in \u001b[0;35mtr_interior_point\u001b[0m\n    z, state = equality_constrained_sqp(\u001b[0m\n",
      "\u001b[0m  File \u001b[0;32m~\\anaconda3\\Lib\\site-packages\\scipy\\optimize\\_trustregion_constr\\equality_constrained_sqp.py:203\u001b[0m in \u001b[0;35mequality_constrained_sqp\u001b[0m\n    Z, LS, Y = projections(A, factorization_method)\u001b[0m\n",
      "\u001b[0m  File \u001b[0;32m~\\anaconda3\\Lib\\site-packages\\scipy\\optimize\\_trustregion_constr\\projections.py:396\u001b[0m in \u001b[0;35mprojections\u001b[0m\n    = qr_factorization_projections(A, m, n, orth_tol, max_refin, tol)\u001b[0m\n",
      "\u001b[0m  File \u001b[0;32m~\\anaconda3\\Lib\\site-packages\\scipy\\optimize\\_trustregion_constr\\projections.py:178\u001b[0m in \u001b[0;35mqr_factorization_projections\u001b[0m\n    Q, R, P = scipy.linalg.qr(A.T, pivoting=True, mode='economic')\u001b[0m\n",
      "\u001b[0m  File \u001b[0;32m~\\anaconda3\\Lib\\site-packages\\scipy\\linalg\\_decomp_qr.py:138\u001b[0m in \u001b[0;35mqr\u001b[0m\n    qr, jpvt, tau = safecall(geqp3, \"geqp3\", a1, overwrite_a=overwrite_a)\u001b[0m\n",
      "\u001b[1;36m  File \u001b[1;32m~\\anaconda3\\Lib\\site-packages\\scipy\\linalg\\_decomp_qr.py:19\u001b[1;36m in \u001b[1;35msafecall\u001b[1;36m\n\u001b[1;33m    ret = f(*args, **kwargs)\u001b[1;36m\n",
      "\u001b[1;31mKeyboardInterrupt\u001b[0m\n"
     ]
    }
   ],
   "source": [
    "#Use the initial condition from the true data, coeffs_ACF[:2], to improve speed and convergence. \n",
    "bootstrap_results_GNR, convergence_GNR = bootstrap(GNR_estimation, alpha_GNR, df_GNR)\n",
    "means_GNR = bootstrap_results_GNR.mean(axis=0)\n",
    "std_devs_GNR = bootstrap_results_GNR.std(axis=0)"
   ]
  }
 ],
 "metadata": {
  "kernelspec": {
   "display_name": "Python 3 (Spyder)",
   "language": "python3",
   "name": "python3"
  },
  "language_info": {
   "codemirror_mode": {
    "name": "ipython",
    "version": 3
   },
   "file_extension": ".py",
   "mimetype": "text/x-python",
   "name": "python",
   "nbconvert_exporter": "python",
   "pygments_lexer": "ipython3",
   "version": "3.11.7"
  }
 },
 "nbformat": 4,
 "nbformat_minor": 5
}
