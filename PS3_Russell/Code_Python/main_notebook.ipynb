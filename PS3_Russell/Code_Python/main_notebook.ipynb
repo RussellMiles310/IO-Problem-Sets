{
 "cells": [
  {
   "cell_type": "markdown",
   "id": "9483c2f4",
   "metadata": {},
   "source": [
    "# Py file testing"
   ]
  },
  {
   "cell_type": "code",
   "execution_count": 1,
   "id": "63bb7f7b",
   "metadata": {},
   "outputs": [],
   "source": [
    "from ACF_GNR_estimation_functions import *"
   ]
  },
  {
   "cell_type": "code",
   "execution_count": 2,
   "id": "62d5c91a",
   "metadata": {},
   "outputs": [],
   "source": [
    "df_ACF = load_data(\"ACF\")\n",
    "df_GNR = load_data(\"GNR\")"
   ]
  },
  {
   "cell_type": "code",
   "execution_count": 3,
   "id": "4b9daa8d",
   "metadata": {},
   "outputs": [
    {
     "name": "stdout",
     "output_type": "stream",
     "text": [
      "The gradient at the optimum is:  [2.81632533e-12 1.43640053e-12]\n",
      "The GMM error using the gradient is: 2.1409761935483532e-23\n",
      "The estimates using autograd: [beta_k, beta_l] =  [0.32356761 0.73189068]\n",
      "The slope of the AR(1) of productivity is: rho =  0.8821586749422496\n"
     ]
    }
   ],
   "source": [
    "theta0 = np.array([1,1])\n",
    "coeffs_ACF, convergence = ACF_estimation(df_ACF, theta0, print_results=1)"
   ]
  },
  {
   "cell_type": "code",
   "execution_count": 32,
   "id": "0d05e3fc",
   "metadata": {},
   "outputs": [
    {
     "name": "stdout",
     "output_type": "stream",
     "text": [
      "The error is: 1.7446859350329944e-07\n",
      "The gradient is: [ 1.19718688e-06 -1.68710796e-07 -6.89352347e-07 -2.82710257e-07\n",
      " -1.43972913e-07]\n",
      "The coefficients for the integration constant [alpha] are: [ 0.4617208  -2.93507062 -0.0988354   0.28968012  0.04291431]\n",
      "The coefficients for productivity omega [delta] are: [ 3.31181449 -0.26222364  0.11761208]\n"
     ]
    }
   ],
   "source": [
    "GNR_estimation(df_GNR)"
   ]
  },
  {
   "cell_type": "markdown",
   "id": "4845b5a0",
   "metadata": {},
   "source": [
    "# Bootstrap:"
   ]
  },
  {
   "cell_type": "code",
   "execution_count": null,
   "id": "b63a7186",
   "metadata": {},
   "outputs": [],
   "source": [
    "#Set seed"
   ]
  },
  {
   "cell_type": "code",
   "execution_count": 4,
   "id": "99ed63f5",
   "metadata": {},
   "outputs": [],
   "source": [
    "bootstrap_results, convergence = bootstrap(ACF_estimation, coeffs_ACF[:2], df_ACF)\n",
    "means = bootstrap_results.mean(axis=0)\n",
    "std_errors = bootstrap_results.std(axis=0)"
   ]
  },
  {
   "cell_type": "code",
   "execution_count": 48,
   "id": "638ea926",
   "metadata": {},
   "outputs": [
    {
     "data": {
      "text/plain": [
       "array([0.81520814, 2.14155504, 0.96830403])"
      ]
     },
     "execution_count": 48,
     "metadata": {},
     "output_type": "execute_result"
    }
   ],
   "source": [
    "results_boot_ACF[100]\n"
   ]
  }
 ],
 "metadata": {
  "kernelspec": {
   "display_name": "Python 3 (Spyder)",
   "language": "python3",
   "name": "python3"
  },
  "language_info": {
   "codemirror_mode": {
    "name": "ipython",
    "version": 3
   },
   "file_extension": ".py",
   "mimetype": "text/x-python",
   "name": "python",
   "nbconvert_exporter": "python",
   "pygments_lexer": "ipython3",
   "version": "3.11.7"
  }
 },
 "nbformat": 4,
 "nbformat_minor": 5
}
