{
 "cells": [
  {
   "cell_type": "markdown",
   "metadata": {},
   "source": [
    "# ACF -- Ackerberg, Caves, Frazer\n",
    "* This time, trying joint estimation\n",
    "* Refer to ACF_simple_twostep for an easier version, which estimates $\\Phi$ first with polynomial regression, then estimates the betas with GMM. "
   ]
  },
  {
   "cell_type": "markdown",
   "metadata": {},
   "source": [
    "# Review -- Two-Step Identification Procedure:\n",
    "For a simple example, suppose $\\omega_{it} = \\rho \\omega_{it-1} + \\xi_{it}.$ Then\n",
    "$g(x) = E[x|\\omega_{it-1}] = \\rho \\omega_{it-1}.$ Assume labor is chosen after time $t-1$. Then the estimation procedure is: \n",
    "\n",
    "## (1) Regress $y_{it}$ on $\\left(k_{it}, l_{it}, m_{it}\\right)$ nonparametrically, or using a high-order polynomial, to obtain $\\hat{\\tilde \\Phi}_t\\left(k_{it}, l_{it}, m_{it}\\right).$\n",
    "\n",
    "We do this for every period to get a sequence of functions of $(k, l, m).$ These will be plugged in for $\\Phi$ in the next step. \n",
    "\n",
    "## (2) Use the following four moment conditions to estimate the parameters $\\left(\\beta_0, \\beta_k, \\beta_l, \\rho\\right):$\n",
    "\n",
    "$$\n",
    "E\\left[\\left(y_{it} - \\beta_0 - \\beta_k k_{it} - \\beta_l l_{it} - \\rho\\left(\\tilde \\Phi_{t-1}\\left(k_{it-1}, l_{it-1}, m_{it-1}\\right) - \\beta_0 - \\beta_k k_{it-1} - \\beta_l l_{it-1}\\right)\\right) \\otimes \\begin{pmatrix} 1 \\\\ k_{it} \\\\ l_{it-1} \\\\ \\tilde \\Phi_{t-1}\\left(k_{it-1}, l_{it-1}, m_{it-1}\\right) \\\\ \\end{pmatrix} \\right] = 0\n",
    "$$\n",
    "\n",
    "Here's where we use GMM. "
   ]
  },
  {
   "cell_type": "markdown",
   "metadata": {},
   "source": [
    "# New version: Joint Identification\n",
    "\n",
    "Now, we include the parameters used to fit $\\Phi$ into the GMM estimation. \n",
    "We fit $\\Phi$ with a $d$-degree polynomial, and the coefficients of that polynomial are identified by moments.\n",
    "In ACF, equation (31) shows their joint estimation moment conditions: \n",
    "\n",
    "$$\n",
    "    E\\begin{bmatrix}\n",
    "    \\varepsilon_{it} \\big| \\mathcal I_{it} \\\\ \n",
    "    \\xi_{it}+\\varepsilon_{it} \\big| \\mathcal I_{it-1}                \n",
    "    \\end{bmatrix} = \n",
    "    E\\begin{bmatrix}\n",
    "    y_{it} - \\tilde\\Phi_t(k_{it}, l_{it}, m_{it}) \\;\\; \\big| \\;\\; \\mathcal I_{it} \\\\ \n",
    "    y_{it} - \\beta_0 - \\beta_k k_{it} - \\beta_l l_{it} - g\\left(\\tilde \\Phi_{t-1}\\left(k_{it-1}, l_{it-1}, m_{it-1}\\right) - \\beta_0 - \\beta_k k_{it-1} - \\beta_l l_{it-1}\\right) \\;\\; \\big| \\;\\; \\mathcal I_{it-1}                \n",
    "    \\end{bmatrix} \n",
    "$$\n",
    "\n",
    "where $g(\\cdot)$ is the conditional expectation of productivity and $\\mathcal I_{it}$ is the information set of firm $i$ at time $t$.  \n",
    "\n",
    "For each time t, the full $d$-degree polynomial fit of $y = \\Phi_t(k, l, m)$ will have $\\begin{pmatrix} k+d \\\\ k \\end{pmatrix}$ coefficients, where $k$ is the number of variables (in this case 3). \n",
    "\n",
    "$$\n",
    "\\Phi_t^2(k, l, m) = \\gamma_{0,0,0} + \\gamma_{1,0,0}k + \\gamma_{0,1,0}l + \\gamma_{0,0,1}m + \\gamma_{1,1,0}kl + \\gamma_{1,0,1}km + \\gamma_{0,1,1}lm + \\gamma_{2,0,0}k^2 + \\gamma_{0,2,0}l^2 + \\gamma_{0,0,2}m^2\n",
    "$$\n",
    "\n",
    "But we need to fit $\\Phi_t$ for each year. \n",
    "\n",
    "So, assuming $g(x) = \\rho x$, the vector of parameters to identify is: \n",
    "\n",
    "$$\n",
    "\\mathbf \\theta = \\left[ \\beta_0, \\beta_k, \\beta_l, \\rho, \\underbrace{\\mathbf \\gamma_{1}}_{kCd\\times 1}, ...,  \\underbrace{\\mathbf \\gamma_{T}}_{kCd\\times 1}  \\right]_{4 + T\\cdot(kCd)}\n",
    "$$\n",
    "\n",
    "The first four parameters can be identified using the moments from the \"simple\" ACF:  \n",
    "\n",
    "$$\n",
    "E\\left[\\operatorname{vec}\\left(y_{it} - \\beta_0 - \\beta_k k_{it} - \\beta_l l_{it} - \\rho\\left(\\tilde \\Phi_{t-1}\\left(k_{it-1}, l_{it-1}, m_{it-1}\\right) - \\beta_0 - \\beta_k k_{it-1} - \\beta_l l_{it-1}\\right)\\right) \\otimes \\begin{pmatrix} 1 \\\\ k_{it} \\\\ l_{it-1} \\\\ \\tilde \\Phi_{t-1}\\left(k_{it-1}, l_{it-1}, m_{it-1}\\right) \\\\ \\end{pmatrix} \\right] = 0\n",
    "$$\n",
    "\n",
    "Note that we will need to plug in the polynomial coefficients into the $\\Phi$ here, from our parameter guess $\\theta$. Also note that the final term with $\\Phi$ in it is used as our moment for identifying $\\rho$.\n",
    "\n",
    "The $T\\cdot(kCd)$ \"gammas\" can be estimated using the moments for linear regression, at each time period. Each of the vectors below is \"Number of firms at time t\"-by-1.\n",
    "\n",
    "$$\n",
    "\\text{Regression at t=0:}\\begin{pmatrix}\n",
    "\\mathbf 1^\\intercal \\left[ y_{i0} - \\tilde\\Phi_0(k_{i0}, l_{i0}, m_{i0})  \\right] \\\\\n",
    " (k_{i0})^\\intercal \\left[ y_{i0} - \\tilde\\Phi_0(k_{i0}, l_{i0}, m_{i0})  \\right] \\\\\n",
    " (l_{i0})^\\intercal \\left[ y_{i0} - \\tilde\\Phi_0(k_{i0}, l_{i0}, m_{i0})  \\right] \\\\\n",
    " (m_{i0})^\\intercal \\left[ y_{i0} - \\tilde\\Phi_0(k_{i0}, l_{i0}, m_{i0})  \\right] \\\\\n",
    "(k_{i0}l_{i0})^\\intercal \\left[ y_{i0} - \\tilde\\Phi_0(k_{i0}, l_{i0}, m_{i0})  \\right] \\\\\n",
    "\\vdots \\\\\n",
    " (l_{i0}^2)^\\intercal \\left[ y_{i0} - \\tilde\\Phi_0(k_{i0}, l_{i0}, m_{i0})  \\right] \\\\\n",
    "\\end{pmatrix}\n",
    "$$\n",
    "\n",
    "$$\n",
    "\\text{Regression at t=T:}\\begin{pmatrix}\n",
    "\\mathbf 1^\\intercal \\left[ y_{iT} - \\tilde\\Phi_T(k_{iT}, l_{iT}, m_{iT})  \\right] \\\\\n",
    " (k_{iT})^\\intercal \\left[ y_{iT} - \\tilde\\Phi_T(k_{iT}, l_{iT}, m_{iT})  \\right] \\\\\n",
    " (l_{iT})^\\intercal \\left[ y_{iT} - \\tilde\\Phi_T(k_{iT}, l_{iT}, m_{iT})  \\right] \\\\\n",
    " (m_{iT})^\\intercal \\left[ y_{iT} - \\tilde\\Phi_T(k_{iT}, l_{iT}, m_{iT})  \\right] \\\\\n",
    "(k_{iT}l_{iT})^\\intercal \\left[ y_{iT} - \\tilde\\Phi_T(k_{iT}, l_{iT}, m_{iT})  \\right] \\\\\n",
    "\\vdots \\\\\n",
    " (l_{iT}^2)^\\intercal \\left[ y_{iT} - \\tilde\\Phi_T(k_{iT}, l_{iT}, m_{iT})  \\right] \\\\\n",
    "\\end{pmatrix}\n",
    "$$\n",
    "Here we have $T\\cdot(kCd)$ moments fo the $T\\cdot(kCd)$ \"gammas.\" \n"
   ]
  },
  {
   "cell_type": "markdown",
   "metadata": {},
   "source": [
    "# Load in the data\n"
   ]
  },
  {
   "cell_type": "code",
   "execution_count": 12,
   "metadata": {},
   "outputs": [],
   "source": [
    "import numpy as np\n",
    "import pandas as pd\n",
    "import scipy.optimize as opt\n",
    "import matplotlib.pyplot as plt\n",
    "import math\n",
    "from itertools import combinations_with_replacement, chain"
   ]
  },
  {
   "cell_type": "code",
   "execution_count": 27,
   "metadata": {},
   "outputs": [
    {
     "ename": "KeyError",
     "evalue": "\"None of [Index(['lc', 'll', 'lm'], dtype='object')] are in the [columns]\"",
     "output_type": "error",
     "traceback": [
      "Traceback \u001b[1;36m(most recent call last)\u001b[0m:\n",
      "\u001b[0m  Cell \u001b[0;32mIn[27], line 15\u001b[0m\n    DATA = df[['lc', 'll', 'lm']]\u001b[0m\n",
      "\u001b[0m  File \u001b[0;32m~\\anaconda3\\Lib\\site-packages\\pandas\\core\\frame.py:4108\u001b[0m in \u001b[0;35m__getitem__\u001b[0m\n    indexer = self.columns._get_indexer_strict(key, \"columns\")[1]\u001b[0m\n",
      "\u001b[0m  File \u001b[0;32m~\\anaconda3\\Lib\\site-packages\\pandas\\core\\indexes\\base.py:6200\u001b[0m in \u001b[0;35m_get_indexer_strict\u001b[0m\n    self._raise_if_missing(keyarr, indexer, axis_name)\u001b[0m\n",
      "\u001b[1;36m  File \u001b[1;32m~\\anaconda3\\Lib\\site-packages\\pandas\\core\\indexes\\base.py:6249\u001b[1;36m in \u001b[1;35m_raise_if_missing\u001b[1;36m\n\u001b[1;33m    raise KeyError(f\"None of [{key}] are in the [{axis_name}]\")\u001b[1;36m\n",
      "\u001b[1;31mKeyError\u001b[0m\u001b[1;31m:\u001b[0m \"None of [Index(['lc', 'll', 'lm'], dtype='object')] are in the [columns]\"\n"
     ]
    }
   ],
   "source": [
    "filename = \"../PS3_data_changedtoxlsx.xlsx\"\n",
    "cols_to_keep = [0, 2, 3, 4, 5, 6, 40, 43, 44]\n",
    "#new_names = [\"year\", \"firm_id\", \"obs\", \"ly\", \"s01\", \"s02\", \"lc\", \"ll\", \"lm\"]\n",
    "new_names = [\"year\", \"firm_id\", \"obs\", \"y\", \"s01\", \"s02\", \"k\", \"l\", \"m\"]\n",
    "#Load in the data\n",
    "df = pd.read_excel(filename, usecols=cols_to_keep)\n",
    "df.columns = new_names\n",
    "#Keep industry 1 only\n",
    "df=df[df['s01']==1]\n",
    "\n",
    "\n",
    "\n",
    "\n",
    "#DATA = df[['lc', 'll', 'lm']]\n",
    "#y = df[['ly']]\n",
    "#Convert to arrays\n",
    "#y = y.to_numpy()\n",
    "#DATA = DATA.to_numpy()"
   ]
  },
  {
   "cell_type": "markdown",
   "metadata": {},
   "source": [
    "# First step of coding: Write functions for the estimation of $\\tilde \\Phi_t.$"
   ]
  },
  {
   "cell_type": "code",
   "execution_count": 15,
   "metadata": {},
   "outputs": [],
   "source": [
    "def poly_terms(n_features, degree):\n",
    "    #This thing creates an iterator structure of tuples, used to create polynomial interaction terms. \n",
    "    #It looks something like this\n",
    "    #(0,)\n",
    "    #(1,)\n",
    "    #(2,)\n",
    "    #(0, 0)\n",
    "    #(0, 1), etc \n",
    "    polynomial_terms = chain(\n",
    "        *(combinations_with_replacement(range(n_features), d) for d in range(1, degree+1))\n",
    "    )\n",
    "    return(polynomial_terms)\n",
    "\n",
    "#Will not need this function for this version of the code.\n",
    "def fit_phi_poly(y, DATA, degree):\n",
    "    #Get number of observations (n) and number of independent variables (k)\n",
    "    #y = y.to_numpy()\n",
    "    #DATA = DATA.to_numpy()\n",
    "    if DATA.ndim == 1:\n",
    "        DATA.reshape(1, -1)\n",
    "    # Get the number of samples (n) and number of features (m) from X\n",
    "    n_samples, n_features = DATA.shape\n",
    "    \n",
    "    # Start with a column of ones for the intercept term\n",
    "    X_poly = np.ones((n_samples, 1))\n",
    "\n",
    "    #Create iterator used to construct polynomial terms\n",
    "    polynomial_terms = poly_terms(n_features, degree)\n",
    "    \n",
    "    # Generate polynomial terms and interaction terms up to 4th degree\n",
    "    for terms in  polynomial_terms:  # For degrees 1 to 4\n",
    "            X_poly = np.hstack((X_poly, np.prod(DATA[:, terms], axis=1).reshape(-1, 1)))\n",
    "    \n",
    "    # Compute the coefficients using the normal equation: beta = (X.T * X)^(-1) * X.T * y\n",
    "    XT_X = X_poly.T @ X_poly\n",
    "    XT_X_inv = np.linalg.inv(XT_X)\n",
    "    XT_y = X_poly.T @ y\n",
    "    beta = XT_X_inv @ XT_y\n",
    "\n",
    "    return beta\n",
    "\n",
    "#Function to evaluate the fitted values of the polynomial regression\n",
    "def eval_phi_poly(DATA, degree, beta):\n",
    "\n",
    "    if DATA.ndim == 1:\n",
    "        DATA = DATA.reshape(1, -1)\n",
    "    # Get the number of samples (n) and number of features (m) from X\n",
    "    n_samples, n_features = DATA.shape\n",
    "    # Create polynomial terms iterator\n",
    "    polynomial_terms = poly_terms(n_features, degree)\n",
    "\n",
    "    # Start with a column of ones for the intercept term\n",
    "    X_poly = np.ones((n_samples, 1))\n",
    "    \n",
    "    # Generate polynomial terms and interaction terms up to 4th degree\n",
    "    for terms in  polynomial_terms:  # For degrees 1 to 4\n",
    "            X_poly = np.hstack((X_poly, np.prod(DATA[:, terms], axis=1).reshape(-1, 1)))\n",
    "    \n",
    "    yhat = X_poly@beta\n",
    "    \n",
    "    # Generate polynomial terms and interaction terms up to 4th degree\n",
    "    #yhat = np.zeros((n_samples,1))\n",
    "    #for terms in  polynomial_terms:  # For degrees 1 to 4\n",
    "    #        yhat = np.sum(yhat, beta*np.prod(DATA[:, terms], axis=1).reshape(-1, 1))\n",
    "\n",
    "    return yhat"
   ]
  },
  {
   "cell_type": "markdown",
   "metadata": {},
   "source": [
    "# Coding for joint method"
   ]
  },
  {
   "cell_type": "code",
   "execution_count": 20,
   "metadata": {},
   "outputs": [],
   "source": [
    "#Data transformation/utility functions\n",
    "def df_to_dict(df):\n",
    "    dict_of_arrays = {col: df[col].to_numpy() for col in df.columns}\n",
    "    return dict_of_arrays\n"
   ]
  },
  {
   "cell_type": "code",
   "execution_count": null,
   "metadata": {},
   "outputs": [],
   "source": [
    "\n",
    "#Extracts the relevant arguments for ACF estimation from the data frame\n",
    "def format_args_ACF(df):\n",
    "    #new dataframe\n",
    "    #Getting data in the correct format\n",
    "    y = df['ly'].to_numpy()\n",
    "    Phi = df['Phi'].to_numpy()\n",
    "    Phiprev = df['Phi'].shift(1).to_numpy()\n",
    "    k = df['lc'].to_numpy()\n",
    "    kprev =  df['lc'].shift(1).to_numpy()\n",
    "    l = df['ll'].to_numpy()\n",
    "    lprev =  df['ll'].shift(1).to_numpy()\n",
    "    t =  df['year'].to_numpy()\n",
    "    args_ACF = (y, Phi, Phiprev, k, kprev, l, lprev, t)\n",
    "    return args_ACF\n",
    "\n",
    "#Creates matrix \n",
    "\n",
    "\n",
    "def moment_error_ACF(theta, df):\n",
    "    betas = theta[:4] #extract beta_0, beta_k, beta_l, and rho\n",
    "    # First calculate the error for the first moments (not the gammas which dictate the approximation of Phi\n",
    "    #[beta_0, beta_k, beta_l, rho]\n",
    "    moments_betas = (y - theta[0] - theta[1]*k - theta[2]*l - \n",
    "             theta[3]*(Phiprev - theta[0] - theta[1]*kprev - theta[2]*lprev) )\n",
    "    #remove nans (associated with the lag) -- this is ok because we're just using this vector as part of a dot product. \n",
    "    moments_betas = np.nan_to_num(moments_betas, nan = 0)\n",
    "    # Next calculate the error for the \"gammas\" moments, i.e. the linear regression moments \n",
    "\n",
    "\n",
    "\n",
    "#Extracts the relevant arguments for ACF estimation from the data frame\n",
    "def format_args_ACF(df):\n",
    "    #new dataframe\n",
    "    #Getting data in the correct format\n",
    "    y = df['ly'].to_numpy()\n",
    "    Phi = df['Phi'].to_numpy()\n",
    "    Phiprev = df['Phi'].shift(1).to_numpy()\n",
    "    k = df['lc'].to_numpy()\n",
    "    kprev =  df['lc'].shift(1).to_numpy()\n",
    "    l = df['ll'].to_numpy()\n",
    "    lprev =  df['ll'].shift(1).to_numpy()\n",
    "    t =  df['year'].to_numpy()\n",
    "    args_ACF = (y, Phi, Phiprev, k, kprev, l, lprev, t)\n",
    "    return args_ACF\n",
    "\n",
    "#Calculates the error term, h(theta, y, k, l)\n",
    "def moment_error_ACF(theta, args):\n",
    "    #get the variables we need\n",
    "    y, Phi, Phiprev, k, kprev, l, lprev, t = args\n",
    "    gamma = theta[4]\n",
    "    # First calculate the error for the first moments (not the gammas which dictate the approximation of Phi\n",
    "    #[beta_0, beta_k, beta_l, rho]\n",
    "    value = (y - theta[0] - theta[1]*k - theta[2]*l - \n",
    "             theta[3]*(Phiprev - theta[0] - theta[1]*kprev - theta[2]*lprev) )\n",
    "    #remove nans (associated with the lag) -- this is ok because we're just using this vector as part of a dot product. \n",
    "    value = np.nan_to_num(value, nan = 0)\n",
    "    return value\n",
    "\n",
    "#Parameter guess \n",
    "theta = (betas, gammas)\n",
    "\n",
    "\n",
    "\n",
    "def "
   ]
  },
  {
   "cell_type": "markdown",
   "metadata": {},
   "source": [
    "## Function for evaluating the Phi function"
   ]
  },
  {
   "cell_type": "code",
   "execution_count": 7,
   "metadata": {},
   "outputs": [],
   "source": [
    "def fit_phi_poly_years(df, degree):\n",
    "\n",
    "    years = np.unique(df[[\"year\"]])\n",
    "    \n",
    "    #Dictionary for storing the polynomial fits associated with each year\n",
    "    phi_beta_dict = {}\n",
    "    \n",
    "    for t in years: \n",
    "        #Get data for the current year\n",
    "        df_t = df[df[\"year\"] == t]\n",
    "        y_t = df_t[[\"ly\"]].to_numpy()\n",
    "        DATA_t = df_t[['lc', 'll', 'lm']].to_numpy()\n",
    "        #fit the polynomial\n",
    "        beta_t = fit_phi_poly(y_t, DATA_t, degree)\n",
    "        phi_beta_dict[t] = beta_t\n",
    "\n",
    "    return phi_beta_dict\n",
    "\n",
    "\n",
    "def phi_wrapper(row, xvars, phi_beta_dict, degree):\n",
    "    DATA_row = row[xvars].to_numpy()\n",
    "    t = row['year']\n",
    "    beta = phi_beta_dict[t] #Get the beta fit to the particular year\n",
    "    Phihat = eval_phi_poly(DATA_row, degree, beta).item()\n",
    "\n",
    "    return Phihat\n",
    "\n",
    "#Year-by-year --- Function to evaluate the fitted values of the polynomial regression\n",
    "def eval_phi_poly_years(df, xvars, degree):\n",
    "    #Year-by-year, fit the Phi function \n",
    "    phi_beta_dict = fit_phi_poly_years(df, degree)\n",
    "    firms = np.unique(df[[\"firm_id\"]])    \n",
    "    df_phi = df.apply(phi_wrapper, axis = 1, args = (xvars, phi_beta_dict, degree) ).to_numpy()\n",
    "    \n",
    "    return df_phi"
   ]
  },
  {
   "cell_type": "code",
   "execution_count": 8,
   "metadata": {},
   "outputs": [],
   "source": [
    "#phi_beta_dict = fit_phi_poly_years(df, degree)\n",
    "df_phi = eval_phi_poly_years(df, xvars = ['lc', 'll', 'lm'], degree=2) #Higher degree than 2 and it tends to be overfit\n",
    "#Add into the dataframe\n",
    "df[\"Phi\"] = df_phi"
   ]
  },
  {
   "cell_type": "code",
   "execution_count": 9,
   "metadata": {},
   "outputs": [
    {
     "data": {
      "image/png": "[encoded data removed]",
      "text/plain": [
       "<Figure size 576x432 with 2 Axes>"
      ]
     },
     "metadata": {},
     "output_type": "display_data"
    }
   ],
   "source": [
    "#Actual vs Predicted plot\n",
    "# Assuming df is a structured NumPy array\n",
    "actual_values = df['ly']     # Extract the actual values\n",
    "predicted_values = df['Phi'] # Extract the predicted values\n",
    "years = df['year']\n",
    "\n",
    "# Create the plot\n",
    "plt.figure(figsize=(8, 6))\n",
    "scatter = plt.scatter(actual_values, predicted_values, c=years, cmap='viridis', label='Predicted vs Actual')\n",
    "plt.plot([min(actual_values), max(actual_values)], [min(actual_values), max(actual_values)], color='red', linestyle='--', label='Perfect Fit')\n",
    "\n",
    "# Add a color bar to represent the year scale\n",
    "cbar = plt.colorbar(scatter)\n",
    "cbar.set_label('Year')\n",
    "\n",
    "# Add labels and title\n",
    "plt.xlabel('ly')\n",
    "plt.ylabel('Phi_t')\n",
    "plt.title('Actual vs Predicted plot: ly vs Phi_t')\n",
    "plt.grid(True)\n",
    "\n",
    "# Show the plot\n",
    "plt.show()"
   ]
  },
  {
   "cell_type": "markdown",
   "metadata": {},
   "source": [
    "## Now, we have our polynomial fit. Time to start coding GMM\n",
    "We have four parameters: $\\beta_0$, $\\beta_k$, $\\beta_l$, and $\\rho$.\n",
    "Each of the four moment conditions state that \n",
    "$$E\\left[\\left(\\xi_{it}+\\epsilon_it\\right)\\left(Z\\right)\\right] = 0,$$ where $Z$ is one of the elements of the firm's information set at time $t-1.$"
   ]
  },
  {
   "cell_type": "markdown",
   "metadata": {},
   "source": [
    "## Get a function that evaluates the objective function of the GMM estimator\n",
    "\n",
    "The objective function minimizes the weighted errors of the moment restrictions with respect to parameters $\\theta$. It is\n",
    "\n",
    "$$\n",
    "\\min_\\theta \\left\\{     \\mathbf e\\left(\\mathbf y, \\mathbf k, \\mathbf l|\\theta\\right)^\\intercal_{1\\times 4} \\times\\left(\\mathbb W_{4\\times 4}\\right) \\times      \\mathbf e\\left(\\mathbf y, \\mathbf k, \\mathbf l|\\theta\\right)_{4\\times 1} \\right\\} \\equiv\n",
    "$$\n",
    "\n",
    "\n",
    "\n",
    "$$\n",
    "\\min_\\theta \\left\\{   \\left[ \\begin{pmatrix} 1^\\intercal \\\\ \\operatorname{vec}(k_{it})^\\intercal \\\\ \\operatorname{vec}(l_{it-1})^\\intercal \\\\ \\operatorname{vec}\\left(\\tilde \\Phi_{t-1}\\left(k_{it-1}, l_{it-1}, m_{it-1}\\right)\\right)^\\intercal \\\\ \\end{pmatrix} \\cdot h(\\theta, \\mathbf y, \\mathbf k, \\mathbf l)\\right]^\\intercal_{1\\times 4} \\times  \\left(\\mathbb W_{4\\times 4}\\right) \\times \\left[ \\begin{pmatrix} 1^\\intercal \\\\ \\operatorname{vec}(k_{it})^\\intercal \\\\ \\operatorname{vec}(l_{it-1})^\\intercal \\\\ \\operatorname{vec}\\left(\\tilde \\Phi_{t-1}\\left(k_{it-1}, l_{it-1}, m_{it-1}\\right)\\right)^\\intercal \\\\ \\end{pmatrix} \\cdot  h(\\theta, \\mathbf y, \\mathbf k, \\mathbf l)  \\right]_{4\\times 1} \\right\\}, \n",
    "$$\n",
    "\n",
    "\n",
    "which is a scalar, where\n",
    "\n",
    "$$\n",
    "h(\\theta, \\mathbf y, \\mathbf k, \\mathbf l) = \\operatorname{vec}\\left(y_{it} - \\beta_0 - \\beta_k k_{it} - \\beta_l l_{it} - \\rho\\left(\\tilde \\Phi_{t-1}\\left(k_{it-1}, l_{it-1}, m_{it-1}\\right) - \\beta_0 - \\beta_k k_{it-1} - \\beta_l l_{it-1}\\right)\\right).\n",
    "$$\n",
    "\n",
    "In words, we take the dot product of the $h$ function with each of the vectors in the big pmatrix, and get four moment conditions in total. \n"
   ]
  },
  {
   "cell_type": "code",
   "execution_count": 1,
   "metadata": {},
   "outputs": [],
   "source": [
    "#Extracts the relevant arguments for ACF estimation from the data frame\n",
    "def format_args_ACF(df):\n",
    "    #new dataframe\n",
    "    #Getting data in the correct format\n",
    "    y = df['ly'].to_numpy()\n",
    "    Phi = df['Phi'].to_numpy()\n",
    "    Phiprev = df['Phi'].shift(1).to_numpy()\n",
    "    k = df['lc'].to_numpy()\n",
    "    kprev =  df['lc'].shift(1).to_numpy()\n",
    "    l = df['ll'].to_numpy()\n",
    "    lprev =  df['ll'].shift(1).to_numpy()\n",
    "    t =  df['year'].to_numpy()\n",
    "    args_ACF = (y, Phi, Phiprev, k, kprev, l, lprev, t)\n",
    "    return args_ACF\n",
    "\n",
    "#Calculates the error term, h(theta, y, k, l)\n",
    "def moment_error_ACF(theta, args):\n",
    "    #get the variables we need\n",
    "    y, Phi, Phiprev, k, kprev, l, lprev, t = args\n",
    "    gamma = theta[4]\n",
    "    # First calculate the error for the first moments (not the gammas which dictate the approximation of Phi\n",
    "    #[beta_0, beta_k, beta_l, rho]\n",
    "    value = (y - theta[0] - theta[1]*k - theta[2]*l - \n",
    "             theta[3]*(Phiprev - theta[0] - theta[1]*kprev - theta[2]*lprev) )\n",
    "    #remove nans (associated with the lag) -- this is ok because we're just using this vector as part of a dot product. \n",
    "    value = np.nan_to_num(value, nan = 0)\n",
    "    return value\n",
    "\n",
    "def moment_ex_restrictions_ACF(args):\n",
    "    y, Phi, Phiprev, k, kprev, l, lprev = args\n",
    "    #Moment conditions include exogeneity restrictions for 1, k_{it}, l_{it-1}, and Phi. \n",
    "    #Put them all in one matrix for easy access, called Vexc (short for vectors for exogeneity restrictions)\n",
    "    #Replace all nans with zeros -- this is ok, because we're just taking a dot product over each row of this matrix, and want to remove the nans\n",
    "    Vex = np.nan_to_num(np.vstack([np.ones(len(k)), k, lprev, Phiprev]),  nan=0)\n",
    "    return Vex\n",
    "\n",
    "def gmm_obj_ACF(theta, args, Vex, W):\n",
    "    #Arguments\n",
    "    y, Phi, Phiprev, k, kprev, l, lprev = args\n",
    "    #Get the vector h(theta, y, k, l)\n",
    "    moment_error = moment_error_ACF(theta, args_ACF)\n",
    "    #Calculate the \"error\" -- exogenous terms (dotproduct) h(theta, y, k, l)\n",
    "    err = Vex@moment_error\n",
    "    #Calculate the weighted sum of the error using the weight matrix, W\n",
    "    obj = err.T@W@err\n",
    "    return obj"
   ]
  },
  {
   "cell_type": "markdown",
   "metadata": {},
   "source": [
    "## Quick test -- evaluating the GMM objective function at $\\theta = \\mathbf 1$. "
   ]
  },
  {
   "cell_type": "code",
   "execution_count": 35,
   "metadata": {},
   "outputs": [
    {
     "data": {
      "text/plain": [
       "1633305.5545537989"
      ]
     },
     "execution_count": 35,
     "metadata": {},
     "output_type": "execute_result"
    }
   ],
   "source": [
    "#Run GMM\n",
    "#Initial guess for parameters beta_0, beta_k, beta_l, rho\n",
    "theta0 = np.array([1,1,1,1])\n",
    "#Weight matrix -- use the identity for now. \n",
    "W0 = np.eye(4)\n",
    "#(1) Get the arguments used in ACF from the data frame\n",
    "args_ACF = format_args_ACF(df)\n",
    "#(2) Get matrix of variables used in exogeneity restrictions\n",
    "Vex = moment_ex_restrictions_ACF(args_ACF)\n",
    "#Evaluate the GMM error\n",
    "obj, gmm_obj_ACF(theta0, args_ACF, Vex, W0)\n",
    "obj"
   ]
  },
  {
   "cell_type": "markdown",
   "metadata": {},
   "source": [
    "## Next step --  need to calculate the gradient to perform optimization. \n",
    "\n",
    "The gradient of the GMM objective function with respect to the parameters $\\theta$ is\n",
    "$$\n",
    "\\nabla_{\\theta}  \\mathbf e\\left(\\mathbf y, \\mathbf k, \\mathbf l|\\theta\\right)^\\intercal_{1\\times 4} \\times\\left(\\mathbb W_{4\\times 4}\\right) \\times      \\mathbf e\\left(\\mathbf y, \\mathbf k, \\mathbf l|\\theta\\right)_{4\\times 1} \\equiv 2\\left[\\frac{\\partial e\\left(\\mathbf y, \\mathbf k, \\mathbf l|\\theta\\right)}{\\partial \\theta}\\right]^\\intercal_{4\\times 4}\\times\\left(\\mathbb W_{4\\times 4}\\right) \\times      \\mathbf e\\left(\\mathbf y, \\mathbf k, \\mathbf l|\\theta\\right)_{4\\times 1}\n",
    "$$\n",
    "\n",
    "where \n",
    "\n",
    "$$\n",
    "\\left[\\frac{\\partial e\\left(\\mathbf y, \\mathbf k, \\mathbf l|\\theta\\right)}{\\partial \\theta}\\right]_{4\\times 4} = \\begin{bmatrix} \n",
    "1^\\intercal\\frac{ \\mathbf \\partial h(\\theta, \\mathbf y, \\mathbf k, \\mathbf l)}{\\partial \\beta_0} & 1^\\intercal\\frac{ \\partial \\mathbf h(\\theta, \\mathbf y, \\mathbf k, \\mathbf l)}{\\partial \\beta_k} & 1^\\intercal\\frac{ \\partial \\mathbf h(\\theta, \\mathbf y, \\mathbf k, \\mathbf l)}{\\partial \\beta_l} & 1^\\intercal\\frac{ \\mathbf \\partial h(\\theta, \\mathbf y, \\mathbf k, \\mathbf l)}{\\partial \\rho} \\\\\n",
    "\\operatorname{vec}(k_{it})^\\intercal\\frac{ \\partial \\mathbf h(\\theta, \\mathbf y, \\mathbf k, \\mathbf l)\n",
    "}{\\partial \\beta_0} &\\operatorname{vec}(k_{it})^\\intercal \\frac{ \\partial \\mathbf h(\\theta, \\mathbf y, \\mathbf k, \\mathbf l)\n",
    "}{\\partial \\beta_k} &\\operatorname{vec}(k_{it})^\\intercal \\frac{ \\partial \\mathbf h(\\theta, \\mathbf y, \\mathbf k, \\mathbf l)\n",
    "}{\\partial \\beta_l} &\\operatorname{vec}(k_{it})^\\intercal  \\frac{\\partial \\mathbf h(\\theta, \\mathbf y, \\mathbf k, \\mathbf l)\n",
    "}{\\partial \\rho} \\\\\n",
    "\\operatorname{vec}(l_{it-1})^\\intercal\\frac{ \\partial \\mathbf h(\\theta, \\mathbf y, \\mathbf k, \\mathbf l)\n",
    "}{\\partial \\beta_0} &\\operatorname{vec}(l_{it-1})^\\intercal \\frac{ \\partial \\mathbf h(\\theta, \\mathbf y, \\mathbf k, \\mathbf l)\n",
    "}{\\partial \\beta_k} &\\operatorname{vec}(l_{it-1})^\\intercal \\frac{ \\partial \\mathbf h(\\theta, \\mathbf y, \\mathbf k, \\mathbf l)\n",
    "}{\\partial \\beta_l} &\\operatorname{vec}(l_{it-1})^\\intercal  \\frac{\\partial \\mathbf h(\\theta, \\mathbf y, \\mathbf k, \\mathbf l)\n",
    "}{\\partial \\rho} \\\\\n",
    "\\operatorname{vec}(\\Phi_{it-1})^\\intercal\\frac{ \\partial \\mathbf h(\\theta, \\mathbf y, \\mathbf k, \\mathbf l)\n",
    "}{\\partial \\beta_0} &\\operatorname{vec}(\\Phi_{it-1})^\\intercal \\frac{ \\partial \\mathbf h(\\theta, \\mathbf y, \\mathbf k, \\mathbf l)\n",
    "}{\\partial \\beta_k} &\\operatorname{vec}(\\Phi_{it-1})^\\intercal \\frac{ \\partial \\mathbf h(\\theta, \\mathbf y, \\mathbf k, \\mathbf l)\n",
    "}{\\partial \\beta_l} &\\operatorname{vec}(\\Phi_{it-1})^\\intercal  \\frac{\\partial \\mathbf h(\\theta, \\mathbf y, \\mathbf k, \\mathbf l)\n",
    "}{\\partial \\rho} \n",
    "\\end{bmatrix} \n",
    "$$\n",
    "\n",
    "$$\n",
    "\\equiv \\begin{bmatrix} 1^\\intercal \\\\ \\operatorname{vec}(k_{it})^\\intercal \\\\ \\operatorname{vec}(l_{it-1})^\\intercal  \\\\ \\operatorname{vec}(\\Phi_{it-1})^\\intercal \\end{bmatrix}_{4\\times n} \\begin{bmatrix} \\frac{\\partial \\mathbf h}{\\partial \\beta_0} & \\frac{\\partial \\mathbf h}{\\partial \\beta_k} & \\frac{\\partial \\mathbf h}{\\partial \\beta_l} & \\frac{\\partial \\mathbf h}{\\partial \\rho}  \\end{bmatrix}_{4x4}\n",
    "$$\n",
    "\n",
    "\n",
    "is the Jacobian of the error function with respect to $\\theta = \\left(\\beta_0, \\beta_k, \\beta_l, \\rho\\right)$. \n",
    "\n",
    "We already have code to calculate the first matrix here -- it is just called ```Vex```, \"vectors of exogeneity restrictions.\"\n",
    "It remains to calculate the partial derivatives in the second matrix.\n",
    "\n",
    "$$\n",
    "\\mathbf h = \\operatorname{vec}\\left(y_{it} - \\beta_0 - \\beta_k k_{it} - \\beta_l l_{it} - \\rho\\left(\\tilde \\Phi_{t-1}\\left(k_{it-1}, l_{it-1}, m_{it-1}\\right) - \\beta_0 - \\beta_k k_{it-1} - \\beta_l l_{it-1}\\right)\\right)\n",
    "$$\n",
    "\n",
    "$$\n",
    "\\frac{\\partial \\mathbf h}{\\partial \\beta_0} =  -1 + \\rho\n",
    "$$\n",
    "$$\n",
    "\\frac{\\partial \\mathbf h}{\\partial \\beta_k} = -\\operatorname{vec}(k_{it}) + \\rho\\operatorname{vec}(k_{it-1})\n",
    "$$\n",
    "$$\n",
    "\\frac{\\partial \\mathbf h}{\\partial \\beta_l} = -\\operatorname{vec}(l_{it}) + \\rho\\operatorname{vec}(l_{it-1})\n",
    "$$\n",
    "$$\n",
    "\\frac{\\partial \\mathbf h}{\\partial \\rho} = \\operatorname{vec}\\left( - \\left(\\tilde \\Phi_{t-1}\\left(k_{it-1}, l_{it-1}, m_{it-1}\\right) - \\beta_0 - \\beta_k k_{it-1} - \\beta_l l_{it-1}\\right)\\right) \n",
    "$$\n",
    "\n",
    "\n",
    "\n"
   ]
  },
  {
   "cell_type": "code",
   "execution_count": 18,
   "metadata": {},
   "outputs": [],
   "source": [
    "def jacobian_ACF(theta, args, Vex):\n",
    "    y, Phi, Phiprev, k, kprev, l, lprev = args\n",
    "    \n",
    "    #Partial derivatives of h\n",
    "    Dh = np.nan_to_num(np.vstack(\n",
    "        [\n",
    "         np.ones(len(k))*(-1 + theta[3]), #dh/dbeta0  \n",
    "         -k + theta[3]*kprev,             #dh/dbetak\n",
    "         -l + theta[3]*lprev,             #dh/dbetal\n",
    "         -(Phiprev - theta[0] - theta[1]*kprev - theta[2]*lprev)\n",
    "        ]\n",
    "    ),  nan=0).T\n",
    "\n",
    "    Jac = Vex@Dh\n",
    "    return Jac\n",
    "\n",
    "\n",
    "def gradient_ACF(theta, args, Vex, W):\n",
    "    moment_error = moment_error_ACF(theta, args)\n",
    "    err = Vex@moment_error\n",
    "    Jac = jacobian_ACF(theta, args, Vex)\n",
    "    Grad = (2*Jac.T @ W @ err)\n",
    "    return Grad\n"
   ]
  },
  {
   "cell_type": "code",
   "execution_count": 23,
   "metadata": {},
   "outputs": [
    {
     "data": {
      "text/plain": [
       "array([ 0.00000000e+00,  4.21897327e+06, -1.15537652e+04, -2.73682493e+07])"
      ]
     },
     "execution_count": 23,
     "metadata": {},
     "output_type": "execute_result"
    }
   ],
   "source": [
    "#testing\n",
    "Jac = jacobian_ACF(theta0, args_ACF, Vex)\n",
    "Jac\n",
    "Grad = gradient_ACF(theta0, args_ACF, Vex, W0)\n",
    "Grad"
   ]
  },
  {
   "cell_type": "markdown",
   "metadata": {},
   "source": [
    "## Now, use a minimization routine, with the Jacobian, to optimize for theta. "
   ]
  },
  {
   "cell_type": "code",
   "execution_count": 48,
   "metadata": {},
   "outputs": [
    {
     "data": {
      "text/plain": [
       "0.010508466106636766"
      ]
     },
     "execution_count": 48,
     "metadata": {},
     "output_type": "execute_result"
    }
   ],
   "source": [
    "args_ACF = format_args_ACF(df)\n",
    "gmm_args = (args_ACF, Vex, W0)\n",
    "\n",
    "#Solving using my own gradient\n",
    "theta_results_grad = opt.minimize(gmm_obj_ACF, theta0, args=gmm_args,\n",
    "                       tol=1e-14, jac=gradient_ACF, method='L-BFGS-B')\n",
    "#Solving without providing a gradient\n",
    "theta_results_nograd = opt.minimize(gmm_obj_ACF, theta0, args=gmm_args,\n",
    "                        tol=1e-14, method='L-BFGS-B')\n",
    "theta_results_grad.x, theta_results_nograd.x\n",
    "theta_results = theta_results_grad.x\n",
    "\n",
    "gmm_obj_ACF(theta_results, args_ACF, Vex, W0)"
   ]
  }
 ],
 "metadata": {
  "anaconda-cloud": {},
  "celltoolbar": "Slideshow",
  "kernelspec": {
   "display_name": "Python 3 (Spyder)",
   "language": "python3",
   "name": "python3"
  },
  "language_info": {
   "codemirror_mode": {
    "name": "ipython",
    "version": 3
   },
   "file_extension": ".py",
   "mimetype": "text/x-python",
   "name": "python",
   "nbconvert_exporter": "python",
   "pygments_lexer": "ipython3",
   "version": "3.12.3"
  }
 },
 "nbformat": 4,
 "nbformat_minor": 4
}
