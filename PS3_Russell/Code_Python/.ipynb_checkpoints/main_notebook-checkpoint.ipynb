{
 "cells": [
  {
   "cell_type": "markdown",
   "id": "d93ef834",
   "metadata": {},
   "source": [
    "# Py file testing"
   ]
  },
  {
   "cell_type": "code",
   "execution_count": 58,
   "id": "be27668b",
   "metadata": {},
   "outputs": [],
   "source": [
    "from ACF_GNR_estimation_functions import *"
   ]
  },
  {
   "cell_type": "code",
   "execution_count": 52,
   "id": "0d9055c8",
   "metadata": {},
   "outputs": [],
   "source": [
    "df_ACF = load_data(\"ACF\")\n",
    "df_GNR = load_data(\"GNR\")"
   ]
  },
  {
   "cell_type": "code",
   "execution_count": 53,
   "id": "fddba7ce",
   "metadata": {},
   "outputs": [
    {
     "name": "stdout",
     "output_type": "stream",
     "text": [
      "The gradient at the optimum is:  [-2.15671787e-15 -1.29091124e-15]\n",
      "The GMM error using the gradient is: 4.558741784704597e-30\n",
      "The estimates using autograd: [beta_k, beta_l] =  [0.3235676  0.73189068]\n",
      "The slope of the AR(1) of productivity is: rho =  0.882158674944975\n"
     ]
    }
   ],
   "source": [
    "theta0 = np.array([1,1])/2\n",
    "coeffs_ACF, convergence = ACF_estimation(df_ACF, theta0, print_results=1)"
   ]
  },
  {
   "cell_type": "code",
   "execution_count": 59,
   "id": "29723630",
   "metadata": {},
   "outputs": [
    {
     "name": "stdout",
     "output_type": "stream",
     "text": [
      "The error is: 1.7588529843286138e-23\n",
      "The gradient is: [1.16328331e-10 7.79834445e-11 2.80147218e-09 1.55028140e-09\n",
      " 8.06444239e-10]\n",
      "The coefficients for the integration constant [alpha] are: [ 0.22962852 -2.6976986  -0.08259352  0.26112497  0.05193076]\n",
      "The coefficients for productivity omega [delta] are: [1.97089299 0.17895714 0.08014284]\n",
      "The average produc [1.97089299 0.17895714 0.08014284]\n",
      "the average productivity [omega] is: 3.839691994977758\n",
      "the average elasticity [df/dm] is: 0.5696607852773187\n"
     ]
    }
   ],
   "source": [
    "alpha0 = np.ones(5)/2 #This is the required size to have coefficeints for k, l, kl, k**2, l**2\n",
    "\n",
    "GNR_estimation(df_GNR, alpha0, print_results = 1)"
   ]
  },
  {
   "cell_type": "markdown",
   "id": "79e2a7e6",
   "metadata": {},
   "source": [
    "# Bootstrap:"
   ]
  },
  {
   "cell_type": "code",
   "execution_count": null,
   "id": "4aa93b13",
   "metadata": {},
   "outputs": [],
   "source": [
    "#Set seed"
   ]
  },
  {
   "cell_type": "code",
   "execution_count": 4,
   "id": "00ed1ac8",
   "metadata": {},
   "outputs": [],
   "source": [
    "#Use the initial condition from the true data, coeffs_ACF[:2], to improve speed and convergence. \n",
    "bootstrap_results, convergence = bootstrap(ACF_estimation, coeffs_ACF[:2], df_ACF)\n",
    "means = bootstrap_results.mean(axis=0)\n",
    "std_devs = bootstrap_results.std(axis=0)"
   ]
  },
  {
   "cell_type": "code",
   "execution_count": 48,
   "id": "27f9a214",
   "metadata": {},
   "outputs": [
    {
     "data": {
      "text/plain": [
       "array([0.81520814, 2.14155504, 0.96830403])"
      ]
     },
     "execution_count": 48,
     "metadata": {},
     "output_type": "execute_result"
    }
   ],
   "source": [
    "results_boot_ACF[100]\n"
   ]
  }
 ],
 "metadata": {
  "kernelspec": {
   "display_name": "Python 3 (Spyder)",
   "language": "python3",
   "name": "python3"
  },
  "language_info": {
   "codemirror_mode": {
    "name": "ipython",
    "version": 3
   },
   "file_extension": ".py",
   "mimetype": "text/x-python",
   "name": "python",
   "nbconvert_exporter": "python",
   "pygments_lexer": "ipython3",
   "version": "3.11.7"
  }
 },
 "nbformat": 4,
 "nbformat_minor": 5
}
