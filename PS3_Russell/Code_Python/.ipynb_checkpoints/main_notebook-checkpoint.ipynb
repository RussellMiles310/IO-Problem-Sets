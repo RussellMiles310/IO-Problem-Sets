{
 "cells": [
  {
   "cell_type": "markdown",
   "id": "9b1aef2a",
   "metadata": {},
   "source": [
    "# Py file testing"
   ]
  },
  {
   "cell_type": "code",
   "execution_count": 666,
   "id": "e971a6f3",
   "metadata": {},
   "outputs": [],
   "source": [
    "from ACF_GNR_estimation_functions import *"
   ]
  },
  {
   "cell_type": "code",
   "execution_count": 668,
   "id": "7133141b",
   "metadata": {},
   "outputs": [],
   "source": [
    "df_ACF = load_data(\"ACF\")\n",
    "df_GNR = load_data(\"GNR\")"
   ]
  },
  {
   "cell_type": "code",
   "execution_count": 670,
   "id": "52fd4cba",
   "metadata": {},
   "outputs": [
    {
     "name": "stdout",
     "output_type": "stream",
     "text": [
      "The gradient at the optimum is:  [1.19064544e-14 7.09991245e-15]\n",
      "The GMM error using the gradient is: 1.3973985035997367e-28\n",
      "The estimates using autograd: [beta_k, beta_l] =  [0.32356761 0.73189068]\n",
      "The slope of the AR(1) of productivity is: rho =  0.8821586747079723\n"
     ]
    }
   ],
   "source": [
    "theta0 = np.array([1,1])/2\n",
    "coeffs_ACF, convergence = ACF_estimation(df_ACF, theta0, print_results=1)\n",
    "theta_ACF = coeffs_ACF[1:3]"
   ]
  },
  {
   "cell_type": "markdown",
   "id": "d0be6237",
   "metadata": {},
   "source": [
    "### Note: when bootstrapping, the rho falls. Why? It has to do with the time series properties of the data. \n",
    "### Use \"block bootstrap\" designed for panel data. \n",
    "This samples the firms with replacement. "
   ]
  },
  {
   "cell_type": "code",
   "execution_count": 672,
   "id": "a563792e",
   "metadata": {},
   "outputs": [
    {
     "name": "stdout",
     "output_type": "stream",
     "text": [
      "The gradient at the optimum is:  [-1.24495888e-14 -7.97498356e-15]\n",
      "The GMM error using the gradient is: 1.7469718081992206e-28\n",
      "The estimates using autograd: [beta_k, beta_l] =  [0.29802329 0.7807325 ]\n",
      "The slope of the AR(1) of productivity is: rho =  0.8844675799404267\n"
     ]
    }
   ],
   "source": [
    "#n_firm_samples = len(df_ACF['firm_id'].unique())\n",
    "df_boot_ACF = bootstrap_sample_panel(df_ACF, 1)\n",
    "dfb1 = df_boot_ACF[0]\n",
    "coeffs_ACF_boot, _ = ACF_estimation(dfb1, theta_ACF, print_results=1)"
   ]
  },
  {
   "cell_type": "code",
   "execution_count": 674,
   "id": "4b40bca1",
   "metadata": {},
   "outputs": [
    {
     "name": "stdout",
     "output_type": "stream",
     "text": [
      "The error is: 2.017527216637981e-24\n",
      "The gradient is: [5.73400746e-11 3.35555990e-11 1.37255468e-09 7.02585598e-10\n",
      " 3.46728579e-10]\n",
      "The coefficients for the integration constant [alpha] are: [ 0.22962852 -2.6976986  -0.08259352  0.26112497  0.05193076]\n",
      "The coefficients for productivity omega [delta] are: [1.97089299 0.17895714 0.08014284]\n",
      "the average productivity [omega] is: 3.8396919941227203\n",
      "the average elasticity [df/dm] is: 0.569660785277684\n",
      "----Assuming Cobb-Douglas----\n",
      "[beta_0, beta_k, beta_l, beta_m] =  [-0.21136415  0.19574309  0.31153059  0.46819569]\n"
     ]
    }
   ],
   "source": [
    "alpha0 = np.ones(5)/2 #This is the required size to have coefficeints for k, l, kl, k**2, l**2. Need to change if the degree is changed\n",
    "gammaprime0 = np.ones(10)/2  #Also needs to change if the degree is changed\n",
    "\n",
    "initial_guesses0 = (alpha0, gammaprime0)\n",
    "\n",
    "results_params_GNR, results_convergence_GNR, alpha_GNR, gammaprime_GNR = GNR_estimation(df_GNR, initial_guesses0, print_results = 1)\n",
    "\n",
    "initial_guesses_GNR = (alpha_GNR, gammaprime_GNR)"
   ]
  },
  {
   "cell_type": "code",
   "execution_count": 676,
   "id": "7f08b000",
   "metadata": {},
   "outputs": [
    {
     "name": "stdout",
     "output_type": "stream",
     "text": [
      "The error is: 2.0990131401017668e-24\n",
      "The gradient is: [2.99701564e-11 1.70933783e-11 7.26522949e-10 3.59416382e-10\n",
      " 1.70206466e-10]\n",
      "The coefficients for the integration constant [alpha] are: [ 1.24800574 -5.46332764 -0.18720228  0.64786964 -0.12578311]\n",
      "The coefficients for productivity omega [delta] are: [1.22047973 0.71622548 0.01033014]\n",
      "the average productivity [omega] is: 5.287103084969627\n",
      "the average elasticity [df/dm] is: 0.5929509691528064\n",
      "----Assuming Cobb-Douglas----\n",
      "[beta_0, beta_k, beta_l, beta_m] =  [-1.65982147  0.13552359  0.35405632  0.5051003 ]\n"
     ]
    }
   ],
   "source": [
    "df_boot_GNR = bootstrap_sample_panel(df_GNR, 1)\n",
    "dfb1GNR = df_boot_GNR[0]\n",
    "_, _, _, _ = GNR_estimation(dfb1GNR, initial_guesses_GNR , print_results = 1)"
   ]
  },
  {
   "cell_type": "markdown",
   "id": "88e06102",
   "metadata": {},
   "source": [
    "# Bootstrap:"
   ]
  },
  {
   "cell_type": "code",
   "execution_count": 678,
   "id": "cce7023d",
   "metadata": {},
   "outputs": [],
   "source": [
    "n_boot_samples = 10"
   ]
  },
  {
   "cell_type": "code",
   "execution_count": 699,
   "id": "6b1d2dce",
   "metadata": {},
   "outputs": [],
   "source": [
    "#Use the initial condition from the true data, coeffs_ACF[:2], to improve speed and convergence. \n",
    "bootstrap_results_ACF, convergence_ACF = bootstrap(ACF_estimation, theta_ACF, df_ACF, n_boot_samples)\n",
    "\n",
    "#Summarize array\n",
    "ACF_row_names = np.array([\"beta_0\", \"beta_k\", \"beta_l\", \"rho\", \"Eomega\", \"gmm_error\"])\n",
    "ACF_summary = summarize_array(coeffs_ACF, bootstrap_results_ACF, ACF_row_names[:-1])\n",
    "\n",
    "boot_full_ACF = pd.DataFrame(np.hstack((bootstrap_results_ACF, convergence_ACF)), columns = ACF_row_names) \n",
    "\n",
    "#Save to CSV\n",
    "ACF_summary.to_csv(\"../Results/summary_stats_ACF.csv\")\n",
    "boot_full_ACF.to_csv(\"../Results/full_bootstrap_ACF.csv\")"
   ]
  },
  {
   "cell_type": "code",
   "execution_count": 709,
   "id": "0106916e",
   "metadata": {},
   "outputs": [
    {
     "name": "stdout",
     "output_type": "stream",
     "text": [
      "convergence failed on sample 6 ; trying new initial guess.\n",
      "convergence succeeded on sample 6\n",
      "convergence failed on sample 7 ; trying new initial guess.\n",
      "convergence failed on sample 7 ; trying new initial guess.\n",
      "convergence failed on sample 7 ; trying new initial guess.\n",
      "convergence failed on sample 7 ; trying new initial guess.\n",
      "convergence failed on sample 7 ; trying new initial guess.\n",
      "convergence failed on sample 7 ; trying new initial guess.\n",
      "convergence failed on sample 7 ; trying new initial guess.\n",
      "convergence failed on sample 7 ; trying new initial guess.\n",
      "convergence succeeded on sample 7\n",
      "convergence failed on sample 8 ; trying new initial guess.\n",
      "convergence succeeded on sample 8\n",
      "convergence failed on sample 9 ; trying new initial guess.\n",
      "convergence succeeded on sample 9\n"
     ]
    }
   ],
   "source": [
    "#Use the initial condition from the true data, coeffs_ACF[:2], to improve speed and convergence. \n",
    "bootstrap_results_GNR, convergence_GNR = bootstrap(GNR_estimation, initial_guesses_GNR, df_GNR, n_boot_samples, columns = 6)\n",
    "\n",
    "#Summarize array\n",
    "GNR_row_names = np.array([\"beta_0_cd\", \"beta_k_cd\", \"beta_l_cd\", \"beta_m_cd\", \"Edf_dm\", \"Eomega\", \"gmm_error\"])\n",
    "GNR_summary = summarize_array(results_params_GNR, bootstrap_results_GNR, GNR_row_names[:-1])\n",
    "\n",
    "boot_full_GNR = pd.DataFrame(np.hstack((bootstrap_results_GNR, convergence_GNR)), columns = GNR_row_names) \n",
    "\n",
    "\n",
    "#Save to CSV\n",
    "GNR_summary.to_csv(\"../Results/summary_stats_GNR.csv\")\n",
    "boot_full_GNR.to_csv(\"../Results/full_bootstrap_GNR.csv\")"
   ]
  }
 ],
 "metadata": {
  "kernelspec": {
   "display_name": "Python 3 (Spyder)",
   "language": "python3",
   "name": "python3"
  },
  "language_info": {
   "codemirror_mode": {
    "name": "ipython",
    "version": 3
   },
   "file_extension": ".py",
   "mimetype": "text/x-python",
   "name": "python",
   "nbconvert_exporter": "python",
   "pygments_lexer": "ipython3",
   "version": "3.11.7"
  }
 },
 "nbformat": 4,
 "nbformat_minor": 5
}
