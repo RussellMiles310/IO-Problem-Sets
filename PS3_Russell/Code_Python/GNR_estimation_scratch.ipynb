{
 "cells": [
  {
   "cell_type": "markdown",
   "metadata": {},
   "source": [
    "# Load in the data\n"
   ]
  },
  {
   "cell_type": "code",
   "execution_count": 22,
   "metadata": {},
   "outputs": [],
   "source": [
    "#Source functions\n",
    "#import autograd.numpy as np\n",
    "#from autograd import grad, hessian\n",
    "#import pandas as pd\n",
    "#import scipy.optimize as opt\n",
    "#import matplotlib.pyplot as plt\n",
    "#from mpl_toolkits.mplot3d import Axes3D\n",
    "#import math\n",
    "#from itertools import combinations_with_replacement, chain #used for constructing polynomials\n",
    "\n",
    "#Functions for ACF and GNR\n",
    "from source_functions import *"
   ]
  },
  {
   "cell_type": "code",
   "execution_count": 23,
   "metadata": {},
   "outputs": [],
   "source": [
    "df = load_data(\"GNR\")\n",
    "\n",
    "#filename = \"../PS3_data_changedtoxlsx.xlsx\"\n",
    "#df0 = pd.read_excel(filename)\n",
    "#Remove missing materials columns\n",
    "#df = df0[['year', 'firm_id', 'X03', 'X04', 'X05', 'X16', 'X40', 'X43', 'X44', 'X45', 'X49']]\n",
    "#new_names = [\"year\", \"firm_id\", \"obs\", \"ly\", \"s01\", \"s02\", \"lc\", \"ll\", \"lm\"]\n",
    "#new_names = [\"t\", \"firm_id\", \"y_gross\", \"s01\", \"s02\", \"s13\", \"k\", \"l\", \"m\", 'py', 'pm']\n",
    "#df.columns = new_names\n",
    "#Drop missing materials data\n",
    "#df=df[df['m']!=0]\n",
    "#Keep industry 1 only\n",
    "#df=df[df['s13']==1]\n",
    "\n",
    "#Creating value-added y\n",
    "#df['y'] = df['y_gross']\n",
    "#Creating the intermeidate share of output cost variable: emember everything is already in logs \n",
    "#df['s'] = np.log(np.exp(df['pm'])*np.exp(df['m']))/(np.exp(df['py'])*np.exp(df['y']))\n",
    "#df['s'] = df['pm']+df['m'] - df['py'] - df['y']\n",
    "#Creating lagged variables\n",
    "#df = df.sort_values(by=['firm_id', 't'])\n",
    "#df['kprev'] = df.groupby('firm_id')['k'].shift(1)\n",
    "#df['lprev'] = df.groupby('firm_id')['l'].shift(1)\n",
    "#df['mprev'] = df.groupby('firm_id')['m'].shift(1)"
   ]
  },
  {
   "cell_type": "code",
   "execution_count": 24,
   "metadata": {},
   "outputs": [],
   "source": [
    "degree= 2\n",
    "#Make the polynomial design matrix\n",
    "xvars = df[['k', 'l', 'm']].to_numpy()\n",
    "s = df[['s']].to_numpy()\n",
    "X_poly_D = poly_design_matrix(xvars, degree)\n",
    "#calculate the gradient of the objective function using AutoGrad\n",
    "autogradient_nlls = grad(nlls_share_obj)\n",
    "autohessian_nlls = hessian(nlls_share_obj)\n",
    "#initial guess\n",
    "\n",
    "gammaprime0 = np.ones(X_poly_D.shape[1])/2"
   ]
  },
  {
   "cell_type": "code",
   "execution_count": 25,
   "metadata": {},
   "outputs": [
    {
     "name": "stdout",
     "output_type": "stream",
     "text": [
      "The error is: 45.75189355502215\n",
      "The gradient is: [2.24826140e-07 2.43663861e-06 1.03468366e-06 2.56415524e-06\n",
      " 2.72901700e-05 1.16786740e-05 2.87435122e-05 5.12676749e-06\n",
      " 1.23432865e-05 3.06782765e-05]\n",
      "The coefficients in the degree-1 fit are: [-0.06492208  0.07132593 -0.04254507 -0.05276808 -0.00885781  0.02737997\n",
      " -0.00261827  0.00630371 -0.03944874  0.01855989]\n"
     ]
    }
   ],
   "source": [
    "#minimize to fit the coefficients gammaprime \n",
    "#Enforce that X@gamma is nonnegative, otherwise we get negative values in the log\n",
    "nonnegative_b = {'type': 'ineq', 'fun': lambda b: (X_poly_D@b)}\n",
    "\n",
    "gammaprime_results = opt.minimize(nlls_share_obj, gammaprime0, args=(X_poly_D, s),\n",
    "                                  constraints = [nonnegative_b],\n",
    "                       tol=1e-12, jac=autogradient_nlls, hess = autohessian_nlls, method='trust-constr'\n",
    ")\n",
    "\n",
    "print(\"The error is:\",  gammaprime_results.fun)\n",
    "print(\"The gradient is:\",  gammaprime_results.grad)\n",
    "print(\"The coefficients in the degree-1 fit are:\",  gammaprime_results.x)\n",
    "\n",
    "shat = np.log(X_poly_D@gammaprime_results.x)"
   ]
  },
  {
   "cell_type": "markdown",
   "metadata": {},
   "source": [
    "## Actual by predicted plot for my polynomial approximation of $\\Phi$, run on the entire sample"
   ]
  },
  {
   "cell_type": "markdown",
   "metadata": {},
   "source": [
    "### Now we have $\\hat D_{jt}$."
   ]
  },
  {
   "cell_type": "code",
   "execution_count": 28,
   "metadata": {},
   "outputs": [],
   "source": [
    "gammaprime = gammaprime_results.x\n",
    "#Get Dhat, the elasticities\n",
    "df['Dhat'] = X_poly_D@gammaprime\n",
    "#Back out the residuals, epsilons\n",
    "df['epsilonhat'] = np.log(df['Dhat']) - df['s']\n",
    "# mean of epsilon is 1e-12 --- good sign\n",
    "mean_eps = np.mean((df['epsilonhat']))\n",
    "var_eps = np.var((df['epsilonhat']))\n",
    "#From here, estimate curlyE which is the sample average of exp(epsilons)\n",
    "#Turns out to be 1.02.  the mean of a lognormal variable of mean 0 is e^(sigma^2/2). That implies the variance of the epsilons is vey low. \n",
    "CurlyEhat = (np.mean(np.exp(df['epsilonhat'])))\n",
    "lognormal_guess_curlyEhat = np.exp(var_eps/2)\n",
    "#The theoretial guess for CurlyEhat given epsilon ~ N(0, sigma^2) is very close to the actual curlyEhat, \n",
    "#suggesting the epsilons are approximately normally distributed. \n",
    "#It follows from the math above that ...\n",
    "gamma = gammaprime/CurlyEhat\n",
    "df['df_dm'] = X_poly_D@gamma"
   ]
  },
  {
   "cell_type": "code",
   "execution_count": 29,
   "metadata": {},
   "outputs": [],
   "source": [
    "#Get the design matrix associated with the integral of the polynomial\n",
    "X_poly_D_integral =  poly_integral_design_matrix(xvars, degree, w_r_t = 2)\n",
    "#Evaluate it to get curlyD, which is the integral of the log elasticities\n",
    "df['CurlyD'] = X_poly_D_integral@gamma \n",
    "#from here, get CurlyY\n",
    "df['CurlyY'] = df['y'] - df['epsilonhat'] - df['CurlyD']"
   ]
  },
  {
   "cell_type": "code",
   "execution_count": 30,
   "metadata": {},
   "outputs": [],
   "source": [
    "#First, drop all NaNs\n",
    "df['CurlyYprev'] = df.groupby('firm_id')['CurlyY'].shift(1)\n",
    "\n",
    "\n",
    "df_nonans = df.dropna().copy()\n",
    "\n",
    "degree_omega = 2\n",
    "xvars_omega = df_nonans[[\"k\", \"l\"]].to_numpy()\n",
    "xvars_prev_omega = df_nonans[[\"kprev\", \"lprev\"]].to_numpy()\n",
    "\n",
    "#This polynomial fit has NO INTERCEPT. Even if we wanted an intercept it would not be identified because we end up taking first differences of omega. \n",
    "X_poly_omega = poly_design_matrix(xvars_omega, degree_omega)[:, 1:]\n",
    "Xprev_poly_omega = poly_design_matrix(xvars_prev_omega, degree_omega)[:, 1:]\n",
    "\n",
    "#Previous CurlyY\n",
    "CurlyY = df_nonans['CurlyY'].to_numpy()\n",
    "CurlyYprev = df_nonans['CurlyYprev'].to_numpy()"
   ]
  },
  {
   "cell_type": "code",
   "execution_count": 31,
   "metadata": {},
   "outputs": [
    {
     "name": "stdout",
     "output_type": "stream",
     "text": [
      "The error is: 4.302561928998854e-25\n",
      "The gradient is: [1.90550302e-11 1.09182153e-11 4.55877902e-10 2.30643904e-10\n",
      " 1.12858618e-10]\n",
      "The coefficients for the integration constant [alpha] are: [ 0.22962852 -2.6976986  -0.08259352  0.26112497  0.05193076]\n",
      "The coefficients for productivity omega [delta] are: [1.97089299 0.17895714 0.08014284]\n"
     ]
    }
   ],
   "source": [
    "#initial guess for alpha, the polynomial fit for omega\n",
    "alpha0 = np.ones(X_poly_omega.shape[1])*10\n",
    "W0 = np.eye(len(alpha0))\n",
    "\n",
    "args_GNR = (X_poly_omega, Xprev_poly_omega, CurlyY, CurlyYprev, W0)\n",
    "\n",
    "gmm_results_GNR = opt.minimize(gmm_obj_fcn_GNR, alpha0, args=args_GNR,\n",
    "                       tol=1e-24, jac=autogradient_GNR, method='L-BFGS-B'\n",
    ")\n",
    "\n",
    "alpha = gmm_results_GNR.x\n",
    "delta, eta = gmm_stage2_error_GNR(alpha, X_poly_omega, Xprev_poly_omega, CurlyY, CurlyYprev)[1:3]\n",
    "\n",
    "print(\"The error is:\",  gmm_results_GNR.fun)\n",
    "print(\"The gradient is:\",  gmm_results_GNR.jac)\n",
    "print(\"The coefficients for the integration constant [alpha] are:\",  gmm_results_GNR.x)\n",
    "print(\"The coefficients for productivity omega [delta] are:\",  delta)\n"
   ]
  },
  {
   "cell_type": "code",
   "execution_count": null,
   "metadata": {},
   "outputs": [],
   "source": []
  }
 ],
 "metadata": {
  "anaconda-cloud": {},
  "celltoolbar": "Slideshow",
  "kernelspec": {
   "display_name": "Python 3 (Spyder)",
   "language": "python3",
   "name": "python3"
  },
  "language_info": {
   "codemirror_mode": {
    "name": "ipython",
    "version": 3
   },
   "file_extension": ".py",
   "mimetype": "text/x-python",
   "name": "python",
   "nbconvert_exporter": "python",
   "pygments_lexer": "ipython3",
   "version": "3.12.3"
  }
 },
 "nbformat": 4,
 "nbformat_minor": 4
}
