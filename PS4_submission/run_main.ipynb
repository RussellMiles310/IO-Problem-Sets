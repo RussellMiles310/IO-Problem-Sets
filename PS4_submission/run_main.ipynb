{
 "cells": [
  {
   "cell_type": "code",
   "execution_count": 13,
   "id": "ecb16cbb",
   "metadata": {},
   "outputs": [],
   "source": [
    "from source_functions import *\n",
    "from estimate_BLP import *"
   ]
  },
  {
   "cell_type": "markdown",
   "id": "2e66a160",
   "metadata": {},
   "source": [
    "# Part 2.2: Demand-side estimation, 100 markets"
   ]
  },
  {
   "cell_type": "markdown",
   "id": "9b340848",
   "metadata": {},
   "source": [
    "## Load data and set function arguments"
   ]
  },
  {
   "cell_type": "code",
   "execution_count": 15,
   "id": "e00ff883",
   "metadata": {},
   "outputs": [],
   "source": [
    "df_3p, alphas_3p = load_mat_data('Simulation Data/100markets3products.mat', 3, 100)\n",
    "df_5p, alphas_5p = load_mat_data('Simulation Data/100markets5products.mat', 5, 100)\n",
    "\n",
    "sigma_alpha_init = 1.0 #initial guess\n",
    "df = df_3p #data\n",
    "alphas = alphas_3p #random coefficients on prices\n",
    "mode = \"demand_side\" #demand-side moments only"
   ]
  },
  {
   "cell_type": "code",
   "execution_count": null,
   "id": "bf048a66",
   "metadata": {
    "scrolled": true
   },
   "outputs": [
    {
     "name": "stdout",
     "output_type": "stream",
     "text": [
      "#============================================================================#\n",
      "#== Solving the MPEC optimization routine\n",
      "#============================================================================#\n",
      "| niter |f evals|CG iter|  obj func   |tr radius |   opt    |  c viol  | penalty  |CG stop|\n",
      "|-------|-------|-------|-------------|----------|----------|----------|----------|-------|\n",
      "|   1   |   1   |   0   | +7.0000e+00 | 1.00e+00 | 1.04e-04 | 1.00e+00 | 1.00e+00 |   0   |\n",
      "|   2   |   2   |   1   | +3.6812e+00 | 5.60e+00 | 9.14e-05 | 7.25e-01 | 1.00e+00 |   1   |\n",
      "|   3   |   3   |   2   | +1.8076e-02 | 3.14e+01 | 2.87e-05 | 4.12e-01 | 1.70e+02 |   1   |\n",
      "|   4   |   4   |   3   | +1.1035e+00 | 1.76e+02 | 3.00e-03 | 8.38e-02 | 2.90e+03 |   1   |\n",
      "|   5   |   5   |   4   | +1.0374e+00 | 1.76e+02 | 3.84e-03 | 2.20e-02 | 2.90e+03 |   1   |\n",
      "|   6   |   6   |   5   | +8.2412e-01 | 1.76e+02 | 3.54e-03 | 6.52e-03 | 2.90e+03 |   1   |\n",
      "|   7   |   7   |   6   | +6.5876e-01 | 1.76e+02 | 3.18e-03 | 1.60e-03 | 4.88e+03 |   1   |\n",
      "|   8   |   8   |   7   | +5.6402e-01 | 1.76e+02 | 2.95e-03 | 1.94e-04 | 9.78e+03 |   1   |\n",
      "|   9   |   9   |   8   | +5.2158e-01 | 1.76e+02 | 2.84e-03 | 2.20e-05 | 2.94e+04 |   1   |\n",
      "|  10   |  10   |   9   | +5.0572e-01 | 1.76e+02 | 2.80e-03 | 5.96e-06 | 9.66e+04 |   1   |\n",
      "|  11   |  11   |  10   | +5.0097e-01 | 1.76e+02 | 2.79e-03 | 9.37e-07 | 1.50e+05 |   1   |\n",
      "|  12   |  12   |  11   | +5.0008e-01 | 1.76e+02 | 2.78e-03 | 3.60e-08 | 1.50e+05 |   1   |\n",
      "|  13   |  13   |  12   | +5.0000e-01 | 1.76e+02 | 2.78e-03 | 5.90e-11 | 1.50e+05 |   1   |\n",
      "|  14   |  14   |  13   | +4.9996e-01 | 1.76e+02 | 2.78e-03 | 9.05e-12 | 1.50e+05 |   1   |\n",
      "|  15   |  16   |  14   | +4.9996e-01 | 1.76e+01 | 2.78e-03 | 9.05e-12 | 1.50e+05 |   1   |\n",
      "|  16   |  18   |  15   | +4.9996e-01 | 1.76e+00 | 2.78e-03 | 9.05e-12 | 1.50e+05 |   1   |\n",
      "|  17   |  20   |  16   | +4.9996e-01 | 1.76e-01 | 2.78e-03 | 9.05e-12 | 1.50e+05 |   2   |\n",
      "|  18   |  22   |  17   | +4.9595e-01 | 1.23e+00 | 2.77e-03 | 7.54e-11 | 1.50e+05 |   2   |\n",
      "|  19   |  24   |  18   | +4.6831e-01 | 2.46e+00 | 2.69e-03 | 2.63e-08 | 1.50e+05 |   2   |\n",
      "|  20   |  26   |  19   | +4.6831e-01 | 2.46e-01 | 2.69e-03 | 2.63e-08 | 1.50e+05 |   2   |\n",
      "|  21   |  28   |  20   | +4.6289e-01 | 1.72e+00 | 2.67e-03 | 2.12e-10 | 1.50e+05 |   2   |\n",
      "|  22   |  30   |  21   | +4.6289e-01 | 1.72e-01 | 2.67e-03 | 2.12e-10 | 1.50e+05 |   2   |\n",
      "|  23   |  32   |  22   | +4.5911e-01 | 1.20e+00 | 2.66e-03 | 7.31e-11 | 1.50e+05 |   2   |\n",
      "|  24   |  34   |  23   | +4.3311e-01 | 1.20e+00 | 2.58e-03 | 2.55e-08 | 1.50e+05 |   2   |\n",
      "|  25   |  36   |  24   | +4.0792e-01 | 2.41e+00 | 2.50e-03 | 2.61e-08 | 1.50e+05 |   2   |\n",
      "|  26   |  38   |  25   | +4.0792e-01 | 2.41e-01 | 2.50e-03 | 2.61e-08 | 1.50e+05 |   2   |\n",
      "|  27   |  40   |  26   | +4.0297e-01 | 1.69e+00 | 2.48e-03 | 2.10e-10 | 1.50e+05 |   2   |\n",
      "|  28   |  42   |  27   | +4.0297e-01 | 1.69e-01 | 2.48e-03 | 2.10e-10 | 1.50e+05 |   2   |\n",
      "|  29   |  44   |  28   | +3.9953e-01 | 1.18e+00 | 2.47e-03 | 7.23e-11 | 1.50e+05 |   2   |\n",
      "|  30   |  46   |  29   | +3.7588e-01 | 1.18e+00 | 2.39e-03 | 2.52e-08 | 1.50e+05 |   2   |\n",
      "|  31   |  48   |  30   | +3.5300e-01 | 2.36e+00 | 2.31e-03 | 2.57e-08 | 1.50e+05 |   2   |\n",
      "|  32   |  50   |  31   | +3.5300e-01 | 2.36e-01 | 2.31e-03 | 2.57e-08 | 1.50e+05 |   2   |\n",
      "|  33   |  52   |  32   | +3.4851e-01 | 1.65e+00 | 2.30e-03 | 2.08e-10 | 1.50e+05 |   2   |\n",
      "|  34   |  54   |  33   | +3.4851e-01 | 1.65e-01 | 2.30e-03 | 2.08e-10 | 1.50e+05 |   2   |\n",
      "|  35   |  56   |  34   | +3.4539e-01 | 1.16e+00 | 2.29e-03 | 7.14e-11 | 1.50e+05 |   2   |\n",
      "|  36   |  58   |  35   | +3.2395e-01 | 1.16e+00 | 2.21e-03 | 2.49e-08 | 1.50e+05 |   2   |\n",
      "|  37   |  60   |  36   | +3.0325e-01 | 2.31e+00 | 2.13e-03 | 2.54e-08 | 1.50e+05 |   2   |\n",
      "|  38   |  62   |  37   | +3.0325e-01 | 2.31e-01 | 2.13e-03 | 2.54e-08 | 1.50e+05 |   2   |\n",
      "|  39   |  64   |  38   | +2.9920e-01 | 1.62e+00 | 2.12e-03 | 2.05e-10 | 1.50e+05 |   2   |\n",
      "|  40   |  66   |  39   | +2.9920e-01 | 1.62e-01 | 2.12e-03 | 2.05e-10 | 1.50e+05 |   2   |\n",
      "|  41   |  68   |  40   | +2.9638e-01 | 1.13e+00 | 2.11e-03 | 7.04e-11 | 1.50e+05 |   2   |\n",
      "|  42   |  70   |  41   | +2.7704e-01 | 1.13e+00 | 2.03e-03 | 2.47e-08 | 1.50e+05 |   2   |\n",
      "|  43   |  72   |  42   | +2.5840e-01 | 2.27e+00 | 1.96e-03 | 2.54e-08 | 1.50e+05 |   2   |\n",
      "|  44   |  74   |  43   | +2.5840e-01 | 2.27e-01 | 1.96e-03 | 2.54e-08 | 1.50e+05 |   2   |\n",
      "|  45   |  76   |  44   | +2.5475e-01 | 1.59e+00 | 1.94e-03 | 2.07e-10 | 1.50e+05 |   2   |\n",
      "|  46   |  78   |  45   | +2.5475e-01 | 1.59e-01 | 1.94e-03 | 2.07e-10 | 1.50e+05 |   2   |\n",
      "|  47   |  80   |  46   | +2.5222e-01 | 1.11e+00 | 1.93e-03 | 7.13e-11 | 1.50e+05 |   2   |\n",
      "|  48   |  82   |  47   | +2.5222e-01 | 1.11e-01 | 1.93e-03 | 7.13e-11 | 1.50e+05 |   2   |\n",
      "|  49   |  84   |  48   | +2.5045e-01 | 7.78e-01 | 1.92e-03 | 2.46e-11 | 1.50e+05 |   2   |\n",
      "|  50   |  86   |  49   | +2.3827e-01 | 1.56e+00 | 1.87e-03 | 8.61e-09 | 1.50e+05 |   2   |\n",
      "|  51   |  88   |  50   | +2.3827e-01 | 1.56e-01 | 1.87e-03 | 8.61e-09 | 1.50e+05 |   2   |\n",
      "|  52   |  90   |  51   | +2.3588e-01 | 1.09e+00 | 1.86e-03 | 6.99e-11 | 1.50e+05 |   2   |\n",
      "|  53   |  92   |  52   | +2.3588e-01 | 1.09e-01 | 1.86e-03 | 6.99e-11 | 1.50e+05 |   2   |\n",
      "|  54   |  94   |  53   | +2.3421e-01 | 7.62e-01 | 1.85e-03 | 2.41e-11 | 1.50e+05 |   2   |\n",
      "|  55   |  96   |  54   | +2.2270e-01 | 1.52e+00 | 1.80e-03 | 8.43e-09 | 1.50e+05 |   2   |\n",
      "|  56   |  98   |  55   | +2.2270e-01 | 1.52e-01 | 1.80e-03 | 8.43e-09 | 1.50e+05 |   2   |\n",
      "|  57   |  100  |  56   | +2.2044e-01 | 1.07e+00 | 1.79e-03 | 6.84e-11 | 1.50e+05 |   2   |\n",
      "|  58   |  102  |  57   | +2.2044e-01 | 1.07e-01 | 1.79e-03 | 6.84e-11 | 1.50e+05 |   2   |\n",
      "|  59   |  104  |  58   | +2.1886e-01 | 7.47e-01 | 1.79e-03 | 2.36e-11 | 1.50e+05 |   2   |\n",
      "|  60   |  106  |  59   | +2.0799e-01 | 1.49e+00 | 1.74e-03 | 8.24e-09 | 1.50e+05 |   2   |\n",
      "|  61   |  108  |  60   | +2.0799e-01 | 1.49e-01 | 1.74e-03 | 8.24e-09 | 1.50e+05 |   2   |\n",
      "|  62   |  110  |  61   | +2.0585e-01 | 1.05e+00 | 1.73e-03 | 6.69e-11 | 1.50e+05 |   2   |\n",
      "|  63   |  112  |  62   | +2.0585e-01 | 1.05e-01 | 1.73e-03 | 6.69e-11 | 1.50e+05 |   2   |\n",
      "|  64   |  114  |  63   | +2.0436e-01 | 7.32e-01 | 1.72e-03 | 2.30e-11 | 1.50e+05 |   2   |\n",
      "|  65   |  116  |  64   | +1.9410e-01 | 1.46e+00 | 1.67e-03 | 8.06e-09 | 1.50e+05 |   2   |\n",
      "|  66   |  118  |  65   | +1.9410e-01 | 1.46e-01 | 1.67e-03 | 8.06e-09 | 1.50e+05 |   2   |\n",
      "|  67   |  120  |  66   | +1.9208e-01 | 1.02e+00 | 1.66e-03 | 6.54e-11 | 1.50e+05 |   2   |\n",
      "|  68   |  122  |  67   | +1.9208e-01 | 1.02e-01 | 1.66e-03 | 6.54e-11 | 1.50e+05 |   2   |\n",
      "|  69   |  124  |  68   | +1.9067e-01 | 7.17e-01 | 1.66e-03 | 2.25e-11 | 1.50e+05 |   2   |\n",
      "|  70   |  126  |  69   | +1.8099e-01 | 1.43e+00 | 1.61e-03 | 7.87e-09 | 1.50e+05 |   2   |\n",
      "|  71   |  128  |  70   | +1.8099e-01 | 1.43e-01 | 1.61e-03 | 7.87e-09 | 1.50e+05 |   2   |\n",
      "|  72   |  130  |  71   | +1.7908e-01 | 1.00e+00 | 1.60e-03 | 6.38e-11 | 1.50e+05 |   2   |\n",
      "|  73   |  132  |  72   | +1.7908e-01 | 1.00e-01 | 1.60e-03 | 6.38e-11 | 1.50e+05 |   2   |\n",
      "|  74   |  134  |  73   | +1.7776e-01 | 7.03e-01 | 1.59e-03 | 2.20e-11 | 1.50e+05 |   2   |\n"
     ]
    }
   ],
   "source": [
    "out_demandside = estimate_BLP(df, alphas, sigma_alpha_init, mode, verbose_print = 3, scale_delta_guess = 5)"
   ]
  },
  {
   "cell_type": "code",
   "execution_count": 52,
   "id": "ab655bab",
   "metadata": {},
   "outputs": [
    {
     "data": {
      "text/plain": [
       "array([[4.92818632],\n",
       "       [0.95515674],\n",
       "       [1.02872379]])"
      ]
     },
     "execution_count": 52,
     "metadata": {},
     "output_type": "execute_result"
    }
   ],
   "source": [
    "out_demandside['beta_hat']"
   ]
  },
  {
   "cell_type": "code",
   "execution_count": 54,
   "id": "e7a03916",
   "metadata": {},
   "outputs": [
    {
     "data": {
      "text/plain": [
       "0.9675675769687724"
      ]
     },
     "execution_count": 54,
     "metadata": {},
     "output_type": "execute_result"
    }
   ],
   "source": [
    "out_demandside['alpha_hat']"
   ]
  },
  {
   "cell_type": "code",
   "execution_count": 21,
   "id": "d63a8864",
   "metadata": {},
   "outputs": [
    {
     "data": {
      "text/plain": [
       "0.988803761232181"
      ]
     },
     "execution_count": 21,
     "metadata": {},
     "output_type": "execute_result"
    }
   ],
   "source": [
    "out_demandside['sigma_alpha_hat']"
   ]
  },
  {
   "cell_type": "markdown",
   "id": "331e429f",
   "metadata": {},
   "source": [
    "# Part 2.2g: Demand-side instruments, 10 markets\n",
    "Load the data and set function arguments:"
   ]
  },
  {
   "cell_type": "code",
   "execution_count": 4,
   "id": "83a1d7eb",
   "metadata": {},
   "outputs": [],
   "source": [
    "df_3p10m, alphas_3p10m = load_mat_data('Simulation Data/10markets3products.mat', 3, 10)\n",
    "\n",
    "#### Function arguments\n",
    "mode = \"demand_side\" #demand-side moments only"
   ]
  },
  {
   "cell_type": "code",
   "execution_count": 1,
   "id": "d68d3f0b",
   "metadata": {
    "scrolled": true
   },
   "outputs": [],
   "source": [
    "out_demandside_10m=estimate_BLP(df_3p10m, alphas_3p10m, sigma_alpha_init, mode, verbose_print = 3, scale_delta_guess = 1, max_iter=10000)"
   ]
  },
  {
   "cell_type": "code",
   "execution_count": 8,
   "id": "be91ff30",
   "metadata": {},
   "outputs": [
    {
     "data": {
      "text/plain": [
       "array([[2.61933023],\n",
       "       [0.42100499],\n",
       "       [1.36710302]])"
      ]
     },
     "execution_count": 8,
     "metadata": {},
     "output_type": "execute_result"
    }
   ],
   "source": [
    "out_demandside_10m['beta_hat']"
   ]
  },
  {
   "cell_type": "code",
   "execution_count": 9,
   "id": "53c8d61e",
   "metadata": {},
   "outputs": [
    {
     "data": {
      "text/plain": [
       "0.6553970510094898"
      ]
     },
     "execution_count": 9,
     "metadata": {},
     "output_type": "execute_result"
    }
   ],
   "source": [
    "out_demandside_10m['alpha_hat']"
   ]
  },
  {
   "cell_type": "code",
   "execution_count": 10,
   "id": "291a6620",
   "metadata": {},
   "outputs": [
    {
     "data": {
      "text/plain": [
       "0.5041133184257544"
      ]
     },
     "execution_count": 10,
     "metadata": {},
     "output_type": "execute_result"
    }
   ],
   "source": [
    "out_demandside_10m['sigma_alpha_hat']"
   ]
  },
  {
   "cell_type": "code",
   "execution_count": 11,
   "id": "9d890429",
   "metadata": {},
   "outputs": [
    {
     "data": {
      "text/plain": [
       "array([0.06732948, 2.49792306, 1.0830104 , 0.46744008, 0.93377222])"
      ]
     },
     "execution_count": 11,
     "metadata": {},
     "output_type": "execute_result"
    }
   ],
   "source": [
    "out_demandside_10m['se']"
   ]
  },
  {
   "cell_type": "code",
   "execution_count": 13,
   "id": "7745a25a",
   "metadata": {},
   "outputs": [
    {
     "data": {
      "text/plain": [
       "array([[ 1.86533923],\n",
       "       [-2.12141033],\n",
       "       [ 4.05913902],\n",
       "       [ 6.95258272],\n",
       "       [ 3.69674902],\n",
       "       [ 6.6412869 ],\n",
       "       [-3.99973352],\n",
       "       [ 1.38139637],\n",
       "       [ 2.1689793 ],\n",
       "       [ 1.38473689],\n",
       "       [-0.13766322],\n",
       "       [-2.41411314],\n",
       "       [ 1.91022051],\n",
       "       [ 2.57301979],\n",
       "       [-0.26126805],\n",
       "       [ 0.94162019],\n",
       "       [ 1.47393124],\n",
       "       [ 3.66253282],\n",
       "       [ 1.34997316],\n",
       "       [ 2.40093755],\n",
       "       [ 1.92687823],\n",
       "       [ 3.59306967],\n",
       "       [-2.16580292],\n",
       "       [ 3.04896491],\n",
       "       [ 2.60760996],\n",
       "       [-3.09186598],\n",
       "       [ 0.6924699 ],\n",
       "       [ 3.08296056],\n",
       "       [ 1.78019891],\n",
       "       [-2.24204089]])"
      ]
     },
     "execution_count": 13,
     "metadata": {},
     "output_type": "execute_result"
    }
   ],
   "source": [
    "out_demandside_10m['delta_hat']"
   ]
  },
  {
   "cell_type": "markdown",
   "id": "39ab251d",
   "metadata": {},
   "source": [
    "# Part 2.3: Using price as a moment. \n",
    "\n",
    "Estimate $\\theta$ assming incorrectly that $E[\\xi|p]=0$ within each market. \n",
    "\n",
    "Load the data and set function arguments:"
   ]
  },
  {
   "cell_type": "code",
   "execution_count": 2,
   "id": "aaf74105",
   "metadata": {},
   "outputs": [],
   "source": [
    "out_demandside_pmoment = estimate_BLP(df, alphas, 0.8, \"p_exercise\", verbose_print = 3, scale_delta_guess = 3, max_iter=10000)"
   ]
  },
  {
   "cell_type": "code",
   "execution_count": 20,
   "id": "840a4b48",
   "metadata": {},
   "outputs": [
    {
     "data": {
      "text/plain": [
       "array([[5.23096072],\n",
       "       [1.01114156],\n",
       "       [1.08674171]])"
      ]
     },
     "execution_count": 20,
     "metadata": {},
     "output_type": "execute_result"
    }
   ],
   "source": [
    "out_demandside_pmoment['beta_hat']"
   ]
  },
  {
   "cell_type": "code",
   "execution_count": 21,
   "id": "469779d1",
   "metadata": {},
   "outputs": [
    {
     "data": {
      "text/plain": [
       "0.8914277431679762"
      ]
     },
     "execution_count": 21,
     "metadata": {},
     "output_type": "execute_result"
    }
   ],
   "source": [
    "out_demandside_pmoment['alpha_hat']"
   ]
  },
  {
   "cell_type": "code",
   "execution_count": 22,
   "id": "0d176cb6",
   "metadata": {},
   "outputs": [
    {
     "data": {
      "text/plain": [
       "1.1507497157653737"
      ]
     },
     "execution_count": 22,
     "metadata": {},
     "output_type": "execute_result"
    }
   ],
   "source": [
    "out_demandside_pmoment['sigma_alpha_hat']"
   ]
  },
  {
   "cell_type": "markdown",
   "id": "5b5c7945",
   "metadata": {},
   "source": [
    "# Part 3.1: Using the cost shifter as a moment\n",
    "\n",
    "Estimate assuming  $E[\\xi|X, w^\\text{cost}]=0$. \n",
    "\n",
    "Load the data and set function arguments:"
   ]
  },
  {
   "cell_type": "code",
   "execution_count": 165,
   "id": "fb21eae1",
   "metadata": {},
   "outputs": [],
   "source": [
    "#out_demandside_wcost = estimate_BLP(df, alphas, sigma_alpha_init, \"supply_W\", verbose_print=3)"
   ]
  },
  {
   "cell_type": "markdown",
   "id": "c04d456b",
   "metadata": {},
   "source": [
    "# Joint estimation"
   ]
  },
  {
   "cell_type": "code",
   "execution_count": 17,
   "id": "cb0441fd",
   "metadata": {},
   "outputs": [
    {
     "name": "stdout",
     "output_type": "stream",
     "text": [
      "#============================================================================#\n",
      "#== Solving the MPEC optimization routine\n",
      "#============================================================================#\n"
     ]
    },
    {
     "ename": "ValueError",
     "evalue": "Non-hashable static arguments are not supported. An error occurred while trying to hash an object of type <class 'numpy.ndarray'>, [[0.4591674  4.88418038 0.97169801 ... 0.82530039 3.26780763 1.79057662]\n [0.16433075 2.47256783 1.23110119 ... 1.58345129 2.97901192 2.38555584]\n [1.17755    2.15053704 0.72417763 ... 5.03107334 1.29392047 1.74659196]\n ...\n [2.91021758 1.17936163 1.15869411 ... 6.00564717 1.98396329 0.80617328]\n [3.94929048 0.75798081 2.55450762 ... 3.47182545 0.88511087 2.33866059]\n [0.37894156 1.08619779 0.43807837 ... 2.81537652 1.28581925 0.9528541 ]]. The error was:\nTypeError: unhashable type: 'numpy.ndarray'\n",
     "output_type": "error",
     "traceback": [
      "Traceback \u001b[1;36m(most recent call last)\u001b[0m:\n",
      "\u001b[0m  Cell \u001b[0;32mIn[17], line 1\u001b[0m\n    out = estimate_BLP(df, alphas, sigma_alpha_init, \"supply_joint\", verbose_print=3)\u001b[0m\n",
      "\u001b[0m  File \u001b[0;32m~\\Desktop\\IO-Problem-Sets\\PS4_submission\\estimate_BLP.py:155\u001b[0m in \u001b[0;35mestimate_BLP\u001b[0m\n    result = minimize(\u001b[0m\n",
      "\u001b[0m  File \u001b[0;32m~\\anaconda3\\Lib\\site-packages\\scipy\\optimize\\_minimize.py:725\u001b[0m in \u001b[0;35mminimize\u001b[0m\n    res = _minimize_trustregion_constr(fun, x0, args, jac, hess, hessp,\u001b[0m\n",
      "\u001b[0m  File \u001b[0;32m~\\anaconda3\\Lib\\site-packages\\scipy\\optimize\\_trustregion_constr\\minimize_trustregion_constr.py:346\u001b[0m in \u001b[0;35m_minimize_trustregion_constr\u001b[0m\n    PreparedConstraint(c, x0, sparse_jacobian, finite_diff_bounds)\u001b[0m\n",
      "\u001b[0m  File \u001b[0;32m~\\anaconda3\\Lib\\site-packages\\scipy\\optimize\\_constraints.py:338\u001b[0m in \u001b[0;35m__init__\u001b[0m\n    fun = VectorFunction(constraint.fun, x0,\u001b[0m\n",
      "\u001b[0m  File \u001b[0;32m~\\anaconda3\\Lib\\site-packages\\scipy\\optimize\\_differentiable_functions.py:383\u001b[0m in \u001b[0;35m__init__\u001b[0m\n    update_fun()\u001b[0m\n",
      "\u001b[0m  File \u001b[0;32m~\\anaconda3\\Lib\\site-packages\\scipy\\optimize\\_differentiable_functions.py:380\u001b[0m in \u001b[0;35mupdate_fun\u001b[0m\n    self.f = fun_wrapped(self.x)\u001b[0m\n",
      "\u001b[0m  File \u001b[0;32m~\\anaconda3\\Lib\\site-packages\\scipy\\optimize\\_differentiable_functions.py:377\u001b[0m in \u001b[0;35mfun_wrapped\u001b[0m\n    return np.atleast_1d(fun(x))\u001b[0m\n",
      "\u001b[0m  File \u001b[0;32m~\\Desktop\\IO-Problem-Sets\\PS4_submission\\estimate_BLP.py:117\u001b[0m in \u001b[0;35m<lambda>\u001b[0m\n    'fun': lambda x: np.asarray(constraint_g_joint(x, X, Z, Az, M_iv_est, Xs, As, prices, shares, nus, MJN)),  # Convert to NumPy\u001b[0m\n",
      "\u001b[0m  File \u001b[0;32m~\\Desktop\\IO-Problem-Sets\\PS4_submission\\source_functions.py:262\u001b[0m in \u001b[0;35mconstraint_g_joint\u001b[0m\n    g_xi = blp_moment_joint(params, X, Z, Az, M_iv_est, Xs, As, prices, shares, nus, MJN)\u001b[0m\n",
      "\u001b[1;36m  File \u001b[1;32m~\\Desktop\\IO-Problem-Sets\\PS4_submission\\source_functions.py:224\u001b[1;36m in \u001b[1;35mblp_moment_joint\u001b[1;36m\n\u001b[1;33m    elas = calculate_price_elasticity(params, xis, X, M_iv_est, prices, shares, nus, MJN)\u001b[1;36m\n",
      "\u001b[1;31mValueError\u001b[0m\u001b[1;31m:\u001b[0m Non-hashable static arguments are not supported. An error occurred while trying to hash an object of type <class 'numpy.ndarray'>, [[0.4591674  4.88418038 0.97169801 ... 0.82530039 3.26780763 1.79057662]\n [0.16433075 2.47256783 1.23110119 ... 1.58345129 2.97901192 2.38555584]\n [1.17755    2.15053704 0.72417763 ... 5.03107334 1.29392047 1.74659196]\n ...\n [2.91021758 1.17936163 1.15869411 ... 6.00564717 1.98396329 0.80617328]\n [3.94929048 0.75798081 2.55450762 ... 3.47182545 0.88511087 2.33866059]\n [0.37894156 1.08619779 0.43807837 ... 2.81537652 1.28581925 0.9528541 ]]. The error was:\nTypeError: unhashable type: 'numpy.ndarray'\n\n"
     ]
    }
   ],
   "source": [
    "out = estimate_BLP(df, alphas, sigma_alpha_init, \"supply_joint\", verbose_print=3)"
   ]
  }
 ],
 "metadata": {
  "kernelspec": {
   "display_name": "Python 3 (Spyder)",
   "language": "python3",
   "name": "python3"
  },
  "language_info": {
   "codemirror_mode": {
    "name": "ipython",
    "version": 3
   },
   "file_extension": ".py",
   "mimetype": "text/x-python",
   "name": "python",
   "nbconvert_exporter": "python",
   "pygments_lexer": "ipython3",
   "version": "3.12.3"
  }
 },
 "nbformat": 4,
 "nbformat_minor": 5
}
