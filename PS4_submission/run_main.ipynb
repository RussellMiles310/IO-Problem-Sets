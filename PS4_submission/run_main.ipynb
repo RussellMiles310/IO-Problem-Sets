{
 "cells": [
  {
   "cell_type": "code",
   "execution_count": 1,
   "id": "6a741439",
   "metadata": {},
   "outputs": [],
   "source": [
    "from source_functions import *\n",
    "from estimate_BLP import *\n",
    "from utils import *"
   ]
  },
  {
   "cell_type": "markdown",
   "id": "77198fff",
   "metadata": {},
   "source": [
    "## Load data and set function arguments"
   ]
  },
  {
   "cell_type": "code",
   "execution_count": 2,
   "id": "b3cf22fe",
   "metadata": {},
   "outputs": [],
   "source": [
    "df_3p, alphas_3p = load_mat_data('Simulation Data/100markets3products.mat', 3, 100)\n",
    "df_5p, alphas_5p = load_mat_data('Simulation Data/100markets5products.mat', 5, 100)\n",
    "\n",
    "sigma_alpha_init = 1.0 #initial guess\n",
    "df = df_3p #data\n",
    "alphas = alphas_3p #random coefficients on prices\n",
    "mode = \"demand_side\" #demand-side moments only"
   ]
  },
  {
   "cell_type": "markdown",
   "id": "d4a349d1",
   "metadata": {},
   "source": [
    "# Part 1: Create Graphs"
   ]
  },
  {
   "cell_type": "code",
   "execution_count": 3,
   "id": "26e7952d",
   "metadata": {},
   "outputs": [
    {
     "ename": "ValueError",
     "evalue": "Data must be 1-dimensional, got ndarray of shape (500, 500) instead",
     "output_type": "error",
     "traceback": [
      "\u001b[0;31m---------------------------------------------------------------------------\u001b[0m",
      "\u001b[0;31mValueError\u001b[0m                                Traceback (most recent call last)",
      "Cell \u001b[0;32mIn[3], line 18\u001b[0m\n\u001b[1;32m     15\u001b[0m df_5p[\u001b[38;5;124m'\u001b[39m\u001b[38;5;124mPi\u001b[39m\u001b[38;5;124m'\u001b[39m] \u001b[38;5;241m=\u001b[39m df_5p[\u001b[38;5;124m'\u001b[39m\u001b[38;5;124mP_opt\u001b[39m\u001b[38;5;124m'\u001b[39m] \u001b[38;5;241m-\u001b[39m df_5p[\u001b[38;5;124m'\u001b[39m\u001b[38;5;124mmc\u001b[39m\u001b[38;5;124m'\u001b[39m]\n\u001b[1;32m     17\u001b[0m \u001b[38;5;66;03m# Calculate consumer welfare\u001b[39;00m\n\u001b[0;32m---> 18\u001b[0m consumer_welfare_3p \u001b[38;5;241m=\u001b[39m \u001b[43mcalculate_welfare\u001b[49m\u001b[43m(\u001b[49m\u001b[43mdf_3p\u001b[49m\u001b[43m,\u001b[49m\u001b[43m \u001b[49m\u001b[43malphas_3p\u001b[49m\u001b[43m,\u001b[49m\u001b[43m \u001b[49m\u001b[43mbeta\u001b[49m\u001b[43m,\u001b[49m\u001b[43m \u001b[49m\u001b[43mepsilons_3p\u001b[49m\u001b[43m)\u001b[49m\n\u001b[1;32m     19\u001b[0m consumer_welfare_5p \u001b[38;5;241m=\u001b[39m calculate_welfare(df_5p, alphas_5p, beta, epsilons_5p)\n",
      "File \u001b[0;32m~/Documents/GitHub/IO-Problem-Sets/PS4_submission/source_functions.py:889\u001b[0m, in \u001b[0;36mcalculate_welfare\u001b[0;34m(data, alphas, beta, epsilons)\u001b[0m\n\u001b[1;32m    886\u001b[0m mkt_welfare \u001b[38;5;241m=\u001b[39m np\u001b[38;5;241m.\u001b[39mamax(product_utilities, axis\u001b[38;5;241m=\u001b[39m\u001b[38;5;241m1\u001b[39m)\u001b[38;5;241m.\u001b[39mreshape(\u001b[38;5;241m500\u001b[39m, \u001b[38;5;241m-\u001b[39m\u001b[38;5;241m1\u001b[39m)\n\u001b[1;32m    888\u001b[0m \u001b[38;5;66;03m# Divide by alpha_i's to get the surplus in monetary units\u001b[39;00m\n\u001b[0;32m--> 889\u001b[0m mkt_welfare \u001b[38;5;241m=\u001b[39m \u001b[43mmkt_welfare\u001b[49m\u001b[38;5;241;43m/\u001b[39;49m\u001b[43malphas\u001b[49m\u001b[38;5;241;43m.\u001b[39;49m\u001b[43miloc\u001b[49m\u001b[43m[\u001b[49m\u001b[43mmarket_id\u001b[49m\u001b[38;5;241;43m-\u001b[39;49m\u001b[38;5;241;43m1\u001b[39;49m\u001b[43m]\u001b[49m\n\u001b[1;32m    891\u001b[0m \u001b[38;5;28;01mif\u001b[39;00m market_id \u001b[38;5;241m==\u001b[39m \u001b[38;5;241m1\u001b[39m:\n\u001b[1;32m    892\u001b[0m     market_welfares \u001b[38;5;241m=\u001b[39m mkt_welfare\n",
      "File \u001b[0;32m~/anaconda3/envs/io/lib/python3.13/site-packages/pandas/core/generic.py:2171\u001b[0m, in \u001b[0;36mNDFrame.__array_ufunc__\u001b[0;34m(self, ufunc, method, *inputs, **kwargs)\u001b[0m\n\u001b[1;32m   2167\u001b[0m \u001b[38;5;129m@final\u001b[39m\n\u001b[1;32m   2168\u001b[0m \u001b[38;5;28;01mdef\u001b[39;00m \u001b[38;5;21m__array_ufunc__\u001b[39m(\n\u001b[1;32m   2169\u001b[0m     \u001b[38;5;28mself\u001b[39m, ufunc: np\u001b[38;5;241m.\u001b[39mufunc, method: \u001b[38;5;28mstr\u001b[39m, \u001b[38;5;241m*\u001b[39minputs: Any, \u001b[38;5;241m*\u001b[39m\u001b[38;5;241m*\u001b[39mkwargs: Any\n\u001b[1;32m   2170\u001b[0m ):\n\u001b[0;32m-> 2171\u001b[0m     \u001b[38;5;28;01mreturn\u001b[39;00m \u001b[43marraylike\u001b[49m\u001b[38;5;241;43m.\u001b[39;49m\u001b[43marray_ufunc\u001b[49m\u001b[43m(\u001b[49m\u001b[38;5;28;43mself\u001b[39;49m\u001b[43m,\u001b[49m\u001b[43m \u001b[49m\u001b[43mufunc\u001b[49m\u001b[43m,\u001b[49m\u001b[43m \u001b[49m\u001b[43mmethod\u001b[49m\u001b[43m,\u001b[49m\u001b[43m \u001b[49m\u001b[38;5;241;43m*\u001b[39;49m\u001b[43minputs\u001b[49m\u001b[43m,\u001b[49m\u001b[43m \u001b[49m\u001b[38;5;241;43m*\u001b[39;49m\u001b[38;5;241;43m*\u001b[39;49m\u001b[43mkwargs\u001b[49m\u001b[43m)\u001b[49m\n",
      "File \u001b[0;32m~/anaconda3/envs/io/lib/python3.13/site-packages/pandas/core/arraylike.py:276\u001b[0m, in \u001b[0;36marray_ufunc\u001b[0;34m(self, ufunc, method, *inputs, **kwargs)\u001b[0m\n\u001b[1;32m    273\u001b[0m kwargs \u001b[38;5;241m=\u001b[39m _standardize_out_kwarg(\u001b[38;5;241m*\u001b[39m\u001b[38;5;241m*\u001b[39mkwargs)\n\u001b[1;32m    275\u001b[0m \u001b[38;5;66;03m# for binary ops, use our custom dunder methods\u001b[39;00m\n\u001b[0;32m--> 276\u001b[0m result \u001b[38;5;241m=\u001b[39m \u001b[43mmaybe_dispatch_ufunc_to_dunder_op\u001b[49m\u001b[43m(\u001b[49m\u001b[38;5;28;43mself\u001b[39;49m\u001b[43m,\u001b[49m\u001b[43m \u001b[49m\u001b[43mufunc\u001b[49m\u001b[43m,\u001b[49m\u001b[43m \u001b[49m\u001b[43mmethod\u001b[49m\u001b[43m,\u001b[49m\u001b[43m \u001b[49m\u001b[38;5;241;43m*\u001b[39;49m\u001b[43minputs\u001b[49m\u001b[43m,\u001b[49m\u001b[43m \u001b[49m\u001b[38;5;241;43m*\u001b[39;49m\u001b[38;5;241;43m*\u001b[39;49m\u001b[43mkwargs\u001b[49m\u001b[43m)\u001b[49m\n\u001b[1;32m    277\u001b[0m \u001b[38;5;28;01mif\u001b[39;00m result \u001b[38;5;129;01mis\u001b[39;00m \u001b[38;5;129;01mnot\u001b[39;00m \u001b[38;5;28mNotImplemented\u001b[39m:\n\u001b[1;32m    278\u001b[0m     \u001b[38;5;28;01mreturn\u001b[39;00m result\n",
      "File \u001b[0;32mops_dispatch.pyx:113\u001b[0m, in \u001b[0;36mpandas._libs.ops_dispatch.maybe_dispatch_ufunc_to_dunder_op\u001b[0;34m()\u001b[0m\n",
      "File \u001b[0;32m~/anaconda3/envs/io/lib/python3.13/site-packages/pandas/core/ops/common.py:76\u001b[0m, in \u001b[0;36m_unpack_zerodim_and_defer.<locals>.new_method\u001b[0;34m(self, other)\u001b[0m\n\u001b[1;32m     72\u001b[0m             \u001b[38;5;28;01mreturn\u001b[39;00m \u001b[38;5;28mNotImplemented\u001b[39m\n\u001b[1;32m     74\u001b[0m other \u001b[38;5;241m=\u001b[39m item_from_zerodim(other)\n\u001b[0;32m---> 76\u001b[0m \u001b[38;5;28;01mreturn\u001b[39;00m \u001b[43mmethod\u001b[49m\u001b[43m(\u001b[49m\u001b[38;5;28;43mself\u001b[39;49m\u001b[43m,\u001b[49m\u001b[43m \u001b[49m\u001b[43mother\u001b[49m\u001b[43m)\u001b[49m\n",
      "File \u001b[0;32m~/anaconda3/envs/io/lib/python3.13/site-packages/pandas/core/arraylike.py:214\u001b[0m, in \u001b[0;36mOpsMixin.__rtruediv__\u001b[0;34m(self, other)\u001b[0m\n\u001b[1;32m    212\u001b[0m \u001b[38;5;129m@unpack_zerodim_and_defer\u001b[39m(\u001b[38;5;124m\"\u001b[39m\u001b[38;5;124m__rtruediv__\u001b[39m\u001b[38;5;124m\"\u001b[39m)\n\u001b[1;32m    213\u001b[0m \u001b[38;5;28;01mdef\u001b[39;00m \u001b[38;5;21m__rtruediv__\u001b[39m(\u001b[38;5;28mself\u001b[39m, other):\n\u001b[0;32m--> 214\u001b[0m     \u001b[38;5;28;01mreturn\u001b[39;00m \u001b[38;5;28;43mself\u001b[39;49m\u001b[38;5;241;43m.\u001b[39;49m\u001b[43m_arith_method\u001b[49m\u001b[43m(\u001b[49m\u001b[43mother\u001b[49m\u001b[43m,\u001b[49m\u001b[43m \u001b[49m\u001b[43mroperator\u001b[49m\u001b[38;5;241;43m.\u001b[39;49m\u001b[43mrtruediv\u001b[49m\u001b[43m)\u001b[49m\n",
      "File \u001b[0;32m~/anaconda3/envs/io/lib/python3.13/site-packages/pandas/core/series.py:6135\u001b[0m, in \u001b[0;36mSeries._arith_method\u001b[0;34m(self, other, op)\u001b[0m\n\u001b[1;32m   6133\u001b[0m \u001b[38;5;28;01mdef\u001b[39;00m \u001b[38;5;21m_arith_method\u001b[39m(\u001b[38;5;28mself\u001b[39m, other, op):\n\u001b[1;32m   6134\u001b[0m     \u001b[38;5;28mself\u001b[39m, other \u001b[38;5;241m=\u001b[39m \u001b[38;5;28mself\u001b[39m\u001b[38;5;241m.\u001b[39m_align_for_op(other)\n\u001b[0;32m-> 6135\u001b[0m     \u001b[38;5;28;01mreturn\u001b[39;00m \u001b[43mbase\u001b[49m\u001b[38;5;241;43m.\u001b[39;49m\u001b[43mIndexOpsMixin\u001b[49m\u001b[38;5;241;43m.\u001b[39;49m\u001b[43m_arith_method\u001b[49m\u001b[43m(\u001b[49m\u001b[38;5;28;43mself\u001b[39;49m\u001b[43m,\u001b[49m\u001b[43m \u001b[49m\u001b[43mother\u001b[49m\u001b[43m,\u001b[49m\u001b[43m \u001b[49m\u001b[43mop\u001b[49m\u001b[43m)\u001b[49m\n",
      "File \u001b[0;32m~/anaconda3/envs/io/lib/python3.13/site-packages/pandas/core/base.py:1384\u001b[0m, in \u001b[0;36mIndexOpsMixin._arith_method\u001b[0;34m(self, other, op)\u001b[0m\n\u001b[1;32m   1381\u001b[0m \u001b[38;5;28;01mwith\u001b[39;00m np\u001b[38;5;241m.\u001b[39merrstate(\u001b[38;5;28mall\u001b[39m\u001b[38;5;241m=\u001b[39m\u001b[38;5;124m\"\u001b[39m\u001b[38;5;124mignore\u001b[39m\u001b[38;5;124m\"\u001b[39m):\n\u001b[1;32m   1382\u001b[0m     result \u001b[38;5;241m=\u001b[39m ops\u001b[38;5;241m.\u001b[39marithmetic_op(lvalues, rvalues, op)\n\u001b[0;32m-> 1384\u001b[0m \u001b[38;5;28;01mreturn\u001b[39;00m \u001b[38;5;28;43mself\u001b[39;49m\u001b[38;5;241;43m.\u001b[39;49m\u001b[43m_construct_result\u001b[49m\u001b[43m(\u001b[49m\u001b[43mresult\u001b[49m\u001b[43m,\u001b[49m\u001b[43m \u001b[49m\u001b[43mname\u001b[49m\u001b[38;5;241;43m=\u001b[39;49m\u001b[43mres_name\u001b[49m\u001b[43m)\u001b[49m\n",
      "File \u001b[0;32m~/anaconda3/envs/io/lib/python3.13/site-packages/pandas/core/series.py:6231\u001b[0m, in \u001b[0;36mSeries._construct_result\u001b[0;34m(self, result, name)\u001b[0m\n\u001b[1;32m   6228\u001b[0m \u001b[38;5;66;03m# TODO: result should always be ArrayLike, but this fails for some\u001b[39;00m\n\u001b[1;32m   6229\u001b[0m \u001b[38;5;66;03m#  JSONArray tests\u001b[39;00m\n\u001b[1;32m   6230\u001b[0m dtype \u001b[38;5;241m=\u001b[39m \u001b[38;5;28mgetattr\u001b[39m(result, \u001b[38;5;124m\"\u001b[39m\u001b[38;5;124mdtype\u001b[39m\u001b[38;5;124m\"\u001b[39m, \u001b[38;5;28;01mNone\u001b[39;00m)\n\u001b[0;32m-> 6231\u001b[0m out \u001b[38;5;241m=\u001b[39m \u001b[38;5;28;43mself\u001b[39;49m\u001b[38;5;241;43m.\u001b[39;49m\u001b[43m_constructor\u001b[49m\u001b[43m(\u001b[49m\u001b[43mresult\u001b[49m\u001b[43m,\u001b[49m\u001b[43m \u001b[49m\u001b[43mindex\u001b[49m\u001b[38;5;241;43m=\u001b[39;49m\u001b[38;5;28;43mself\u001b[39;49m\u001b[38;5;241;43m.\u001b[39;49m\u001b[43mindex\u001b[49m\u001b[43m,\u001b[49m\u001b[43m \u001b[49m\u001b[43mdtype\u001b[49m\u001b[38;5;241;43m=\u001b[39;49m\u001b[43mdtype\u001b[49m\u001b[43m,\u001b[49m\u001b[43m \u001b[49m\u001b[43mcopy\u001b[49m\u001b[38;5;241;43m=\u001b[39;49m\u001b[38;5;28;43;01mFalse\u001b[39;49;00m\u001b[43m)\u001b[49m\n\u001b[1;32m   6232\u001b[0m out \u001b[38;5;241m=\u001b[39m out\u001b[38;5;241m.\u001b[39m__finalize__(\u001b[38;5;28mself\u001b[39m)\n\u001b[1;32m   6234\u001b[0m \u001b[38;5;66;03m# Set the result's name after __finalize__ is called because __finalize__\u001b[39;00m\n\u001b[1;32m   6235\u001b[0m \u001b[38;5;66;03m#  would set it back to self.name\u001b[39;00m\n",
      "File \u001b[0;32m~/anaconda3/envs/io/lib/python3.13/site-packages/pandas/core/series.py:584\u001b[0m, in \u001b[0;36mSeries.__init__\u001b[0;34m(self, data, index, dtype, name, copy, fastpath)\u001b[0m\n\u001b[1;32m    582\u001b[0m         data \u001b[38;5;241m=\u001b[39m data\u001b[38;5;241m.\u001b[39mcopy()\n\u001b[1;32m    583\u001b[0m \u001b[38;5;28;01melse\u001b[39;00m:\n\u001b[0;32m--> 584\u001b[0m     data \u001b[38;5;241m=\u001b[39m \u001b[43msanitize_array\u001b[49m\u001b[43m(\u001b[49m\u001b[43mdata\u001b[49m\u001b[43m,\u001b[49m\u001b[43m \u001b[49m\u001b[43mindex\u001b[49m\u001b[43m,\u001b[49m\u001b[43m \u001b[49m\u001b[43mdtype\u001b[49m\u001b[43m,\u001b[49m\u001b[43m \u001b[49m\u001b[43mcopy\u001b[49m\u001b[43m)\u001b[49m\n\u001b[1;32m    586\u001b[0m     manager \u001b[38;5;241m=\u001b[39m _get_option(\u001b[38;5;124m\"\u001b[39m\u001b[38;5;124mmode.data_manager\u001b[39m\u001b[38;5;124m\"\u001b[39m, silent\u001b[38;5;241m=\u001b[39m\u001b[38;5;28;01mTrue\u001b[39;00m)\n\u001b[1;32m    587\u001b[0m     \u001b[38;5;28;01mif\u001b[39;00m manager \u001b[38;5;241m==\u001b[39m \u001b[38;5;124m\"\u001b[39m\u001b[38;5;124mblock\u001b[39m\u001b[38;5;124m\"\u001b[39m:\n",
      "File \u001b[0;32m~/anaconda3/envs/io/lib/python3.13/site-packages/pandas/core/construction.py:659\u001b[0m, in \u001b[0;36msanitize_array\u001b[0;34m(data, index, dtype, copy, allow_2d)\u001b[0m\n\u001b[1;32m    656\u001b[0m             subarr \u001b[38;5;241m=\u001b[39m cast(np\u001b[38;5;241m.\u001b[39mndarray, subarr)\n\u001b[1;32m    657\u001b[0m             subarr \u001b[38;5;241m=\u001b[39m maybe_infer_to_datetimelike(subarr)\n\u001b[0;32m--> 659\u001b[0m subarr \u001b[38;5;241m=\u001b[39m \u001b[43m_sanitize_ndim\u001b[49m\u001b[43m(\u001b[49m\u001b[43msubarr\u001b[49m\u001b[43m,\u001b[49m\u001b[43m \u001b[49m\u001b[43mdata\u001b[49m\u001b[43m,\u001b[49m\u001b[43m \u001b[49m\u001b[43mdtype\u001b[49m\u001b[43m,\u001b[49m\u001b[43m \u001b[49m\u001b[43mindex\u001b[49m\u001b[43m,\u001b[49m\u001b[43m \u001b[49m\u001b[43mallow_2d\u001b[49m\u001b[38;5;241;43m=\u001b[39;49m\u001b[43mallow_2d\u001b[49m\u001b[43m)\u001b[49m\n\u001b[1;32m    661\u001b[0m \u001b[38;5;28;01mif\u001b[39;00m \u001b[38;5;28misinstance\u001b[39m(subarr, np\u001b[38;5;241m.\u001b[39mndarray):\n\u001b[1;32m    662\u001b[0m     \u001b[38;5;66;03m# at this point we should have dtype be None or subarr.dtype == dtype\u001b[39;00m\n\u001b[1;32m    663\u001b[0m     dtype \u001b[38;5;241m=\u001b[39m cast(np\u001b[38;5;241m.\u001b[39mdtype, dtype)\n",
      "File \u001b[0;32m~/anaconda3/envs/io/lib/python3.13/site-packages/pandas/core/construction.py:718\u001b[0m, in \u001b[0;36m_sanitize_ndim\u001b[0;34m(result, data, dtype, index, allow_2d)\u001b[0m\n\u001b[1;32m    716\u001b[0m     \u001b[38;5;28;01mif\u001b[39;00m allow_2d:\n\u001b[1;32m    717\u001b[0m         \u001b[38;5;28;01mreturn\u001b[39;00m result\n\u001b[0;32m--> 718\u001b[0m     \u001b[38;5;28;01mraise\u001b[39;00m \u001b[38;5;167;01mValueError\u001b[39;00m(\n\u001b[1;32m    719\u001b[0m         \u001b[38;5;124mf\u001b[39m\u001b[38;5;124m\"\u001b[39m\u001b[38;5;124mData must be 1-dimensional, got ndarray of shape \u001b[39m\u001b[38;5;132;01m{\u001b[39;00mdata\u001b[38;5;241m.\u001b[39mshape\u001b[38;5;132;01m}\u001b[39;00m\u001b[38;5;124m instead\u001b[39m\u001b[38;5;124m\"\u001b[39m\n\u001b[1;32m    720\u001b[0m     )\n\u001b[1;32m    721\u001b[0m \u001b[38;5;28;01mif\u001b[39;00m is_object_dtype(dtype) \u001b[38;5;129;01mand\u001b[39;00m \u001b[38;5;28misinstance\u001b[39m(dtype, ExtensionDtype):\n\u001b[1;32m    722\u001b[0m     \u001b[38;5;66;03m# i.e. NumpyEADtype(\"O\")\u001b[39;00m\n\u001b[1;32m    724\u001b[0m     result \u001b[38;5;241m=\u001b[39m com\u001b[38;5;241m.\u001b[39masarray_tuplesafe(data, dtype\u001b[38;5;241m=\u001b[39mnp\u001b[38;5;241m.\u001b[39mdtype(\u001b[38;5;124m\"\u001b[39m\u001b[38;5;124mobject\u001b[39m\u001b[38;5;124m\"\u001b[39m))\n",
      "\u001b[0;31mValueError\u001b[0m: Data must be 1-dimensional, got ndarray of shape (500, 500) instead"
     ]
    }
   ],
   "source": [
    "# Set true parameter values\n",
    "beta = (5, 1, 1)\n",
    "gamma = (2, 1, 1)\n",
    "\n",
    "#Draw epsilons\n",
    "epsilons_3p = draw_epsilons(alphas_3p)\n",
    "epsilons_5p = draw_epsilons(alphas_5p)\n",
    "\n",
    "# Calculate marginal costs for the firms\n",
    "df_3p['mc'] = gamma[0] + gamma[1]*df_3p['w'] + gamma[2]*df_3p['Z'] + df_3p['eta']\n",
    "df_5p['mc'] = gamma[0] + gamma[1]*df_5p['w'] + gamma[2]*df_5p['Z'] + df_5p['eta']\n",
    "\n",
    "# Calculate profits per purchase for the firms\n",
    "df_3p['Pi'] = df_3p['P_opt'] - df_3p['mc']\n",
    "df_5p['Pi'] = df_5p['P_opt'] - df_5p['mc']\n",
    "\n",
    "# Calculate consumer welfare\n",
    "consumer_welfare_3p = calculate_welfare(df_3p, alphas_3p, beta, epsilons_3p)\n",
    "consumer_welfare_5p = calculate_welfare(df_5p, alphas_5p, beta, epsilons_5p)"
   ]
  },
  {
   "cell_type": "markdown",
   "id": "67d2b983",
   "metadata": {},
   "source": [
    "Plot prices"
   ]
  },
  {
   "cell_type": "code",
   "execution_count": 7,
   "id": "5c4a2284",
   "metadata": {},
   "outputs": [
    {
     "data": {
      "image/png": "[encoded data removed]",
      "text/plain": [
       "<Figure size 864x360 with 2 Axes>"
      ]
     },
     "metadata": {},
     "output_type": "display_data"
    }
   ],
   "source": [
    "plot_two_histograms(df_3p['P_opt'].values, df_5p['P_opt'].values, bins=50, labels=('Prices (3 Products, 100 Markets)', 'Prices (5 Products, 100 Markets)'))"
   ]
  },
  {
   "cell_type": "markdown",
   "id": "d0cd47b8",
   "metadata": {},
   "source": [
    "Plot profits per purchase"
   ]
  },
  {
   "cell_type": "code",
   "execution_count": 8,
   "id": "3fb95c0f",
   "metadata": {},
   "outputs": [
    {
     "data": {
      "image/png": "[encoded data removed]",
      "text/plain": [
       "<Figure size 864x360 with 2 Axes>"
      ]
     },
     "metadata": {},
     "output_type": "display_data"
    }
   ],
   "source": [
    "plot_two_histograms(df_3p['Pi'].values, df_5p['Pi'].values, bins=50, labels=('Profits per purchase (3 Products, 100 Markets)', 'Profits per purchase (5 Products, 100 Markets)'))"
   ]
  },
  {
   "cell_type": "markdown",
   "id": "2e985b59",
   "metadata": {},
   "source": [
    "Plot consumer welfare"
   ]
  },
  {
   "cell_type": "code",
   "execution_count": 9,
   "id": "c4915e71",
   "metadata": {},
   "outputs": [
    {
     "data": {
      "image/png": "[encoded data removed]",
      "text/plain": [
       "<Figure size 864x360 with 2 Axes>"
      ]
     },
     "metadata": {},
     "output_type": "display_data"
    }
   ],
   "source": [
    "plot_two_histograms(consumer_welfare_3p, consumer_welfare_5p, labels=('Consumer Welfare (3 Products, 100 Markets)', 'Consumer Welfare (5 Products, 100 Markets)'))"
   ]
  },
  {
   "cell_type": "markdown",
   "id": "cb2751e6",
   "metadata": {},
   "source": [
    "# Part 2.1: BLP and Hausman Instruments"
   ]
  },
  {
   "cell_type": "code",
   "execution_count": 10,
   "id": "dc8edb5b",
   "metadata": {},
   "outputs": [],
   "source": [
    "# Set the number of firms, markets, and simulated consumers in each market \n",
    "J = 3\n",
    "M = 100\n",
    "N = 500\n",
    "# Set the number of BLP instruments\n",
    "N_instruments = 7"
   ]
  },
  {
   "cell_type": "markdown",
   "id": "9e594b1f",
   "metadata": {},
   "source": [
    "### using X as regressors"
   ]
  },
  {
   "cell_type": "code",
   "execution_count": 12,
   "id": "a3329f46",
   "metadata": {},
   "outputs": [],
   "source": [
    "df_3p['P_other_markets'] = df_3p.groupby('product_id')['P_opt'].transform(\n",
    "        lambda x: (x.sum() - x) / (len(x) - 1)\n",
    "    )\n",
    "xi = df_3p['xi_all'].values.reshape(J*M, 1)\n",
    "X = df_3p[['x1', 'x2', 'x3']].values.reshape(J*M, 3)\n",
    "price = df_3p['P_opt'].values.reshape(J*M, 1)\n",
    "price_other_mkt = df_3p['P_other_markets'].values.reshape(J*M, 1)"
   ]
  },
  {
   "cell_type": "code",
   "execution_count": 13,
   "id": "5e0e7ad8",
   "metadata": {},
   "outputs": [
    {
     "data": {
      "text/plain": [
       "array([0.04346104, 0.02074192, 0.0355315 ])"
      ]
     },
     "execution_count": 13,
     "metadata": {},
     "output_type": "execute_result"
    }
   ],
   "source": [
    "(xi*X).mean(axis=0)"
   ]
  },
  {
   "cell_type": "markdown",
   "id": "b10c447b",
   "metadata": {},
   "source": [
    "### Hausman Instruments"
   ]
  },
  {
   "cell_type": "code",
   "execution_count": 15,
   "id": "9ab53ca6",
   "metadata": {},
   "outputs": [
    {
     "data": {
      "text/plain": [
       "0.2949581371489729"
      ]
     },
     "execution_count": 15,
     "metadata": {},
     "output_type": "execute_result"
    }
   ],
   "source": [
    "(xi*price).mean()"
   ]
  },
  {
   "cell_type": "code",
   "execution_count": 16,
   "id": "aac61e4e",
   "metadata": {},
   "outputs": [
    {
     "data": {
      "text/plain": [
       "0.1436795476746802"
      ]
     },
     "execution_count": 16,
     "metadata": {},
     "output_type": "execute_result"
    }
   ],
   "source": [
    "(xi*price_other_mkt).mean()"
   ]
  },
  {
   "cell_type": "markdown",
   "id": "4abdb108",
   "metadata": {},
   "source": [
    "# Part 2.2: Demand-side estimation, 100 markets"
   ]
  },
  {
   "cell_type": "code",
   "execution_count": 54,
   "id": "b05b595b",
   "metadata": {
    "scrolled": true
   },
   "outputs": [
    {
     "name": "stdout",
     "output_type": "stream",
     "text": [
      "#============================================================================#\n",
      "#== Solving the MPEC optimization routine\n",
      "#============================================================================#\n",
      "| niter |f evals|CG iter|  obj func   |tr radius |   opt    |  c viol  | penalty  |CG stop|\n",
      "|-------|-------|-------|-------------|----------|----------|----------|----------|-------|\n",
      "|   1   |   1   |   0   | +7.0000e+00 | 1.00e+00 | 2.32e-04 | 1.00e+00 | 1.00e+00 |   0   |\n",
      "|   2   |   2   |   1   | +3.5180e+00 | 5.60e+00 | 1.54e-04 | 7.09e-01 | 1.00e+00 |   1   |\n",
      "|   3   |   3   |   2   | +1.5079e-02 | 3.14e+01 | 6.02e-06 | 3.48e-01 | 1.74e+01 |   1   |\n",
      "|   4   |   4   |   3   | +4.7132e-01 | 1.24e+02 | 1.84e-03 | 5.87e-02 | 2.92e+02 |   1   |\n",
      "|   5   |   5   |   4   | +3.3628e-01 | 1.24e+02 | 1.91e-03 | 1.98e-02 | 2.92e+02 |   1   |\n",
      "|   6   |   6   |   5   | +1.9478e-01 | 1.24e+02 | 1.49e-03 | 6.21e-03 | 4.33e+02 |   1   |\n",
      "|   7   |   7   |   6   | +1.0641e-01 | 1.24e+02 | 1.09e-03 | 1.50e-03 | 1.02e+03 |   1   |\n",
      "|   8   |   8   |   7   | +6.0905e-02 | 1.24e+02 | 8.14e-04 | 2.81e-04 | 2.13e+03 |   1   |\n",
      "|   9   |   9   |   8   | +4.1508e-02 | 1.24e+02 | 6.60e-04 | 6.11e-05 | 5.00e+03 |   1   |\n",
      "|  10   |  10   |   9   | +3.4044e-02 | 1.24e+02 | 5.89e-04 | 1.75e-05 | 1.25e+04 |   1   |\n",
      "|  11   |  11   |  10   | +3.1304e-02 | 1.24e+02 | 5.62e-04 | 4.44e-06 | 2.75e+04 |   1   |\n",
      "|  12   |  12   |  11   | +3.0442e-02 | 1.24e+02 | 5.54e-04 | 5.83e-07 | 2.75e+04 |   1   |\n",
      "|  13   |  13   |  12   | +3.0297e-02 | 1.24e+02 | 5.52e-04 | 1.45e-08 | 2.75e+04 |   1   |\n",
      "|  14   |  14   |  13   | +3.0285e-02 | 1.24e+02 | 5.52e-04 | 2.05e-11 | 2.75e+04 |   1   |\n",
      "|  15   |  15   |  14   | +3.0277e-02 | 1.24e+02 | 5.52e-04 | 2.16e-11 | 2.75e+04 |   1   |\n",
      "|  16   |  17   |  15   | +3.0277e-02 | 1.24e+01 | 5.52e-04 | 2.16e-11 | 2.75e+04 |   1   |\n",
      "|  17   |  19   |  16   | +3.0277e-02 | 1.24e+00 | 5.52e-04 | 2.16e-11 | 2.75e+04 |   1   |\n",
      "|  18   |  21   |  17   | +3.0277e-02 | 1.24e-01 | 5.52e-04 | 2.16e-11 | 2.75e+04 |   2   |\n",
      "|  19   |  23   |  18   | +2.9709e-02 | 8.68e-01 | 5.45e-04 | 7.74e-11 | 2.75e+04 |   2   |\n",
      "|  20   |  25   |  19   | +2.5944e-02 | 8.68e-01 | 4.94e-04 | 2.72e-08 | 2.75e+04 |   2   |\n",
      "|  21   |  27   |  20   | +2.2544e-02 | 1.74e+00 | 4.43e-04 | 2.81e-08 | 2.75e+04 |   2   |\n",
      "|  22   |  29   |  21   | +2.1643e-02 | 1.74e+00 | 4.29e-04 | 6.55e-10 | 2.75e+04 |   1   |\n",
      "|  23   |  31   |  22   | +2.1643e-02 | 1.74e-01 | 4.29e-04 | 6.55e-10 | 2.75e+04 |   2   |\n",
      "|  24   |  33   |  23   | +2.1027e-02 | 1.21e+00 | 4.19e-04 | 2.29e-10 | 2.75e+04 |   2   |\n",
      "|  25   |  34   |  24   | +2.1010e-02 | 1.21e+00 | 4.19e-04 | 1.64e-10 | 2.75e+04 |   1   |\n",
      "|  26   |  36   |  25   | +2.1010e-02 | 1.21e-01 | 4.19e-04 | 1.64e-10 | 2.75e+04 |   2   |\n",
      "|  27   |  38   |  26   | +2.0587e-02 | 8.50e-01 | 4.12e-04 | 7.90e-11 | 2.75e+04 |   2   |\n",
      "|  28   |  40   |  27   | +2.0370e-02 | 8.50e-01 | 4.08e-04 | 1.13e-11 | 2.75e+04 |   1   |\n",
      "|  29   |  42   |  28   | +2.0174e-02 | 8.50e-01 | 4.05e-04 | 8.43e-12 | 2.75e+04 |   1   |\n",
      "|  30   |  44   |  29   | +2.0016e-02 | 8.50e-01 | 4.02e-04 | 4.55e-12 | 2.75e+04 |   1   |\n",
      "|  31   |  46   |  30   | +1.9729e-02 | 8.50e-01 | 3.97e-04 | 2.79e-11 | 2.75e+04 |   1   |\n",
      "|  32   |  48   |  31   | +1.9191e-02 | 1.15e+00 | 3.88e-04 | 1.96e-10 | 2.75e+04 |   1   |\n",
      "|  33   |  50   |  32   | +1.8222e-02 | 2.14e+00 | 3.70e-04 | 1.28e-09 | 2.75e+04 |   1   |\n",
      "|  34   |  52   |  33   | +1.6615e-02 | 2.14e+00 | 3.39e-04 | 7.22e-09 | 2.75e+04 |   1   |\n",
      "|  35   |  54   |  34   | +1.6615e-02 | 2.14e-01 | 3.39e-04 | 7.22e-09 | 2.75e+04 |   1   |\n",
      "|  36   |  56   |  35   | +1.6018e-02 | 1.50e+00 | 3.27e-04 | 4.51e-10 | 2.75e+04 |   2   |\n",
      "|  37   |  58   |  36   | +1.6018e-02 | 1.50e-01 | 3.27e-04 | 4.51e-10 | 2.75e+04 |   1   |\n",
      "|  38   |  60   |  37   | +1.5612e-02 | 1.05e+00 | 3.19e-04 | 1.56e-10 | 2.75e+04 |   2   |\n",
      "|  39   |  62   |  38   | +1.5612e-02 | 1.05e-01 | 3.19e-04 | 1.56e-10 | 2.75e+04 |   1   |\n",
      "|  40   |  64   |  39   | +1.5335e-02 | 7.33e-01 | 3.13e-04 | 5.38e-11 | 2.75e+04 |   2   |\n",
      "|  41   |  66   |  40   | +1.5335e-02 | 7.33e-02 | 3.13e-04 | 5.38e-11 | 2.75e+04 |   2   |\n",
      "|  42   |  68   |  41   | +1.5144e-02 | 5.13e-01 | 3.09e-04 | 1.85e-11 | 2.75e+04 |   2   |\n",
      "|  43   |  70   |  42   | +1.3876e-02 | 1.03e+00 | 2.80e-04 | 6.47e-09 | 2.75e+04 |   2   |\n",
      "|  44   |  72   |  43   | +1.3876e-02 | 1.03e-01 | 2.80e-04 | 6.47e-09 | 2.75e+04 |   2   |\n",
      "|  45   |  74   |  44   | +1.3637e-02 | 7.18e-01 | 2.74e-04 | 5.23e-11 | 2.75e+04 |   2   |\n",
      "|  46   |  76   |  45   | +1.3637e-02 | 7.18e-02 | 2.74e-04 | 5.23e-11 | 2.75e+04 |   2   |\n",
      "|  47   |  78   |  46   | +1.3473e-02 | 5.03e-01 | 2.70e-04 | 1.80e-11 | 2.75e+04 |   2   |\n",
      "|  48   |  80   |  47   | +1.2391e-02 | 1.01e+00 | 2.42e-04 | 6.28e-09 | 2.75e+04 |   2   |\n",
      "|  49   |  82   |  48   | +1.2391e-02 | 1.01e-01 | 2.42e-04 | 6.28e-09 | 2.75e+04 |   2   |\n",
      "|  50   |  84   |  49   | +1.2188e-02 | 7.04e-01 | 2.37e-04 | 5.08e-11 | 2.75e+04 |   2   |\n",
      "|  51   |  86   |  50   | +1.2188e-02 | 7.04e-02 | 2.37e-04 | 5.08e-11 | 2.75e+04 |   2   |\n",
      "|  52   |  88   |  51   | +1.2050e-02 | 4.93e-01 | 2.33e-04 | 1.75e-11 | 2.75e+04 |   2   |\n",
      "|  53   |  90   |  52   | +1.1142e-02 | 4.93e-01 | 2.05e-04 | 6.10e-09 | 2.75e+04 |   2   |\n",
      "|  54   |  92   |  53   | +1.0346e-02 | 9.85e-01 | 1.78e-04 | 6.24e-09 | 2.75e+04 |   2   |\n",
      "|  55   |  94   |  54   | +1.0346e-02 | 9.85e-02 | 1.78e-04 | 6.24e-09 | 2.75e+04 |   1   |\n",
      "|  56   |  96   |  55   | +1.0200e-02 | 6.90e-01 | 1.73e-04 | 5.04e-11 | 2.75e+04 |   2   |\n",
      "|  57   |  98   |  56   | +1.0200e-02 | 6.90e-02 | 1.73e-04 | 5.04e-11 | 2.75e+04 |   2   |\n",
      "|  58   |  100  |  57   | +1.0101e-02 | 4.83e-01 | 1.69e-04 | 1.73e-11 | 2.75e+04 |   2   |\n",
      "|  59   |  102  |  58   | +1.0101e-02 | 4.83e-02 | 1.69e-04 | 1.73e-11 | 2.75e+04 |   2   |\n",
      "|  60   |  104  |  59   | +1.0033e-02 | 3.38e-01 | 1.67e-04 | 5.96e-12 | 2.75e+04 |   2   |\n",
      "|  61   |  106  |  60   | +9.5849e-03 | 6.76e-01 | 1.48e-04 | 2.07e-09 | 2.75e+04 |   2   |\n",
      "|  62   |  108  |  61   | +9.2253e-03 | 2.13e+00 | 1.32e-04 | 1.54e-09 | 2.75e+04 |   1   |\n",
      "|  63   |  110  |  62   | +9.2253e-03 | 2.13e-01 | 1.32e-04 | 1.54e-09 | 2.75e+04 |   1   |\n",
      "|  64   |  112  |  63   | +8.9988e-03 | 1.49e+00 | 1.20e-04 | 5.35e-10 | 2.75e+04 |   2   |\n",
      "|  65   |  114  |  64   | +8.9769e-03 | 1.49e+00 | 1.19e-04 | 5.62e-13 | 2.75e+04 |   1   |\n",
      "|  66   |  116  |  65   | +8.9769e-03 | 1.49e-01 | 1.19e-04 | 5.62e-13 | 2.75e+04 |   2   |\n",
      "|  67   |  118  |  66   | +8.8322e-03 | 2.99e-01 | 1.11e-04 | 1.85e-10 | 2.75e+04 |   2   |\n",
      "|  68   |  120  |  67   | +8.5729e-03 | 5.98e-01 | 9.48e-05 | 1.50e-09 | 2.75e+04 |   2   |\n",
      "|  69   |  122  |  68   | +8.5729e-03 | 5.98e-02 | 9.48e-05 | 1.50e-09 | 2.75e+04 |   2   |\n",
      "|  70   |  124  |  69   | +8.5259e-03 | 4.18e-01 | 9.16e-05 | 1.21e-11 | 2.75e+04 |   2   |\n",
      "|  71   |  126  |  70   | +8.5259e-03 | 4.18e-02 | 9.16e-05 | 1.21e-11 | 2.75e+04 |   2   |\n",
      "|  72   |  128  |  71   | +8.4939e-03 | 2.93e-01 | 8.93e-05 | 4.14e-12 | 2.75e+04 |   2   |\n",
      "|  73   |  130  |  72   | +8.2923e-03 | 2.93e-01 | 7.37e-05 | 1.44e-09 | 2.75e+04 |   2   |\n",
      "|  74   |  132  |  73   | +8.1293e-03 | 5.86e-01 | 5.81e-05 | 1.46e-09 | 2.75e+04 |   2   |\n",
      "|  75   |  134  |  74   | +8.1293e-03 | 5.86e-02 | 5.81e-05 | 1.46e-09 | 2.75e+04 |   2   |\n",
      "|  76   |  136  |  75   | +8.1013e-03 | 4.10e-01 | 5.50e-05 | 1.17e-11 | 2.75e+04 |   2   |\n",
      "|  77   |  138  |  76   | +8.1013e-03 | 4.10e-02 | 5.50e-05 | 1.17e-11 | 2.75e+04 |   2   |\n",
      "|  78   |  140  |  77   | +8.0826e-03 | 2.87e-01 | 5.28e-05 | 4.02e-12 | 2.75e+04 |   2   |\n",
      "|  79   |  142  |  78   | +8.0826e-03 | 2.87e-02 | 5.28e-05 | 4.02e-12 | 2.75e+04 |   2   |\n",
      "|  80   |  144  |  79   | +8.0699e-03 | 2.01e-01 | 5.13e-05 | 1.38e-12 | 2.75e+04 |   2   |\n",
      "|  81   |  146  |  80   | +7.9918e-03 | 2.01e-01 | 4.07e-05 | 4.77e-10 | 2.75e+04 |   2   |\n",
      "|  82   |  148  |  81   | +7.9316e-03 | 4.02e-01 | 3.01e-05 | 4.82e-10 | 2.75e+04 |   2   |\n",
      "|  83   |  150  |  82   | +7.9316e-03 | 4.02e-02 | 3.01e-05 | 4.82e-10 | 2.75e+04 |   2   |\n",
      "|  84   |  152  |  83   | +7.9218e-03 | 2.81e-01 | 2.80e-05 | 3.87e-12 | 2.75e+04 |   2   |\n",
      "|  85   |  154  |  84   | +7.9218e-03 | 2.81e-02 | 2.80e-05 | 3.87e-12 | 2.75e+04 |   2   |\n",
      "|  86   |  156  |  85   | +7.9153e-03 | 1.97e-01 | 2.65e-05 | 1.33e-12 | 2.75e+04 |   2   |\n",
      "|  87   |  158  |  86   | +7.9153e-03 | 1.97e-02 | 2.65e-05 | 1.33e-12 | 2.75e+04 |   2   |\n",
      "|  88   |  160  |  87   | +7.9110e-03 | 1.38e-01 | 2.55e-05 | 4.56e-13 | 2.75e+04 |   2   |\n",
      "|  89   |  162  |  88   | +7.8855e-03 | 1.38e-01 | 1.82e-05 | 1.57e-10 | 2.75e+04 |   2   |\n",
      "|  90   |  164  |  89   | +7.8684e-03 | 2.76e-01 | 1.10e-05 | 1.58e-10 | 2.75e+04 |   2   |\n",
      "|  91   |  166  |  90   | +7.8684e-03 | 2.76e-02 | 1.10e-05 | 1.58e-10 | 2.75e+04 |   1   |\n",
      "|  92   |  168  |  91   | +7.8660e-03 | 1.93e-01 | 9.59e-06 | 1.27e-12 | 2.75e+04 |   2   |\n",
      "|  93   |  170  |  92   | +7.8660e-03 | 1.93e-02 | 9.59e-06 | 1.27e-12 | 2.75e+04 |   1   |\n",
      "|  94   |  172  |  93   | +7.8645e-03 | 1.35e-01 | 8.58e-06 | 4.36e-13 | 2.75e+04 |   2   |\n",
      "|  95   |  174  |  94   | +7.8645e-03 | 1.35e-02 | 8.58e-06 | 4.36e-13 | 2.75e+04 |   2   |\n",
      "|  96   |  176  |  95   | +7.8635e-03 | 9.45e-02 | 7.87e-06 | 1.50e-13 | 2.75e+04 |   2   |\n",
      "|  97   |  178  |  96   | +7.8635e-03 | 9.45e-03 | 7.87e-06 | 1.50e-13 | 2.75e+04 |   2   |\n",
      "|  98   |  180  |  97   | +7.8629e-03 | 6.62e-02 | 7.38e-06 | 5.14e-14 | 2.75e+04 |   2   |\n",
      "|  99   |  182  |  98   | +7.8598e-03 | 1.32e-01 | 3.92e-06 | 1.76e-11 | 2.75e+04 |   2   |\n",
      "|  100  |  184  |  99   | +7.8585e-03 | 1.32e-01 | 6.06e-09 | 2.59e-11 | 2.75e+04 |   1   |\n",
      "|  101  |  185  |  100  | +7.8585e-03 | 1.32e-01 | 5.01e-12 | 1.15e-13 | 2.75e+04 |   1   |\n",
      "|  102  |  186  |  101  | +7.8585e-03 | 1.32e-01 | 3.28e-14 | 4.36e-15 | 2.75e+04 |   1   |\n",
      "|  103  |  187  |  101  | +7.8585e-03 | 1.32e-01 | 2.02e-14 | 6.94e-16 | 2.75e+04 |   4   |\n",
      "|  104  |  188  |  101  | +7.8585e-03 | 1.32e-01 | 6.10e-14 | 2.22e-16 | 2.75e+04 |   4   |\n",
      "|  105  |  189  |  101  | +7.8585e-03 | 1.32e-02 | 6.10e-14 | 2.22e-16 | 2.75e+04 |   4   |\n",
      "|  106  |  189  |  101  | +7.8585e-03 | 1.32e-03 | 6.10e-14 | 2.22e-16 | 2.75e+04 |   4   |\n",
      "|  107  |  189  |  101  | +7.8585e-03 | 1.32e-04 | 6.10e-14 | 2.22e-16 | 2.75e+04 |   4   |\n",
      "|  108  |  189  |  101  | +7.8585e-03 | 1.32e-05 | 6.10e-14 | 2.22e-16 | 2.75e+04 |   4   |\n",
      "|  109  |  189  |  101  | +7.8585e-03 | 1.32e-06 | 6.10e-14 | 2.22e-16 | 2.75e+04 |   4   |\n",
      "|  110  |  189  |  101  | +7.8585e-03 | 1.32e-07 | 6.10e-14 | 2.22e-16 | 2.75e+04 |   4   |\n",
      "|  111  |  189  |  101  | +7.8585e-03 | 1.32e-08 | 6.10e-14 | 2.22e-16 | 2.75e+04 |   4   |\n",
      "|  112  |  189  |  101  | +7.8585e-03 | 1.32e-09 | 6.10e-14 | 2.22e-16 | 2.75e+04 |   4   |\n",
      "|  113  |  189  |  101  | +7.8585e-03 | 1.32e-10 | 6.10e-14 | 2.22e-16 | 2.75e+04 |   4   |\n",
      "|  114  |  189  |  101  | +7.8585e-03 | 1.32e-11 | 6.10e-14 | 2.22e-16 | 2.75e+04 |   4   |\n",
      "|  115  |  189  |  101  | +7.8585e-03 | 1.32e-12 | 6.10e-14 | 2.22e-16 | 2.75e+04 |   4   |\n",
      "|  116  |  189  |  101  | +7.8585e-03 | 1.32e-13 | 6.10e-14 | 2.22e-16 | 2.75e+04 |   4   |\n",
      "|  117  |  189  |  101  | +7.8585e-03 | 1.32e-14 | 6.10e-14 | 2.22e-16 | 2.75e+04 |   4   |\n",
      "|  118  |  190  |  101  | +7.8585e-03 | 4.68e-15 | 6.10e-14 | 2.22e-16 | 2.75e+04 |   4   |\n",
      "|  119  |  191  |  101  | +7.8585e-03 | 2.34e-15 | 6.10e-14 | 2.22e-16 | 2.75e+04 |   4   |\n",
      "|  120  |  192  |  101  | +7.8585e-03 | 1.17e-15 | 6.10e-14 | 2.22e-16 | 2.75e+04 |   4   |\n",
      "|  121  |  193  |  101  | +7.8585e-03 | 5.85e-16 | 6.10e-14 | 2.22e-16 | 2.75e+04 |   4   |\n",
      "|  122  |  194  |  101  | +7.8585e-03 | 2.06e-16 | 6.10e-14 | 2.22e-16 | 2.75e+04 |   4   |\n",
      "|  123  |  195  |  101  | +7.8585e-03 | 2.06e-16 | 7.01e-14 | 2.22e-16 | 2.75e+04 |   4   |\n",
      "|  124  |  196  |  101  | +7.8585e-03 | 1.03e-16 | 7.01e-14 | 2.22e-16 | 2.75e+04 |   4   |\n",
      "|  125  |  197  |  101  | +7.8585e-03 | 1.03e-16 | 3.49e-14 | 2.22e-16 | 2.75e+04 |   4   |\n",
      "|  126  |  198  |  101  | +7.8585e-03 | 1.03e-16 | 3.37e-14 | 2.22e-16 | 2.75e+04 |   4   |\n",
      "|  127  |  199  |  101  | +7.8585e-03 | 1.03e-16 | 3.31e-14 | 2.22e-16 | 2.75e+04 |   4   |\n",
      "|  128  |  200  |  101  | +7.8585e-03 | 1.03e-16 | 3.31e-14 | 2.22e-16 | 2.75e+04 |   4   |\n",
      "|  129  |  201  |  101  | +7.8585e-03 | 1.03e-16 | 3.31e-14 | 2.22e-16 | 2.75e+04 |   4   |\n",
      "|  130  |  202  |  101  | +7.8585e-03 | 5.16e-17 | 3.31e-14 | 2.22e-16 | 2.75e+04 |   4   |\n",
      "|  131  |  203  |  101  | +7.8585e-03 | 2.58e-17 | 3.31e-14 | 2.22e-16 | 2.75e+04 |   4   |\n",
      "|  132  |  204  |  101  | +7.8585e-03 | 1.29e-17 | 3.31e-14 | 2.22e-16 | 2.75e+04 |   4   |\n",
      "|  133  |  205  |  101  | +7.8585e-03 | 6.45e-18 | 3.31e-14 | 2.22e-16 | 2.75e+04 |   4   |\n",
      "|  134  |  206  |  101  | +7.8585e-03 | 3.22e-18 | 3.31e-14 | 2.22e-16 | 2.75e+04 |   4   |\n",
      "|  135  |  207  |  101  | +7.8585e-03 | 1.61e-18 | 3.31e-14 | 2.22e-16 | 2.75e+04 |   4   |\n",
      "|  136  |  208  |  101  | +7.8585e-03 | 8.06e-19 | 3.31e-14 | 2.22e-16 | 2.75e+04 |   4   |\n",
      "|  137  |  209  |  101  | +7.8585e-03 | 4.03e-19 | 3.31e-14 | 2.22e-16 | 2.75e+04 |   4   |\n",
      "|  138  |  210  |  101  | +7.8585e-03 | 2.01e-19 | 3.31e-14 | 2.22e-16 | 2.75e+04 |   4   |\n",
      "|  139  |  211  |  101  | +7.8585e-03 | 1.01e-19 | 3.31e-14 | 2.22e-16 | 2.75e+04 |   4   |\n",
      "|  140  |  212  |  101  | +7.8585e-03 | 5.04e-20 | 3.31e-14 | 2.22e-16 | 2.75e+04 |   4   |\n",
      "|  141  |  213  |  101  | +7.8585e-03 | 2.52e-20 | 3.31e-14 | 2.22e-16 | 2.75e+04 |   4   |\n",
      "|  142  |  214  |  101  | +7.8585e-03 | 1.26e-20 | 3.31e-14 | 2.22e-16 | 2.75e+04 |   4   |\n",
      "|  143  |  215  |  101  | +7.8585e-03 | 6.30e-21 | 3.31e-14 | 2.22e-16 | 2.75e+04 |   4   |\n",
      "\n",
      "`xtol` termination condition is satisfied.\n",
      "Number of iterations: 143, function evaluations: 215, CG iterations: 101, optimality: 3.31e-14, constraint violation: 2.22e-16, execution time: 6.5e+01 s.\n",
      "Optimal solution found.\n",
      "#============================================================================#\n",
      "#== Optimal parameters found. Next, calculating standard errors:\n",
      "#== Calculating standard errors, elasticities, profits, and consumer surplus\n",
      "#============================================================================#\n",
      "#============================================================================#\n",
      "#== BLP Estimation Complete\n",
      "#============================================================================#\n"
     ]
    }
   ],
   "source": [
    "out_demandside = estimate_BLP(df, alphas, sigma_alpha_init, mode, verbose_print = 3, scale_delta_guess = 3)"
   ]
  },
  {
   "cell_type": "code",
   "execution_count": 109,
   "id": "e411dc7a",
   "metadata": {},
   "outputs": [
    {
     "name": "stdout",
     "output_type": "stream",
     "text": [
      "Excel file saved to Results/q2_demandside_100markets.xlsx\n",
      "Excel file saved to Results/q2_demandside_100markets.xlsx\n",
      "Excel file saved to Results/q2_demandside_100markets.xlsx\n",
      "Excel file saved to Results/q2_demandside_100markets.xlsx\n",
      "Excel file saved to Results/q2_demandside_100markets.xlsx\n",
      "Excel file saved to Results/q2_demandside_100markets.xlsx\n",
      "Excel file saved to Results/q2_demandside_100markets.xlsx\n",
      "Excel file saved to Results/q2_demandside_100markets.xlsx\n",
      "TeX file saved to Results/q2_demandside_100markets.tex\n",
      "TeX file saved to Results/q2_demandside_100markets.tex\n",
      "TeX file saved to Results/q2_demandside_100markets.tex\n",
      "TeX file saved to Results/q2_demandside_100markets.tex\n",
      "TeX file saved to Results/q2_demandside_100markets.tex\n",
      "TeX file saved to Results/q2_demandside_100markets.tex\n",
      "TeX file saved to Results/q2_demandside_100markets.tex\n",
      "TeX file saved to Results/q2_demandside_100markets.tex\n",
      "Comparison file saved to Results/q2_demandside_100markets_profits.xlsx.\n"
     ]
    }
   ],
   "source": [
    "store_results(out_demandside, \"Results/q2_demandside_100markets.xlsx\")\n",
    "store_results(out_demandside, \"Results/q2_demandside_100markets.tex\")\n",
    "save_mc_to_excel(out_demandside, file_name=\"Results/q2_demandside_100markets_profits.xlsx\", mode = \"profits\")"
   ]
  },
  {
   "cell_type": "markdown",
   "id": "60353f10",
   "metadata": {},
   "source": [
    "# Part 2.2g: Demand-side instruments, 10 markets\n",
    "Load the data and set function arguments:"
   ]
  },
  {
   "cell_type": "code",
   "execution_count": 57,
   "id": "0398a789",
   "metadata": {},
   "outputs": [],
   "source": [
    "df_3p10m, alphas_3p10m = load_mat_data('Simulation Data/10markets3products.mat', 3, 10)\n",
    "#### Function arguments\n",
    "mode = \"demand_side\" #demand-side moments only"
   ]
  },
  {
   "cell_type": "code",
   "execution_count": 58,
   "id": "79b30b4c",
   "metadata": {
    "scrolled": true
   },
   "outputs": [
    {
     "name": "stdout",
     "output_type": "stream",
     "text": [
      "#============================================================================#\n",
      "#== Solving the MPEC optimization routine\n",
      "#============================================================================#\n",
      "The maximum number of function evaluations is exceeded.\n",
      "Number of iterations: 10000, function evaluations: 10000, CG iterations: 9999, optimality: 5.78e-05, constraint violation: 5.64e-12, execution time: 1.1e+02 s.\n",
      "Optimization failed: The maximum number of function evaluations is exceeded.\n",
      "#============================================================================#\n",
      "#== Optimal parameters found. Next, calculating standard errors:\n",
      "#== Calculating standard errors, elasticities, profits, and consumer surplus\n",
      "#============================================================================#\n",
      "#============================================================================#\n",
      "#== BLP Estimation Complete\n",
      "#============================================================================#\n"
     ]
    }
   ],
   "source": [
    "out_demandside_10m=estimate_BLP(df_3p10m, alphas_3p10m, sigma_alpha_init, mode, verbose_print = 1, scale_delta_guess = 3, max_iter=10000)"
   ]
  },
  {
   "cell_type": "code",
   "execution_count": 59,
   "id": "9c4dfe8c",
   "metadata": {},
   "outputs": [
    {
     "name": "stdout",
     "output_type": "stream",
     "text": [
      "Excel file saved to Results/q2_demandside_10markets_delta_equals_3.xlsx\n",
      "Excel file saved to Results/q2_demandside_10markets_delta_equals_3.xlsx\n",
      "Excel file saved to Results/q2_demandside_10markets_delta_equals_3.xlsx\n",
      "Excel file saved to Results/q2_demandside_10markets_delta_equals_3.xlsx\n",
      "Excel file saved to Results/q2_demandside_10markets_delta_equals_3.xlsx\n",
      "Excel file saved to Results/q2_demandside_10markets_delta_equals_3.xlsx\n",
      "Excel file saved to Results/q2_demandside_10markets_delta_equals_3.xlsx\n",
      "Excel file saved to Results/q2_demandside_10markets_delta_equals_3.xlsx\n",
      "TeX file saved to Results/q2_demandside_10markets_delta_equals_3.tex\n",
      "TeX file saved to Results/q2_demandside_10markets_delta_equals_3.tex\n",
      "TeX file saved to Results/q2_demandside_10markets_delta_equals_3.tex\n",
      "TeX file saved to Results/q2_demandside_10markets_delta_equals_3.tex\n",
      "TeX file saved to Results/q2_demandside_10markets_delta_equals_3.tex\n",
      "TeX file saved to Results/q2_demandside_10markets_delta_equals_3.tex\n",
      "TeX file saved to Results/q2_demandside_10markets_delta_equals_3.tex\n",
      "TeX file saved to Results/q2_demandside_10markets_delta_equals_3.tex\n"
     ]
    }
   ],
   "source": [
    "store_results(out_demandside_10m, \"Results/q2_demandside_10markets_delta_equals_3.xlsx\")\n",
    "store_results(out_demandside_10m, \"Results/q2_demandside_10markets_delta_equals_3.tex\")"
   ]
  },
  {
   "cell_type": "code",
   "execution_count": 60,
   "id": "dd08b840",
   "metadata": {},
   "outputs": [
    {
     "name": "stdout",
     "output_type": "stream",
     "text": [
      "#============================================================================#\n",
      "#== Solving the MPEC optimization routine\n",
      "#============================================================================#\n",
      "The maximum number of function evaluations is exceeded.\n",
      "Number of iterations: 10000, function evaluations: 10000, CG iterations: 9999, optimality: 4.67e-05, constraint violation: 1.01e-11, execution time: 1.1e+02 s.\n",
      "Optimization failed: The maximum number of function evaluations is exceeded.\n",
      "#============================================================================#\n",
      "#== Optimal parameters found. Next, calculating standard errors:\n",
      "#== Calculating standard errors, elasticities, profits, and consumer surplus\n",
      "#============================================================================#\n",
      "#============================================================================#\n",
      "#== BLP Estimation Complete\n",
      "#============================================================================#\n"
     ]
    }
   ],
   "source": [
    "out_demandside_10m_v2=estimate_BLP(df_3p10m, alphas_3p10m, sigma_alpha_init, mode, verbose_print = 1, scale_delta_guess = 1, max_iter=10000)"
   ]
  },
  {
   "cell_type": "code",
   "execution_count": 61,
   "id": "9731a082",
   "metadata": {},
   "outputs": [
    {
     "name": "stdout",
     "output_type": "stream",
     "text": [
      "Excel file saved to Results/q2_demandside_10markets_delta_equals_1.xlsx\n",
      "Excel file saved to Results/q2_demandside_10markets_delta_equals_1.xlsx\n",
      "Excel file saved to Results/q2_demandside_10markets_delta_equals_1.xlsx\n",
      "Excel file saved to Results/q2_demandside_10markets_delta_equals_1.xlsx\n",
      "Excel file saved to Results/q2_demandside_10markets_delta_equals_1.xlsx\n",
      "Excel file saved to Results/q2_demandside_10markets_delta_equals_1.xlsx\n",
      "Excel file saved to Results/q2_demandside_10markets_delta_equals_1.xlsx\n",
      "Excel file saved to Results/q2_demandside_10markets_delta_equals_1.xlsx\n",
      "TeX file saved to Results/q2_demandside_10markets_delta_equals_1.tex\n",
      "TeX file saved to Results/q2_demandside_10markets_delta_equals_1.tex\n",
      "TeX file saved to Results/q2_demandside_10markets_delta_equals_1.tex\n",
      "TeX file saved to Results/q2_demandside_10markets_delta_equals_1.tex\n",
      "TeX file saved to Results/q2_demandside_10markets_delta_equals_1.tex\n",
      "TeX file saved to Results/q2_demandside_10markets_delta_equals_1.tex\n",
      "TeX file saved to Results/q2_demandside_10markets_delta_equals_1.tex\n",
      "TeX file saved to Results/q2_demandside_10markets_delta_equals_1.tex\n"
     ]
    }
   ],
   "source": [
    "store_results(out_demandside_10m_v2, \"Results/q2_demandside_10markets_delta_equals_1.xlsx\")\n",
    "store_results(out_demandside_10m_v2, \"Results/q2_demandside_10markets_delta_equals_1.tex\")"
   ]
  },
  {
   "cell_type": "markdown",
   "id": "325b18bf",
   "metadata": {},
   "source": [
    "# Part 2.3: Using price as a moment. \n",
    "\n",
    "Estimate $\\theta$ assming incorrectly that $E[\\xi|p]=0$ within each market. \n",
    "\n",
    "Load the data and set function arguments:"
   ]
  },
  {
   "cell_type": "code",
   "execution_count": 63,
   "id": "70c95a66",
   "metadata": {},
   "outputs": [
    {
     "name": "stdout",
     "output_type": "stream",
     "text": [
      "#============================================================================#\n",
      "#== Solving the MPEC optimization routine\n",
      "#============================================================================#\n",
      "`xtol` termination condition is satisfied.\n",
      "Number of iterations: 96, function evaluations: 81, CG iterations: 0, optimality: 3.14e-31, constraint violation: 1.11e-16, execution time: 2.3e+01 s.\n",
      "Optimal solution found.\n",
      "#============================================================================#\n",
      "#== Optimal parameters found. Next, calculating standard errors:\n",
      "#== Calculating standard errors, elasticities, profits, and consumer surplus\n",
      "#============================================================================#\n",
      "#============================================================================#\n",
      "#== BLP Estimation Complete\n",
      "#============================================================================#\n",
      "#============================================================================#\n",
      "#== Solving the MPEC optimization routine\n",
      "#============================================================================#\n",
      "`xtol` termination condition is satisfied.\n",
      "Number of iterations: 63, function evaluations: 48, CG iterations: 0, optimality: 6.00e-31, constraint violation: 1.11e-16, execution time: 1.4e+01 s.\n",
      "Optimal solution found.\n",
      "#============================================================================#\n",
      "#== Optimal parameters found. Next, calculating standard errors:\n",
      "#== Calculating standard errors, elasticities, profits, and consumer surplus\n",
      "#============================================================================#\n",
      "#============================================================================#\n",
      "#== BLP Estimation Complete\n",
      "#============================================================================#\n"
     ]
    }
   ],
   "source": [
    "out_demandside_pmoment_delta1 = estimate_BLP(df, alphas, sigma_alpha_init, \"p_exercise\", verbose_print = 1, scale_delta_guess = 1, max_iter=10000)\n",
    "out_demandside_pmoment_delta3 = estimate_BLP(df, alphas, sigma_alpha_init, \"p_exercise\", verbose_print = 1, scale_delta_guess = 3, max_iter=10000)"
   ]
  },
  {
   "cell_type": "code",
   "execution_count": 64,
   "id": "9f095c4b",
   "metadata": {},
   "outputs": [
    {
     "name": "stdout",
     "output_type": "stream",
     "text": [
      "Excel file saved to Results/q2_demandside_pmoment_100markets_delta_equals_1.xlsx\n",
      "Excel file saved to Results/q2_demandside_pmoment_100markets_delta_equals_1.xlsx\n",
      "Excel file saved to Results/q2_demandside_pmoment_100markets_delta_equals_1.xlsx\n",
      "Excel file saved to Results/q2_demandside_pmoment_100markets_delta_equals_1.xlsx\n",
      "Excel file saved to Results/q2_demandside_pmoment_100markets_delta_equals_1.xlsx\n",
      "Excel file saved to Results/q2_demandside_pmoment_100markets_delta_equals_1.xlsx\n",
      "Excel file saved to Results/q2_demandside_pmoment_100markets_delta_equals_1.xlsx\n",
      "Excel file saved to Results/q2_demandside_pmoment_100markets_delta_equals_1.xlsx\n",
      "TeX file saved to Results/q2_demandside_pmoment_100markets_delta_equals_1.tex\n",
      "TeX file saved to Results/q2_demandside_pmoment_100markets_delta_equals_1.tex\n",
      "TeX file saved to Results/q2_demandside_pmoment_100markets_delta_equals_1.tex\n",
      "TeX file saved to Results/q2_demandside_pmoment_100markets_delta_equals_1.tex\n",
      "TeX file saved to Results/q2_demandside_pmoment_100markets_delta_equals_1.tex\n",
      "TeX file saved to Results/q2_demandside_pmoment_100markets_delta_equals_1.tex\n",
      "TeX file saved to Results/q2_demandside_pmoment_100markets_delta_equals_1.tex\n",
      "TeX file saved to Results/q2_demandside_pmoment_100markets_delta_equals_1.tex\n",
      "Excel file saved to Results/q2_demandside_pmoment_100markets_delta_equals_3.xlsx\n",
      "Excel file saved to Results/q2_demandside_pmoment_100markets_delta_equals_3.xlsx\n",
      "Excel file saved to Results/q2_demandside_pmoment_100markets_delta_equals_3.xlsx\n",
      "Excel file saved to Results/q2_demandside_pmoment_100markets_delta_equals_3.xlsx\n",
      "Excel file saved to Results/q2_demandside_pmoment_100markets_delta_equals_3.xlsx\n",
      "Excel file saved to Results/q2_demandside_pmoment_100markets_delta_equals_3.xlsx\n",
      "Excel file saved to Results/q2_demandside_pmoment_100markets_delta_equals_3.xlsx\n",
      "Excel file saved to Results/q2_demandside_pmoment_100markets_delta_equals_3.xlsx\n",
      "TeX file saved to Results/q2_demandside_pmoment_100markets_delta_equals_3.tex\n",
      "TeX file saved to Results/q2_demandside_pmoment_100markets_delta_equals_3.tex\n",
      "TeX file saved to Results/q2_demandside_pmoment_100markets_delta_equals_3.tex\n",
      "TeX file saved to Results/q2_demandside_pmoment_100markets_delta_equals_3.tex\n",
      "TeX file saved to Results/q2_demandside_pmoment_100markets_delta_equals_3.tex\n",
      "TeX file saved to Results/q2_demandside_pmoment_100markets_delta_equals_3.tex\n",
      "TeX file saved to Results/q2_demandside_pmoment_100markets_delta_equals_3.tex\n",
      "TeX file saved to Results/q2_demandside_pmoment_100markets_delta_equals_3.tex\n"
     ]
    }
   ],
   "source": [
    "store_results(out_demandside_pmoment_delta1, \"Results/q2_demandside_pmoment_100markets_delta_equals_1.xlsx\")\n",
    "store_results(out_demandside_pmoment_delta1, \"Results/q2_demandside_pmoment_100markets_delta_equals_1.tex\")\n",
    "store_results(out_demandside_pmoment_delta3, \"Results/q2_demandside_pmoment_100markets_delta_equals_3.xlsx\")\n",
    "store_results(out_demandside_pmoment_delta3, \"Results/q2_demandside_pmoment_100markets_delta_equals_3.tex\")"
   ]
  },
  {
   "cell_type": "markdown",
   "id": "98330675",
   "metadata": {},
   "source": [
    "# Part 3.1: Using the cost shifter as a moment\n",
    "\n",
    "Estimate assuming  $E[\\xi|X, w^\\text{cost}]=0$. \n",
    "\n",
    "Load the data and set function arguments:"
   ]
  },
  {
   "cell_type": "code",
   "execution_count": 66,
   "id": "2dfb6b45",
   "metadata": {},
   "outputs": [
    {
     "name": "stdout",
     "output_type": "stream",
     "text": [
      "#============================================================================#\n",
      "#== Solving the MPEC optimization routine\n",
      "#============================================================================#\n",
      "`xtol` termination condition is satisfied.\n",
      "Number of iterations: 6144, function evaluations: 6123, CG iterations: 6088, optimality: 5.35e-14, constraint violation: 1.67e-16, execution time: 1.7e+03 s.\n",
      "Optimal solution found.\n",
      "#============================================================================#\n",
      "#== Optimal parameters found. Next, calculating standard errors:\n",
      "#== Calculating standard errors, elasticities, profits, and consumer surplus\n",
      "#============================================================================#\n",
      "#============================================================================#\n",
      "#== BLP Estimation Complete\n",
      "#============================================================================#\n"
     ]
    }
   ],
   "source": [
    "out_demandside_wcost = estimate_BLP(df, alphas, sigma_alpha_init, \"supply_W\", verbose_print=1)"
   ]
  },
  {
   "cell_type": "code",
   "execution_count": 107,
   "id": "ef0e8f16",
   "metadata": {},
   "outputs": [
    {
     "name": "stdout",
     "output_type": "stream",
     "text": [
      "Excel file saved to Results/q3_demandside_wcost_100markets.xlsx\n",
      "Excel file saved to Results/q3_demandside_wcost_100markets.xlsx\n",
      "Excel file saved to Results/q3_demandside_wcost_100markets.xlsx\n",
      "Excel file saved to Results/q3_demandside_wcost_100markets.xlsx\n",
      "Excel file saved to Results/q3_demandside_wcost_100markets.xlsx\n",
      "Excel file saved to Results/q3_demandside_wcost_100markets.xlsx\n",
      "Excel file saved to Results/q3_demandside_wcost_100markets.xlsx\n",
      "Excel file saved to Results/q3_demandside_wcost_100markets.xlsx\n",
      "TeX file saved to Results/q3_demandside_wcost_100markets.tex\n",
      "TeX file saved to Results/q3_demandside_wcost_100markets.tex\n",
      "TeX file saved to Results/q3_demandside_wcost_100markets.tex\n",
      "TeX file saved to Results/q3_demandside_wcost_100markets.tex\n",
      "TeX file saved to Results/q3_demandside_wcost_100markets.tex\n",
      "TeX file saved to Results/q3_demandside_wcost_100markets.tex\n",
      "TeX file saved to Results/q3_demandside_wcost_100markets.tex\n",
      "TeX file saved to Results/q3_demandside_wcost_100markets.tex\n",
      "Comparison file saved to Results/q3_demandside_wcost_100markets_profits.xlsx.\n"
     ]
    }
   ],
   "source": [
    "store_results(out_demandside_wcost, \"Results/q3_demandside_wcost_100markets.xlsx\")\n",
    "store_results(out_demandside_wcost, \"Results/q3_demandside_wcost_100markets.tex\")\n",
    "\n",
    "save_mc_to_excel(out_demandside_wcost, file_name=\"Results/q3_demandside_wcost_100markets_profits.xlsx\", mode = \"profits\")"
   ]
  },
  {
   "cell_type": "code",
   "execution_count": 68,
   "id": "4325191b",
   "metadata": {},
   "outputs": [
    {
     "name": "stdout",
     "output_type": "stream",
     "text": [
      "#============================================================================#\n",
      "#== Solving the MPEC optimization routine\n",
      "#============================================================================#\n",
      "The maximum number of function evaluations is exceeded.\n",
      "Number of iterations: 10000, function evaluations: 10000, CG iterations: 9999, optimality: 9.15e-05, constraint violation: 1.34e-11, execution time: 1.1e+02 s.\n",
      "Optimization failed: The maximum number of function evaluations is exceeded.\n",
      "#============================================================================#\n",
      "#== Optimal parameters found. Next, calculating standard errors:\n",
      "#== Calculating standard errors, elasticities, profits, and consumer surplus\n",
      "#============================================================================#\n",
      "#============================================================================#\n",
      "#== BLP Estimation Complete\n",
      "#============================================================================#\n"
     ]
    }
   ],
   "source": [
    "out_demandside_wcost_10m = estimate_BLP(df_3p10m, alphas_3p10m, sigma_alpha_init, \"supply_W\", scale_delta_guess=3, verbose_print=1)"
   ]
  },
  {
   "cell_type": "code",
   "execution_count": 69,
   "id": "c91f5ef7",
   "metadata": {},
   "outputs": [
    {
     "name": "stdout",
     "output_type": "stream",
     "text": [
      "Excel file saved to Results/q3_demandside_wcost_10markets.xlsx\n",
      "Excel file saved to Results/q3_demandside_wcost_10markets.xlsx\n",
      "Excel file saved to Results/q3_demandside_wcost_10markets.xlsx\n",
      "Excel file saved to Results/q3_demandside_wcost_10markets.xlsx\n",
      "Excel file saved to Results/q3_demandside_wcost_10markets.xlsx\n",
      "Excel file saved to Results/q3_demandside_wcost_10markets.xlsx\n",
      "Excel file saved to Results/q3_demandside_wcost_10markets.xlsx\n",
      "Excel file saved to Results/q3_demandside_wcost_10markets.xlsx\n",
      "TeX file saved to Results/q3_demandside_wcost_10markets.tex\n",
      "TeX file saved to Results/q3_demandside_wcost_10markets.tex\n",
      "TeX file saved to Results/q3_demandside_wcost_10markets.tex\n",
      "TeX file saved to Results/q3_demandside_wcost_10markets.tex\n",
      "TeX file saved to Results/q3_demandside_wcost_10markets.tex\n",
      "TeX file saved to Results/q3_demandside_wcost_10markets.tex\n",
      "TeX file saved to Results/q3_demandside_wcost_10markets.tex\n",
      "TeX file saved to Results/q3_demandside_wcost_10markets.tex\n"
     ]
    }
   ],
   "source": [
    "store_results(out_demandside_wcost_10m, \"Results/q3_demandside_wcost_10markets.xlsx\")\n",
    "store_results(out_demandside_wcost_10m, \"Results/q3_demandside_wcost_10markets.tex\")"
   ]
  },
  {
   "cell_type": "markdown",
   "id": "94a3f34d",
   "metadata": {},
   "source": [
    "# Joint estimation\n",
    "Oligopoly (true) case"
   ]
  },
  {
   "cell_type": "code",
   "execution_count": 71,
   "id": "b18cda32",
   "metadata": {},
   "outputs": [
    {
     "name": "stdout",
     "output_type": "stream",
     "text": [
      "#============================================================================#\n",
      "#== Solving the MPEC optimization routine\n",
      "#============================================================================#\n",
      "| niter |f evals|CG iter|  obj func   |tr radius |   opt    |  c viol  | penalty  |CG stop|\n",
      "|-------|-------|-------|-------------|----------|----------|----------|----------|-------|\n",
      "|   1   |   1   |   0   | +1.1000e+01 | 1.00e+00 | 2.38e-04 | 1.00e+00 | 1.00e+00 |   0   |\n",
      "|   2   |   2   |   1   | +6.4314e+00 | 5.60e+00 | 1.72e-04 | 7.65e-01 | 1.00e+00 |   1   |\n",
      "|   3   |   3   |   2   | +1.2285e-02 | 3.92e+01 | 1.30e-05 | 3.56e-01 | 1.00e+00 |   2   |\n",
      "|   4   |   4   |   3   | +3.7101e-01 | 2.74e+02 | 1.81e-03 | 1.11e-01 | 4.75e+00 |   2   |\n",
      "|   5   |   5   |   4   | +3.7101e-01 | 2.74e+01 | 1.81e-03 | 1.11e-01 | 4.75e+00 |   1   |\n",
      "|   6   |   6   |   5   | +5.3890e-02 | 2.74e+01 | 2.22e-04 | 6.07e-02 | 4.75e+00 |   1   |\n",
      "|   7   |   7   |   6   | +3.6057e-02 | 2.74e+01 | 1.41e-04 | 8.38e-03 | 4.75e+00 |   1   |\n",
      "|   8   |   8   |   7   | +2.1782e-02 | 2.74e+01 | 8.60e-05 | 3.67e-03 | 4.75e+00 |   1   |\n",
      "|   9   |   9   |   8   | +1.4103e-02 | 2.74e+01 | 6.62e-05 | 7.98e-04 | 4.75e+00 |   1   |\n",
      "|  10   |  10   |   9   | +1.0473e-02 | 2.74e+01 | 7.74e-06 | 2.82e-04 | 4.75e+00 |   1   |\n",
      "|  11   |  11   |  10   | +9.2460e-03 | 2.74e+01 | 1.03e-05 | 4.30e-05 | 4.75e+00 |   1   |\n",
      "|  12   |  12   |  11   | +8.6813e-03 | 2.74e+01 | 3.37e-06 | 6.81e-06 | 4.75e+00 |   1   |\n",
      "|  13   |  13   |  12   | +8.4496e-03 | 2.74e+01 | 6.79e-06 | 1.16e-06 | 4.75e+00 |   1   |\n",
      "|  14   |  14   |  13   | +8.3919e-03 | 2.74e+01 | 2.32e-06 | 1.56e-07 | 4.75e+00 |   1   |\n",
      "|  15   |  15   |  14   | +8.3887e-03 | 2.74e+01 | 2.41e-07 | 1.50e-08 | 4.75e+00 |   1   |\n",
      "|  16   |  16   |  15   | +8.3887e-03 | 2.74e+01 | 1.51e-08 | 1.57e-10 | 4.75e+00 |   1   |\n",
      "|  17   |  17   |  16   | +8.3887e-03 | 2.74e+01 | 3.21e-12 | 7.03e-13 | 4.75e+00 |   1   |\n",
      "|  18   |  18   |  17   | +8.3887e-03 | 2.74e+01 | 6.81e-14 | 1.67e-15 | 4.75e+00 |   1   |\n",
      "|  19   |  19   |  17   | +8.3887e-03 | 2.74e+01 | 6.85e-14 | 3.33e-16 | 4.75e+00 |   4   |\n",
      "|  20   |  20   |  17   | +8.3887e-03 | 2.74e+00 | 6.85e-14 | 3.33e-16 | 4.75e+00 |   4   |\n",
      "|  21   |  20   |  17   | +8.3887e-03 | 2.74e-01 | 6.85e-14 | 3.33e-16 | 4.75e+00 |   4   |\n",
      "|  22   |  20   |  17   | +8.3887e-03 | 2.74e-02 | 6.85e-14 | 3.33e-16 | 4.75e+00 |   4   |\n",
      "|  23   |  20   |  17   | +8.3887e-03 | 2.74e-03 | 6.85e-14 | 3.33e-16 | 4.75e+00 |   4   |\n",
      "|  24   |  20   |  17   | +8.3887e-03 | 2.74e-04 | 6.85e-14 | 3.33e-16 | 4.75e+00 |   4   |\n",
      "|  25   |  20   |  17   | +8.3887e-03 | 2.74e-05 | 6.85e-14 | 3.33e-16 | 4.75e+00 |   4   |\n",
      "|  26   |  20   |  17   | +8.3887e-03 | 2.74e-06 | 6.85e-14 | 3.33e-16 | 4.75e+00 |   4   |\n",
      "|  27   |  20   |  17   | +8.3887e-03 | 2.74e-07 | 6.85e-14 | 3.33e-16 | 4.75e+00 |   4   |\n",
      "|  28   |  20   |  17   | +8.3887e-03 | 2.74e-08 | 6.85e-14 | 3.33e-16 | 4.75e+00 |   4   |\n",
      "|  29   |  20   |  17   | +8.3887e-03 | 2.74e-09 | 6.85e-14 | 3.33e-16 | 4.75e+00 |   4   |\n",
      "|  30   |  20   |  17   | +8.3887e-03 | 2.74e-10 | 6.85e-14 | 3.33e-16 | 4.75e+00 |   4   |\n",
      "|  31   |  20   |  17   | +8.3887e-03 | 2.74e-11 | 6.85e-14 | 3.33e-16 | 4.75e+00 |   4   |\n",
      "|  32   |  20   |  17   | +8.3887e-03 | 2.74e-12 | 6.85e-14 | 3.33e-16 | 4.75e+00 |   4   |\n",
      "|  33   |  20   |  17   | +8.3887e-03 | 2.74e-13 | 6.85e-14 | 3.33e-16 | 4.75e+00 |   4   |\n",
      "|  34   |  20   |  17   | +8.3887e-03 | 3.12e-14 | 6.85e-14 | 3.33e-16 | 4.75e+00 |   4   |\n",
      "|  35   |  21   |  17   | +8.3887e-03 | 3.12e-14 | 3.98e-14 | 3.19e-16 | 4.75e+00 |   4   |\n",
      "|  36   |  22   |  17   | +8.3887e-03 | 1.56e-14 | 3.98e-14 | 3.19e-16 | 4.75e+00 |   4   |\n",
      "|  37   |  23   |  17   | +8.3887e-03 | 5.31e-15 | 3.98e-14 | 3.19e-16 | 4.75e+00 |   4   |\n",
      "|  38   |  24   |  17   | +8.3887e-03 | 5.31e-15 | 9.65e-14 | 2.22e-16 | 4.75e+00 |   4   |\n",
      "|  39   |  25   |  17   | +8.3887e-03 | 2.66e-15 | 9.65e-14 | 2.22e-16 | 4.75e+00 |   4   |\n",
      "|  40   |  26   |  17   | +8.3887e-03 | 1.30e-15 | 9.65e-14 | 2.22e-16 | 4.75e+00 |   4   |\n",
      "|  41   |  27   |  17   | +8.3887e-03 | 6.43e-16 | 9.65e-14 | 2.22e-16 | 4.75e+00 |   4   |\n",
      "|  42   |  28   |  17   | +8.3887e-03 | 1.03e-15 | 3.63e-14 | 1.67e-16 | 4.75e+00 |   4   |\n",
      "|  43   |  29   |  17   | +8.3887e-03 | 5.14e-16 | 3.63e-14 | 1.67e-16 | 4.75e+00 |   4   |\n",
      "|  44   |  30   |  17   | +8.3887e-03 | 2.57e-16 | 3.63e-14 | 1.67e-16 | 4.75e+00 |   4   |\n",
      "|  45   |  31   |  17   | +8.3887e-03 | 1.29e-16 | 3.63e-14 | 1.67e-16 | 4.75e+00 |   4   |\n",
      "|  46   |  32   |  17   | +8.3887e-03 | 6.43e-17 | 3.63e-14 | 1.67e-16 | 4.75e+00 |   4   |\n",
      "|  47   |  33   |  17   | +8.3887e-03 | 6.43e-17 | 3.33e-14 | 1.67e-16 | 4.75e+00 |   4   |\n",
      "|  48   |  34   |  17   | +8.3887e-03 | 3.21e-17 | 3.33e-14 | 1.67e-16 | 4.75e+00 |   4   |\n",
      "|  49   |  35   |  17   | +8.3887e-03 | 1.61e-17 | 3.33e-14 | 1.67e-16 | 4.75e+00 |   4   |\n",
      "|  50   |  36   |  17   | +8.3887e-03 | 8.04e-18 | 3.33e-14 | 1.67e-16 | 4.75e+00 |   4   |\n",
      "|  51   |  37   |  17   | +8.3887e-03 | 4.02e-18 | 3.33e-14 | 1.67e-16 | 4.75e+00 |   4   |\n",
      "|  52   |  38   |  17   | +8.3887e-03 | 2.01e-18 | 3.33e-14 | 1.67e-16 | 4.75e+00 |   4   |\n",
      "|  53   |  39   |  17   | +8.3887e-03 | 1.00e-18 | 3.33e-14 | 1.67e-16 | 4.75e+00 |   4   |\n",
      "|  54   |  40   |  17   | +8.3887e-03 | 5.02e-19 | 3.33e-14 | 1.67e-16 | 4.75e+00 |   4   |\n",
      "|  55   |  41   |  17   | +8.3887e-03 | 2.51e-19 | 3.33e-14 | 1.67e-16 | 4.75e+00 |   4   |\n",
      "|  56   |  42   |  17   | +8.3887e-03 | 1.26e-19 | 3.33e-14 | 1.67e-16 | 4.75e+00 |   4   |\n",
      "|  57   |  43   |  17   | +8.3887e-03 | 6.28e-20 | 3.33e-14 | 1.67e-16 | 4.75e+00 |   4   |\n",
      "|  58   |  44   |  17   | +8.3887e-03 | 3.14e-20 | 3.33e-14 | 1.67e-16 | 4.75e+00 |   4   |\n",
      "|  59   |  45   |  17   | +8.3887e-03 | 1.57e-20 | 3.33e-14 | 1.67e-16 | 4.75e+00 |   4   |\n",
      "|  60   |  46   |  17   | +8.3887e-03 | 7.85e-21 | 3.33e-14 | 1.67e-16 | 4.75e+00 |   4   |\n",
      "\n",
      "`xtol` termination condition is satisfied.\n",
      "Number of iterations: 60, function evaluations: 46, CG iterations: 17, optimality: 3.33e-14, constraint violation: 1.67e-16, execution time: 5.3e+01 s.\n",
      "Optimal solution found.\n",
      "#============================================================================#\n",
      "#== Optimal parameters found. Next, calculating standard errors:\n",
      "#== Calculating standard errors, elasticities, profits, and consumer surplus\n",
      "#============================================================================#\n",
      "#============================================================================#\n",
      "#== BLP Estimation Complete\n",
      "#============================================================================#\n"
     ]
    }
   ],
   "source": [
    "out_joint_oligopoly = estimate_BLP(df, alphas, sigma_alpha_init, \"supply_joint\", verbose_print=3, scale_delta_guess=3)"
   ]
  },
  {
   "cell_type": "code",
   "execution_count": 72,
   "id": "2d0f5207",
   "metadata": {},
   "outputs": [
    {
     "name": "stdout",
     "output_type": "stream",
     "text": [
      "Excel file saved to Results/q3_joint_oligopoly_100markets.xlsx\n",
      "Excel file saved to Results/q3_joint_oligopoly_100markets.xlsx\n",
      "Excel file saved to Results/q3_joint_oligopoly_100markets.xlsx\n",
      "Excel file saved to Results/q3_joint_oligopoly_100markets.xlsx\n",
      "Excel file saved to Results/q3_joint_oligopoly_100markets.xlsx\n",
      "Excel file saved to Results/q3_joint_oligopoly_100markets.xlsx\n",
      "Excel file saved to Results/q3_joint_oligopoly_100markets.xlsx\n",
      "Excel file saved to Results/q3_joint_oligopoly_100markets.xlsx\n",
      "TeX file saved to Results/q3_joint_oligopoly_100markets.tex\n",
      "TeX file saved to Results/q3_joint_oligopoly_100markets.tex\n",
      "TeX file saved to Results/q3_joint_oligopoly_100markets.tex\n",
      "TeX file saved to Results/q3_joint_oligopoly_100markets.tex\n",
      "TeX file saved to Results/q3_joint_oligopoly_100markets.tex\n",
      "TeX file saved to Results/q3_joint_oligopoly_100markets.tex\n",
      "TeX file saved to Results/q3_joint_oligopoly_100markets.tex\n",
      "TeX file saved to Results/q3_joint_oligopoly_100markets.tex\n",
      "Comparison file saved to Results/q3_mc_oligopoly.xlsx.\n"
     ]
    }
   ],
   "source": [
    "store_results(out_joint_oligopoly, \"Results/q3_joint_oligopoly_100markets.xlsx\")\n",
    "store_results(out_joint_oligopoly, \"Results/q3_joint_oligopoly_100markets.tex\")\n",
    "\n",
    "save_mc_to_excel(out_joint_oligopoly, file_name=\"Results/q3_mc_oligopoly.xlsx\")"
   ]
  },
  {
   "cell_type": "markdown",
   "id": "76abc8aa",
   "metadata": {},
   "source": [
    "Collusion case"
   ]
  },
  {
   "cell_type": "code",
   "execution_count": 74,
   "id": "268f305c",
   "metadata": {},
   "outputs": [
    {
     "name": "stdout",
     "output_type": "stream",
     "text": [
      "#============================================================================#\n",
      "#== Solving the MPEC optimization routine\n",
      "#============================================================================#\n",
      "| niter |f evals|CG iter|  obj func   |tr radius |   opt    |  c viol  | penalty  |CG stop|\n",
      "|-------|-------|-------|-------------|----------|----------|----------|----------|-------|\n",
      "|   1   |   1   |   0   | +1.1000e+01 | 1.00e+00 | 2.38e-04 | 1.00e+00 | 1.00e+00 |   0   |\n",
      "|   2   |   2   |   1   | +6.4314e+00 | 5.60e+00 | 1.72e-04 | 7.65e-01 | 1.00e+00 |   1   |\n",
      "|   3   |   3   |   2   | +1.2285e-02 | 3.92e+01 | 1.30e-05 | 3.56e-01 | 1.00e+00 |   2   |\n",
      "|   4   |   4   |   3   | +3.7101e-01 | 2.74e+02 | 1.81e-03 | 1.11e-01 | 4.75e+00 |   2   |\n",
      "|   5   |   5   |   4   | +3.7101e-01 | 2.74e+01 | 1.81e-03 | 1.11e-01 | 4.75e+00 |   1   |\n",
      "|   6   |   6   |   5   | +5.3890e-02 | 2.74e+01 | 2.22e-04 | 6.07e-02 | 4.75e+00 |   1   |\n",
      "|   7   |   7   |   6   | +3.6057e-02 | 2.74e+01 | 1.41e-04 | 8.38e-03 | 4.75e+00 |   1   |\n",
      "|   8   |   8   |   7   | +2.1782e-02 | 2.74e+01 | 8.60e-05 | 3.67e-03 | 4.75e+00 |   1   |\n",
      "|   9   |   9   |   8   | +1.4103e-02 | 2.74e+01 | 6.62e-05 | 7.98e-04 | 4.75e+00 |   1   |\n",
      "|  10   |  10   |   9   | +1.0473e-02 | 2.74e+01 | 7.74e-06 | 2.82e-04 | 4.75e+00 |   1   |\n",
      "|  11   |  11   |  10   | +9.2460e-03 | 2.74e+01 | 1.03e-05 | 4.30e-05 | 4.75e+00 |   1   |\n",
      "|  12   |  12   |  11   | +8.6813e-03 | 2.74e+01 | 3.37e-06 | 6.81e-06 | 4.75e+00 |   1   |\n",
      "|  13   |  13   |  12   | +8.4496e-03 | 2.74e+01 | 6.79e-06 | 1.16e-06 | 4.75e+00 |   1   |\n",
      "|  14   |  14   |  13   | +8.3919e-03 | 2.74e+01 | 2.32e-06 | 1.56e-07 | 4.75e+00 |   1   |\n",
      "|  15   |  15   |  14   | +8.3887e-03 | 2.74e+01 | 2.41e-07 | 1.50e-08 | 4.75e+00 |   1   |\n",
      "|  16   |  16   |  15   | +8.3887e-03 | 2.74e+01 | 1.51e-08 | 1.57e-10 | 4.75e+00 |   1   |\n",
      "|  17   |  17   |  16   | +8.3887e-03 | 2.74e+01 | 3.21e-12 | 7.03e-13 | 4.75e+00 |   1   |\n",
      "|  18   |  18   |  17   | +8.3887e-03 | 2.74e+01 | 5.06e-14 | 1.07e-14 | 4.75e+00 |   1   |\n",
      "|  19   |  19   |  17   | +8.3887e-03 | 2.74e+01 | 9.02e-14 | 2.00e-15 | 4.75e+00 |   4   |\n",
      "|  20   |  20   |  17   | +8.3887e-03 | 2.74e+01 | 1.12e-13 | 1.28e-15 | 4.75e+00 |   4   |\n",
      "|  21   |  21   |  17   | +8.3887e-03 | 2.74e+01 | 4.24e-14 | 8.74e-16 | 4.75e+00 |   4   |\n",
      "|  22   |  22   |  17   | +8.3887e-03 | 2.74e+00 | 4.24e-14 | 8.74e-16 | 4.75e+00 |   4   |\n",
      "|  23   |  22   |  17   | +8.3887e-03 | 2.74e-01 | 4.24e-14 | 8.74e-16 | 4.75e+00 |   4   |\n",
      "|  24   |  22   |  17   | +8.3887e-03 | 2.74e-02 | 4.24e-14 | 8.74e-16 | 4.75e+00 |   4   |\n",
      "|  25   |  22   |  17   | +8.3887e-03 | 2.74e-03 | 4.24e-14 | 8.74e-16 | 4.75e+00 |   4   |\n",
      "|  26   |  22   |  17   | +8.3887e-03 | 2.74e-04 | 4.24e-14 | 8.74e-16 | 4.75e+00 |   4   |\n",
      "|  27   |  22   |  17   | +8.3887e-03 | 2.74e-05 | 4.24e-14 | 8.74e-16 | 4.75e+00 |   4   |\n",
      "|  28   |  22   |  17   | +8.3887e-03 | 2.74e-06 | 4.24e-14 | 8.74e-16 | 4.75e+00 |   4   |\n",
      "|  29   |  22   |  17   | +8.3887e-03 | 2.74e-07 | 4.24e-14 | 8.74e-16 | 4.75e+00 |   4   |\n",
      "|  30   |  22   |  17   | +8.3887e-03 | 2.74e-08 | 4.24e-14 | 8.74e-16 | 4.75e+00 |   4   |\n",
      "|  31   |  22   |  17   | +8.3887e-03 | 2.74e-09 | 4.24e-14 | 8.74e-16 | 4.75e+00 |   4   |\n",
      "|  32   |  22   |  17   | +8.3887e-03 | 2.74e-10 | 4.24e-14 | 8.74e-16 | 4.75e+00 |   4   |\n",
      "|  33   |  22   |  17   | +8.3887e-03 | 2.74e-11 | 4.24e-14 | 8.74e-16 | 4.75e+00 |   4   |\n",
      "|  34   |  22   |  17   | +8.3887e-03 | 2.74e-12 | 4.24e-14 | 8.74e-16 | 4.75e+00 |   4   |\n",
      "|  35   |  22   |  17   | +8.3887e-03 | 2.74e-13 | 4.24e-14 | 8.74e-16 | 4.75e+00 |   4   |\n",
      "|  36   |  22   |  17   | +8.3887e-03 | 2.74e-14 | 4.24e-14 | 8.74e-16 | 4.75e+00 |   4   |\n",
      "|  37   |  23   |  17   | +8.3887e-03 | 2.74e-14 | 8.16e-14 | 9.02e-16 | 4.75e+00 |   4   |\n",
      "|  38   |  24   |  17   | +8.3887e-03 | 2.74e-14 | 5.08e-14 | 7.08e-16 | 4.75e+00 |   4   |\n",
      "|  39   |  25   |  17   | +8.3887e-03 | 1.17e-14 | 5.08e-14 | 7.08e-16 | 4.75e+00 |   4   |\n",
      "|  40   |  26   |  17   | +8.3887e-03 | 5.84e-15 | 5.08e-14 | 7.08e-16 | 4.75e+00 |   4   |\n",
      "|  41   |  27   |  17   | +8.3887e-03 | 9.34e-15 | 3.32e-14 | 3.47e-16 | 4.75e+00 |   4   |\n",
      "|  42   |  28   |  17   | +8.3887e-03 | 1.49e-14 | 8.75e-14 | 2.91e-16 | 4.75e+00 |   4   |\n",
      "|  43   |  29   |  17   | +8.3887e-03 | 7.47e-15 | 8.75e-14 | 2.91e-16 | 4.75e+00 |   4   |\n",
      "|  44   |  30   |  17   | +8.3887e-03 | 3.74e-15 | 8.75e-14 | 2.91e-16 | 4.75e+00 |   4   |\n",
      "|  45   |  31   |  17   | +8.3887e-03 | 1.87e-15 | 8.75e-14 | 2.91e-16 | 4.75e+00 |   4   |\n",
      "|  46   |  32   |  17   | +8.3887e-03 | 4.03e-16 | 8.75e-14 | 2.91e-16 | 4.75e+00 |   4   |\n",
      "|  47   |  33   |  17   | +8.3887e-03 | 2.02e-16 | 8.75e-14 | 2.91e-16 | 4.75e+00 |   4   |\n",
      "|  48   |  34   |  17   | +8.3887e-03 | 3.23e-16 | 9.45e-14 | 1.67e-16 | 4.75e+00 |   4   |\n",
      "|  49   |  35   |  17   | +8.3887e-03 | 1.35e-16 | 9.45e-14 | 1.67e-16 | 4.75e+00 |   4   |\n",
      "|  50   |  36   |  17   | +8.3887e-03 | 1.35e-16 | 6.57e-14 | 1.11e-16 | 4.75e+00 |   4   |\n",
      "|  51   |  37   |  17   | +8.3887e-03 | 5.06e-17 | 6.57e-14 | 1.11e-16 | 4.75e+00 |   4   |\n",
      "|  52   |  38   |  17   | +8.3887e-03 | 5.06e-17 | 7.63e-14 | 1.11e-16 | 4.75e+00 |   4   |\n",
      "|  53   |  39   |  17   | +8.3887e-03 | 5.06e-17 | 1.02e-13 | 1.11e-16 | 4.75e+00 |   4   |\n",
      "|  54   |  40   |  17   | +8.3887e-03 | 5.06e-17 | 9.88e-14 | 1.11e-16 | 4.75e+00 |   4   |\n",
      "|  55   |  41   |  17   | +8.3887e-03 | 5.06e-17 | 8.52e-14 | 1.11e-16 | 4.75e+00 |   4   |\n",
      "|  56   |  42   |  17   | +8.3887e-03 | 5.06e-17 | 7.83e-14 | 1.11e-16 | 4.75e+00 |   4   |\n",
      "|  57   |  43   |  17   | +8.3887e-03 | 5.06e-17 | 4.01e-14 | 1.11e-16 | 4.75e+00 |   4   |\n",
      "|  58   |  44   |  17   | +8.3887e-03 | 2.53e-17 | 4.01e-14 | 1.11e-16 | 4.75e+00 |   4   |\n",
      "|  59   |  45   |  17   | +8.3887e-03 | 1.27e-17 | 4.01e-14 | 1.11e-16 | 4.75e+00 |   4   |\n",
      "|  60   |  46   |  17   | +8.3887e-03 | 6.33e-18 | 4.01e-14 | 1.11e-16 | 4.75e+00 |   4   |\n",
      "|  61   |  47   |  17   | +8.3887e-03 | 3.16e-18 | 4.01e-14 | 1.11e-16 | 4.75e+00 |   4   |\n",
      "|  62   |  48   |  17   | +8.3887e-03 | 1.58e-18 | 4.01e-14 | 1.11e-16 | 4.75e+00 |   4   |\n",
      "|  63   |  49   |  17   | +8.3887e-03 | 7.91e-19 | 4.01e-14 | 1.11e-16 | 4.75e+00 |   4   |\n",
      "|  64   |  50   |  17   | +8.3887e-03 | 3.95e-19 | 4.01e-14 | 1.11e-16 | 4.75e+00 |   4   |\n",
      "|  65   |  51   |  17   | +8.3887e-03 | 1.98e-19 | 4.01e-14 | 1.11e-16 | 4.75e+00 |   4   |\n",
      "|  66   |  52   |  17   | +8.3887e-03 | 9.89e-20 | 4.01e-14 | 1.11e-16 | 4.75e+00 |   4   |\n",
      "|  67   |  53   |  17   | +8.3887e-03 | 4.94e-20 | 4.01e-14 | 1.11e-16 | 4.75e+00 |   4   |\n",
      "|  68   |  54   |  17   | +8.3887e-03 | 2.47e-20 | 4.01e-14 | 1.11e-16 | 4.75e+00 |   4   |\n",
      "|  69   |  55   |  17   | +8.3887e-03 | 1.24e-20 | 4.01e-14 | 1.11e-16 | 4.75e+00 |   4   |\n",
      "|  70   |  56   |  17   | +8.3887e-03 | 6.18e-21 | 4.01e-14 | 1.11e-16 | 4.75e+00 |   4   |\n",
      "\n",
      "`xtol` termination condition is satisfied.\n",
      "Number of iterations: 70, function evaluations: 56, CG iterations: 17, optimality: 4.01e-14, constraint violation: 1.11e-16, execution time: 6.5e+01 s.\n",
      "Optimal solution found.\n",
      "#============================================================================#\n",
      "#== Optimal parameters found. Next, calculating standard errors:\n",
      "#== Calculating standard errors, elasticities, profits, and consumer surplus\n",
      "#============================================================================#\n",
      "#============================================================================#\n",
      "#== BLP Estimation Complete\n",
      "#============================================================================#\n"
     ]
    }
   ],
   "source": [
    "out_joint_collusion = estimate_BLP(df, alphas, sigma_alpha_init, \"supply_joint\", conduct = \"collusion\", verbose_print=3, scale_delta_guess=3)"
   ]
  },
  {
   "cell_type": "code",
   "execution_count": 75,
   "id": "1892ba2c",
   "metadata": {},
   "outputs": [
    {
     "name": "stdout",
     "output_type": "stream",
     "text": [
      "Excel file saved to Results/q3_joint_collusion_100markets.xlsx\n",
      "Excel file saved to Results/q3_joint_collusion_100markets.xlsx\n",
      "Excel file saved to Results/q3_joint_collusion_100markets.xlsx\n",
      "Excel file saved to Results/q3_joint_collusion_100markets.xlsx\n",
      "Excel file saved to Results/q3_joint_collusion_100markets.xlsx\n",
      "Excel file saved to Results/q3_joint_collusion_100markets.xlsx\n",
      "Excel file saved to Results/q3_joint_collusion_100markets.xlsx\n",
      "Excel file saved to Results/q3_joint_collusion_100markets.xlsx\n",
      "TeX file saved to Results/q3_joint_collusion_100markets.tex\n",
      "TeX file saved to Results/q3_joint_collusion_100markets.tex\n",
      "TeX file saved to Results/q3_joint_collusion_100markets.tex\n",
      "TeX file saved to Results/q3_joint_collusion_100markets.tex\n",
      "TeX file saved to Results/q3_joint_collusion_100markets.tex\n",
      "TeX file saved to Results/q3_joint_collusion_100markets.tex\n",
      "TeX file saved to Results/q3_joint_collusion_100markets.tex\n",
      "TeX file saved to Results/q3_joint_collusion_100markets.tex\n",
      "Comparison file saved to Results/q3_mc_collusion.xlsx.\n"
     ]
    }
   ],
   "source": [
    "store_results(out_joint_collusion, \"Results/q3_joint_collusion_100markets.xlsx\")\n",
    "store_results(out_joint_collusion, \"Results/q3_joint_collusion_100markets.tex\")\n",
    "\n",
    "save_mc_to_excel(out_joint_collusion, file_name=\"Results/q3_mc_collusion.xlsx\")"
   ]
  },
  {
   "cell_type": "code",
   "execution_count": 76,
   "id": "747af108",
   "metadata": {},
   "outputs": [
    {
     "name": "stdout",
     "output_type": "stream",
     "text": [
      "#============================================================================#\n",
      "#== Solving the MPEC optimization routine\n",
      "#============================================================================#\n",
      "| niter |f evals|CG iter|  obj func   |tr radius |   opt    |  c viol  | penalty  |CG stop|\n",
      "|-------|-------|-------|-------------|----------|----------|----------|----------|-------|\n",
      "|   1   |   1   |   0   | +1.1000e+01 | 1.00e+00 | 2.38e-04 | 1.00e+00 | 1.00e+00 |   0   |\n",
      "|   2   |   2   |   1   | +6.4314e+00 | 5.60e+00 | 1.72e-04 | 7.65e-01 | 1.00e+00 |   1   |\n",
      "|   3   |   3   |   2   | +1.1978e-02 | 3.14e+01 | 1.16e-05 | 3.57e-01 | 6.76e+00 |   1   |\n",
      "|   4   |   4   |   3   | +5.0880e-01 | 1.26e+02 | 1.93e-03 | 6.09e-02 | 6.76e+00 |   1   |\n",
      "|   5   |   5   |   4   | +3.7363e-01 | 1.26e+02 | 2.04e-03 | 2.06e-02 | 1.89e+02 |   1   |\n",
      "|   6   |   6   |   5   | +2.2763e-01 | 1.26e+02 | 1.63e-03 | 6.47e-03 | 3.35e+02 |   1   |\n",
      "|   7   |   7   |   6   | +1.3119e-01 | 1.26e+02 | 1.24e-03 | 1.58e-03 | 8.98e+02 |   1   |\n",
      "|   8   |   8   |   7   | +7.9019e-02 | 1.26e+02 | 9.57e-04 | 2.96e-04 | 1.96e+03 |   1   |\n",
      "|   9   |   9   |   8   | +5.5669e-02 | 1.26e+02 | 7.95e-04 | 6.58e-05 | 4.59e+03 |   1   |\n",
      "|  10   |  10   |   9   | +4.6394e-02 | 1.26e+02 | 7.21e-04 | 1.93e-05 | 1.14e+04 |   1   |\n",
      "|  11   |  11   |  10   | +4.2910e-02 | 1.26e+02 | 6.91e-04 | 5.02e-06 | 2.54e+04 |   1   |\n",
      "|  12   |  12   |  11   | +4.1783e-02 | 1.26e+02 | 6.82e-04 | 7.13e-07 | 2.73e+04 |   1   |\n",
      "|  13   |  13   |  12   | +4.1574e-02 | 1.26e+02 | 6.80e-04 | 2.14e-08 | 2.73e+04 |   1   |\n",
      "|  14   |  14   |  13   | +4.1554e-02 | 1.26e+02 | 6.80e-04 | 3.53e-11 | 2.73e+04 |   1   |\n",
      "|  15   |  15   |  14   | +4.1540e-02 | 1.26e+02 | 6.79e-04 | 3.76e-11 | 2.73e+04 |   1   |\n",
      "|  16   |  17   |  15   | +4.1540e-02 | 1.26e+01 | 6.79e-04 | 3.76e-11 | 2.73e+04 |   1   |\n",
      "|  17   |  19   |  16   | +4.1540e-02 | 1.26e+00 | 6.79e-04 | 3.76e-11 | 2.73e+04 |   1   |\n",
      "|  18   |  21   |  17   | +4.1540e-02 | 1.26e-01 | 6.79e-04 | 3.76e-11 | 2.73e+04 |   2   |\n",
      "|  19   |  23   |  18   | +4.0829e-02 | 8.85e-01 | 6.72e-04 | 7.61e-11 | 2.73e+04 |   2   |\n",
      "|  20   |  25   |  19   | +3.6070e-02 | 1.77e+00 | 6.18e-04 | 2.67e-08 | 2.73e+04 |   2   |\n",
      "|  21   |  27   |  20   | +3.6070e-02 | 1.77e-01 | 6.18e-04 | 2.67e-08 | 2.73e+04 |   2   |\n",
      "|  22   |  29   |  21   | +3.5165e-02 | 1.24e+00 | 6.08e-04 | 2.17e-10 | 2.73e+04 |   2   |\n",
      "|  23   |  31   |  22   | +3.5165e-02 | 1.24e-01 | 6.08e-04 | 2.17e-10 | 2.73e+04 |   2   |\n",
      "|  24   |  33   |  23   | +3.4540e-02 | 8.67e-01 | 6.00e-04 | 7.47e-11 | 2.73e+04 |   2   |\n",
      "|  25   |  35   |  24   | +3.0382e-02 | 8.67e-01 | 5.49e-04 | 2.62e-08 | 2.73e+04 |   2   |\n",
      "|  26   |  37   |  25   | +2.6592e-02 | 1.73e+00 | 4.97e-04 | 2.71e-08 | 2.73e+04 |   2   |\n",
      "|  27   |  39   |  26   | +2.6592e-02 | 1.73e-01 | 4.97e-04 | 2.71e-08 | 2.73e+04 |   2   |\n",
      "|  28   |  41   |  27   | +2.5879e-02 | 1.21e+00 | 4.87e-04 | 2.19e-10 | 2.73e+04 |   2   |\n",
      "|  29   |  43   |  28   | +2.5879e-02 | 1.21e-01 | 4.87e-04 | 2.19e-10 | 2.73e+04 |   2   |\n",
      "|  30   |  45   |  29   | +2.5388e-02 | 8.50e-01 | 4.80e-04 | 7.56e-11 | 2.73e+04 |   2   |\n",
      "|  31   |  47   |  30   | +2.5388e-02 | 8.50e-02 | 4.80e-04 | 7.56e-11 | 2.73e+04 |   2   |\n",
      "|  32   |  49   |  31   | +2.5048e-02 | 5.95e-01 | 4.75e-04 | 2.60e-11 | 2.73e+04 |   2   |\n",
      "|  33   |  51   |  32   | +2.2771e-02 | 1.19e+00 | 4.40e-04 | 9.07e-09 | 2.73e+04 |   2   |\n",
      "|  34   |  53   |  33   | +2.2771e-02 | 1.19e-01 | 4.40e-04 | 9.07e-09 | 2.73e+04 |   2   |\n",
      "|  35   |  55   |  34   | +2.2336e-02 | 8.33e-01 | 4.33e-04 | 7.32e-11 | 2.73e+04 |   2   |\n",
      "|  36   |  57   |  35   | +2.2336e-02 | 8.33e-02 | 4.33e-04 | 7.32e-11 | 2.73e+04 |   2   |\n",
      "|  37   |  59   |  36   | +2.2035e-02 | 5.83e-01 | 4.29e-04 | 2.52e-11 | 2.73e+04 |   2   |\n",
      "|  38   |  61   |  37   | +2.0026e-02 | 1.17e+00 | 3.95e-04 | 8.77e-09 | 2.73e+04 |   2   |\n",
      "|  39   |  62   |  38   | +1.9921e-02 | 1.17e+00 | 3.93e-04 | 7.24e-09 | 2.73e+04 |   1   |\n",
      "|  40   |  64   |  39   | +1.9921e-02 | 1.17e-01 | 3.93e-04 | 7.24e-09 | 2.73e+04 |   2   |\n",
      "|  41   |  66   |  40   | +1.9541e-02 | 8.16e-01 | 3.86e-04 | 7.08e-11 | 2.73e+04 |   2   |\n",
      "|  42   |  68   |  41   | +1.9325e-02 | 8.16e-01 | 3.82e-04 | 1.35e-11 | 2.73e+04 |   1   |\n",
      "|  43   |  70   |  42   | +1.8956e-02 | 8.16e-01 | 3.76e-04 | 7.07e-11 | 2.73e+04 |   1   |\n",
      "|  44   |  72   |  43   | +1.8311e-02 | 1.46e+00 | 3.64e-04 | 4.10e-10 | 2.73e+04 |   1   |\n",
      "|  45   |  74   |  44   | +1.7242e-02 | 2.53e+00 | 3.43e-04 | 2.15e-09 | 2.73e+04 |   1   |\n",
      "|  46   |  76   |  45   | +1.5641e-02 | 2.53e+00 | 3.09e-04 | 9.36e-09 | 2.73e+04 |   1   |\n",
      "|  47   |  78   |  46   | +1.5641e-02 | 2.53e-01 | 3.09e-04 | 9.36e-09 | 2.73e+04 |   1   |\n",
      "|  48   |  80   |  47   | +1.5000e-02 | 1.77e+00 | 2.95e-04 | 7.66e-10 | 2.73e+04 |   2   |\n",
      "|  49   |  82   |  48   | +1.5000e-02 | 1.77e-01 | 2.95e-04 | 7.66e-10 | 2.73e+04 |   1   |\n",
      "|  50   |  84   |  49   | +1.4569e-02 | 1.24e+00 | 2.85e-04 | 2.65e-10 | 2.73e+04 |   2   |\n",
      "|  51   |  86   |  50   | +1.4569e-02 | 1.24e-01 | 2.85e-04 | 2.65e-10 | 2.73e+04 |   1   |\n",
      "|  52   |  88   |  51   | +1.4276e-02 | 8.67e-01 | 2.78e-04 | 9.15e-11 | 2.73e+04 |   2   |\n",
      "|  53   |  90   |  52   | +1.4276e-02 | 8.67e-02 | 2.78e-04 | 9.15e-11 | 2.73e+04 |   2   |\n",
      "|  54   |  92   |  53   | +1.4076e-02 | 6.07e-01 | 2.73e-04 | 3.15e-11 | 2.73e+04 |   2   |\n",
      "|  55   |  94   |  54   | +1.4076e-02 | 6.07e-02 | 2.73e-04 | 3.15e-11 | 2.73e+04 |   2   |\n",
      "|  56   |  96   |  55   | +1.3937e-02 | 4.25e-01 | 2.70e-04 | 1.08e-11 | 2.73e+04 |   2   |\n",
      "|  57   |  98   |  56   | +1.3017e-02 | 8.49e-01 | 2.46e-04 | 3.78e-09 | 2.73e+04 |   2   |\n",
      "|  58   |  100  |  57   | +1.3017e-02 | 8.49e-02 | 2.46e-04 | 3.78e-09 | 2.73e+04 |   2   |\n",
      "|  59   |  102  |  58   | +1.2844e-02 | 5.94e-01 | 2.41e-04 | 3.05e-11 | 2.73e+04 |   2   |\n",
      "|  60   |  104  |  59   | +1.2844e-02 | 5.94e-02 | 2.41e-04 | 3.05e-11 | 2.73e+04 |   2   |\n",
      "|  61   |  106  |  60   | +1.2724e-02 | 4.16e-01 | 2.38e-04 | 1.05e-11 | 2.73e+04 |   2   |\n",
      "|  62   |  108  |  61   | +1.1933e-02 | 8.32e-01 | 2.14e-04 | 3.65e-09 | 2.73e+04 |   2   |\n",
      "|  63   |  110  |  62   | +1.1933e-02 | 8.32e-02 | 2.14e-04 | 3.65e-09 | 2.73e+04 |   2   |\n",
      "|  64   |  112  |  63   | +1.1784e-02 | 5.83e-01 | 2.10e-04 | 2.94e-11 | 2.73e+04 |   2   |\n",
      "|  65   |  114  |  64   | +1.1784e-02 | 5.83e-02 | 2.10e-04 | 2.94e-11 | 2.73e+04 |   2   |\n",
      "|  66   |  116  |  65   | +1.1682e-02 | 4.08e-01 | 2.07e-04 | 1.01e-11 | 2.73e+04 |   2   |\n",
      "|  67   |  118  |  66   | +1.1012e-02 | 8.16e-01 | 1.84e-04 | 3.52e-09 | 2.73e+04 |   2   |\n",
      "|  68   |  120  |  67   | +1.1012e-02 | 8.16e-02 | 1.84e-04 | 3.52e-09 | 2.73e+04 |   1   |\n",
      "|  69   |  122  |  68   | +1.0887e-02 | 5.71e-01 | 1.79e-04 | 2.84e-11 | 2.73e+04 |   2   |\n",
      "|  70   |  124  |  69   | +1.0887e-02 | 5.71e-02 | 1.79e-04 | 2.84e-11 | 2.73e+04 |   1   |\n",
      "|  71   |  126  |  70   | +1.0801e-02 | 4.00e-01 | 1.76e-04 | 9.77e-12 | 2.73e+04 |   2   |\n",
      "|  72   |  128  |  71   | +1.0245e-02 | 7.99e-01 | 1.54e-04 | 3.40e-09 | 2.73e+04 |   2   |\n",
      "|  73   |  130  |  72   | +1.0245e-02 | 7.99e-02 | 1.54e-04 | 3.40e-09 | 2.73e+04 |   1   |\n",
      "|  74   |  132  |  73   | +1.0142e-02 | 5.59e-01 | 1.50e-04 | 2.74e-11 | 2.73e+04 |   2   |\n",
      "|  75   |  134  |  74   | +1.0118e-02 | 5.59e-01 | 1.49e-04 | 3.61e-13 | 2.73e+04 |   1   |\n",
      "|  76   |  136  |  75   | +1.0118e-02 | 5.59e-02 | 1.49e-04 | 3.61e-13 | 2.73e+04 |   2   |\n",
      "|  77   |  138  |  76   | +1.0049e-02 | 3.92e-01 | 1.46e-04 | 9.43e-12 | 2.73e+04 |   2   |\n",
      "|  78   |  140  |  77   | +9.6026e-03 | 3.92e-01 | 1.24e-04 | 3.28e-09 | 2.73e+04 |   2   |\n",
      "|  79   |  142  |  78   | +9.3450e-03 | 1.82e+00 | 1.10e-04 | 9.75e-10 | 2.73e+04 |   1   |\n",
      "|  80   |  144  |  79   | +9.3450e-03 | 1.82e-01 | 1.10e-04 | 9.75e-10 | 2.73e+04 |   2   |\n",
      "|  81   |  146  |  80   | +9.1830e-03 | 3.64e-01 | 1.00e-04 | 3.38e-10 | 2.73e+04 |   2   |\n",
      "|  82   |  148  |  81   | +9.1830e-03 | 3.64e-02 | 1.00e-04 | 3.38e-10 | 2.73e+04 |   2   |\n",
      "|  83   |  150  |  82   | +9.1524e-03 | 2.55e-01 | 9.84e-05 | 2.71e-12 | 2.73e+04 |   2   |\n",
      "|  84   |  152  |  83   | +8.9553e-03 | 5.10e-01 | 8.47e-05 | 9.38e-10 | 2.73e+04 |   2   |\n",
      "|  85   |  154  |  84   | +8.9553e-03 | 5.10e-02 | 8.47e-05 | 9.38e-10 | 2.73e+04 |   2   |\n",
      "|  86   |  156  |  85   | +8.9194e-03 | 3.57e-01 | 8.19e-05 | 7.54e-12 | 2.73e+04 |   2   |\n",
      "|  87   |  158  |  86   | +8.9194e-03 | 3.57e-02 | 8.19e-05 | 7.54e-12 | 2.73e+04 |   2   |\n",
      "|  88   |  160  |  87   | +8.8950e-03 | 2.50e-01 | 8.00e-05 | 2.59e-12 | 2.73e+04 |   2   |\n",
      "|  89   |  162  |  88   | +8.7403e-03 | 2.50e-01 | 6.66e-05 | 8.96e-10 | 2.73e+04 |   2   |\n",
      "|  90   |  164  |  89   | +8.6138e-03 | 5.00e-01 | 5.32e-05 | 9.07e-10 | 2.73e+04 |   2   |\n",
      "|  91   |  166  |  90   | +8.6138e-03 | 5.00e-02 | 5.32e-05 | 9.07e-10 | 2.73e+04 |   2   |\n",
      "|  92   |  168  |  91   | +8.5919e-03 | 3.50e-01 | 5.05e-05 | 7.28e-12 | 2.73e+04 |   2   |\n",
      "|  93   |  170  |  92   | +8.5919e-03 | 3.50e-02 | 5.05e-05 | 7.28e-12 | 2.73e+04 |   2   |\n",
      "|  94   |  172  |  93   | +8.5773e-03 | 2.45e-01 | 4.86e-05 | 2.50e-12 | 2.73e+04 |   2   |\n",
      "|  95   |  174  |  94   | +8.5773e-03 | 2.45e-02 | 4.86e-05 | 2.50e-12 | 2.73e+04 |   2   |\n",
      "|  96   |  176  |  95   | +8.5673e-03 | 1.71e-01 | 4.73e-05 | 8.60e-13 | 2.73e+04 |   2   |\n",
      "|  97   |  178  |  96   | +8.5053e-03 | 3.43e-01 | 3.82e-05 | 2.97e-10 | 2.73e+04 |   2   |\n",
      "|  98   |  180  |  97   | +8.5053e-03 | 3.43e-02 | 3.82e-05 | 2.97e-10 | 2.73e+04 |   2   |\n",
      "|  99   |  182  |  98   | +8.4945e-03 | 2.40e-01 | 3.64e-05 | 2.38e-12 | 2.73e+04 |   2   |\n",
      "|  100  |  184  |  99   | +8.4945e-03 | 2.40e-02 | 3.64e-05 | 2.38e-12 | 2.73e+04 |   2   |\n",
      "|  101  |  186  |  100  | +8.4872e-03 | 1.68e-01 | 3.51e-05 | 8.17e-13 | 2.73e+04 |   2   |\n",
      "|  102  |  188  |  101  | +8.4437e-03 | 1.68e-01 | 2.62e-05 | 2.82e-10 | 2.73e+04 |   2   |\n",
      "|  103  |  190  |  102  | +8.4127e-03 | 3.36e-01 | 1.73e-05 | 2.84e-10 | 2.73e+04 |   2   |\n",
      "|  104  |  192  |  103  | +8.4127e-03 | 3.36e-02 | 1.73e-05 | 2.84e-10 | 2.73e+04 |   1   |\n",
      "|  105  |  194  |  104  | +8.4081e-03 | 2.35e-01 | 1.55e-05 | 2.28e-12 | 2.73e+04 |   2   |\n",
      "|  106  |  196  |  105  | +8.4081e-03 | 2.35e-02 | 1.55e-05 | 2.28e-12 | 2.73e+04 |   2   |\n",
      "|  107  |  198  |  106  | +8.4051e-03 | 1.65e-01 | 1.43e-05 | 7.83e-13 | 2.73e+04 |   2   |\n",
      "|  108  |  200  |  107  | +8.4051e-03 | 1.65e-02 | 1.43e-05 | 7.83e-13 | 2.73e+04 |   2   |\n",
      "|  109  |  202  |  108  | +8.4032e-03 | 1.15e-01 | 1.34e-05 | 2.69e-13 | 2.73e+04 |   2   |\n",
      "|  110  |  204  |  109  | +8.4032e-03 | 1.15e-02 | 1.34e-05 | 2.69e-13 | 2.73e+04 |   2   |\n",
      "|  111  |  206  |  110  | +8.4019e-03 | 8.07e-02 | 1.28e-05 | 9.23e-14 | 2.73e+04 |   2   |\n",
      "|  112  |  208  |  111  | +8.3946e-03 | 1.61e-01 | 8.55e-06 | 3.17e-11 | 2.73e+04 |   2   |\n",
      "|  113  |  210  |  112  | +8.3946e-03 | 1.61e-02 | 8.55e-06 | 3.17e-11 | 2.73e+04 |   2   |\n",
      "|  114  |  212  |  113  | +8.3935e-03 | 1.13e-01 | 7.70e-06 | 2.54e-13 | 2.73e+04 |   2   |\n",
      "|  115  |  214  |  114  | +8.3935e-03 | 1.13e-02 | 7.70e-06 | 2.54e-13 | 2.73e+04 |   2   |\n",
      "|  116  |  216  |  115  | +8.3928e-03 | 7.91e-02 | 7.10e-06 | 8.73e-14 | 2.73e+04 |   2   |\n",
      "|  117  |  218  |  116  | +8.3928e-03 | 7.91e-03 | 7.10e-06 | 8.73e-14 | 2.73e+04 |   2   |\n",
      "|  118  |  220  |  117  | +8.3923e-03 | 5.54e-02 | 6.68e-06 | 3.01e-14 | 2.73e+04 |   2   |\n",
      "|  119  |  222  |  118  | +8.3899e-03 | 1.11e-01 | 3.77e-06 | 1.03e-11 | 2.73e+04 |   2   |\n",
      "|  120  |  224  |  119  | +8.3899e-03 | 1.11e-02 | 3.77e-06 | 1.03e-11 | 2.73e+04 |   1   |\n",
      "|  121  |  226  |  120  | +8.3896e-03 | 7.75e-02 | 3.19e-06 | 8.24e-14 | 2.73e+04 |   2   |\n",
      "|  122  |  228  |  121  | +8.3896e-03 | 7.75e-03 | 3.19e-06 | 8.24e-14 | 2.73e+04 |   1   |\n",
      "|  123  |  230  |  122  | +8.3894e-03 | 5.42e-02 | 2.78e-06 | 2.83e-14 | 2.73e+04 |   2   |\n",
      "|  124  |  232  |  123  | +8.3894e-03 | 5.42e-03 | 2.78e-06 | 2.83e-14 | 2.73e+04 |   1   |\n",
      "|  125  |  234  |  124  | +8.3892e-03 | 3.80e-02 | 2.50e-06 | 9.77e-15 | 2.73e+04 |   2   |\n",
      "|  126  |  236  |  125  | +8.3888e-03 | 3.80e-02 | 4.99e-07 | 3.33e-12 | 2.73e+04 |   2   |\n",
      "|  127  |  238  |  126  | +8.3887e-03 | 6.64e-02 | 3.07e-10 | 5.20e-14 | 2.73e+04 |   1   |\n",
      "|  128  |  239  |  127  | +8.3887e-03 | 6.64e-02 | 1.10e-13 | 2.54e-15 | 2.73e+04 |   1   |\n",
      "|  129  |  241  |  128  | +8.3887e-03 | 6.64e-03 | 1.10e-13 | 2.54e-15 | 2.73e+04 |   1   |\n",
      "|  130  |  243  |  129  | +8.3887e-03 | 6.64e-03 | 6.71e-14 | 2.03e-15 | 2.73e+04 |   1   |\n",
      "|  131  |  244  |  129  | +8.3887e-03 | 6.64e-04 | 6.71e-14 | 2.03e-15 | 2.73e+04 |   4   |\n",
      "|  132  |  244  |  129  | +8.3887e-03 | 6.64e-05 | 6.71e-14 | 2.03e-15 | 2.73e+04 |   4   |\n",
      "|  133  |  244  |  129  | +8.3887e-03 | 6.64e-06 | 6.71e-14 | 2.03e-15 | 2.73e+04 |   4   |\n",
      "|  134  |  244  |  129  | +8.3887e-03 | 6.64e-07 | 6.71e-14 | 2.03e-15 | 2.73e+04 |   4   |\n",
      "|  135  |  244  |  129  | +8.3887e-03 | 6.64e-08 | 6.71e-14 | 2.03e-15 | 2.73e+04 |   4   |\n",
      "|  136  |  244  |  129  | +8.3887e-03 | 6.64e-09 | 6.71e-14 | 2.03e-15 | 2.73e+04 |   4   |\n",
      "|  137  |  244  |  129  | +8.3887e-03 | 6.64e-10 | 6.71e-14 | 2.03e-15 | 2.73e+04 |   4   |\n",
      "|  138  |  244  |  129  | +8.3887e-03 | 6.64e-11 | 6.71e-14 | 2.03e-15 | 2.73e+04 |   4   |\n",
      "|  139  |  244  |  129  | +8.3887e-03 | 6.64e-12 | 6.71e-14 | 2.03e-15 | 2.73e+04 |   4   |\n",
      "|  140  |  244  |  129  | +8.3887e-03 | 6.64e-13 | 6.71e-14 | 2.03e-15 | 2.73e+04 |   4   |\n",
      "|  141  |  244  |  129  | +8.3887e-03 | 6.64e-14 | 6.71e-14 | 2.03e-15 | 2.73e+04 |   4   |\n",
      "|  142  |  244  |  129  | +8.3887e-03 | 1.57e-14 | 6.71e-14 | 2.03e-15 | 2.73e+04 |   4   |\n",
      "|  143  |  245  |  129  | +8.3887e-03 | 7.86e-15 | 6.71e-14 | 2.03e-15 | 2.73e+04 |   4   |\n",
      "|  144  |  246  |  129  | +8.3887e-03 | 1.26e-14 | 7.23e-14 | 6.66e-16 | 2.73e+04 |   4   |\n",
      "|  145  |  247  |  129  | +8.3887e-03 | 6.04e-15 | 7.23e-14 | 6.66e-16 | 2.73e+04 |   4   |\n",
      "|  146  |  248  |  129  | +8.3887e-03 | 6.04e-15 | 2.14e-14 | 7.36e-16 | 2.73e+04 |   4   |\n",
      "|  147  |  249  |  129  | +8.3887e-03 | 3.02e-15 | 2.14e-14 | 7.36e-16 | 2.73e+04 |   4   |\n",
      "|  148  |  250  |  129  | +8.3887e-03 | 4.83e-15 | 4.83e-14 | 3.61e-16 | 2.73e+04 |   4   |\n",
      "|  149  |  251  |  129  | +8.3887e-03 | 2.42e-15 | 4.83e-14 | 3.61e-16 | 2.73e+04 |   4   |\n",
      "|  150  |  252  |  129  | +8.3887e-03 | 1.03e-15 | 4.83e-14 | 3.61e-16 | 2.73e+04 |   4   |\n",
      "|  151  |  253  |  129  | +8.3887e-03 | 1.64e-15 | 2.42e-14 | 2.22e-16 | 2.73e+04 |   4   |\n",
      "|  152  |  254  |  129  | +8.3887e-03 | 8.21e-16 | 2.42e-14 | 2.22e-16 | 2.73e+04 |   4   |\n",
      "|  153  |  255  |  129  | +8.3887e-03 | 8.21e-16 | 2.56e-14 | 2.22e-16 | 2.73e+04 |   4   |\n",
      "|  154  |  256  |  129  | +8.3887e-03 | 3.71e-16 | 2.56e-14 | 2.22e-16 | 2.73e+04 |   4   |\n",
      "|  155  |  257  |  129  | +8.3887e-03 | 1.85e-16 | 2.56e-14 | 2.22e-16 | 2.73e+04 |   4   |\n",
      "|  156  |  258  |  129  | +8.3887e-03 | 9.27e-17 | 2.56e-14 | 2.22e-16 | 2.73e+04 |   4   |\n",
      "|  157  |  259  |  129  | +8.3887e-03 | 9.27e-17 | 4.53e-14 | 2.22e-16 | 2.73e+04 |   4   |\n",
      "|  158  |  260  |  129  | +8.3887e-03 | 9.27e-17 | 2.07e-14 | 2.22e-16 | 2.73e+04 |   4   |\n",
      "|  159  |  261  |  129  | +8.3887e-03 | 9.27e-17 | 4.44e-14 | 2.22e-16 | 2.73e+04 |   4   |\n",
      "|  160  |  262  |  129  | +8.3887e-03 | 9.27e-17 | 2.57e-14 | 2.22e-16 | 2.73e+04 |   4   |\n",
      "|  161  |  263  |  129  | +8.3887e-03 | 9.27e-17 | 3.06e-14 | 2.22e-16 | 2.73e+04 |   4   |\n",
      "|  162  |  264  |  129  | +8.3887e-03 | 4.63e-17 | 3.06e-14 | 2.22e-16 | 2.73e+04 |   4   |\n",
      "|  163  |  265  |  129  | +8.3887e-03 | 4.63e-17 | 5.45e-14 | 2.22e-16 | 2.73e+04 |   4   |\n",
      "|  164  |  266  |  129  | +8.3887e-03 | 4.63e-17 | 3.96e-14 | 2.22e-16 | 2.73e+04 |   4   |\n",
      "|  165  |  267  |  129  | +8.3887e-03 | 4.63e-17 | 4.16e-14 | 2.22e-16 | 2.73e+04 |   4   |\n",
      "|  166  |  268  |  129  | +8.3887e-03 | 4.63e-17 | 3.96e-14 | 2.22e-16 | 2.73e+04 |   4   |\n",
      "|  167  |  269  |  129  | +8.3887e-03 | 4.63e-17 | 3.96e-14 | 2.22e-16 | 2.73e+04 |   4   |\n",
      "|  168  |  270  |  129  | +8.3887e-03 | 4.63e-17 | 3.96e-14 | 2.22e-16 | 2.73e+04 |   4   |\n",
      "|  169  |  271  |  129  | +8.3887e-03 | 4.63e-17 | 3.96e-14 | 2.22e-16 | 2.73e+04 |   4   |\n",
      "|  170  |  272  |  129  | +8.3887e-03 | 4.63e-17 | 3.85e-14 | 2.22e-16 | 2.73e+04 |   4   |\n",
      "|  171  |  273  |  129  | +8.3887e-03 | 4.63e-17 | 3.85e-14 | 2.22e-16 | 2.73e+04 |   4   |\n",
      "|  172  |  274  |  129  | +8.3887e-03 | 4.63e-17 | 3.85e-14 | 2.22e-16 | 2.73e+04 |   4   |\n",
      "|  173  |  275  |  129  | +8.3887e-03 | 4.63e-17 | 3.85e-14 | 2.22e-16 | 2.73e+04 |   4   |\n",
      "|  174  |  276  |  129  | +8.3887e-03 | 4.63e-17 | 3.85e-14 | 2.22e-16 | 2.73e+04 |   4   |\n",
      "|  175  |  277  |  129  | +8.3887e-03 | 4.63e-17 | 3.85e-14 | 2.22e-16 | 2.73e+04 |   4   |\n",
      "|  176  |  278  |  129  | +8.3887e-03 | 4.63e-17 | 4.25e-14 | 2.22e-16 | 2.73e+04 |   4   |\n",
      "|  177  |  279  |  129  | +8.3887e-03 | 4.63e-17 | 4.25e-14 | 2.22e-16 | 2.73e+04 |   4   |\n",
      "|  178  |  280  |  129  | +8.3887e-03 | 4.63e-17 | 4.25e-14 | 2.22e-16 | 2.73e+04 |   4   |\n",
      "|  179  |  281  |  129  | +8.3887e-03 | 4.63e-17 | 4.25e-14 | 2.22e-16 | 2.73e+04 |   4   |\n",
      "|  180  |  282  |  129  | +8.3887e-03 | 4.63e-17 | 4.25e-14 | 2.22e-16 | 2.73e+04 |   4   |\n",
      "|  181  |  283  |  129  | +8.3887e-03 | 2.32e-17 | 4.25e-14 | 2.22e-16 | 2.73e+04 |   4   |\n",
      "|  182  |  284  |  129  | +8.3887e-03 | 1.16e-17 | 4.25e-14 | 2.22e-16 | 2.73e+04 |   4   |\n",
      "|  183  |  285  |  129  | +8.3887e-03 | 5.79e-18 | 4.25e-14 | 2.22e-16 | 2.73e+04 |   4   |\n",
      "|  184  |  286  |  129  | +8.3887e-03 | 2.90e-18 | 4.25e-14 | 2.22e-16 | 2.73e+04 |   4   |\n",
      "|  185  |  286  |  129  | +8.3887e-03 | 1.45e-18 | 4.25e-14 | 2.22e-16 | 2.73e+04 |   4   |\n",
      "|  186  |  286  |  129  | +8.3887e-03 | 7.24e-19 | 4.25e-14 | 2.22e-16 | 2.73e+04 |   4   |\n",
      "|  187  |  286  |  129  | +8.3887e-03 | 3.62e-19 | 4.25e-14 | 2.22e-16 | 2.73e+04 |   4   |\n",
      "|  188  |  286  |  129  | +8.3887e-03 | 1.81e-19 | 4.25e-14 | 2.22e-16 | 2.73e+04 |   4   |\n",
      "|  189  |  286  |  129  | +8.3887e-03 | 9.05e-20 | 4.25e-14 | 2.22e-16 | 2.73e+04 |   4   |\n",
      "|  190  |  286  |  129  | +8.3887e-03 | 4.53e-20 | 4.25e-14 | 2.22e-16 | 2.73e+04 |   4   |\n",
      "|  191  |  286  |  129  | +8.3887e-03 | 2.26e-20 | 4.25e-14 | 2.22e-16 | 2.73e+04 |   4   |\n",
      "|  192  |  286  |  129  | +8.3887e-03 | 1.13e-20 | 4.25e-14 | 2.22e-16 | 2.73e+04 |   4   |\n",
      "|  193  |  286  |  129  | +8.3887e-03 | 5.66e-21 | 4.25e-14 | 2.22e-16 | 2.73e+04 |   4   |\n",
      "\n",
      "`xtol` termination condition is satisfied.\n",
      "Number of iterations: 193, function evaluations: 286, CG iterations: 129, optimality: 4.25e-14, constraint violation: 2.22e-16, execution time: 8.2e+01 s.\n",
      "Optimal solution found.\n",
      "#============================================================================#\n",
      "#== Optimal parameters found. Next, calculating standard errors:\n",
      "#== Calculating standard errors, elasticities, profits, and consumer surplus\n",
      "#============================================================================#\n",
      "#============================================================================#\n",
      "#== BLP Estimation Complete\n",
      "#============================================================================#\n"
     ]
    }
   ],
   "source": [
    "out_joint_perfect = estimate_BLP(df, alphas, sigma_alpha_init, \"supply_joint\", conduct = \"perfect\", verbose_print=3, scale_delta_guess=3)"
   ]
  },
  {
   "cell_type": "code",
   "execution_count": 77,
   "id": "7b95ec6e",
   "metadata": {},
   "outputs": [
    {
     "name": "stdout",
     "output_type": "stream",
     "text": [
      "Excel file saved to Results/q3_joint_perfect_100markets.xlsx\n",
      "Excel file saved to Results/q3_joint_perfect_100markets.xlsx\n",
      "Excel file saved to Results/q3_joint_perfect_100markets.xlsx\n",
      "Excel file saved to Results/q3_joint_perfect_100markets.xlsx\n",
      "Excel file saved to Results/q3_joint_perfect_100markets.xlsx\n",
      "Excel file saved to Results/q3_joint_perfect_100markets.xlsx\n",
      "Excel file saved to Results/q3_joint_perfect_100markets.xlsx\n",
      "Excel file saved to Results/q3_joint_perfect_100markets.xlsx\n",
      "TeX file saved to Results/q3_joint_perfect_100markets.tex\n",
      "TeX file saved to Results/q3_joint_perfect_100markets.tex\n",
      "TeX file saved to Results/q3_joint_perfect_100markets.tex\n",
      "TeX file saved to Results/q3_joint_perfect_100markets.tex\n",
      "TeX file saved to Results/q3_joint_perfect_100markets.tex\n",
      "TeX file saved to Results/q3_joint_perfect_100markets.tex\n",
      "TeX file saved to Results/q3_joint_perfect_100markets.tex\n",
      "TeX file saved to Results/q3_joint_perfect_100markets.tex\n",
      "Comparison file saved to Results/q3_mc_perfect.xlsx.\n"
     ]
    }
   ],
   "source": [
    "store_results(out_joint_perfect, \"Results/q3_joint_perfect_100markets.xlsx\")\n",
    "store_results(out_joint_perfect, \"Results/q3_joint_perfect_100markets.tex\")\n",
    "\n",
    "save_mc_to_excel(out_joint_perfect, file_name=\"Results/q3_mc_perfect.xlsx\")"
   ]
  }
 ],
 "metadata": {
  "kernelspec": {
   "display_name": "Python 3 (ipykernel)",
   "language": "python",
   "name": "python3"
  },
  "language_info": {
   "codemirror_mode": {
    "name": "ipython",
    "version": 3
   },
   "file_extension": ".py",
   "mimetype": "text/x-python",
   "name": "python",
   "nbconvert_exporter": "python",
   "pygments_lexer": "ipython3",
   "version": "3.13.0"
  }
 },
 "nbformat": 4,
 "nbformat_minor": 5
}
