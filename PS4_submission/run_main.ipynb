{
 "cells": [
  {
   "cell_type": "code",
   "execution_count": 162,
   "id": "41c04fcc",
   "metadata": {},
   "outputs": [],
   "source": [
    "from source_functions import *\n",
    "from estimate_BLP import *"
   ]
  },
  {
   "cell_type": "markdown",
   "id": "799ac0fb",
   "metadata": {},
   "source": [
    "# Part 2.2: Demand-side estimation, 100 markets"
   ]
  },
  {
   "cell_type": "markdown",
   "id": "81fe0f8d",
   "metadata": {},
   "source": [
    "## Load data and set function arguments"
   ]
  },
  {
   "cell_type": "code",
   "execution_count": 120,
   "id": "7c8e6c2e",
   "metadata": {},
   "outputs": [],
   "source": [
    "df_3p, alphas_3p = load_mat_data('Simulation Data/100markets3products.mat', 3, 100)\n",
    "df_5p, alphas_5p = load_mat_data('Simulation Data/100markets5products.mat', 5, 100)\n",
    "\n",
    "sigma_alpha_init = 1 #initial guess\n",
    "df = df_3p #data\n",
    "alphas = alphas_3p #random coefficients on prices\n",
    "mode = \"demand_side\" #demand-side moments only"
   ]
  },
  {
   "cell_type": "code",
   "execution_count": 61,
   "id": "4a4e7304",
   "metadata": {},
   "outputs": [],
   "source": [
    "out_demandside=estimate_BLP(df, alphas, sigma_alpha_init, mode)"
   ]
  },
  {
   "cell_type": "code",
   "execution_count": 62,
   "id": "9614509b",
   "metadata": {},
   "outputs": [
    {
     "data": {
      "text/plain": [
       "array([[4.92818632],\n",
       "       [0.95515674],\n",
       "       [1.02872379]])"
      ]
     },
     "execution_count": 62,
     "metadata": {},
     "output_type": "execute_result"
    }
   ],
   "source": [
    "out_demandside['beta_hat']"
   ]
  },
  {
   "cell_type": "code",
   "execution_count": 21,
   "id": "9d1eb07f",
   "metadata": {},
   "outputs": [
    {
     "data": {
      "text/plain": [
       "0.9675675769688533"
      ]
     },
     "execution_count": 21,
     "metadata": {},
     "output_type": "execute_result"
    }
   ],
   "source": [
    "out_demandside['alpha_hat']"
   ]
  },
  {
   "cell_type": "code",
   "execution_count": 23,
   "id": "a04b79fe",
   "metadata": {},
   "outputs": [
    {
     "data": {
      "text/plain": [
       "0.9888037612322531"
      ]
     },
     "execution_count": 23,
     "metadata": {},
     "output_type": "execute_result"
    }
   ],
   "source": [
    "out_demandside['sigma_alpha_hat']"
   ]
  },
  {
   "cell_type": "markdown",
   "id": "8b7192f8",
   "metadata": {},
   "source": [
    "# Part 2.2g: Demand-side instruments, 10 markets\n",
    "Load the data and set function arguments:"
   ]
  },
  {
   "cell_type": "code",
   "execution_count": 121,
   "id": "e426d208",
   "metadata": {},
   "outputs": [],
   "source": [
    "df_3p10m, alphas_3p10m = load_mat_data('Simulation Data/10markets3products.mat', 3, 10)\n",
    "\n",
    "#### Function arguments\n",
    "mode = \"demand_side\" #demand-side moments only"
   ]
  },
  {
   "cell_type": "code",
   "execution_count": 65,
   "id": "758a39ac",
   "metadata": {},
   "outputs": [
    {
     "name": "stdout",
     "output_type": "stream",
     "text": [
      "#============================================================================#\n",
      "#== Getting feasible initial guess using modified MPEC\n",
      "#============================================================================#\n",
      "#============================================================================#\n",
      "#== Solving the MPEC optimization routine\n",
      "#============================================================================#\n",
      "The maximum number of function evaluations is exceeded.\n",
      "Number of iterations: 10000, function evaluations: 10000, CG iterations: 9999, optimality: 4.67e-05, constraint violation: 1.01e-11, execution time: 1.8e+02 s.\n",
      "Optimization failed: The maximum number of function evaluations is exceeded.\n",
      "#============================================================================#\n",
      "#== Optimal parameters found. Next, calculating standard errors:\n",
      "#== Calculating standard errors, elasticities, profits, and consumer surplus\n",
      "#============================================================================#\n",
      "#============================================================================#\n",
      "#== BLP Estimation Complete\n",
      "#============================================================================#\n"
     ]
    }
   ],
   "source": [
    "out_demandside_10m=estimate_BLP(df_3p10m, alphas_3p10m, sigma_alpha_init, mode)"
   ]
  },
  {
   "cell_type": "code",
   "execution_count": 71,
   "id": "10196a4e",
   "metadata": {},
   "outputs": [
    {
     "data": {
      "text/plain": [
       "array([[2.61933023],\n",
       "       [0.42100499],\n",
       "       [1.36710302]])"
      ]
     },
     "execution_count": 71,
     "metadata": {},
     "output_type": "execute_result"
    }
   ],
   "source": [
    "out_demandside_10m['beta_hat']"
   ]
  },
  {
   "cell_type": "code",
   "execution_count": 72,
   "id": "40c3d502",
   "metadata": {},
   "outputs": [
    {
     "data": {
      "text/plain": [
       "0.6553970510105538"
      ]
     },
     "execution_count": 72,
     "metadata": {},
     "output_type": "execute_result"
    }
   ],
   "source": [
    "out_demandside_10m['alpha_hat']"
   ]
  },
  {
   "cell_type": "code",
   "execution_count": 73,
   "id": "dc53d667",
   "metadata": {},
   "outputs": [
    {
     "data": {
      "text/plain": [
       "0.5041133184251231"
      ]
     },
     "execution_count": 73,
     "metadata": {},
     "output_type": "execute_result"
    }
   ],
   "source": [
    "out_demandside_10m['sigma_alpha_hat']"
   ]
  },
  {
   "cell_type": "code",
   "execution_count": 74,
   "id": "ae1df66d",
   "metadata": {},
   "outputs": [
    {
     "data": {
      "text/plain": [
       "array([0.06732948, 2.49792306, 1.0830104 , 0.46744008, 0.93377222])"
      ]
     },
     "execution_count": 74,
     "metadata": {},
     "output_type": "execute_result"
    }
   ],
   "source": [
    "out_demandside_10m['se']"
   ]
  },
  {
   "cell_type": "code",
   "execution_count": 81,
   "id": "2dca1b34",
   "metadata": {},
   "outputs": [
    {
     "data": {
      "text/plain": [
       "(30, 1)"
      ]
     },
     "execution_count": 81,
     "metadata": {},
     "output_type": "execute_result"
    }
   ],
   "source": [
    "out_demandside_10m['delta_hat'].shape"
   ]
  },
  {
   "cell_type": "markdown",
   "id": "5b2adfc3",
   "metadata": {},
   "source": [
    "# Part 2.3: Using price as a moment. \n",
    "\n",
    "Estimate $\\theta$ assming incorrectly that $E[\\xi|p]=0$ within each market. \n",
    "\n",
    "Load the data and set function arguments:"
   ]
  },
  {
   "cell_type": "code",
   "execution_count": 157,
   "id": "776fdae0",
   "metadata": {},
   "outputs": [
    {
     "name": "stdout",
     "output_type": "stream",
     "text": [
      "#============================================================================#\n",
      "#== Solving the MPEC optimization routine\n",
      "#============================================================================#\n",
      "`xtol` termination condition is satisfied.\n",
      "Number of iterations: 134, function evaluations: 80, CG iterations: 0, optimality: 4.62e-30, constraint violation: 1.11e-16, execution time: 4.8e+01 s.\n",
      "Optimal solution found.\n",
      "#============================================================================#\n",
      "#== Optimal parameters found. Next, calculating standard errors:\n",
      "#== Calculating standard errors, elasticities, profits, and consumer surplus\n",
      "#============================================================================#\n",
      "#============================================================================#\n",
      "#== BLP Estimation Complete\n",
      "#============================================================================#\n"
     ]
    }
   ],
   "source": [
    "#out_demandside_pmoment = estimate_BLP(df, alphas, sigma_alpha_init, \"p_exercise\", delta_solve_init=True)\n",
    "out_demandside_pmoment = estimate_BLP(df, alphas, 0.8, \"p_exercise\", scale_delta_guess=2, delta_solve_init=False)"
   ]
  },
  {
   "cell_type": "code",
   "execution_count": 158,
   "id": "dc0a86c8",
   "metadata": {},
   "outputs": [
    {
     "data": {
      "text/plain": [
       "array([[4.48070297],\n",
       "       [0.86892378],\n",
       "       [0.98123124]])"
      ]
     },
     "execution_count": 158,
     "metadata": {},
     "output_type": "execute_result"
    }
   ],
   "source": [
    "out_demandside_pmoment['beta_hat']"
   ]
  },
  {
   "cell_type": "code",
   "execution_count": 159,
   "id": "b55e824d",
   "metadata": {},
   "outputs": [
    {
     "data": {
      "text/plain": [
       "0.9326364723387066"
      ]
     },
     "execution_count": 159,
     "metadata": {},
     "output_type": "execute_result"
    }
   ],
   "source": [
    "out_demandside_pmoment['alpha_hat']"
   ]
  },
  {
   "cell_type": "code",
   "execution_count": 160,
   "id": "cbcde69c",
   "metadata": {},
   "outputs": [
    {
     "data": {
      "text/plain": [
       "0.877280752881388"
      ]
     },
     "execution_count": 160,
     "metadata": {},
     "output_type": "execute_result"
    }
   ],
   "source": [
    "out_demandside_pmoment['sigma_alpha_hat']"
   ]
  },
  {
   "cell_type": "markdown",
   "id": "328cb17c",
   "metadata": {},
   "source": [
    "# Part 3.1: Using the cost shifter as a moment\n",
    "\n",
    "Estimate assuming  $E[\\xi|X, w^\\text{cost}]=0$. \n",
    "\n",
    "Load the data and set function arguments:"
   ]
  },
  {
   "cell_type": "code",
   "execution_count": 165,
   "id": "bc9a9528",
   "metadata": {},
   "outputs": [],
   "source": [
    "#out_demandside_wcost = estimate_BLP(df, alphas, sigma_alpha_init, \"supply_W\", verbose_print=3)"
   ]
  }
 ],
 "metadata": {
  "kernelspec": {
   "display_name": "Python 3 (Spyder)",
   "language": "python3",
   "name": "python3"
  },
  "language_info": {
   "codemirror_mode": {
    "name": "ipython",
    "version": 3
   },
   "file_extension": ".py",
   "mimetype": "text/x-python",
   "name": "python",
   "nbconvert_exporter": "python",
   "pygments_lexer": "ipython3",
   "version": "3.11.7"
  }
 },
 "nbformat": 4,
 "nbformat_minor": 5
}
