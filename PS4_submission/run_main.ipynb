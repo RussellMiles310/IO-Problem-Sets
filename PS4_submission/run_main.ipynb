{
 "cells": [
  {
   "cell_type": "code",
   "execution_count": 98,
   "id": "ecb16cbb",
   "metadata": {},
   "outputs": [],
   "source": [
    "from source_functions import *\n",
    "from estimate_BLP import *"
   ]
  },
  {
   "cell_type": "markdown",
   "id": "2e66a160",
   "metadata": {},
   "source": [
    "# Part 2.2: Demand-side estimation, 100 markets"
   ]
  },
  {
   "cell_type": "markdown",
   "id": "9b340848",
   "metadata": {},
   "source": [
    "## Load data and set function arguments"
   ]
  },
  {
   "cell_type": "code",
   "execution_count": 99,
   "id": "e00ff883",
   "metadata": {},
   "outputs": [],
   "source": [
    "df_3p, alphas_3p = load_mat_data('Simulation Data/100markets3products.mat', 3, 100)\n",
    "df_5p, alphas_5p = load_mat_data('Simulation Data/100markets5products.mat', 5, 100)\n",
    "\n",
    "sigma_alpha_init = 1.0 #initial guess\n",
    "df = df_3p #data\n",
    "alphas = alphas_3p #random coefficients on prices\n",
    "mode = \"demand_side\" #demand-side moments only"
   ]
  },
  {
   "cell_type": "code",
   "execution_count": 3,
   "id": "bf048a66",
   "metadata": {
    "scrolled": true
   },
   "outputs": [],
   "source": [
    "out_demandside = estimate_BLP(df, alphas, sigma_alpha_init, mode, verbose_print = 3, scale_delta_guess = 5)"
   ]
  },
  {
   "cell_type": "code",
   "execution_count": 19,
   "id": "ab655bab",
   "metadata": {},
   "outputs": [
    {
     "data": {
      "text/plain": [
       "array([[4.92818632],\n",
       "       [0.95515674],\n",
       "       [1.02872379]])"
      ]
     },
     "execution_count": 19,
     "metadata": {},
     "output_type": "execute_result"
    }
   ],
   "source": [
    "out_demandside['beta_hat']"
   ]
  },
  {
   "cell_type": "code",
   "execution_count": 20,
   "id": "e7a03916",
   "metadata": {},
   "outputs": [
    {
     "data": {
      "text/plain": [
       "0.9675675769687755"
      ]
     },
     "execution_count": 20,
     "metadata": {},
     "output_type": "execute_result"
    }
   ],
   "source": [
    "out_demandside['alpha_hat']"
   ]
  },
  {
   "cell_type": "code",
   "execution_count": 21,
   "id": "d63a8864",
   "metadata": {},
   "outputs": [
    {
     "data": {
      "text/plain": [
       "0.988803761232181"
      ]
     },
     "execution_count": 21,
     "metadata": {},
     "output_type": "execute_result"
    }
   ],
   "source": [
    "out_demandside['sigma_alpha_hat']"
   ]
  },
  {
   "cell_type": "markdown",
   "id": "331e429f",
   "metadata": {},
   "source": [
    "# Part 2.2g: Demand-side instruments, 10 markets\n",
    "Load the data and set function arguments:"
   ]
  },
  {
   "cell_type": "code",
   "execution_count": 4,
   "id": "83a1d7eb",
   "metadata": {},
   "outputs": [],
   "source": [
    "df_3p10m, alphas_3p10m = load_mat_data('Simulation Data/10markets3products.mat', 3, 10)\n",
    "\n",
    "#### Function arguments\n",
    "mode = \"demand_side\" #demand-side moments only"
   ]
  },
  {
   "cell_type": "code",
   "execution_count": 1,
   "id": "d68d3f0b",
   "metadata": {
    "scrolled": true
   },
   "outputs": [],
   "source": [
    "out_demandside_10m=estimate_BLP(df_3p10m, alphas_3p10m, sigma_alpha_init, mode, verbose_print = 3, scale_delta_guess = 1, max_iter=10000)"
   ]
  },
  {
   "cell_type": "code",
   "execution_count": 8,
   "id": "be91ff30",
   "metadata": {},
   "outputs": [
    {
     "data": {
      "text/plain": [
       "array([[2.61933023],\n",
       "       [0.42100499],\n",
       "       [1.36710302]])"
      ]
     },
     "execution_count": 8,
     "metadata": {},
     "output_type": "execute_result"
    }
   ],
   "source": [
    "out_demandside_10m['beta_hat']"
   ]
  },
  {
   "cell_type": "code",
   "execution_count": 9,
   "id": "53c8d61e",
   "metadata": {},
   "outputs": [
    {
     "data": {
      "text/plain": [
       "0.6553970510094898"
      ]
     },
     "execution_count": 9,
     "metadata": {},
     "output_type": "execute_result"
    }
   ],
   "source": [
    "out_demandside_10m['alpha_hat']"
   ]
  },
  {
   "cell_type": "code",
   "execution_count": 10,
   "id": "291a6620",
   "metadata": {},
   "outputs": [
    {
     "data": {
      "text/plain": [
       "0.5041133184257544"
      ]
     },
     "execution_count": 10,
     "metadata": {},
     "output_type": "execute_result"
    }
   ],
   "source": [
    "out_demandside_10m['sigma_alpha_hat']"
   ]
  },
  {
   "cell_type": "code",
   "execution_count": 11,
   "id": "9d890429",
   "metadata": {},
   "outputs": [
    {
     "data": {
      "text/plain": [
       "array([0.06732948, 2.49792306, 1.0830104 , 0.46744008, 0.93377222])"
      ]
     },
     "execution_count": 11,
     "metadata": {},
     "output_type": "execute_result"
    }
   ],
   "source": [
    "out_demandside_10m['se']"
   ]
  },
  {
   "cell_type": "code",
   "execution_count": 13,
   "id": "7745a25a",
   "metadata": {},
   "outputs": [
    {
     "data": {
      "text/plain": [
       "array([[ 1.86533923],\n",
       "       [-2.12141033],\n",
       "       [ 4.05913902],\n",
       "       [ 6.95258272],\n",
       "       [ 3.69674902],\n",
       "       [ 6.6412869 ],\n",
       "       [-3.99973352],\n",
       "       [ 1.38139637],\n",
       "       [ 2.1689793 ],\n",
       "       [ 1.38473689],\n",
       "       [-0.13766322],\n",
       "       [-2.41411314],\n",
       "       [ 1.91022051],\n",
       "       [ 2.57301979],\n",
       "       [-0.26126805],\n",
       "       [ 0.94162019],\n",
       "       [ 1.47393124],\n",
       "       [ 3.66253282],\n",
       "       [ 1.34997316],\n",
       "       [ 2.40093755],\n",
       "       [ 1.92687823],\n",
       "       [ 3.59306967],\n",
       "       [-2.16580292],\n",
       "       [ 3.04896491],\n",
       "       [ 2.60760996],\n",
       "       [-3.09186598],\n",
       "       [ 0.6924699 ],\n",
       "       [ 3.08296056],\n",
       "       [ 1.78019891],\n",
       "       [-2.24204089]])"
      ]
     },
     "execution_count": 13,
     "metadata": {},
     "output_type": "execute_result"
    }
   ],
   "source": [
    "out_demandside_10m['delta_hat']"
   ]
  },
  {
   "cell_type": "markdown",
   "id": "39ab251d",
   "metadata": {},
   "source": [
    "# Part 2.3: Using price as a moment. \n",
    "\n",
    "Estimate $\\theta$ assming incorrectly that $E[\\xi|p]=0$ within each market. \n",
    "\n",
    "Load the data and set function arguments:"
   ]
  },
  {
   "cell_type": "code",
   "execution_count": 2,
   "id": "aaf74105",
   "metadata": {},
   "outputs": [],
   "source": [
    "out_demandside_pmoment = estimate_BLP(df, alphas, 0.8, \"p_exercise\", verbose_print = 3, scale_delta_guess = 3, max_iter=10000)"
   ]
  },
  {
   "cell_type": "code",
   "execution_count": 20,
   "id": "840a4b48",
   "metadata": {},
   "outputs": [
    {
     "data": {
      "text/plain": [
       "array([[5.23096072],\n",
       "       [1.01114156],\n",
       "       [1.08674171]])"
      ]
     },
     "execution_count": 20,
     "metadata": {},
     "output_type": "execute_result"
    }
   ],
   "source": [
    "out_demandside_pmoment['beta_hat']"
   ]
  },
  {
   "cell_type": "code",
   "execution_count": 21,
   "id": "469779d1",
   "metadata": {},
   "outputs": [
    {
     "data": {
      "text/plain": [
       "0.8914277431679762"
      ]
     },
     "execution_count": 21,
     "metadata": {},
     "output_type": "execute_result"
    }
   ],
   "source": [
    "out_demandside_pmoment['alpha_hat']"
   ]
  },
  {
   "cell_type": "code",
   "execution_count": 22,
   "id": "0d176cb6",
   "metadata": {},
   "outputs": [
    {
     "data": {
      "text/plain": [
       "1.1507497157653737"
      ]
     },
     "execution_count": 22,
     "metadata": {},
     "output_type": "execute_result"
    }
   ],
   "source": [
    "out_demandside_pmoment['sigma_alpha_hat']"
   ]
  },
  {
   "cell_type": "markdown",
   "id": "5b5c7945",
   "metadata": {},
   "source": [
    "# Part 3.1: Using the cost shifter as a moment\n",
    "\n",
    "Estimate assuming  $E[\\xi|X, w^\\text{cost}]=0$. \n",
    "\n",
    "Load the data and set function arguments:"
   ]
  },
  {
   "cell_type": "code",
   "execution_count": 165,
   "id": "fb21eae1",
   "metadata": {},
   "outputs": [],
   "source": [
    "#out_demandside_wcost = estimate_BLP(df, alphas, sigma_alpha_init, \"supply_W\", verbose_print=3)"
   ]
  },
  {
   "cell_type": "markdown",
   "id": "c04d456b",
   "metadata": {},
   "source": [
    "# Joint estimation"
   ]
  },
  {
   "cell_type": "code",
   "execution_count": 101,
   "id": "cb0441fd",
   "metadata": {},
   "outputs": [
    {
     "name": "stdout",
     "output_type": "stream",
     "text": [
      "#============================================================================#\n",
      "#== Solving the MPEC optimization routine\n",
      "#============================================================================#\n",
      "| niter |f evals|CG iter|  obj func   |tr radius |   opt    |  c viol  | penalty  |CG stop|\n",
      "|-------|-------|-------|-------------|----------|----------|----------|----------|-------|\n",
      "|   1   |   1   |   0   | +1.0000e+01 | 1.00e+00 | 1.81e-04 | 1.00e+00 | 1.00e+00 |   0   |\n",
      "|   2   |   2   |   1   | +6.6888e+00 | 5.60e+00 | 2.47e-04 | 8.18e-01 | 1.00e+00 |   1   |\n",
      "|   3   |   3   |   2   | +3.1657e-02 | 3.92e+01 | 1.33e-05 | 3.45e-01 | 1.00e+00 |   2   |\n",
      "|   4   |   4   |   3   | +2.1481e-01 | 7.84e+01 | 7.10e-05 | 1.32e-01 | 1.00e+00 |   2   |\n",
      "|   5   |   5   |   4   | +6.0460e-02 | 7.84e+01 | 2.89e-04 | 1.22e-01 | 1.00e+00 |   1   |\n",
      "|   6   |   6   |   5   | +7.8746e-02 | 7.84e+01 | 2.84e-06 | 3.49e-02 | 1.00e+00 |   1   |\n",
      "|   7   |   8   |   6   | +7.8746e-02 | 7.84e+00 | 2.84e-06 | 3.49e-02 | 1.00e+00 |   1   |\n",
      "|   8   |   9   |   7   | +1.3608e-01 | 1.57e+01 | 1.16e-04 | 2.30e-02 | 1.00e+00 |   2   |\n",
      "|   9   |  10   |   8   | +1.3608e-01 | 2.15e+00 | 1.16e-04 | 2.30e-02 | 1.00e+00 |   2   |\n",
      "|  10   |  11   |   9   | +1.6540e-01 | 1.51e+01 | 2.33e-04 | 1.52e-02 | 1.86e+00 |   2   |\n",
      "|  11   |  12   |  10   | +1.6540e-01 | 1.55e+00 | 2.33e-04 | 1.52e-02 | 1.86e+00 |   2   |\n",
      "|  12   |  13   |  11   | +1.9000e-01 | 1.08e+01 | 3.25e-04 | 9.90e-03 | 2.81e+00 |   2   |\n"
     ]
    },
    {
     "ename": "KeyboardInterrupt",
     "evalue": "",
     "output_type": "error",
     "traceback": [
      "Traceback \u001b[1;36m(most recent call last)\u001b[0m:\n",
      "\u001b[0m  Cell \u001b[0;32mIn[101], line 1\u001b[0m\n    out = estimate_BLP(df, alphas, sigma_alpha_init, \"supply_joint\", verbose_print=3)\u001b[0m\n",
      "\u001b[0m  File \u001b[0;32m~\\Desktop\\IO-Problem-Sets\\PS4_submission\\estimate_BLP.py:155\u001b[0m in \u001b[0;35mestimate_BLP\u001b[0m\n    result = minimize(\u001b[0m\n",
      "\u001b[0m  File \u001b[0;32m~\\anaconda3\\Lib\\site-packages\\scipy\\optimize\\_minimize.py:722\u001b[0m in \u001b[0;35mminimize\u001b[0m\n    res = _minimize_trustregion_constr(fun, x0, args, jac, hess, hessp,\u001b[0m\n",
      "\u001b[0m  File \u001b[0;32m~\\anaconda3\\Lib\\site-packages\\scipy\\optimize\\_trustregion_constr\\minimize_trustregion_constr.py:519\u001b[0m in \u001b[0;35m_minimize_trustregion_constr\u001b[0m\n    _, result = equality_constrained_sqp(\u001b[0m\n",
      "\u001b[0m  File \u001b[0;32m~\\anaconda3\\Lib\\site-packages\\scipy\\optimize\\_trustregion_constr\\equality_constrained_sqp.py:147\u001b[0m in \u001b[0;35mequality_constrained_sqp\u001b[0m\n    f_next, b_next = fun_and_constr(x_next)\u001b[0m\n",
      "\u001b[0m  File \u001b[0;32m~\\anaconda3\\Lib\\site-packages\\scipy\\optimize\\_trustregion_constr\\minimize_trustregion_constr.py:511\u001b[0m in \u001b[0;35mfun_and_constr\u001b[0m\n    c_eq, _ = canonical.fun(x)\u001b[0m\n",
      "\u001b[0m  File \u001b[0;32m~\\anaconda3\\Lib\\site-packages\\scipy\\optimize\\_trustregion_constr\\canonical_constraint.py:104\u001b[0m in \u001b[0;35mfun\u001b[0m\n    *[c.fun(x) for c in canonical_constraints])\u001b[0m\n",
      "\u001b[0m  File \u001b[0;32m~\\anaconda3\\Lib\\site-packages\\scipy\\optimize\\_trustregion_constr\\canonical_constraint.py:104\u001b[0m in \u001b[0;35m<listcomp>\u001b[0m\n    *[c.fun(x) for c in canonical_constraints])\u001b[0m\n",
      "\u001b[0m  File \u001b[0;32m~\\anaconda3\\Lib\\site-packages\\scipy\\optimize\\_trustregion_constr\\canonical_constraint.py:166\u001b[0m in \u001b[0;35mfun\u001b[0m\n    return cfun.fun(x) - value, empty_fun\u001b[0m\n",
      "\u001b[0m  File \u001b[0;32m~\\anaconda3\\Lib\\site-packages\\scipy\\optimize\\_differentiable_functions.py:534\u001b[0m in \u001b[0;35mfun\u001b[0m\n    self._update_x(x)\u001b[0m\n",
      "\u001b[0m  File \u001b[0;32m~\\anaconda3\\Lib\\site-packages\\scipy\\optimize\\_differentiable_functions.py:516\u001b[0m in \u001b[0;35m_update_x\u001b[0m\n    self._update_x_impl(x)\u001b[0m\n",
      "\u001b[0m  File \u001b[0;32m~\\anaconda3\\Lib\\site-packages\\scipy\\optimize\\_differentiable_functions.py:499\u001b[0m in \u001b[0;35mupdate_x\u001b[0m\n    self._update_hess()\u001b[0m\n",
      "\u001b[0m  File \u001b[0;32m~\\anaconda3\\Lib\\site-packages\\scipy\\optimize\\_differentiable_functions.py:530\u001b[0m in \u001b[0;35m_update_hess\u001b[0m\n    self._update_hess_impl()\u001b[0m\n",
      "\u001b[0m  File \u001b[0;32m~\\anaconda3\\Lib\\site-packages\\scipy\\optimize\\_differentiable_functions.py:480\u001b[0m in \u001b[0;35mupdate_hess\u001b[0m\n    self._update_jac()\u001b[0m\n",
      "\u001b[0m  File \u001b[0;32m~\\anaconda3\\Lib\\site-packages\\scipy\\optimize\\_differentiable_functions.py:525\u001b[0m in \u001b[0;35m_update_jac\u001b[0m\n    self._update_jac_impl()\u001b[0m\n",
      "\u001b[0m  File \u001b[0;32m~\\anaconda3\\Lib\\site-packages\\scipy\\optimize\\_differentiable_functions.py:399\u001b[0m in \u001b[0;35mupdate_jac\u001b[0m\n    self.J = jac_wrapped(self.x)\u001b[0m\n",
      "\u001b[0m  File \u001b[0;32m~\\anaconda3\\Lib\\site-packages\\scipy\\optimize\\_differentiable_functions.py:380\u001b[0m in \u001b[0;35mjac_wrapped\u001b[0m\n    return sps.csr_matrix(jac(x))\u001b[0m\n",
      "\u001b[0m  File \u001b[0;32m~\\Desktop\\IO-Problem-Sets\\PS4_submission\\estimate_BLP.py:114\u001b[0m in \u001b[0;35m<lambda>\u001b[0m\n    'jac': lambda x: np.asarray(constraint_g_joint_jac(x, X, Z, Az, M_iv_est, Xs, As, prices, shares, nus, MJN))  # Convert Jacobian to NumPy\u001b[0m\n",
      "\u001b[0m  File \u001b[0;32m~\\anaconda3\\Lib\\site-packages\\jax\\_src\\api.py:668\u001b[0m in \u001b[0;35mjacfun\u001b[0m\n    y, pullback = _vjp(f_partial, *dyn_args)\u001b[0m\n",
      "\u001b[0m  File \u001b[0;32m~\\anaconda3\\Lib\\site-packages\\jax\\_src\\api.py:1962\u001b[0m in \u001b[0;35m_vjp\u001b[0m\n    out_primals, vjp = ad.vjp(flat_fun, primals_flat)\u001b[0m\n",
      "\u001b[0m  File \u001b[0;32m~\\anaconda3\\Lib\\site-packages\\jax\\_src\\interpreters\\ad.py:142\u001b[0m in \u001b[0;35mvjp\u001b[0m\n    out_primals, pvals, jaxpr, consts = linearize(traceable, *primals)\u001b[0m\n",
      "\u001b[0m  File \u001b[0;32m~\\anaconda3\\Lib\\site-packages\\jax\\_src\\interpreters\\ad.py:131\u001b[0m in \u001b[0;35mlinearize\u001b[0m\n    jaxpr, out_pvals, consts = pe.trace_to_jaxpr_nounits(jvpfun_flat, in_pvals)\u001b[0m\n",
      "\u001b[0m  File \u001b[0;32m~\\anaconda3\\Lib\\site-packages\\jax\\_src\\profiler.py:333\u001b[0m in \u001b[0;35mwrapper\u001b[0m\n    return func(*args, **kwargs)\u001b[0m\n",
      "\u001b[0m  File \u001b[0;32m~\\anaconda3\\Lib\\site-packages\\jax\\_src\\interpreters\\partial_eval.py:681\u001b[0m in \u001b[0;35mtrace_to_jaxpr_nounits\u001b[0m\n    jaxpr, (out_pvals, consts, env) = fun.call_wrapped(pvals)\u001b[0m\n",
      "\u001b[0m  File \u001b[0;32m~\\anaconda3\\Lib\\site-packages\\jax\\_src\\linear_util.py:193\u001b[0m in \u001b[0;35mcall_wrapped\u001b[0m\n    ans = self.f(*args, **dict(self.params, **kwargs))\u001b[0m\n",
      "\u001b[0m  File \u001b[0;32m~\\Desktop\\IO-Problem-Sets\\PS4_submission\\source_functions.py:264\u001b[0m in \u001b[0;35mconstraint_g_joint\u001b[0m\n    g_xi = blp_moment_joint(params, X, Z, Az, M_iv_est, Xs, As, prices, shares, nus, MJN)\u001b[0m\n",
      "\u001b[0m  File \u001b[0;32m~\\Desktop\\IO-Problem-Sets\\PS4_submission\\source_functions.py:229\u001b[0m in \u001b[0;35mblp_moment_joint\u001b[0m\n    elas = calculate_price_elasticity(betas_hat, alpha_hat, sigma_alpha, xis, X, prices, shares, nus, MJN)\u001b[0m\n",
      "\u001b[1;36m  File \u001b[1;32m~\\Desktop\\IO-Problem-Sets\\PS4_submission\\source_functions.py:410\u001b[1;36m in \u001b[1;35mcalculate_price_elasticity\u001b[1;36m\n\u001b[1;33m    elasticities = elasticities.at[j, k, m].set(elast.sum()/N)\u001b[1;36m\n",
      "\u001b[1;31mKeyboardInterrupt\u001b[0m\n"
     ]
    }
   ],
   "source": [
    "out = estimate_BLP(df, alphas, sigma_alpha_init, \"supply_joint\", verbose_print=3)"
   ]
  }
 ],
 "metadata": {
  "kernelspec": {
   "display_name": "Python 3 (Spyder)",
   "language": "python3",
   "name": "python3"
  },
  "language_info": {
   "codemirror_mode": {
    "name": "ipython",
    "version": 3
   },
   "file_extension": ".py",
   "mimetype": "text/x-python",
   "name": "python",
   "nbconvert_exporter": "python",
   "pygments_lexer": "ipython3",
   "version": "3.11.7"
  }
 },
 "nbformat": 4,
 "nbformat_minor": 5
}
